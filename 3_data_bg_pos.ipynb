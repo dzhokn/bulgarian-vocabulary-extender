{
 "cells": [
  {
   "cell_type": "code",
   "execution_count": 1,
   "id": "1e892ed3",
   "metadata": {},
   "outputs": [],
   "source": [
    "import os\n",
    "import gzip\n",
    "import pandas as pd\n",
    "import matplotlib.pyplot as plt"
   ]
  },
  {
   "cell_type": "markdown",
   "id": "69b9b84c",
   "metadata": {},
   "source": [
    "## 1. Load data\n",
    "\n",
    "* **Source**: [BG-PoS-dataset](https://www.kaggle.com/datasets/auhide/bulgarian-part-of-speech-dataset4)"
   ]
  },
  {
   "cell_type": "code",
   "execution_count": 2,
   "id": "497e9409",
   "metadata": {},
   "outputs": [
    {
     "name": "stdout",
     "output_type": "stream",
     "text": [
      "Total words count: 1,348,102\n"
     ]
    },
    {
     "data": {
      "text/html": [
       "<div>\n",
       "<style scoped>\n",
       "    .dataframe tbody tr th:only-of-type {\n",
       "        vertical-align: middle;\n",
       "    }\n",
       "\n",
       "    .dataframe tbody tr th {\n",
       "        vertical-align: top;\n",
       "    }\n",
       "\n",
       "    .dataframe thead th {\n",
       "        text-align: right;\n",
       "    }\n",
       "</style>\n",
       "<table border=\"1\" class=\"dataframe\">\n",
       "  <thead>\n",
       "    <tr style=\"text-align: right;\">\n",
       "      <th></th>\n",
       "      <th>word</th>\n",
       "      <th>lemma</th>\n",
       "      <th>form</th>\n",
       "      <th>pos</th>\n",
       "    </tr>\n",
       "    <tr>\n",
       "      <th>id</th>\n",
       "      <th></th>\n",
       "      <th></th>\n",
       "      <th></th>\n",
       "      <th></th>\n",
       "    </tr>\n",
       "  </thead>\n",
       "  <tbody>\n",
       "    <tr>\n",
       "      <th>0</th>\n",
       "      <td>а</td>\n",
       "      <td>а</td>\n",
       "      <td>основна форма</td>\n",
       "      <td>съюз</td>\n",
       "    </tr>\n",
       "    <tr>\n",
       "      <th>1</th>\n",
       "      <td>а</td>\n",
       "      <td>а</td>\n",
       "      <td>основна форма</td>\n",
       "      <td>съюз</td>\n",
       "    </tr>\n",
       "    <tr>\n",
       "      <th>2</th>\n",
       "      <td>аба</td>\n",
       "      <td>аба</td>\n",
       "      <td>основна форма</td>\n",
       "      <td>съществително име</td>\n",
       "    </tr>\n",
       "    <tr>\n",
       "      <th>3</th>\n",
       "      <td>аба</td>\n",
       "      <td>аба</td>\n",
       "      <td>ед.ч.</td>\n",
       "      <td>съществително име</td>\n",
       "    </tr>\n",
       "    <tr>\n",
       "      <th>4</th>\n",
       "      <td>абата</td>\n",
       "      <td>аба</td>\n",
       "      <td>ед.ч., членувано</td>\n",
       "      <td>съществително име</td>\n",
       "    </tr>\n",
       "    <tr>\n",
       "      <th>5</th>\n",
       "      <td>аби</td>\n",
       "      <td>аба</td>\n",
       "      <td>мн.ч.</td>\n",
       "      <td>съществително име</td>\n",
       "    </tr>\n",
       "    <tr>\n",
       "      <th>6</th>\n",
       "      <td>абите</td>\n",
       "      <td>аба</td>\n",
       "      <td>мн.ч., членувано</td>\n",
       "      <td>съществително име</td>\n",
       "    </tr>\n",
       "    <tr>\n",
       "      <th>7</th>\n",
       "      <td>Абаджиев</td>\n",
       "      <td>Абаджиев</td>\n",
       "      <td>основна форма</td>\n",
       "      <td>фамилно име или презиме</td>\n",
       "    </tr>\n",
       "    <tr>\n",
       "      <th>8</th>\n",
       "      <td>Абаджиев</td>\n",
       "      <td>Абаджиев</td>\n",
       "      <td>мъжко</td>\n",
       "      <td>фамилно име или презиме</td>\n",
       "    </tr>\n",
       "    <tr>\n",
       "      <th>9</th>\n",
       "      <td>Абаджиева</td>\n",
       "      <td>Абаджиев</td>\n",
       "      <td>женско</td>\n",
       "      <td>фамилно име или презиме</td>\n",
       "    </tr>\n",
       "  </tbody>\n",
       "</table>\n",
       "</div>"
      ],
      "text/plain": [
       "         word     lemma              form                      pos\n",
       "id                                                                \n",
       "0           а         а     основна форма                     съюз\n",
       "1           а         а     основна форма                     съюз\n",
       "2         аба       аба     основна форма        съществително име\n",
       "3         аба       аба             ед.ч.        съществително име\n",
       "4       абата       аба  ед.ч., членувано        съществително име\n",
       "5         аби       аба             мн.ч.        съществително име\n",
       "6       абите       аба  мн.ч., членувано        съществително име\n",
       "7    Абаджиев  Абаджиев     основна форма  фамилно име или презиме\n",
       "8    Абаджиев  Абаджиев             мъжко  фамилно име или презиме\n",
       "9   Абаджиева  Абаджиев            женско  фамилно име или презиме"
      ]
     },
     "execution_count": 2,
     "metadata": {},
     "output_type": "execute_result"
    }
   ],
   "source": [
    "# Read the csv file in the gzip archive\n",
    "words_df = pd.read_csv('data/2_bg_pos_dataset.csv.gz', encoding='windows-1251', sep='\\t', compression='gzip')\n",
    "words_df.index.name = 'id'\n",
    "print(f\"Total words count: {len(words_df):,}\")\n",
    "words_df.head(10)"
   ]
  },
  {
   "cell_type": "markdown",
   "id": "9d6f7a8c",
   "metadata": {},
   "source": [
    "* **OBSERVATION**: Expectly, we observe names and duplicates."
   ]
  },
  {
   "cell_type": "markdown",
   "id": "f7ccb76c",
   "metadata": {},
   "source": [
    "## 2. Remove spaced words"
   ]
  },
  {
   "cell_type": "code",
   "execution_count": 3,
   "id": "2ca457e8",
   "metadata": {},
   "outputs": [
    {
     "name": "stdout",
     "output_type": "stream",
     "text": [
      "Number of spaced words: 0\n"
     ]
    }
   ],
   "source": [
    "spaced_words = words_df[words_df['word'].str.contains(\" \")]\n",
    "print(f\"Number of spaced words: {len(spaced_words):,}\")"
   ]
  },
  {
   "cell_type": "markdown",
   "id": "1ace5e13",
   "metadata": {},
   "source": [
    "* **OBSERVATION**: No spaced words in this dataset."
   ]
  },
  {
   "cell_type": "markdown",
   "id": "7753d19c",
   "metadata": {},
   "source": [
    "## 3. Remove dashed words"
   ]
  },
  {
   "cell_type": "code",
   "execution_count": 4,
   "id": "1666590c",
   "metadata": {},
   "outputs": [
    {
     "name": "stdout",
     "output_type": "stream",
     "text": [
      "Number of dashed words: 0\n"
     ]
    }
   ],
   "source": [
    "dashed_words = words_df[words_df['word'].str.contains(\"-\")]\n",
    "print(f\"Number of dashed words: {len(dashed_words):,}\")"
   ]
  },
  {
   "cell_type": "markdown",
   "id": "a1423772",
   "metadata": {},
   "source": [
    "* **OBSERVATION**: No dashed words as well."
   ]
  },
  {
   "cell_type": "markdown",
   "id": "0efecbcb",
   "metadata": {},
   "source": [
    "## 4. Remove capitalized words (names)"
   ]
  },
  {
   "cell_type": "code",
   "execution_count": 5,
   "id": "9e094a47",
   "metadata": {},
   "outputs": [
    {
     "name": "stdout",
     "output_type": "stream",
     "text": [
      "Number of names: 9,023\n"
     ]
    },
    {
     "data": {
      "text/html": [
       "<div>\n",
       "<style scoped>\n",
       "    .dataframe tbody tr th:only-of-type {\n",
       "        vertical-align: middle;\n",
       "    }\n",
       "\n",
       "    .dataframe tbody tr th {\n",
       "        vertical-align: top;\n",
       "    }\n",
       "\n",
       "    .dataframe thead th {\n",
       "        text-align: right;\n",
       "    }\n",
       "</style>\n",
       "<table border=\"1\" class=\"dataframe\">\n",
       "  <thead>\n",
       "    <tr style=\"text-align: right;\">\n",
       "      <th></th>\n",
       "      <th>word</th>\n",
       "      <th>lemma</th>\n",
       "      <th>form</th>\n",
       "      <th>pos</th>\n",
       "    </tr>\n",
       "    <tr>\n",
       "      <th>id</th>\n",
       "      <th></th>\n",
       "      <th></th>\n",
       "      <th></th>\n",
       "      <th></th>\n",
       "    </tr>\n",
       "  </thead>\n",
       "  <tbody>\n",
       "    <tr>\n",
       "      <th>1296722</th>\n",
       "      <td>Филева</td>\n",
       "      <td>Филев</td>\n",
       "      <td>женско</td>\n",
       "      <td>фамилно име или презиме</td>\n",
       "    </tr>\n",
       "    <tr>\n",
       "      <th>444544</th>\n",
       "      <td>Кристияна</td>\n",
       "      <td>Кристияна</td>\n",
       "      <td>основна форма</td>\n",
       "      <td>лично име</td>\n",
       "    </tr>\n",
       "    <tr>\n",
       "      <th>1242142</th>\n",
       "      <td>Тончо</td>\n",
       "      <td>Тончо</td>\n",
       "      <td>мъжко</td>\n",
       "      <td>лично име</td>\n",
       "    </tr>\n",
       "    <tr>\n",
       "      <th>539796</th>\n",
       "      <td>Налбантов</td>\n",
       "      <td>Налбантов</td>\n",
       "      <td>основна форма</td>\n",
       "      <td>фамилно име или презиме</td>\n",
       "    </tr>\n",
       "    <tr>\n",
       "      <th>142982</th>\n",
       "      <td>Дишлиев</td>\n",
       "      <td>Дишлиев</td>\n",
       "      <td>основна форма</td>\n",
       "      <td>фамилно име или презиме</td>\n",
       "    </tr>\n",
       "    <tr>\n",
       "      <th>1121787</th>\n",
       "      <td>Рускова</td>\n",
       "      <td>Русков</td>\n",
       "      <td>женско</td>\n",
       "      <td>фамилно име или презиме</td>\n",
       "    </tr>\n",
       "    <tr>\n",
       "      <th>736601</th>\n",
       "      <td>Панайотов</td>\n",
       "      <td>Панайотов</td>\n",
       "      <td>основна форма</td>\n",
       "      <td>фамилно име или презиме</td>\n",
       "    </tr>\n",
       "    <tr>\n",
       "      <th>742210</th>\n",
       "      <td>Пейчо</td>\n",
       "      <td>Пейчо</td>\n",
       "      <td>мъжко</td>\n",
       "      <td>лично име</td>\n",
       "    </tr>\n",
       "    <tr>\n",
       "      <th>38977</th>\n",
       "      <td>Богоева</td>\n",
       "      <td>Богоев</td>\n",
       "      <td>женско</td>\n",
       "      <td>фамилно име или презиме</td>\n",
       "    </tr>\n",
       "    <tr>\n",
       "      <th>588359</th>\n",
       "      <td>Неда</td>\n",
       "      <td>Неда</td>\n",
       "      <td>основна форма</td>\n",
       "      <td>лично име</td>\n",
       "    </tr>\n",
       "  </tbody>\n",
       "</table>\n",
       "</div>"
      ],
      "text/plain": [
       "              word      lemma           form                      pos\n",
       "id                                                                   \n",
       "1296722     Филева      Филев         женско  фамилно име или презиме\n",
       "444544   Кристияна  Кристияна  основна форма                лично име\n",
       "1242142      Тончо      Тончо          мъжко                лично име\n",
       "539796   Налбантов  Налбантов  основна форма  фамилно име или презиме\n",
       "142982     Дишлиев    Дишлиев  основна форма  фамилно име или презиме\n",
       "1121787    Рускова     Русков         женско  фамилно име или презиме\n",
       "736601   Панайотов  Панайотов  основна форма  фамилно име или презиме\n",
       "742210       Пейчо      Пейчо          мъжко                лично име\n",
       "38977      Богоева     Богоев         женско  фамилно име или презиме\n",
       "588359        Неда       Неда  основна форма                лично име"
      ]
     },
     "execution_count": 5,
     "metadata": {},
     "output_type": "execute_result"
    }
   ],
   "source": [
    "# Extract all names that start with a capital letter\n",
    "names_df = words_df[words_df['word'].str.match(r'^[А-Я]')]\n",
    "print(f\"Number of names: {len(names_df):,}\")\n",
    "names_df.sample(10)"
   ]
  },
  {
   "cell_type": "code",
   "execution_count": 6,
   "id": "64bd42b7",
   "metadata": {},
   "outputs": [
    {
     "name": "stdout",
     "output_type": "stream",
     "text": [
      "Total words count (after removing names): 1,339,079\n"
     ]
    }
   ],
   "source": [
    "# Remove words that start with a capital letter\n",
    "words_df = words_df[~words_df['word'].str.match(r'^[А-Я]')]\n",
    "print(f\"Total words count (after removing names): {len(words_df):,}\")"
   ]
  },
  {
   "cell_type": "markdown",
   "id": "0723d807",
   "metadata": {},
   "source": [
    "## 5. Check 1-letter words"
   ]
  },
  {
   "cell_type": "code",
   "execution_count": 7,
   "id": "f5e03ca8",
   "metadata": {},
   "outputs": [
    {
     "name": "stdout",
     "output_type": "stream",
     "text": [
      "Number of one letter words: 24\n",
      "['а', 'а', 'в', 'е', 'е', 'е', 'е', 'е', 'и', 'и', 'и', 'и', 'и', 'и', 'и', 'о', 'о', 'с', 'у', 'я', 'я', 'я', 'я', 'я']\n"
     ]
    }
   ],
   "source": [
    "# One letter words\n",
    "one_letter_words = words_df[words_df['word'].str.len() == 1]\n",
    "print(f\"Number of one letter words: {len(one_letter_words):,}\")\n",
    "print(sorted(one_letter_words['word'].tolist()))"
   ]
  },
  {
   "cell_type": "markdown",
   "id": "832048ff",
   "metadata": {},
   "source": [
    "* **OBSERVATION**: Everything looks good here (except for the duplicates, which in our case are not needed)"
   ]
  },
  {
   "cell_type": "markdown",
   "id": "3aa0551e",
   "metadata": {},
   "source": [
    "## 6. Check 2-letter words"
   ]
  },
  {
   "cell_type": "code",
   "execution_count": 8,
   "id": "99c78336",
   "metadata": {},
   "outputs": [
    {
     "name": "stdout",
     "output_type": "stream",
     "text": [
      "Number of two letter words: 265\n",
      "['ад', 'ад', 'аз', 'аз', 'аз', 'аз', 'ай', 'ар', 'ар', 'ас', 'ас', 'ат', 'ат', 'ат', 'ат', 'ах', 'ба', 'бе', 'би', 'би', 'би', 'би', 'би', 'би', 'би', 'би', 'би', 'ви', 'ви', 'ви', 'ви', 'ви', 'ви', 'ви', 'ви', 'ви', 'ви', 'ви', 'вя', 'вя', 'вя', 'вя', 'вя', 'вя', 'ги', 'го', 'го', 'го', 'го', 'да', 'да', 'де', 'до', 'ду', 'ду', 'ду', 'ду', 'ду', 'ду', 'ду', 'ду', 'ду', 'ду', 'еж', 'еж', 'еж', 'еж', 'ей', 'ек', 'ек', 'ек', 'ек', 'ех', 'за', 'зя', 'зя', 'из', 'им', 'им', 'ки', 'ле', 'ли', 'ля', 'ля', 'ля', 'ля', 'ма', 'ме', 'ме', 'ми', 'ми', 'ми', 'ми', 'ми', 'ми', 'ми', 'ми', 'ми', 'ми', 'ми', 'ми', 'ми', 'ми', 'ми', 'ми', 'ми', 'ми', 'ми', 'му', 'му', 'му', 'му', 'му', 'му', 'му', 'на', 'на', 'не', 'ни', 'ни', 'ни', 'ни', 'ни', 'ни', 'ни', 'ни', 'ни', 'но', 'ой', 'ок', 'ок', 'ок', 'ок', 'ос', 'ос', 'от', 'ох', 'па', 'па', 'пи', 'пи', 'пи', 'пи', 'пи', 'пи', 'по', 'пя', 'пя', 'пя', 'пя', 'пя', 'пя', 'ри', 'ри', 'ри', 'ри', 'ря', 'ря', 'са', 'са', 'са', 'са', 'са', 'се', 'си', 'си', 'си', 'си', 'си', 'си', 'си', 'си', 'ся', 'ся', 'та', 'те', 'те', 'те', 'те', 'те', 'ти', 'ти', 'ти', 'ти', 'ти', 'ти', 'ти', 'ти', 'ти', 'то', 'то', 'то', 'то', 'то', 'ту', 'тя', 'тя', 'тя', 'тя', 'тя', 'тя', 'уж', 'ум', 'ум', 'уф', 'ух', 'ха', 'хе', 'хи', 'хи', 'хм', 'че', 'че', 'чу', 'чу', 'чу', 'чу', 'ши', 'ши', 'ши', 'ши', 'ши', 'ши', 'ща', 'ща', 'ща', 'ща', 'ща', 'ща', 'ща', 'ща', 'ще', 'ще', 'ще', 'ще', 'ще', 'що', 'юг', 'юг', 'юз', 'юз', 'яд', 'яд', 'яж', 'яж', 'яз', 'яз', 'як', 'як', 'як', 'як', 'як', 'як', 'як', 'як', 'як', 'як', 'як', 'як', 'ял', 'ял', 'ям', 'ям', 'ям', 'ям']\n"
     ]
    }
   ],
   "source": [
    "# Two letter words\n",
    "two_letter_words = words_df[words_df['word'].str.len() == 2]\n",
    "print(f\"Number of two letter words: {len(two_letter_words):,}\")\n",
    "# Print all the 2-letter words\n",
    "print(sorted(two_letter_words['word'].tolist()))"
   ]
  },
  {
   "cell_type": "markdown",
   "id": "0335afc2",
   "metadata": {},
   "source": [
    "* **OBSERVATION**: Few words looked suspicious (e.g. `ки`), but IBS BAS dictionary confirmed they are valid words."
   ]
  },
  {
   "cell_type": "markdown",
   "id": "33cf887e",
   "metadata": {},
   "source": [
    "## 7. Remove Latin symbols"
   ]
  },
  {
   "cell_type": "code",
   "execution_count": 9,
   "id": "e9bc14ba",
   "metadata": {},
   "outputs": [
    {
     "name": "stdout",
     "output_type": "stream",
     "text": [
      "Number of words with latin symbols: 0\n"
     ]
    }
   ],
   "source": [
    "# Print words that contain latin symbols\n",
    "latin_words = words_df[words_df['word'].str.contains(r'[a-zA-Z]')]\n",
    "print(f\"Number of words with latin symbols: {len(latin_words):,}\")"
   ]
  },
  {
   "cell_type": "markdown",
   "id": "3823b91d",
   "metadata": {},
   "source": [
    "## 8. Remove punctuation & digits"
   ]
  },
  {
   "cell_type": "code",
   "execution_count": 10,
   "id": "fc87835d",
   "metadata": {},
   "outputs": [
    {
     "data": {
      "text/html": [
       "<div>\n",
       "<style scoped>\n",
       "    .dataframe tbody tr th:only-of-type {\n",
       "        vertical-align: middle;\n",
       "    }\n",
       "\n",
       "    .dataframe tbody tr th {\n",
       "        vertical-align: top;\n",
       "    }\n",
       "\n",
       "    .dataframe thead th {\n",
       "        text-align: right;\n",
       "    }\n",
       "</style>\n",
       "<table border=\"1\" class=\"dataframe\">\n",
       "  <thead>\n",
       "    <tr style=\"text-align: right;\">\n",
       "      <th></th>\n",
       "      <th>word</th>\n",
       "      <th>lemma</th>\n",
       "      <th>form</th>\n",
       "      <th>pos</th>\n",
       "    </tr>\n",
       "    <tr>\n",
       "      <th>id</th>\n",
       "      <th></th>\n",
       "      <th></th>\n",
       "      <th></th>\n",
       "      <th></th>\n",
       "    </tr>\n",
       "  </thead>\n",
       "  <tbody>\n",
       "  </tbody>\n",
       "</table>\n",
       "</div>"
      ],
      "text/plain": [
       "Empty DataFrame\n",
       "Columns: [word, lemma, form, pos]\n",
       "Index: []"
      ]
     },
     "execution_count": 10,
     "metadata": {},
     "output_type": "execute_result"
    }
   ],
   "source": [
    "# Is there words with anything different than letters?\n",
    "words_df[words_df['word'].str.contains(r'[^\\w]')]"
   ]
  },
  {
   "cell_type": "markdown",
   "id": "6e9e3a84",
   "metadata": {},
   "source": [
    "* **OBSERVATION**: No spaces, no dashes, no punctuation, no digits, no latin symbols. Wow, great dataset!"
   ]
  },
  {
   "cell_type": "markdown",
   "id": "e02dc333",
   "metadata": {},
   "source": [
    "## 9. Remove duplicates"
   ]
  },
  {
   "cell_type": "code",
   "execution_count": 11,
   "id": "b197502d",
   "metadata": {},
   "outputs": [
    {
     "name": "stdout",
     "output_type": "stream",
     "text": [
      "Total words count (after removing duplicates): 857,510\n"
     ]
    }
   ],
   "source": [
    "# Remove duplicated words\n",
    "words_df = words_df.drop_duplicates(subset=['word'])\n",
    "print(f\"Total words count (after removing duplicates): {len(words_df):,}\")"
   ]
  },
  {
   "cell_type": "markdown",
   "id": "4a94cd6f",
   "metadata": {},
   "source": [
    "## 10. Length distribution"
   ]
  },
  {
   "cell_type": "code",
   "execution_count": 12,
   "id": "7ba58fd2",
   "metadata": {},
   "outputs": [
    {
     "data": {
      "image/png": "[encoded data removed]",
      "text/plain": [
       "<Figure size 640x480 with 1 Axes>"
      ]
     },
     "metadata": {},
     "output_type": "display_data"
    }
   ],
   "source": [
    "word_lengths = words_df['word'].str.len()\n",
    "mean_length = word_lengths.mean()\n",
    "median_length = word_lengths.median()\n",
    "word_longest = word_lengths.max()\n",
    "plt.hist(word_lengths, bins=word_longest)\n",
    "plt.axvline(median_length, color='black', linestyle='dashed', linewidth=1)\n",
    "plt.axvline(mean_length, color='red', linestyle='dashed', linewidth=1)\n",
    "plt.legend(['Median', 'Mean'])\n",
    "plt.xlabel('Word Length')\n",
    "plt.ylabel('Frequency')\n",
    "plt.title(f'Longest word length: {word_longest}, Median: {median_length:.0f}, Mean: {mean_length:.1f}')\n",
    "plt.xticks([1, 5, 10, 15, 20, 25, 30, 35, 40])\n",
    "plt.xlim(0, 40)\n",
    "plt.show()"
   ]
  },
  {
   "cell_type": "markdown",
   "id": "e1b0537c",
   "metadata": {},
   "source": [
    "* **OBSERVATION**: The `median` and `mean` values are almost identical to the ones in the `Chitanka` dataset. However, the longest word is twice shorter (20 letters vs 40 letters).\n",
    "\n",
    "Maybe the author of the current set hasn't heard about the notoriously famous Bulgarian word `непротивоконституционствувателствувалият` :)"
   ]
  },
  {
   "cell_type": "code",
   "execution_count": 13,
   "id": "081388dd",
   "metadata": {},
   "outputs": [
    {
     "name": "stdout",
     "output_type": "stream",
     "text": [
      "Number of 20-letter words: 728\n"
     ]
    },
    {
     "data": {
      "text/html": [
       "<div>\n",
       "<style scoped>\n",
       "    .dataframe tbody tr th:only-of-type {\n",
       "        vertical-align: middle;\n",
       "    }\n",
       "\n",
       "    .dataframe tbody tr th {\n",
       "        vertical-align: top;\n",
       "    }\n",
       "\n",
       "    .dataframe thead th {\n",
       "        text-align: right;\n",
       "    }\n",
       "</style>\n",
       "<table border=\"1\" class=\"dataframe\">\n",
       "  <thead>\n",
       "    <tr style=\"text-align: right;\">\n",
       "      <th></th>\n",
       "      <th>word</th>\n",
       "      <th>lemma</th>\n",
       "      <th>form</th>\n",
       "      <th>pos</th>\n",
       "    </tr>\n",
       "    <tr>\n",
       "      <th>id</th>\n",
       "      <th></th>\n",
       "      <th></th>\n",
       "      <th></th>\n",
       "      <th></th>\n",
       "    </tr>\n",
       "  </thead>\n",
       "  <tbody>\n",
       "    <tr>\n",
       "      <th>614973</th>\n",
       "      <td>нечленоразделностите</td>\n",
       "      <td>нечленоразделност</td>\n",
       "      <td>мн.ч., членувано</td>\n",
       "      <td>съществително име</td>\n",
       "    </tr>\n",
       "    <tr>\n",
       "      <th>824512</th>\n",
       "      <td>покровителствуващият</td>\n",
       "      <td>покровителствувам</td>\n",
       "      <td>сег.деят.прич., ед.ч., м.р., пълен член</td>\n",
       "      <td>глагол</td>\n",
       "    </tr>\n",
       "    <tr>\n",
       "      <th>444534</th>\n",
       "      <td>кристалоструктурните</td>\n",
       "      <td>кристалоструктурен</td>\n",
       "      <td>мн.ч., членувано</td>\n",
       "      <td>прилагателно име</td>\n",
       "    </tr>\n",
       "    <tr>\n",
       "      <th>192514</th>\n",
       "      <td>животозастрашаващият</td>\n",
       "      <td>животозастрашаващ</td>\n",
       "      <td>м.р., ед.ч., пълен член</td>\n",
       "      <td>прилагателно име</td>\n",
       "    </tr>\n",
       "    <tr>\n",
       "      <th>35003</th>\n",
       "      <td>благоприятствуването</td>\n",
       "      <td>благоприятствуване</td>\n",
       "      <td>ед.ч., членувано</td>\n",
       "      <td>съществително име</td>\n",
       "    </tr>\n",
       "    <tr>\n",
       "      <th>604658</th>\n",
       "      <td>непрепоръчителността</td>\n",
       "      <td>непрепоръчителност</td>\n",
       "      <td>ед.ч., членувано</td>\n",
       "      <td>съществително име</td>\n",
       "    </tr>\n",
       "    <tr>\n",
       "      <th>595725</th>\n",
       "      <td>некредитоспособности</td>\n",
       "      <td>некредитоспособност</td>\n",
       "      <td>мн.ч.</td>\n",
       "      <td>съществително име</td>\n",
       "    </tr>\n",
       "    <tr>\n",
       "      <th>11330</th>\n",
       "      <td>антимилитаристичната</td>\n",
       "      <td>антимилитаристичен</td>\n",
       "      <td>ж.р., ед.ч., членувано</td>\n",
       "      <td>прилагателно име</td>\n",
       "    </tr>\n",
       "    <tr>\n",
       "      <th>824489</th>\n",
       "      <td>покровителствувалото</td>\n",
       "      <td>покровителствувам</td>\n",
       "      <td>мин.деят.св.прич., ед.ч., ср.р., членувано</td>\n",
       "      <td>глагол</td>\n",
       "    </tr>\n",
       "    <tr>\n",
       "      <th>588866</th>\n",
       "      <td>недоброжелателствата</td>\n",
       "      <td>недоброжелателство</td>\n",
       "      <td>мн.ч., членувано</td>\n",
       "      <td>съществително име</td>\n",
       "    </tr>\n",
       "    <tr>\n",
       "      <th>184172</th>\n",
       "      <td>електропромишлености</td>\n",
       "      <td>електропромишленост</td>\n",
       "      <td>мн.ч.</td>\n",
       "      <td>съществително име</td>\n",
       "    </tr>\n",
       "    <tr>\n",
       "      <th>434365</th>\n",
       "      <td>контрареволюционният</td>\n",
       "      <td>контрареволюционен</td>\n",
       "      <td>м.р., ед.ч., пълен член</td>\n",
       "      <td>прилагателно име</td>\n",
       "    </tr>\n",
       "    <tr>\n",
       "      <th>1250852</th>\n",
       "      <td>трудноприспособимите</td>\n",
       "      <td>трудноприспособим</td>\n",
       "      <td>мн.ч., членувано</td>\n",
       "      <td>прилагателно име</td>\n",
       "    </tr>\n",
       "    <tr>\n",
       "      <th>940085</th>\n",
       "      <td>прелюбодействувалата</td>\n",
       "      <td>прелюбодействувам</td>\n",
       "      <td>мин.деят.св.прич., ед.ч., ж.р., членувано</td>\n",
       "      <td>глагол</td>\n",
       "    </tr>\n",
       "    <tr>\n",
       "      <th>192518</th>\n",
       "      <td>животозастрашаващото</td>\n",
       "      <td>животозастрашаващ</td>\n",
       "      <td>ср.р., ед.ч., членувано</td>\n",
       "      <td>прилагателно име</td>\n",
       "    </tr>\n",
       "    <tr>\n",
       "      <th>399612</th>\n",
       "      <td>интернационализирала</td>\n",
       "      <td>интернационализирам</td>\n",
       "      <td>мин.деят.св.прич., ед.ч., ж.р.</td>\n",
       "      <td>глагол</td>\n",
       "    </tr>\n",
       "    <tr>\n",
       "      <th>67017</th>\n",
       "      <td>високохолестеролната</td>\n",
       "      <td>високохолестеролен</td>\n",
       "      <td>ж.р., ед.ч., членувано</td>\n",
       "      <td>прилагателно име</td>\n",
       "    </tr>\n",
       "    <tr>\n",
       "      <th>931814</th>\n",
       "      <td>презаангажираностите</td>\n",
       "      <td>презаангажираност</td>\n",
       "      <td>мн.ч., членувано</td>\n",
       "      <td>съществително име</td>\n",
       "    </tr>\n",
       "    <tr>\n",
       "      <th>34995</th>\n",
       "      <td>благоприятствуващата</td>\n",
       "      <td>благоприятствувам</td>\n",
       "      <td>сег.деят.прич., ед.ч., ж.р., членувано</td>\n",
       "      <td>глагол</td>\n",
       "    </tr>\n",
       "    <tr>\n",
       "      <th>399624</th>\n",
       "      <td>интернационализираща</td>\n",
       "      <td>интернационализирам</td>\n",
       "      <td>сег.деят.прич., ед.ч., ж.р.</td>\n",
       "      <td>глагол</td>\n",
       "    </tr>\n",
       "  </tbody>\n",
       "</table>\n",
       "</div>"
      ],
      "text/plain": [
       "                         word                lemma  \\\n",
       "id                                                   \n",
       "614973   нечленоразделностите    нечленоразделност   \n",
       "824512   покровителствуващият    покровителствувам   \n",
       "444534   кристалоструктурните   кристалоструктурен   \n",
       "192514   животозастрашаващият    животозастрашаващ   \n",
       "35003    благоприятствуването   благоприятствуване   \n",
       "604658   непрепоръчителността   непрепоръчителност   \n",
       "595725   некредитоспособности  некредитоспособност   \n",
       "11330    антимилитаристичната   антимилитаристичен   \n",
       "824489   покровителствувалото    покровителствувам   \n",
       "588866   недоброжелателствата   недоброжелателство   \n",
       "184172   електропромишлености  електропромишленост   \n",
       "434365   контрареволюционният   контрареволюционен   \n",
       "1250852  трудноприспособимите    трудноприспособим   \n",
       "940085   прелюбодействувалата    прелюбодействувам   \n",
       "192518   животозастрашаващото    животозастрашаващ   \n",
       "399612   интернационализирала  интернационализирам   \n",
       "67017    високохолестеролната   високохолестеролен   \n",
       "931814   презаангажираностите    презаангажираност   \n",
       "34995    благоприятствуващата    благоприятствувам   \n",
       "399624   интернационализираща  интернационализирам   \n",
       "\n",
       "                                               form                pos  \n",
       "id                                                                      \n",
       "614973                             мн.ч., членувано  съществително име  \n",
       "824512      сег.деят.прич., ед.ч., м.р., пълен член             глагол  \n",
       "444534                             мн.ч., членувано   прилагателно име  \n",
       "192514                      м.р., ед.ч., пълен член   прилагателно име  \n",
       "35003                              ед.ч., членувано  съществително име  \n",
       "604658                             ед.ч., членувано  съществително име  \n",
       "595725                                        мн.ч.  съществително име  \n",
       "11330                        ж.р., ед.ч., членувано   прилагателно име  \n",
       "824489   мин.деят.св.прич., ед.ч., ср.р., членувано             глагол  \n",
       "588866                             мн.ч., членувано  съществително име  \n",
       "184172                                        мн.ч.  съществително име  \n",
       "434365                      м.р., ед.ч., пълен член   прилагателно име  \n",
       "1250852                            мн.ч., членувано   прилагателно име  \n",
       "940085    мин.деят.св.прич., ед.ч., ж.р., членувано             глагол  \n",
       "192518                      ср.р., ед.ч., членувано   прилагателно име  \n",
       "399612               мин.деят.св.прич., ед.ч., ж.р.             глагол  \n",
       "67017                        ж.р., ед.ч., членувано   прилагателно име  \n",
       "931814                             мн.ч., членувано  съществително име  \n",
       "34995        сег.деят.прич., ед.ч., ж.р., членувано             глагол  \n",
       "399624                  сег.деят.прич., ед.ч., ж.р.             глагол  "
      ]
     },
     "execution_count": 13,
     "metadata": {},
     "output_type": "execute_result"
    }
   ],
   "source": [
    "# Print the longest words\n",
    "twenty_letter_words = words_df[words_df['word'].str.len() == 20]\n",
    "print(f\"Number of 20-letter words: {len(twenty_letter_words):,}\")\n",
    "twenty_letter_words.sample(20)"
   ]
  },
  {
   "cell_type": "markdown",
   "id": "d79452a7",
   "metadata": {},
   "source": [
    "## 11. Merge with vocabulary\n",
    "\n",
    "So far, we had `1 112 236` unique valid Bulgarian words in our vocabulary. Let's see what will be the merged set size."
   ]
  },
  {
   "cell_type": "code",
   "execution_count": 14,
   "id": "48e3f34a",
   "metadata": {},
   "outputs": [
    {
     "name": "stdout",
     "output_type": "stream",
     "text": [
      "Number of words in the vocabulary: 1,112,236\n"
     ]
    }
   ],
   "source": [
    "# Read our vocabulary\n",
    "vocab_df = pd.read_csv('data/words.txt.gz', encoding='windows-1251', header=None, compression='gzip')\n",
    "vocab_set = set(vocab_df[0].tolist())\n",
    "print(f\"Number of words in the vocabulary: {len(vocab_set):,}\")"
   ]
  },
  {
   "cell_type": "code",
   "execution_count": 15,
   "id": "74b42971",
   "metadata": {},
   "outputs": [
    {
     "name": "stdout",
     "output_type": "stream",
     "text": [
      "Number of words in the BG_POS dataset: 857,510\n",
      "Number of words in the vocabulary (after merging): 1,228,258\n"
     ]
    }
   ],
   "source": [
    "# Let's merge the two sets\n",
    "bg_pos_words_set = set(words_df['word'].tolist())\n",
    "print(f\"Number of words in the BG_POS dataset: {len(bg_pos_words_set):,}\")\n",
    "merged_vocab_set = vocab_set.union(bg_pos_words_set)\n",
    "print(f\"Number of words in the vocabulary (after merging): {len(merged_vocab_set):,}\")"
   ]
  },
  {
   "cell_type": "markdown",
   "id": "094f4204",
   "metadata": {},
   "source": [
    "We have increased the total vocabulary size from `1 112 236` to `1 228 258`."
   ]
  },
  {
   "cell_type": "code",
   "execution_count": 16,
   "id": "7dc06c0d",
   "metadata": {},
   "outputs": [
    {
     "name": "stdout",
     "output_type": "stream",
     "text": [
      "Number of words written to file: 1,228,258\n"
     ]
    }
   ],
   "source": [
    "# Sort and dump the new vocabulary\n",
    "words = sorted(list(merged_vocab_set))\n",
    "with open('data/words.txt', 'w', encoding='windows-1251') as f:\n",
    "    for word in words:\n",
    "        f.write(word + '\\n')\n",
    "\n",
    "# Convert to gzip\n",
    "with open('data/words.txt', 'rb') as f_in:\n",
    "    with gzip.open('data/words.txt.gz', 'wb') as f_out:\n",
    "        f_out.writelines(f_in)\n",
    "\n",
    "# Remove the original file\n",
    "os.remove('data/words.txt')\n",
    "\n",
    "print(f\"Number of words written to file: {len(words):,}\")"
   ]
  }
 ],
 "metadata": {
  "kernelspec": {
   "display_name": "Python 3",
   "language": "python",
   "name": "python3"
  },
  "language_info": {
   "codemirror_mode": {
    "name": "ipython",
    "version": 3
   },
   "file_extension": ".py",
   "mimetype": "text/x-python",
   "name": "python",
   "nbconvert_exporter": "python",
   "pygments_lexer": "ipython3",
   "version": "3.12.10"
  }
 },
 "nbformat": 4,
 "nbformat_minor": 5
}
