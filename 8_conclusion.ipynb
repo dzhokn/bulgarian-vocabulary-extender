{
 "cells": [
  {
   "cell_type": "markdown",
   "id": "95753af9",
   "metadata": {},
   "source": [
    "## Conclusion\n",
    "\n",
    "### Results\n",
    "With some data analysis, LLM interactions and a lof ot manual cleaning and triage I was able to increase the initial `Chitanka` vocabulary from `1 112 236` up to `1 230 247`, which `+10.6%` increase.\n",
    "\n",
    "### Challenges\n",
    "I expected to gain a lot of new words from the `Stork` dataset. However, it turns out due to the nature of Stork dataset (texts from private chats and forums), the list of stork words was highly contaminated with **slang** (`некви`), **jargon** (`баси`) and **gramatiically invalid** words (`рожденници`). Furthermore, due to the way the TF-IDF was calculated in the `Stork` and the disbalance in the data sources, thousands of medical terms have polluted the word list as well.\n",
    "\n",
    "### Future work\n",
    "\n",
    "##### Stork data\n",
    "Stork data has a lot of potential, but I need to re-design, re-balance and re-execute the data pipeline in order to get a high-quality list of valid Bulgarian words.\n",
    "\n",
    "##### More data\n",
    "If we want to cover slang and jargon words, then we can definitely use sources like [bgjargon.com](https://www.bgjargon.com/).\n",
    "\n",
    "Other online dictionaries that could be scraped (although I don't believe they would deliver any new words) are:\n",
    "* [IBL BAS](https://ibl.bas.bg/dictionary.php)\n",
    "* [talkoven.com](https://www.talkoven.com/)\n",
    "* [onlinerechnik.com](https://www.onlinerechnik.com/)\n",
    "* [slovored.com](https://slovored.com/)\n",
    "\n",
    "\n",
    "##### Classification\n",
    "We can add features for every word like `is_slang`, `is_dialect`, `is_archaic`, `is_jargon`, `is_medical_term`. This would make the dataset more usable, since it will let the consumer filter out words they don't need.\n",
    "\n",
    "##### PoS tags\n",
    "We can add PoS tags for each word. This would be useful for eventual training of a Bulgarian tokenizer (specifically, the PoS tagging functionality).\n",
    "\n",
    "\n",
    "##### Lemmas\n",
    "We can try to relate each word to its base form (lemma). This would be useful for eventual training of a Bulgarian lemmatizer.\n",
    "\n",
    "\n",
    "### Final outcome\n",
    "I have suceeded in building the single largest Bulgarian vocabulary freely available online. The source `Chitanka` set has been increased with `+10.6%`."
   ]
  },
  {
   "cell_type": "markdown",
   "id": "19e3f741",
   "metadata": {},
   "source": [
    "## References\n",
    "\n",
    "#### School Dropout Studies\n",
    "* [Dropout early warning systems for high school students using machine learning](https://www.sciencedirect.com/science/article/abs/pii/S0190740918309721)\n",
    "* [Application of Decision Trees for Detection of Student Dropout Profiles](https://ieeexplore.ieee.org/abstract/document/8260685)"
   ]
  }
 ],
 "metadata": {
  "language_info": {
   "name": "python"
  }
 },
 "nbformat": 4,
 "nbformat_minor": 5
}
