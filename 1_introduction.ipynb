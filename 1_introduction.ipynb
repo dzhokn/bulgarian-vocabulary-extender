{
 "cells": [
  {
   "cell_type": "markdown",
   "id": "7d76f145",
   "metadata": {},
   "source": [
    "# Bulgarian vocabulary extender\n",
    "\n",
    "*Miroslav Dzhokanov, 2025*\n",
    "\n",
    "## Abstract\n",
    "\n",
    "**Introduction:** For training bulgarian language tokenizers a high-quality set of validated *words* is needed.\n",
    "\n",
    "**Purpose:** This project aims at building *the largest vocabulary* of valid Bulgarian words available online.\n",
    "\n",
    "**Data:** Data will be fetched from *Chitanka, GitHub, Kaggle, HuggingFace*, other public and private sources.\n",
    "\n",
    "**Results:** The initial `Chitanka` set of words has been increased by `+10.6%`.\n",
    "\n",
    "**Keywords:** *bulgarian language, words, vocabulary, dictionary*"
   ]
  },
  {
   "cell_type": "markdown",
   "id": "b1af2850",
   "metadata": {},
   "source": [
    "## Introduction\n",
    "\n",
    "If someone decides to develop a state-of-the-art tokenizer for Bulgarian language they would need to have an exhaustive list of validated words in Bulgarian language. [Chitanka Rechnik](https://rechnik.chitanka.info/) provide a good starting point with `1M` unique words, but we will try to augment their data further."
   ]
  },
  {
   "cell_type": "markdown",
   "id": "7853bc75",
   "metadata": {},
   "source": [
    "## Data\n",
    "\n",
    "Following datasets will be used in current project. \n",
    "\n",
    "### 1. [Chitanka Rechnik](https://rechnik.chitanka.info/)\n",
    "* **Size**: 4 013 667 words (not unique) , 119 677 lemmas (not unique)\n",
    "* **Quality**: Medium-quality (invalid words, spaced words, dashed words, latin symbols). Probably **semi-automatically verified**.\n",
    "* **License**: MIT\n",
    "* **Description**: Chitanka has a *publicly* available vocabulary since 2010. It provides both *words* and *lemmas*.\n",
    "\n",
    "### 2. [BG-PoS-dataset](https://www.kaggle.com/datasets/auhide/bulgarian-part-of-speech-dataset4)\n",
    "* **Size**: 1 348 103 words (not unique)\n",
    "* **Quality**: High-quality (invalid words, names).\n",
    "* **License**: CC0: Public Domain\n",
    "* **Description**: POS-tagged dataset, specifically designed for token classification.\n",
    "\n",
    "### 3. [BG-dictionary-2024](https://huggingface.co/datasets/thebogko/bulgarian-dictionary-2024)\n",
    "* **Size**: 1 147 604 words (not unique)\n",
    "* **Quality**: Medium-quality (invalid words, dashed words, names, latin symbols).\n",
    "* **License**: Apache 2.0\n",
    "* **Description**: POS-tagged dataset, specifically designed for token classification.\n",
    "\n",
    "### 4. [BG WordLists](https://github.com/miglen/bulgarian-wordlists)\n",
    "* **Size**: 234 115 words (unique) \n",
    "* **License**: GPL-3.0\n",
    "* **Quality**: Medium-quality (invalid words, dashed words, duplicates). Automatically scrapped and parsed words.\n",
    "* **Description**: *Public* git repo providing lists of bulgarian words (incl. names, abbreviations, profanity lists, etc.). \n",
    "\n",
    "### 5. [WordHelper](https://github.com/pepk0/WordHelper)\n",
    "* **Size**: 233 972 words (unique)\n",
    "* **License**: MIT\n",
    "* **Quality**: High-quality (duplicates). Probably **not manually verified**.\n",
    "* **Description**: *Public* git repo providing a list of words, used for crossword suggestions.\n",
    "\n",
    "### 6. [Stork Project](https://github.com/project-stork) \n",
    "* **Size**: 1 294 882 words (unique)\n",
    "* **License**: Private\n",
    "* **Quality**: Low-quality (invalid words, stitched words). Automatically scrapped and parsed words.\n",
    "* **Description**: A private dataset. Probably the largest BG dataset created ever (700M sentences, 3B words). We have TF-IDF-scored all the words across all sentences. In result we came up with a ranking of 10M unique Bulgarian words. The **first 10%** of the list (**highest TF-IDF scores**) will be used as a source in the current project.\n",
    "\n",
    "### 7.  [IBL BAS Vocabulary]( https://ibl.bas.bg/rbe/lang/bg/)\n",
    "* **Size**: 124 000 lemmas (unique)\n",
    "* **License**: Private\n",
    "* **Quality**: Highest-quality. **Manually verified**.\n",
    "* **Description**: The Institute for Bulgarian Language in BAS posess official Bulgarian dictionary. Unfortunately, they don't want to share the data in a machine-readable format. However, we can use their online vocabulary for checking the validity of some words, if in doubt (the site has anti-bot system, so it can't be automatically scrapped).\n"
   ]
  }
 ],
 "metadata": {
  "kernelspec": {
   "display_name": "Python 3",
   "language": "python",
   "name": "python3"
  },
  "language_info": {
   "codemirror_mode": {
    "name": "ipython",
    "version": 3
   },
   "file_extension": ".py",
   "mimetype": "text/x-python",
   "name": "python",
   "nbconvert_exporter": "python",
   "pygments_lexer": "ipython3",
   "version": "3.12.10"
  }
 },
 "nbformat": 4,
 "nbformat_minor": 5
}
