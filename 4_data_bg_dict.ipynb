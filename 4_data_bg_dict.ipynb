{
 "cells": [
  {
   "cell_type": "code",
   "execution_count": 1,
   "id": "8b5ba7d7",
   "metadata": {},
   "outputs": [],
   "source": [
    "import os\n",
    "import gzip\n",
    "import pandas as pd\n",
    "import matplotlib.pyplot as plt"
   ]
  },
  {
   "cell_type": "markdown",
   "id": "b2590f5c",
   "metadata": {},
   "source": [
    "## 1. Load data\n",
    "\n",
    "* **Source**: [BG-dictionary-2024](https://huggingface.co/datasets/thebogko/bulgarian-dictionary-2024)"
   ]
  },
  {
   "cell_type": "code",
   "execution_count": 2,
   "id": "54ce040c",
   "metadata": {},
   "outputs": [
    {
     "name": "stdout",
     "output_type": "stream",
     "text": [
      "Total words count: 1,147,604\n"
     ]
    },
    {
     "data": {
      "text/html": [
       "<div>\n",
       "<style scoped>\n",
       "    .dataframe tbody tr th:only-of-type {\n",
       "        vertical-align: middle;\n",
       "    }\n",
       "\n",
       "    .dataframe tbody tr th {\n",
       "        vertical-align: top;\n",
       "    }\n",
       "\n",
       "    .dataframe thead th {\n",
       "        text-align: right;\n",
       "    }\n",
       "</style>\n",
       "<table border=\"1\" class=\"dataframe\">\n",
       "  <thead>\n",
       "    <tr style=\"text-align: right;\">\n",
       "      <th></th>\n",
       "      <th>word</th>\n",
       "      <th>tag</th>\n",
       "    </tr>\n",
       "    <tr>\n",
       "      <th>id</th>\n",
       "      <th></th>\n",
       "      <th></th>\n",
       "    </tr>\n",
       "  </thead>\n",
       "  <tbody>\n",
       "    <tr>\n",
       "      <th>0</th>\n",
       "      <td>C-класа</td>\n",
       "      <td>N</td>\n",
       "    </tr>\n",
       "    <tr>\n",
       "      <th>1</th>\n",
       "      <td>C-класата</td>\n",
       "      <td>N</td>\n",
       "    </tr>\n",
       "    <tr>\n",
       "      <th>2</th>\n",
       "      <td>G-класа</td>\n",
       "      <td>N</td>\n",
       "    </tr>\n",
       "    <tr>\n",
       "      <th>3</th>\n",
       "      <td>G-класата</td>\n",
       "      <td>N</td>\n",
       "    </tr>\n",
       "    <tr>\n",
       "      <th>4</th>\n",
       "      <td>S-образен</td>\n",
       "      <td>A</td>\n",
       "    </tr>\n",
       "    <tr>\n",
       "      <th>5</th>\n",
       "      <td>S-образна</td>\n",
       "      <td>A</td>\n",
       "    </tr>\n",
       "    <tr>\n",
       "      <th>6</th>\n",
       "      <td>S-образната</td>\n",
       "      <td>A</td>\n",
       "    </tr>\n",
       "    <tr>\n",
       "      <th>7</th>\n",
       "      <td>S-образни</td>\n",
       "      <td>A</td>\n",
       "    </tr>\n",
       "    <tr>\n",
       "      <th>8</th>\n",
       "      <td>S-образните</td>\n",
       "      <td>A</td>\n",
       "    </tr>\n",
       "    <tr>\n",
       "      <th>9</th>\n",
       "      <td>S-образния</td>\n",
       "      <td>A</td>\n",
       "    </tr>\n",
       "  </tbody>\n",
       "</table>\n",
       "</div>"
      ],
      "text/plain": [
       "           word tag\n",
       "id                 \n",
       "0       C-класа   N\n",
       "1     C-класата   N\n",
       "2       G-класа   N\n",
       "3     G-класата   N\n",
       "4     S-образен   A\n",
       "5     S-образна   A\n",
       "6   S-образната   A\n",
       "7     S-образни   A\n",
       "8   S-образните   A\n",
       "9    S-образния   A"
      ]
     },
     "execution_count": 2,
     "metadata": {},
     "output_type": "execute_result"
    }
   ],
   "source": [
    "# Read the csv file in the gzip archive\n",
    "words_df = pd.read_csv(\"hf://datasets/thebogko/bulgarian-dictionary-2024/single_words_bg.csv\")\n",
    "words_df.index.name = 'id'\n",
    "print(f\"Total words count: {len(words_df):,}\")\n",
    "words_df.head(10)"
   ]
  },
  {
   "cell_type": "markdown",
   "id": "647d92a7",
   "metadata": {},
   "source": [
    "## 2. Remove spaced words"
   ]
  },
  {
   "cell_type": "code",
   "execution_count": 3,
   "id": "cd21efd4",
   "metadata": {},
   "outputs": [
    {
     "name": "stdout",
     "output_type": "stream",
     "text": [
      "Number of spaced words: 0\n"
     ]
    }
   ],
   "source": [
    "spaced_words = words_df[words_df['word'].str.contains(\" \")]\n",
    "print(f\"Number of spaced words: {len(spaced_words):,}\")"
   ]
  },
  {
   "cell_type": "markdown",
   "id": "d158f830",
   "metadata": {},
   "source": [
    "## 3. Remove dashed words"
   ]
  },
  {
   "cell_type": "code",
   "execution_count": 4,
   "id": "95122485",
   "metadata": {},
   "outputs": [
    {
     "name": "stdout",
     "output_type": "stream",
     "text": [
      "Number of dashed words: 10,287\n"
     ]
    },
    {
     "data": {
      "text/html": [
       "<div>\n",
       "<style scoped>\n",
       "    .dataframe tbody tr th:only-of-type {\n",
       "        vertical-align: middle;\n",
       "    }\n",
       "\n",
       "    .dataframe tbody tr th {\n",
       "        vertical-align: top;\n",
       "    }\n",
       "\n",
       "    .dataframe thead th {\n",
       "        text-align: right;\n",
       "    }\n",
       "</style>\n",
       "<table border=\"1\" class=\"dataframe\">\n",
       "  <thead>\n",
       "    <tr style=\"text-align: right;\">\n",
       "      <th></th>\n",
       "      <th>word</th>\n",
       "      <th>tag</th>\n",
       "    </tr>\n",
       "    <tr>\n",
       "      <th>id</th>\n",
       "      <th></th>\n",
       "      <th></th>\n",
       "    </tr>\n",
       "  </thead>\n",
       "  <tbody>\n",
       "    <tr>\n",
       "      <th>104025</th>\n",
       "      <td>германско-италианско</td>\n",
       "      <td>A</td>\n",
       "    </tr>\n",
       "    <tr>\n",
       "      <th>923225</th>\n",
       "      <td>румънско-унгарското</td>\n",
       "      <td>A</td>\n",
       "    </tr>\n",
       "    <tr>\n",
       "      <th>1144613</th>\n",
       "      <td>юдео-християнския</td>\n",
       "      <td>A</td>\n",
       "    </tr>\n",
       "    <tr>\n",
       "      <th>1083246</th>\n",
       "      <td>финансово-икономическият</td>\n",
       "      <td>A</td>\n",
       "    </tr>\n",
       "    <tr>\n",
       "      <th>1146736</th>\n",
       "      <td>японско-френски</td>\n",
       "      <td>A</td>\n",
       "    </tr>\n",
       "    <tr>\n",
       "      <th>1029299</th>\n",
       "      <td>териториално-селищната</td>\n",
       "      <td>A</td>\n",
       "    </tr>\n",
       "    <tr>\n",
       "      <th>237499</th>\n",
       "      <td>заместник-играчи</td>\n",
       "      <td>N</td>\n",
       "    </tr>\n",
       "    <tr>\n",
       "      <th>17636</th>\n",
       "      <td>английско-латинско</td>\n",
       "      <td>A</td>\n",
       "    </tr>\n",
       "    <tr>\n",
       "      <th>16133</th>\n",
       "      <td>американско-китайските</td>\n",
       "      <td>A</td>\n",
       "    </tr>\n",
       "    <tr>\n",
       "      <th>647453</th>\n",
       "      <td>питейно-битов</td>\n",
       "      <td>A</td>\n",
       "    </tr>\n",
       "  </tbody>\n",
       "</table>\n",
       "</div>"
      ],
      "text/plain": [
       "                             word tag\n",
       "id                                   \n",
       "104025       германско-италианско   A\n",
       "923225        румънско-унгарското   A\n",
       "1144613         юдео-християнския   A\n",
       "1083246  финансово-икономическият   A\n",
       "1146736           японско-френски   A\n",
       "1029299    териториално-селищната   A\n",
       "237499           заместник-играчи   N\n",
       "17636          английско-латинско   A\n",
       "16133      американско-китайските   A\n",
       "647453              питейно-битов   A"
      ]
     },
     "execution_count": 4,
     "metadata": {},
     "output_type": "execute_result"
    }
   ],
   "source": [
    "dashed_words = words_df[words_df['word'].str.contains(\"-\")]\n",
    "print(f\"Number of dashed words: {len(dashed_words):,}\")\n",
    "dashed_words.sample(10)"
   ]
  },
  {
   "cell_type": "markdown",
   "id": "4d5d92da",
   "metadata": {},
   "source": [
    "Split the dashed word to parts and add the part into the dataset."
   ]
  },
  {
   "cell_type": "code",
   "execution_count": 5,
   "id": "fbe46bf4",
   "metadata": {},
   "outputs": [
    {
     "name": "stdout",
     "output_type": "stream",
     "text": [
      "Number of unique parts: 6,297\n",
      "['сладкаря', 'сестра', 'славянският', 'координационен', 'есенно', 'герой', 'самичко', 'физиологически', 'челюстна', 'камериерчето']\n"
     ]
    }
   ],
   "source": [
    "# Remove words with spaces\n",
    "words_df = words_df[~words_df['word'].str.contains(\"-\")]\n",
    "# Split the words into parts and keep them as a set.\n",
    "dashed_words_parts = dashed_words['word'].str.split(\"-\")\n",
    "# Flatten the list and convert to set (no duplicates)\n",
    "dashed_words_parts = set([part for parts in dashed_words_parts for part in parts])\n",
    "# Print the number of unique parts\n",
    "print(f\"Number of unique parts: {len(dashed_words_parts):,}\")\n",
    "# Print the parts\n",
    "print(list(dashed_words_parts)[:10])"
   ]
  },
  {
   "cell_type": "code",
   "execution_count": 6,
   "id": "c1ebae62",
   "metadata": {},
   "outputs": [
    {
     "name": "stdout",
     "output_type": "stream",
     "text": [
      "Number of missing parts: 319\n",
      "['154', 'C', 'G', 'S', 'Австро', 'Г', 'До', 'Дота', 'Дотата', 'Дото', 'Илинденско', 'МВР', 'П', 'Преображенска', 'Преображенската', 'Преображенски', 'Преображенските', 'Преображенския', 'Преображенският', 'Преображенско', 'Преображенското', 'Рило', 'Родопска', 'Родопската', 'Родопски', 'Родопските', 'Родопския', 'Родопският', 'Родопско', 'Родопското', 'Ройс', 'Ройса', 'Ройси', 'Ройсите', 'Ройсче', 'Ройсчета', 'Ройсчетата', 'Ройсчето', 'Ройсът', 'Ролс', 'ТаеКуон', 'Ту', 'Унгария', 'Унгарията', 'австро', 'авто', 'агро', 'актрисо', 'актьоре', 'акушеро', 'алъш', 'американо', 'англо', 'армено', 'асиро', 'биджи', 'биджита', 'биджитата', 'биджито', 'бо', 'бото', 'булко', 'бутанче', 'бутанчета', 'бутанчетата', 'бутанчето', 'българо', 'велочасти', 'велочастите', 'венеричен', 'венерична', 'венеричната', 'венерични', 'венеричните', 'венеричния', 'венеричният', 'венерично', 'венеричното', 'вериш', 'вериша', 'вериши', 'веришите', 'веришче', 'веришчета', 'веришчетата', 'веришчето', 'веришът', 'винаро', 'времев', 'германо', 'гимназистке', 'глинестопочвен', 'глинестопочвена', 'глинестопочвената', 'глинестопочвени', 'глинестопочвените', 'глинестопочвения', 'глинестопочвеният', 'глинестопочвено', 'глинестопочвеното', 'годенице', 'готвачке', 'гръко', 'гуни', 'гунита', 'гунитата', 'гунито', 'депутатке', 'джиджи', 'джиу', 'джицу', 'джицута', 'джицутата', 'джицуто', 'джок', 'джока', 'джокът', 'директорке', 'драматико', 'естетико', 'женихо', 'жиу', 'жицу', 'жицута', 'жицутата', 'жицуто', 'зам.', 'зидаро', 'иберо', 'изпълнителке', 'израело', 'икономико', 'икономке', 'иланг', 'иланга', 'иланги', 'илангите', 'илангът', 'ирано', 'испано', 'историко', 'италиано', 'кантатно', 'карнетата', 'касиере', 'келнере', 'кланче', 'кланчета', 'кланчетата', 'кланчето', 'клукс', 'конструкторе', 'контузна', 'контузната', 'контузни', 'контузните', 'контузния', 'контузният', 'контузно', 'контузното', 'концесионере', 'кооператоре', 'ку', 'кушет', 'лесомелиоративен', 'лесомелиоративна', 'лесомелиоративната', 'лесомелиоративни', 'лесомелиоративните', 'лесомелиоративния', 'лесомелиоративният', 'лесомелиоративно', 'лесомелиоративното', 'лесомелиорации', 'лесомелиорациите', 'лесомелиорация', 'лесомелиорацията', 'лидере', 'лозаро', 'мазаческа', 'мазаческата', 'мазачески', 'мазаческите', 'мазаческия', 'мазаческият', 'мазаческо', 'мазаческото', 'мазо', 'мазота', 'мазотата', 'мазото', 'македоно', 'маш', 'машче', 'машчета', 'машчетата', 'машчето', 'машът', 'медико', 'министърке', 'миш', 'ноу', 'перпетуум', 'пинг', 'покупко', 'понг', 'понга', 'понги', 'понгите', 'понгче', 'понгчета', 'понгчетата', 'понгчето', 'понгът', 'порте', 'портета', 'портетата', 'портето', 'председателке', 'президентке', 'прет', 'природо', 'промишлна', 'промишлната', 'промишлни', 'промишлните', 'промишлния', 'промишлният', 'промишлно', 'промишлното', 'проспектов', 'проспектова', 'проспектовата', 'проспектови', 'проспектовите', 'проспектовия', 'проспектовият', 'проспектово', 'проспектовото', 'разкъсно', 'разтоварна', 'разтоварната', 'разтоварни', 'разтоварните', 'разтоварния', 'разтоварният', 'разтоварно', 'разтоварното', 'регенте', 'резачо', 'рестант', 'рестанта', 'рестанти', 'рестантите', 'рестантът', 'садо', 'саменичка', 'саменичката', 'саменички', 'саменичките', 'саменичкия', 'саменичкият', 'саменичко', 'саменичкото', 'саменичък', 'сервитьорке', 'славяно', 'студентке', 'су', 'тактико', 'такът', 'таци', 'таците', 'телеграфо', 'теци', 'теците', 'товаро', 'токита', 'токитата', 'токито', 'трип', 'угро', 'украино', 'уоки', 'учителке', 'фармацевте', 'физико', 'хау', 'хаута', 'хаутата', 'хауто', 'химико', 'хип', 'хопа', 'хопове', 'хоповете', 'хопър', 'хопъра', 'хопъри', 'хопърите', 'хопърче', 'хопърчета', 'хопърчетата', 'хопърчето', 'хопърът', 'хопът', 'художествна', 'художествната', 'художествни', 'художествните', 'художествния', 'художествният', 'художествно', 'художествното', 'цуни', 'четиринайсет', 'чжуд', 'юдео', 'японо']\n"
     ]
    }
   ],
   "source": [
    "# Identify missing words, that could be added to the words_df set\n",
    "words_set = set(words_df['word'].values)\n",
    "dashed_parts_diff = set(dashed_words_parts) - words_set\n",
    "print(f\"Number of missing parts: {len(dashed_parts_diff):,}\")\n",
    "print(sorted(dashed_parts_diff))"
   ]
  },
  {
   "cell_type": "markdown",
   "id": "8afa7bdb",
   "metadata": {},
   "source": [
    "* **OBSERVATION**: Hmm, looks exactly the same as the `Chitanka` dataset. Probably, current set used the Chitanka one."
   ]
  },
  {
   "cell_type": "code",
   "execution_count": 7,
   "id": "27213882",
   "metadata": {},
   "outputs": [
    {
     "name": "stdout",
     "output_type": "stream",
     "text": [
      "Total words count (after inserting missing parts): 1,137,611\n"
     ]
    },
    {
     "data": {
      "text/html": [
       "<div>\n",
       "<style scoped>\n",
       "    .dataframe tbody tr th:only-of-type {\n",
       "        vertical-align: middle;\n",
       "    }\n",
       "\n",
       "    .dataframe tbody tr th {\n",
       "        vertical-align: top;\n",
       "    }\n",
       "\n",
       "    .dataframe thead th {\n",
       "        text-align: right;\n",
       "    }\n",
       "</style>\n",
       "<table border=\"1\" class=\"dataframe\">\n",
       "  <thead>\n",
       "    <tr style=\"text-align: right;\">\n",
       "      <th></th>\n",
       "      <th>word</th>\n",
       "      <th>tag</th>\n",
       "    </tr>\n",
       "  </thead>\n",
       "  <tbody>\n",
       "    <tr>\n",
       "      <th>0</th>\n",
       "      <td>женихо</td>\n",
       "      <td>NaN</td>\n",
       "    </tr>\n",
       "    <tr>\n",
       "      <th>1</th>\n",
       "      <td>президентке</td>\n",
       "      <td>NaN</td>\n",
       "    </tr>\n",
       "    <tr>\n",
       "      <th>2</th>\n",
       "      <td>товаро</td>\n",
       "      <td>NaN</td>\n",
       "    </tr>\n",
       "    <tr>\n",
       "      <th>3</th>\n",
       "      <td>кооператоре</td>\n",
       "      <td>NaN</td>\n",
       "    </tr>\n",
       "    <tr>\n",
       "      <th>4</th>\n",
       "      <td>разтоварни</td>\n",
       "      <td>NaN</td>\n",
       "    </tr>\n",
       "    <tr>\n",
       "      <th>5</th>\n",
       "      <td>хопъри</td>\n",
       "      <td>NaN</td>\n",
       "    </tr>\n",
       "    <tr>\n",
       "      <th>6</th>\n",
       "      <td>венерична</td>\n",
       "      <td>NaN</td>\n",
       "    </tr>\n",
       "    <tr>\n",
       "      <th>7</th>\n",
       "      <td>историко</td>\n",
       "      <td>NaN</td>\n",
       "    </tr>\n",
       "    <tr>\n",
       "      <th>8</th>\n",
       "      <td>природо</td>\n",
       "      <td>NaN</td>\n",
       "    </tr>\n",
       "    <tr>\n",
       "      <th>9</th>\n",
       "      <td>понга</td>\n",
       "      <td>NaN</td>\n",
       "    </tr>\n",
       "    <tr>\n",
       "      <th>10</th>\n",
       "      <td>изпълнителке</td>\n",
       "      <td>NaN</td>\n",
       "    </tr>\n",
       "    <tr>\n",
       "      <th>11</th>\n",
       "      <td>икономико</td>\n",
       "      <td>NaN</td>\n",
       "    </tr>\n",
       "    <tr>\n",
       "      <th>12</th>\n",
       "      <td>бото</td>\n",
       "      <td>NaN</td>\n",
       "    </tr>\n",
       "    <tr>\n",
       "      <th>13</th>\n",
       "      <td>Ройси</td>\n",
       "      <td>NaN</td>\n",
       "    </tr>\n",
       "    <tr>\n",
       "      <th>14</th>\n",
       "      <td>иланг</td>\n",
       "      <td>NaN</td>\n",
       "    </tr>\n",
       "  </tbody>\n",
       "</table>\n",
       "</div>"
      ],
      "text/plain": [
       "            word  tag\n",
       "0         женихо  NaN\n",
       "1    президентке  NaN\n",
       "2         товаро  NaN\n",
       "3    кооператоре  NaN\n",
       "4     разтоварни  NaN\n",
       "5         хопъри  NaN\n",
       "6      венерична  NaN\n",
       "7       историко  NaN\n",
       "8        природо  NaN\n",
       "9          понга  NaN\n",
       "10  изпълнителке  NaN\n",
       "11     икономико  NaN\n",
       "12          бото  NaN\n",
       "13         Ройси  NaN\n",
       "14         иланг  NaN"
      ]
     },
     "execution_count": 7,
     "metadata": {},
     "output_type": "execute_result"
    }
   ],
   "source": [
    "# Remove words that are not valid Bulgarian words\n",
    "dashed_parts_diff = set(dashed_parts_diff) - set(['154', 'G', 'C', 'S', 'Г', 'П', 'такът', 'таци', 'таците', 'художествния', 'художествното', 'художествните', 'художествно', 'художествна', 'художествният', 'художествни', 'художествната', 'промишлният', 'промишлната', 'промишлно', 'промишлни', 'промишлните', 'промишлна', 'промишлното', 'промишлния'])\n",
    "# Insert the missing parts into the words_df\n",
    "words_df = pd.concat([words_df, pd.DataFrame({'word': list(dashed_parts_diff)})])\n",
    "# Print the new size\n",
    "print(f\"Total words count (after inserting missing parts): {len(words_df):,}\")\n",
    "# Print some of the new words\n",
    "words_df[words_df['word'].isin(dashed_parts_diff)].head(15)"
   ]
  },
  {
   "cell_type": "markdown",
   "id": "d3264fcd",
   "metadata": {},
   "source": [
    "## 4. Remove capitalized words (names)"
   ]
  },
  {
   "cell_type": "code",
   "execution_count": 8,
   "id": "e15c3350",
   "metadata": {},
   "outputs": [
    {
     "name": "stdout",
     "output_type": "stream",
     "text": [
      "Number of names: 5,252\n"
     ]
    },
    {
     "data": {
      "text/html": [
       "<div>\n",
       "<style scoped>\n",
       "    .dataframe tbody tr th:only-of-type {\n",
       "        vertical-align: middle;\n",
       "    }\n",
       "\n",
       "    .dataframe tbody tr th {\n",
       "        vertical-align: top;\n",
       "    }\n",
       "\n",
       "    .dataframe thead th {\n",
       "        text-align: right;\n",
       "    }\n",
       "</style>\n",
       "<table border=\"1\" class=\"dataframe\">\n",
       "  <thead>\n",
       "    <tr style=\"text-align: right;\">\n",
       "      <th></th>\n",
       "      <th>word</th>\n",
       "      <th>tag</th>\n",
       "    </tr>\n",
       "  </thead>\n",
       "  <tbody>\n",
       "    <tr>\n",
       "      <th>2461</th>\n",
       "      <td>Кралев</td>\n",
       "      <td>H</td>\n",
       "    </tr>\n",
       "    <tr>\n",
       "      <th>2565</th>\n",
       "      <td>Кюранова</td>\n",
       "      <td>H</td>\n",
       "    </tr>\n",
       "    <tr>\n",
       "      <th>570</th>\n",
       "      <td>Бончева</td>\n",
       "      <td>H</td>\n",
       "    </tr>\n",
       "    <tr>\n",
       "      <th>2475</th>\n",
       "      <td>Крезовете</td>\n",
       "      <td>N</td>\n",
       "    </tr>\n",
       "    <tr>\n",
       "      <th>3306</th>\n",
       "      <td>Нестле</td>\n",
       "      <td>N</td>\n",
       "    </tr>\n",
       "    <tr>\n",
       "      <th>2907</th>\n",
       "      <td>Матилда</td>\n",
       "      <td>H</td>\n",
       "    </tr>\n",
       "    <tr>\n",
       "      <th>4658</th>\n",
       "      <td>Тимев</td>\n",
       "      <td>H</td>\n",
       "    </tr>\n",
       "    <tr>\n",
       "      <th>2385</th>\n",
       "      <td>Коминформчето</td>\n",
       "      <td>N</td>\n",
       "    </tr>\n",
       "    <tr>\n",
       "      <th>1987</th>\n",
       "      <td>Илиевски</td>\n",
       "      <td>H</td>\n",
       "    </tr>\n",
       "    <tr>\n",
       "      <th>4344</th>\n",
       "      <td>Снежанките</td>\n",
       "      <td>N</td>\n",
       "    </tr>\n",
       "  </tbody>\n",
       "</table>\n",
       "</div>"
      ],
      "text/plain": [
       "               word tag\n",
       "2461         Кралев   H\n",
       "2565       Кюранова   H\n",
       "570         Бончева   H\n",
       "2475      Крезовете   N\n",
       "3306         Нестле   N\n",
       "2907        Матилда   H\n",
       "4658          Тимев   H\n",
       "2385  Коминформчето   N\n",
       "1987       Илиевски   H\n",
       "4344     Снежанките   N"
      ]
     },
     "execution_count": 8,
     "metadata": {},
     "output_type": "execute_result"
    }
   ],
   "source": [
    "# Extract all names that start with a capital letter\n",
    "names_df = words_df[words_df['word'].str.match(r'^[А-Я]')]\n",
    "print(f\"Number of names: {len(names_df):,}\")\n",
    "names_df.sample(10)"
   ]
  },
  {
   "cell_type": "code",
   "execution_count": 9,
   "id": "269d9e16",
   "metadata": {},
   "outputs": [
    {
     "name": "stdout",
     "output_type": "stream",
     "text": [
      "Total words count (after removing names): 1,132,359\n"
     ]
    }
   ],
   "source": [
    "# Remove words that start with a capital letter\n",
    "words_df = words_df[~words_df['word'].str.match(r'^[А-Я]')]\n",
    "print(f\"Total words count (after removing names): {len(words_df):,}\")"
   ]
  },
  {
   "cell_type": "markdown",
   "id": "63e48614",
   "metadata": {},
   "source": [
    "## 5. Check 1-letter words"
   ]
  },
  {
   "cell_type": "code",
   "execution_count": 10,
   "id": "99365e08",
   "metadata": {},
   "outputs": [
    {
     "name": "stdout",
     "output_type": "stream",
     "text": [
      "Number of one letter words: 13\n"
     ]
    },
    {
     "data": {
      "text/html": [
       "<div>\n",
       "<style scoped>\n",
       "    .dataframe tbody tr th:only-of-type {\n",
       "        vertical-align: middle;\n",
       "    }\n",
       "\n",
       "    .dataframe tbody tr th {\n",
       "        vertical-align: top;\n",
       "    }\n",
       "\n",
       "    .dataframe thead th {\n",
       "        text-align: right;\n",
       "    }\n",
       "</style>\n",
       "<table border=\"1\" class=\"dataframe\">\n",
       "  <thead>\n",
       "    <tr style=\"text-align: right;\">\n",
       "      <th></th>\n",
       "      <th>word</th>\n",
       "      <th>tag</th>\n",
       "    </tr>\n",
       "  </thead>\n",
       "  <tbody>\n",
       "    <tr>\n",
       "      <th>5323</th>\n",
       "      <td>а</td>\n",
       "      <td>T</td>\n",
       "    </tr>\n",
       "    <tr>\n",
       "      <th>61050</th>\n",
       "      <td>в</td>\n",
       "      <td>R</td>\n",
       "    </tr>\n",
       "    <tr>\n",
       "      <th>182350</th>\n",
       "      <td>е</td>\n",
       "      <td>T</td>\n",
       "    </tr>\n",
       "    <tr>\n",
       "      <th>282047</th>\n",
       "      <td>и</td>\n",
       "      <td>C</td>\n",
       "    </tr>\n",
       "    <tr>\n",
       "      <th>282048</th>\n",
       "      <td>и</td>\n",
       "      <td>T</td>\n",
       "    </tr>\n",
       "    <tr>\n",
       "      <th>351582</th>\n",
       "      <td>й</td>\n",
       "      <td>P</td>\n",
       "    </tr>\n",
       "    <tr>\n",
       "      <th>542755</th>\n",
       "      <td>о</td>\n",
       "      <td>T</td>\n",
       "    </tr>\n",
       "    <tr>\n",
       "      <th>542756</th>\n",
       "      <td>о</td>\n",
       "      <td>R</td>\n",
       "    </tr>\n",
       "    <tr>\n",
       "      <th>925664</th>\n",
       "      <td>с</td>\n",
       "      <td>R</td>\n",
       "    </tr>\n",
       "    <tr>\n",
       "      <th>1057544</th>\n",
       "      <td>у</td>\n",
       "      <td>R</td>\n",
       "    </tr>\n",
       "    <tr>\n",
       "      <th>1145457</th>\n",
       "      <td>я</td>\n",
       "      <td>C</td>\n",
       "    </tr>\n",
       "    <tr>\n",
       "      <th>1145458</th>\n",
       "      <td>я</td>\n",
       "      <td>T</td>\n",
       "    </tr>\n",
       "    <tr>\n",
       "      <th>1145459</th>\n",
       "      <td>я</td>\n",
       "      <td>P</td>\n",
       "    </tr>\n",
       "  </tbody>\n",
       "</table>\n",
       "</div>"
      ],
      "text/plain": [
       "        word tag\n",
       "5323       а   T\n",
       "61050      в   R\n",
       "182350     е   T\n",
       "282047     и   C\n",
       "282048     и   T\n",
       "351582     й   P\n",
       "542755     о   T\n",
       "542756     о   R\n",
       "925664     с   R\n",
       "1057544    у   R\n",
       "1145457    я   C\n",
       "1145458    я   T\n",
       "1145459    я   P"
      ]
     },
     "execution_count": 10,
     "metadata": {},
     "output_type": "execute_result"
    }
   ],
   "source": [
    "# One letter words\n",
    "one_letter_words = words_df[words_df['word'].str.len() == 1]\n",
    "print(f\"Number of one letter words: {len(one_letter_words):,}\")\n",
    "one_letter_words.head(len(one_letter_words))"
   ]
  },
  {
   "cell_type": "markdown",
   "id": "8dc1d0ab",
   "metadata": {},
   "source": [
    "* **OBSERVATION**: `й` is not a valid word. We need to remove it."
   ]
  },
  {
   "cell_type": "code",
   "execution_count": 11,
   "id": "877465fe",
   "metadata": {},
   "outputs": [
    {
     "name": "stdout",
     "output_type": "stream",
     "text": [
      "Total words count (after removing `й`): 1,132,358\n"
     ]
    }
   ],
   "source": [
    "# Remove the word `й`\n",
    "words_df = words_df[words_df['word'] != 'й']\n",
    "print(f\"Total words count (after removing `й`): {len(words_df):,}\")"
   ]
  },
  {
   "cell_type": "markdown",
   "id": "e3b3cc01",
   "metadata": {},
   "source": [
    "## 6. Check 2-letter words"
   ]
  },
  {
   "cell_type": "code",
   "execution_count": 12,
   "id": "47462f18",
   "metadata": {},
   "outputs": [
    {
     "name": "stdout",
     "output_type": "stream",
     "text": [
      "Number of two letter words: 102\n",
      "['ад', 'аз', 'ай', 'ар', 'ас', 'ат', 'ах', 'ба', 'бе', 'би', 'бо', 'ви', 'во', 'вя', 'ги', 'го', 'да', 'да', 'де', 'до', 'ду', 'еж', 'ей', 'ек', 'ех', 'еш', 'за', 'зя', 'из', 'им', 'ки', 'ку', 'ле', 'ли', 'ля', 'ма', 'ме', 'ми', 'ми', 'му', 'му', 'на', 'на', 'не', 'ни', 'ни', 'ни', 'но', 'ой', 'ом', 'ос', 'от', 'ох', 'па', 'па', 'пи', 'по', 'пя', 'ри', 'ря', 'са', 'се', 'се', 'си', 'си', 'су', 'ся', 'та', 'те', 'те', 'ти', 'ти', 'то', 'то', 'ту', 'тя', 'уж', 'ум', 'уф', 'ух', 'ха', 'хе', 'хи', 'хи', 'хм', 'че', 'че', 'чу', 'ши', 'ща', 'ще', 'що', 'щя', 'юг', 'юз', 'яд', 'яж', 'яз', 'як', 'як', 'ял', 'ям']\n"
     ]
    }
   ],
   "source": [
    "# Two letter words\n",
    "two_letter_words = words_df[words_df['word'].str.len() == 2]\n",
    "print(f\"Number of two letter words: {len(two_letter_words):,}\")\n",
    "# Print all the 2-letter words\n",
    "print(sorted(two_letter_words['word'].tolist()))"
   ]
  },
  {
   "cell_type": "markdown",
   "id": "2558d9a4",
   "metadata": {},
   "source": [
    "* **OBSERVATION**: Few invalid two-letter words are detected. We'll remove them."
   ]
  },
  {
   "cell_type": "code",
   "execution_count": 13,
   "id": "dcf1b253",
   "metadata": {},
   "outputs": [
    {
     "name": "stdout",
     "output_type": "stream",
     "text": [
      "Total words count (after removing invalid 2-letter words): 1,132,355\n"
     ]
    }
   ],
   "source": [
    "# Remove invalid 2-letter words\n",
    "words_df = words_df[~words_df['word'].isin(['су', 'ку', 'во'])]\n",
    "print(f\"Total words count (after removing invalid 2-letter words): {len(words_df):,}\")"
   ]
  },
  {
   "cell_type": "markdown",
   "id": "fca97cbf",
   "metadata": {},
   "source": [
    "## 7. Remove Latin symbols"
   ]
  },
  {
   "cell_type": "code",
   "execution_count": 14,
   "id": "a814401d",
   "metadata": {},
   "outputs": [
    {
     "name": "stdout",
     "output_type": "stream",
     "text": [
      "Number of words with latin symbols: 41\n"
     ]
    },
    {
     "data": {
      "text/html": [
       "<div>\n",
       "<style scoped>\n",
       "    .dataframe tbody tr th:only-of-type {\n",
       "        vertical-align: middle;\n",
       "    }\n",
       "\n",
       "    .dataframe tbody tr th {\n",
       "        vertical-align: top;\n",
       "    }\n",
       "\n",
       "    .dataframe thead th {\n",
       "        text-align: right;\n",
       "    }\n",
       "</style>\n",
       "<table border=\"1\" class=\"dataframe\">\n",
       "  <thead>\n",
       "    <tr style=\"text-align: right;\">\n",
       "      <th></th>\n",
       "      <th>word</th>\n",
       "      <th>tag</th>\n",
       "    </tr>\n",
       "  </thead>\n",
       "  <tbody>\n",
       "    <tr>\n",
       "      <th>13</th>\n",
       "      <td>oтъпква</td>\n",
       "      <td>V</td>\n",
       "    </tr>\n",
       "    <tr>\n",
       "      <th>14</th>\n",
       "      <td>oтъпквай</td>\n",
       "      <td>V</td>\n",
       "    </tr>\n",
       "    <tr>\n",
       "      <th>15</th>\n",
       "      <td>oтъпквайки</td>\n",
       "      <td>V</td>\n",
       "    </tr>\n",
       "    <tr>\n",
       "      <th>16</th>\n",
       "      <td>oтъпквайте</td>\n",
       "      <td>V</td>\n",
       "    </tr>\n",
       "    <tr>\n",
       "      <th>17</th>\n",
       "      <td>oтъпквал</td>\n",
       "      <td>V</td>\n",
       "    </tr>\n",
       "  </tbody>\n",
       "</table>\n",
       "</div>"
      ],
      "text/plain": [
       "          word tag\n",
       "13     oтъпква   V\n",
       "14    oтъпквай   V\n",
       "15  oтъпквайки   V\n",
       "16  oтъпквайте   V\n",
       "17    oтъпквал   V"
      ]
     },
     "execution_count": 14,
     "metadata": {},
     "output_type": "execute_result"
    }
   ],
   "source": [
    "# Print words that contain latin symbols\n",
    "latin_words = words_df[words_df['word'].str.contains(r'[a-zA-Z]')]\n",
    "print(f\"Number of words with latin symbols: {len(latin_words):,}\")\n",
    "latin_words.head()"
   ]
  },
  {
   "cell_type": "markdown",
   "id": "b1770070",
   "metadata": {},
   "source": [
    "* **OBSERVATION**: Again, the same data pollution found in `Chitanka` set propagates here."
   ]
  },
  {
   "cell_type": "code",
   "execution_count": 15,
   "id": "b3679f31",
   "metadata": {},
   "outputs": [
    {
     "name": "stdout",
     "output_type": "stream",
     "text": [
      "Number of words with latin symbols: 0\n"
     ]
    }
   ],
   "source": [
    "# Replace latin `o` with cyrillic `о`\n",
    "words_df[\"word\"] = words_df[\"word\"].str.replace(\"o\", \"о\")\n",
    "# Check again for latin symbols\n",
    "print(f\"Number of words with latin symbols: {len(words_df[words_df['word'].str.contains(r'[a-zA-Z]')]):,}\")"
   ]
  },
  {
   "cell_type": "markdown",
   "id": "fbb06309",
   "metadata": {},
   "source": [
    "## 8. Remove punctuation & digits"
   ]
  },
  {
   "cell_type": "code",
   "execution_count": 16,
   "id": "58179470",
   "metadata": {},
   "outputs": [
    {
     "data": {
      "text/html": [
       "<div>\n",
       "<style scoped>\n",
       "    .dataframe tbody tr th:only-of-type {\n",
       "        vertical-align: middle;\n",
       "    }\n",
       "\n",
       "    .dataframe tbody tr th {\n",
       "        vertical-align: top;\n",
       "    }\n",
       "\n",
       "    .dataframe thead th {\n",
       "        text-align: right;\n",
       "    }\n",
       "</style>\n",
       "<table border=\"1\" class=\"dataframe\">\n",
       "  <thead>\n",
       "    <tr style=\"text-align: right;\">\n",
       "      <th></th>\n",
       "      <th>word</th>\n",
       "      <th>tag</th>\n",
       "    </tr>\n",
       "  </thead>\n",
       "  <tbody>\n",
       "    <tr>\n",
       "      <th>79</th>\n",
       "      <td>зам.</td>\n",
       "      <td>NaN</td>\n",
       "    </tr>\n",
       "  </tbody>\n",
       "</table>\n",
       "</div>"
      ],
      "text/plain": [
       "    word  tag\n",
       "79  зам.  NaN"
      ]
     },
     "execution_count": 16,
     "metadata": {},
     "output_type": "execute_result"
    }
   ],
   "source": [
    "# Is there words with anything different than letters?\n",
    "words_df[words_df['word'].str.contains(r'[^\\w]')]"
   ]
  },
  {
   "cell_type": "code",
   "execution_count": 17,
   "id": "1b89adf9",
   "metadata": {},
   "outputs": [
    {
     "name": "stdout",
     "output_type": "stream",
     "text": [
      "Total words count (after removing punctuation & digits): 1,132,354\n"
     ]
    }
   ],
   "source": [
    "# Remove that word containing punctuation or digits\n",
    "words_df = words_df[~words_df['word'].str.contains(r'[^\\w]')]\n",
    "print(f\"Total words count (after removing punctuation & digits): {len(words_df):,}\")"
   ]
  },
  {
   "cell_type": "markdown",
   "id": "17b114d8",
   "metadata": {},
   "source": [
    "## 9. Remove duplicates"
   ]
  },
  {
   "cell_type": "code",
   "execution_count": 18,
   "id": "3a6aeda9",
   "metadata": {},
   "outputs": [
    {
     "name": "stdout",
     "output_type": "stream",
     "text": [
      "Total words count (after removing duplicates): 1,112,864\n"
     ]
    }
   ],
   "source": [
    "# Remove duplicated words\n",
    "words_df = words_df.drop_duplicates(subset=['word'])\n",
    "print(f\"Total words count (after removing duplicates): {len(words_df):,}\")"
   ]
  },
  {
   "cell_type": "markdown",
   "id": "e26a84e8",
   "metadata": {},
   "source": [
    "* **OBSERVATION**: Hmm, very little duplicates. This is not expected for a PoS-tagged dataset, where same word is expected to have multiple PoS tags - respectively multiple records in the set (e.g. `син` noun & `син` adjective)."
   ]
  },
  {
   "cell_type": "markdown",
   "id": "51a28f52",
   "metadata": {},
   "source": [
    "## 10. Length distribution"
   ]
  },
  {
   "cell_type": "code",
   "execution_count": 19,
   "id": "830ef195",
   "metadata": {},
   "outputs": [
    {
     "data": {
      "image/png": "[encoded data removed]",
      "text/plain": [
       "<Figure size 640x480 with 1 Axes>"
      ]
     },
     "metadata": {},
     "output_type": "display_data"
    }
   ],
   "source": [
    "word_lengths = words_df['word'].str.len()\n",
    "mean_length = word_lengths.mean()\n",
    "median_length = word_lengths.median()\n",
    "word_longest = word_lengths.max()\n",
    "plt.hist(word_lengths, bins=word_longest)\n",
    "plt.axvline(median_length, color='black', linestyle='dashed', linewidth=1)\n",
    "plt.axvline(mean_length, color='red', linestyle='dashed', linewidth=1)\n",
    "plt.legend(['Median', 'Mean'])\n",
    "plt.xlabel('Word Length')\n",
    "plt.ylabel('Frequency')\n",
    "plt.title(f'Longest word length: {word_longest}, Median: {median_length:.0f}, Mean: {mean_length:.1f}')\n",
    "plt.xticks([1, 5, 10, 15, 20, 25, 30, 35, 40])\n",
    "plt.xlim(0, 40)\n",
    "plt.show()"
   ]
  },
  {
   "cell_type": "markdown",
   "id": "2f5bc46b",
   "metadata": {},
   "source": [
    "* **OBSERVATION**: Not suprisingly, the length distribution is almost identical to the `Chitanka` one."
   ]
  },
  {
   "cell_type": "markdown",
   "id": "8a4d9896",
   "metadata": {},
   "source": [
    "## 11. Merge with vocabulary\n",
    "\n",
    "So far, we had `1 228 258` unique valid Bulgarian words in our vocabulary. Let's see what will be the merged set size."
   ]
  },
  {
   "cell_type": "code",
   "execution_count": 20,
   "id": "1f548483",
   "metadata": {},
   "outputs": [
    {
     "name": "stdout",
     "output_type": "stream",
     "text": [
      "Number of words in vocabulary: 1,228,258\n",
      "Number of words in vocabulary (after merge): 1,228,263\n",
      "['гаче', 'ний', 'николко', 'подръка', 'сбогом']\n"
     ]
    }
   ],
   "source": [
    "# Read our vocabulary\n",
    "vocab_df = pd.read_csv('data/words.txt.gz', encoding='windows-1251', header=None, compression='gzip')\n",
    "vocab_set = set(vocab_df[0].tolist())\n",
    "print(f\"Number of words in vocabulary: {len(vocab_set):,}\")\n",
    "\n",
    "# Current set\n",
    "bg_dict_words_set = set(words_df['word'].tolist())\n",
    "\n",
    "# Let's merge the two sets\n",
    "merged_vocab_set = vocab_set.union(bg_dict_words_set)\n",
    "print(f\"Number of words in vocabulary (after merge): {len(merged_vocab_set):,}\")\n",
    "\n",
    "# Print the new words\n",
    "print(sorted(merged_vocab_set - vocab_set))"
   ]
  },
  {
   "cell_type": "markdown",
   "id": "7c3e9b27",
   "metadata": {},
   "source": [
    "* **OBSERVATION**: Unfortunately, but not suprisingly, we augment our vocabulary only with `5` new words. Current set, didn't bring us a lot of value. Probably, it could be more useful in our next project (augmenting the vocabulary items with PoS tags)."
   ]
  },
  {
   "cell_type": "code",
   "execution_count": 21,
   "id": "c9525039",
   "metadata": {},
   "outputs": [
    {
     "name": "stdout",
     "output_type": "stream",
     "text": [
      "Number of words written to file: 1,228,263\n"
     ]
    }
   ],
   "source": [
    "# Sort and dump the new vocabulary\n",
    "words = sorted(list(merged_vocab_set))\n",
    "with open('data/words.txt', 'w', encoding='windows-1251') as f:\n",
    "    for word in words:\n",
    "        f.write(word + '\\n')\n",
    "\n",
    "# Convert to gzip\n",
    "with open('data/words.txt', 'rb') as f_in:\n",
    "    with gzip.open('data/words.txt.gz', 'wb') as f_out:\n",
    "        f_out.writelines(f_in)\n",
    "\n",
    "# Remove the original file\n",
    "os.remove('data/words.txt')\n",
    "\n",
    "print(f\"Number of words written to file: {len(words):,}\")"
   ]
  }
 ],
 "metadata": {
  "kernelspec": {
   "display_name": "Python 3",
   "language": "python",
   "name": "python3"
  },
  "language_info": {
   "codemirror_mode": {
    "name": "ipython",
    "version": 3
   },
   "file_extension": ".py",
   "mimetype": "text/x-python",
   "name": "python",
   "nbconvert_exporter": "python",
   "pygments_lexer": "ipython3",
   "version": "3.12.10"
  }
 },
 "nbformat": 4,
 "nbformat_minor": 5
}
