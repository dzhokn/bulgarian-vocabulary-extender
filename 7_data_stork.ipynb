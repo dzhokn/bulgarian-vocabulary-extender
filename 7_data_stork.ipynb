{
 "cells": [
  {
   "cell_type": "code",
   "execution_count": 1,
   "id": "9f9f27f2",
   "metadata": {},
   "outputs": [],
   "source": [
    "import os\n",
    "import gzip\n",
    "import bisect\n",
    "import itertools\n",
    "import pandas as pd\n",
    "import matplotlib.pyplot as plt\n",
    "import numpy as np"
   ]
  },
  {
   "cell_type": "markdown",
   "id": "c5f8bb8f",
   "metadata": {},
   "source": [
    "## 1. Load data\n",
    "\n",
    "* **Source**: Project Stork (private repo)\n",
    "\n",
    "We will have more cleaning efforts here, because the set of words is generated automatically by parsing web sites, books, chats and forums (a lot of noise exists).\n",
    "\n",
    "#### Data gathering\n",
    "A private dataset of Bulgarian texts have been created. \n",
    "\n",
    "It corpus contains:\n",
    "* `700M` sentences\n",
    "* `3B` words\n",
    "\n",
    "The texts have been fetched from different sources:\n",
    "* books (literature)\n",
    "* news, websites (formal language)\n",
    "* chats/forums (informal language)\n",
    "\n",
    "The set is not balanced in terms of formal vs casual speech, but at least it is highly heterogeneous.\n",
    "\n",
    "After parsing all the documents and the sentences in them, all unique words have been TF-IDF-scored. In result we came up with a `ranking of 10M` unique Bulgarian words. The **first 10%** of the list (**highest TF-IDF scores**) will be loaded here.\n",
    "\n",
    "\n",
    "<center><img src=\"img/stork_data_pipeline.png\" alt=\"Two weighted dices\" width=\"1236\" height=\"633\" /></center>\n",
    "<p style=\"text-align: center; font-size: small;\"><i><b>Figure 1.</b> Project Stork Data Pipeline </i></p>"
   ]
  },
  {
   "cell_type": "markdown",
   "id": "3865471e",
   "metadata": {},
   "source": [
    "The TF-IDF score has been calculated by custom formula:\n",
    "$$ TF\\_IDF = TF * IDF $$\n",
    "where\n",
    "$$ TF = log(1 + CORPUS\\_FREQ) $$\n",
    "$$ CORPUS\\_FREQ = \\sum_{i=1}^{\\text{\\# of sent}} { \\text{SENT\\_FREQ} } $$\n",
    "$$ SENT\\_FREQ = \\frac{\\text{word ocurrences in sentence}}{\\text{\\# of words in sentence}} $$\n",
    "and\n",
    "$$ IDF = log(\\frac{\\text{total \\# of sentences}}{\\text{\\# of sentences containing the word}} ) $$\n",
    "\n",
    "---\n",
    "\n",
    "**Example**: `ти си мое дете и мое слънце`.\n",
    "$$ SENT\\_FREQ(\\text{мое}) = 2 / 7 = 0.286$$\n",
    "\n",
    "The corpus frequency is basically the sum of all *sentence frequencies*.\n",
    "\n",
    "$$ CORPUS\\_FREQ(\\text{мое}) = 0.286 + 0 + 0.09 + ... + 0 = 43,741.604 $$\n",
    "\n",
    "$$ TF = log(1 + 43,741.604) = 4.64$$\n",
    " \n",
    "$$ IDF(\\text{мое}) = log(\\frac{700,000,000}{200,000}) = 3.5$$\n",
    "\n",
    "$$ TF\\_IDF = 4.64 * 3.5 = 16.24 $$\n",
    "\n",
    "---\n",
    "After calculating all $TF\\_IDF$ scores, we normalize them to fit into $[0, 1]$ range:\n",
    "$$ \\text{normalized\\_score} = \\frac{\\text{score} - \\text{min\\_score}} {\\text{max\\_score} - \\text{min\\_score}} $$\n",
    "where $\\text{max\\_score}$ and $ \\text{min\\_score}$ are the maximum and minimum scores for the whole set of words."
   ]
  },
  {
   "cell_type": "code",
   "execution_count": 2,
   "id": "88df2af7",
   "metadata": {},
   "outputs": [
    {
     "name": "stdout",
     "output_type": "stream",
     "text": [
      "Total words count: 1,294,882\n"
     ]
    },
    {
     "data": {
      "text/html": [
       "<div>\n",
       "<style scoped>\n",
       "    .dataframe tbody tr th:only-of-type {\n",
       "        vertical-align: middle;\n",
       "    }\n",
       "\n",
       "    .dataframe tbody tr th {\n",
       "        vertical-align: top;\n",
       "    }\n",
       "\n",
       "    .dataframe thead th {\n",
       "        text-align: right;\n",
       "    }\n",
       "</style>\n",
       "<table border=\"1\" class=\"dataframe\">\n",
       "  <thead>\n",
       "    <tr style=\"text-align: right;\">\n",
       "      <th></th>\n",
       "      <th>word</th>\n",
       "      <th>tfidf</th>\n",
       "    </tr>\n",
       "    <tr>\n",
       "      <th>id</th>\n",
       "      <th></th>\n",
       "      <th></th>\n",
       "    </tr>\n",
       "  </thead>\n",
       "  <tbody>\n",
       "    <tr>\n",
       "      <th>0</th>\n",
       "      <td>чекирайте</td>\n",
       "      <td>1.000000</td>\n",
       "    </tr>\n",
       "    <tr>\n",
       "      <th>1</th>\n",
       "      <td>посетен</td>\n",
       "      <td>0.975713</td>\n",
       "    </tr>\n",
       "    <tr>\n",
       "      <th>2</th>\n",
       "      <td>предавателно</td>\n",
       "      <td>0.969000</td>\n",
       "    </tr>\n",
       "    <tr>\n",
       "      <th>3</th>\n",
       "      <td>чекирал</td>\n",
       "      <td>0.965638</td>\n",
       "    </tr>\n",
       "    <tr>\n",
       "      <th>4</th>\n",
       "      <td>намръщи</td>\n",
       "      <td>0.956391</td>\n",
       "    </tr>\n",
       "    <tr>\n",
       "      <th>5</th>\n",
       "      <td>сигнализиран</td>\n",
       "      <td>0.952446</td>\n",
       "    </tr>\n",
       "    <tr>\n",
       "      <th>6</th>\n",
       "      <td>поклати</td>\n",
       "      <td>0.945294</td>\n",
       "    </tr>\n",
       "    <tr>\n",
       "      <th>7</th>\n",
       "      <td>изсмя</td>\n",
       "      <td>0.945094</td>\n",
       "    </tr>\n",
       "    <tr>\n",
       "      <th>8</th>\n",
       "      <td>изсумтя</td>\n",
       "      <td>0.945068</td>\n",
       "    </tr>\n",
       "    <tr>\n",
       "      <th>9</th>\n",
       "      <td>ухили</td>\n",
       "      <td>0.942480</td>\n",
       "    </tr>\n",
       "  </tbody>\n",
       "</table>\n",
       "</div>"
      ],
      "text/plain": [
       "            word     tfidf\n",
       "id                        \n",
       "0      чекирайте  1.000000\n",
       "1        посетен  0.975713\n",
       "2   предавателно  0.969000\n",
       "3        чекирал  0.965638\n",
       "4        намръщи  0.956391\n",
       "5   сигнализиран  0.952446\n",
       "6        поклати  0.945294\n",
       "7          изсмя  0.945094\n",
       "8        изсумтя  0.945068\n",
       "9          ухили  0.942480"
      ]
     },
     "execution_count": 2,
     "metadata": {},
     "output_type": "execute_result"
    }
   ],
   "source": [
    "# Read the csv file in the gzip archive\n",
    "words_df = pd.read_csv('data/6_project_stork.csv.gz', encoding='windows-1251', compression='gzip', header=None, names=['word', 'tfidf'])\n",
    "words_df.index.name = 'id'\n",
    "print(f\"Total words count: {len(words_df):,}\")\n",
    "words_df.head(10)"
   ]
  },
  {
   "cell_type": "code",
   "execution_count": 3,
   "id": "bab19e10",
   "metadata": {},
   "outputs": [
    {
     "data": {
      "text/html": [
       "<div>\n",
       "<style scoped>\n",
       "    .dataframe tbody tr th:only-of-type {\n",
       "        vertical-align: middle;\n",
       "    }\n",
       "\n",
       "    .dataframe tbody tr th {\n",
       "        vertical-align: top;\n",
       "    }\n",
       "\n",
       "    .dataframe thead th {\n",
       "        text-align: right;\n",
       "    }\n",
       "</style>\n",
       "<table border=\"1\" class=\"dataframe\">\n",
       "  <thead>\n",
       "    <tr style=\"text-align: right;\">\n",
       "      <th></th>\n",
       "      <th>word</th>\n",
       "      <th>tfidf</th>\n",
       "    </tr>\n",
       "    <tr>\n",
       "      <th>id</th>\n",
       "      <th></th>\n",
       "      <th></th>\n",
       "    </tr>\n",
       "  </thead>\n",
       "  <tbody>\n",
       "    <tr>\n",
       "      <th>202222</th>\n",
       "      <td>порядъчността</td>\n",
       "      <td>0.611263</td>\n",
       "    </tr>\n",
       "    <tr>\n",
       "      <th>113831</th>\n",
       "      <td>марксистите</td>\n",
       "      <td>0.719292</td>\n",
       "    </tr>\n",
       "    <tr>\n",
       "      <th>141524</th>\n",
       "      <td>траела</td>\n",
       "      <td>0.683011</td>\n",
       "    </tr>\n",
       "    <tr>\n",
       "      <th>1082253</th>\n",
       "      <td>копейкиновата</td>\n",
       "      <td>0.182805</td>\n",
       "    </tr>\n",
       "    <tr>\n",
       "      <th>644463</th>\n",
       "      <td>квантиферон</td>\n",
       "      <td>0.302815</td>\n",
       "    </tr>\n",
       "    <tr>\n",
       "      <th>1180346</th>\n",
       "      <td>некомбиниран</td>\n",
       "      <td>0.166392</td>\n",
       "    </tr>\n",
       "    <tr>\n",
       "      <th>146317</th>\n",
       "      <td>келоиди</td>\n",
       "      <td>0.677003</td>\n",
       "    </tr>\n",
       "    <tr>\n",
       "      <th>20834</th>\n",
       "      <td>спирулина</td>\n",
       "      <td>0.843280</td>\n",
       "    </tr>\n",
       "    <tr>\n",
       "      <th>677871</th>\n",
       "      <td>слипстрийм</td>\n",
       "      <td>0.289614</td>\n",
       "    </tr>\n",
       "    <tr>\n",
       "      <th>359843</th>\n",
       "      <td>безстепенното</td>\n",
       "      <td>0.463928</td>\n",
       "    </tr>\n",
       "  </tbody>\n",
       "</table>\n",
       "</div>"
      ],
      "text/plain": [
       "                  word     tfidf\n",
       "id                              \n",
       "202222   порядъчността  0.611263\n",
       "113831     марксистите  0.719292\n",
       "141524          траела  0.683011\n",
       "1082253  копейкиновата  0.182805\n",
       "644463     квантиферон  0.302815\n",
       "1180346   некомбиниран  0.166392\n",
       "146317         келоиди  0.677003\n",
       "20834        спирулина  0.843280\n",
       "677871      слипстрийм  0.289614\n",
       "359843   безстепенното  0.463928"
      ]
     },
     "execution_count": 3,
     "metadata": {},
     "output_type": "execute_result"
    }
   ],
   "source": [
    "words_df.sample(10)"
   ]
  },
  {
   "cell_type": "markdown",
   "id": "50fb336f",
   "metadata": {},
   "source": [
    "* **OBSERVATION**: Invalid words can be easily detected in the lower part of the ranking (probably, below score `0.5`). We need to test somehow where is the border line, i.e. where the first invalid word occur and how the % of invalid units changes after going down the ranking."
   ]
  },
  {
   "cell_type": "markdown",
   "id": "d6cbb16f",
   "metadata": {},
   "source": [
    "## 2. Spaced words"
   ]
  },
  {
   "cell_type": "code",
   "execution_count": 4,
   "id": "439ce59a",
   "metadata": {},
   "outputs": [
    {
     "name": "stdout",
     "output_type": "stream",
     "text": [
      "Number of spaced words: 0\n"
     ]
    }
   ],
   "source": [
    "spaced_words = words_df[words_df['word'].str.contains(\" \")]\n",
    "print(f\"Number of spaced words: {len(spaced_words):,}\")"
   ]
  },
  {
   "cell_type": "markdown",
   "id": "357eea8e",
   "metadata": {},
   "source": [
    "* **OBSERVATION**: There are no spaces words, which is expected, knowing how the word-split has been performed in Stork Data Pipeline."
   ]
  },
  {
   "cell_type": "markdown",
   "id": "a645b318",
   "metadata": {},
   "source": [
    "## 3. Dashed words"
   ]
  },
  {
   "cell_type": "code",
   "execution_count": 5,
   "id": "63252d4f",
   "metadata": {},
   "outputs": [
    {
     "name": "stdout",
     "output_type": "stream",
     "text": [
      "Number of dashed words: 0\n"
     ]
    }
   ],
   "source": [
    "dashed_words = words_df[words_df['word'].str.contains(\"-\")]\n",
    "print(f\"Number of dashed words: {len(dashed_words):,}\")"
   ]
  },
  {
   "cell_type": "markdown",
   "id": "5eee4098",
   "metadata": {},
   "source": [
    "* **OBSERVATION**: There are no dashed words. Again - expected."
   ]
  },
  {
   "cell_type": "markdown",
   "id": "c352c72a",
   "metadata": {},
   "source": [
    "## 4. Capitalized words (names)"
   ]
  },
  {
   "cell_type": "code",
   "execution_count": 6,
   "id": "20452de4",
   "metadata": {},
   "outputs": [
    {
     "name": "stdout",
     "output_type": "stream",
     "text": [
      "Number of names: 0\n"
     ]
    }
   ],
   "source": [
    "# Extract all names that start with a capital letter\n",
    "names_df = words_df[words_df['word'].str.match(r'^[А-Я]')]\n",
    "print(f\"Number of names: {len(names_df):,}\")"
   ]
  },
  {
   "cell_type": "markdown",
   "id": "c04b4c08",
   "metadata": {},
   "source": [
    "* **OBSERVATION**: There are no capitalized words. Expected."
   ]
  },
  {
   "cell_type": "markdown",
   "id": "4ee015fd",
   "metadata": {},
   "source": [
    "## 5. Latin symbols"
   ]
  },
  {
   "cell_type": "code",
   "execution_count": 7,
   "id": "46a86008",
   "metadata": {},
   "outputs": [
    {
     "name": "stdout",
     "output_type": "stream",
     "text": [
      "Number of words with latin symbols: 0\n"
     ]
    }
   ],
   "source": [
    "# Print words that contain latin symbols\n",
    "latin_words = words_df[words_df['word'].str.contains(r'[a-zA-Z]')]\n",
    "print(f\"Number of words with latin symbols: {len(latin_words):,}\")"
   ]
  },
  {
   "cell_type": "markdown",
   "id": "b554930b",
   "metadata": {},
   "source": [
    "* **OBSERVATION**: There are no latin symbols. Expected."
   ]
  },
  {
   "cell_type": "markdown",
   "id": "d4bee8a2",
   "metadata": {},
   "source": [
    "## 6. Punctuation & digits"
   ]
  },
  {
   "cell_type": "code",
   "execution_count": 8,
   "id": "87689f31",
   "metadata": {},
   "outputs": [
    {
     "name": "stdout",
     "output_type": "stream",
     "text": [
      "Number of words with anything different than letters: 0\n"
     ]
    }
   ],
   "source": [
    "# Is there words with anything different than letters?\n",
    "print(f\"Number of words with anything different than letters: {words_df[words_df['word'].str.contains(r'[^\\w]')].shape[0]:,}\")"
   ]
  },
  {
   "cell_type": "markdown",
   "id": "b9336ad8",
   "metadata": {},
   "source": [
    "* **OBSERVATION**: No punctuation, nor digits. Expected."
   ]
  },
  {
   "cell_type": "markdown",
   "id": "272d3326",
   "metadata": {},
   "source": [
    "## 7. Duplicates"
   ]
  },
  {
   "cell_type": "code",
   "execution_count": 9,
   "id": "5b24473d",
   "metadata": {},
   "outputs": [
    {
     "name": "stdout",
     "output_type": "stream",
     "text": [
      "Duplicated words: 0\n"
     ]
    }
   ],
   "source": [
    "# Are there duplicated words?\n",
    "print(f\"Duplicated words: {len(words_df[words_df.word.duplicated()]):,}\")"
   ]
  },
  {
   "cell_type": "markdown",
   "id": "f04a320c",
   "metadata": {},
   "source": [
    "* **OBSERVATION**: No duplications either!"
   ]
  },
  {
   "cell_type": "markdown",
   "id": "ce9a52d4",
   "metadata": {},
   "source": [
    "## 8. Length distribution"
   ]
  },
  {
   "cell_type": "code",
   "execution_count": 10,
   "id": "29b13be5",
   "metadata": {},
   "outputs": [
    {
     "data": {
      "image/png": "[encoded data removed]",
      "text/plain": [
       "<Figure size 640x480 with 1 Axes>"
      ]
     },
     "metadata": {},
     "output_type": "display_data"
    }
   ],
   "source": [
    "word_lengths = words_df['word'].str.len()\n",
    "mean_length = word_lengths.mean()\n",
    "median_length = word_lengths.median()\n",
    "word_longest = word_lengths.max()\n",
    "plt.hist(word_lengths, bins=word_longest-1)\n",
    "plt.axvline(median_length, color='black', linestyle='dashed', linewidth=1)\n",
    "plt.axvline(mean_length, color='red', linestyle='dashed', linewidth=1)\n",
    "plt.legend(['Median', 'Mean'])\n",
    "plt.xlabel('Word Length')\n",
    "plt.ylabel('Frequency')\n",
    "plt.title(f'Longest word length: {word_longest}, Median: {median_length:.0f}, Mean: {mean_length:.1f}')\n",
    "plt.xticks([1, 5, 10, 15, 20, 25, 30, 35, 40])\n",
    "plt.xlim(0, 40)\n",
    "plt.show()"
   ]
  },
  {
   "cell_type": "markdown",
   "id": "73820eb1",
   "metadata": {},
   "source": [
    "* **OBSERVATION**: The mean and the median looks consistent with the other datasets. However, the longest word surpass the longest word in Bulgarian language (`непротивоконституционствувателствувалият`) which has 40 letters.\n",
    "\n",
    "\n",
    "Let's see check these long words."
   ]
  },
  {
   "cell_type": "code",
   "execution_count": 11,
   "id": "e8287683",
   "metadata": {},
   "outputs": [
    {
     "name": "stdout",
     "output_type": "stream",
     "text": [
      "Number of 41+ letter words: 47\n"
     ]
    },
    {
     "data": {
      "text/html": [
       "<div>\n",
       "<style scoped>\n",
       "    .dataframe tbody tr th:only-of-type {\n",
       "        vertical-align: middle;\n",
       "    }\n",
       "\n",
       "    .dataframe tbody tr th {\n",
       "        vertical-align: top;\n",
       "    }\n",
       "\n",
       "    .dataframe thead th {\n",
       "        text-align: right;\n",
       "    }\n",
       "</style>\n",
       "<table border=\"1\" class=\"dataframe\">\n",
       "  <thead>\n",
       "    <tr style=\"text-align: right;\">\n",
       "      <th></th>\n",
       "      <th>word</th>\n",
       "      <th>tfidf</th>\n",
       "    </tr>\n",
       "    <tr>\n",
       "      <th>id</th>\n",
       "      <th></th>\n",
       "      <th></th>\n",
       "    </tr>\n",
       "  </thead>\n",
       "  <tbody>\n",
       "    <tr>\n",
       "      <th>1151670</th>\n",
       "      <td>каталогконтактигалерииизвестникизвестиядоктора...</td>\n",
       "      <td>0.170978</td>\n",
       "    </tr>\n",
       "    <tr>\n",
       "      <th>733940</th>\n",
       "      <td>стопанствоорганизацииенергетикаинформационни</td>\n",
       "      <td>0.269680</td>\n",
       "    </tr>\n",
       "    <tr>\n",
       "      <th>1140484</th>\n",
       "      <td>машинателевизордушотоплениехладилниккухняпералня</td>\n",
       "      <td>0.172829</td>\n",
       "    </tr>\n",
       "    <tr>\n",
       "      <th>327906</th>\n",
       "      <td>наименованиестилстандартниенергоспестяващимогат</td>\n",
       "      <td>0.489782</td>\n",
       "    </tr>\n",
       "    <tr>\n",
       "      <th>983722</th>\n",
       "      <td>албумпеснисинглитурнеобложкиизданиятекстове</td>\n",
       "      <td>0.202145</td>\n",
       "    </tr>\n",
       "    <tr>\n",
       "      <th>1027273</th>\n",
       "      <td>градовебанскоямболхасковоблагоевградврацавидин...</td>\n",
       "      <td>0.193205</td>\n",
       "    </tr>\n",
       "    <tr>\n",
       "      <th>665426</th>\n",
       "      <td>пресимазниниотслабванетренировкаупражненияупра...</td>\n",
       "      <td>0.294376</td>\n",
       "    </tr>\n",
       "    <tr>\n",
       "      <th>1054348</th>\n",
       "      <td>началоексклузивнокалейдоскопрелигияздраве</td>\n",
       "      <td>0.187956</td>\n",
       "    </tr>\n",
       "    <tr>\n",
       "      <th>1208722</th>\n",
       "      <td>засегнатоотвременнитепротивоепидемичнимерки</td>\n",
       "      <td>0.162082</td>\n",
       "    </tr>\n",
       "    <tr>\n",
       "      <th>997955</th>\n",
       "      <td>новидетскидрехипродуктииаксесоаризавсичкивъзрасти</td>\n",
       "      <td>0.199169</td>\n",
       "    </tr>\n",
       "    <tr>\n",
       "      <th>855795</th>\n",
       "      <td>маслаизмамиизследванияимунитетинфекциилюбопитни</td>\n",
       "      <td>0.232828</td>\n",
       "    </tr>\n",
       "    <tr>\n",
       "      <th>1119446</th>\n",
       "      <td>седмицататехнологиипредстоящосъбитиятаобществени</td>\n",
       "      <td>0.176232</td>\n",
       "    </tr>\n",
       "    <tr>\n",
       "      <th>1136146</th>\n",
       "      <td>продължавайдавършишпродължавайдавършишпродължавай</td>\n",
       "      <td>0.173403</td>\n",
       "    </tr>\n",
       "    <tr>\n",
       "      <th>635506</th>\n",
       "      <td>наименованиестилмодерниенергоспестяващимогат</td>\n",
       "      <td>0.306539</td>\n",
       "    </tr>\n",
       "    <tr>\n",
       "      <th>727577</th>\n",
       "      <td>цивилизацииизкуствомедицинаокултизъмприрода</td>\n",
       "      <td>0.271802</td>\n",
       "    </tr>\n",
       "    <tr>\n",
       "      <th>1122999</th>\n",
       "      <td>когатовстариятдомнагерацитесацарувалисговор</td>\n",
       "      <td>0.175606</td>\n",
       "    </tr>\n",
       "    <tr>\n",
       "      <th>1137907</th>\n",
       "      <td>машинателевизордушотоплениехладилникговорими</td>\n",
       "      <td>0.173266</td>\n",
       "    </tr>\n",
       "    <tr>\n",
       "      <th>1077922</th>\n",
       "      <td>гликозаминогликаниеластинепидермисживотъткожак...</td>\n",
       "      <td>0.183587</td>\n",
       "    </tr>\n",
       "    <tr>\n",
       "      <th>750513</th>\n",
       "      <td>сепосланиябременносткариериздравеотдалекозагад...</td>\n",
       "      <td>0.264116</td>\n",
       "    </tr>\n",
       "    <tr>\n",
       "      <th>1267634</th>\n",
       "      <td>критериизаоценяванепогражданскообразование</td>\n",
       "      <td>0.153653</td>\n",
       "    </tr>\n",
       "  </tbody>\n",
       "</table>\n",
       "</div>"
      ],
      "text/plain": [
       "                                                      word     tfidf\n",
       "id                                                                  \n",
       "1151670  каталогконтактигалерииизвестникизвестиядоктора...  0.170978\n",
       "733940        стопанствоорганизацииенергетикаинформационни  0.269680\n",
       "1140484   машинателевизордушотоплениехладилниккухняпералня  0.172829\n",
       "327906     наименованиестилстандартниенергоспестяващимогат  0.489782\n",
       "983722         албумпеснисинглитурнеобложкиизданиятекстове  0.202145\n",
       "1027273  градовебанскоямболхасковоблагоевградврацавидин...  0.193205\n",
       "665426   пресимазниниотслабванетренировкаупражненияупра...  0.294376\n",
       "1054348          началоексклузивнокалейдоскопрелигияздраве  0.187956\n",
       "1208722        засегнатоотвременнитепротивоепидемичнимерки  0.162082\n",
       "997955   новидетскидрехипродуктииаксесоаризавсичкивъзрасти  0.199169\n",
       "855795     маслаизмамиизследванияимунитетинфекциилюбопитни  0.232828\n",
       "1119446   седмицататехнологиипредстоящосъбитиятаобществени  0.176232\n",
       "1136146  продължавайдавършишпродължавайдавършишпродължавай  0.173403\n",
       "635506        наименованиестилмодерниенергоспестяващимогат  0.306539\n",
       "727577         цивилизацииизкуствомедицинаокултизъмприрода  0.271802\n",
       "1122999        когатовстариятдомнагерацитесацарувалисговор  0.175606\n",
       "1137907       машинателевизордушотоплениехладилникговорими  0.173266\n",
       "1077922  гликозаминогликаниеластинепидермисживотъткожак...  0.183587\n",
       "750513   сепосланиябременносткариериздравеотдалекозагад...  0.264116\n",
       "1267634         критериизаоценяванепогражданскообразование  0.153653"
      ]
     },
     "execution_count": 11,
     "metadata": {},
     "output_type": "execute_result"
    }
   ],
   "source": [
    "# Print the longest words\n",
    "fourty_one_plus_letter_words = words_df[words_df['word'].str.len() >= 41]\n",
    "print(f\"Number of 41+ letter words: {len(fourty_one_plus_letter_words):,}\")\n",
    "fourty_one_plus_letter_words.sample(20)"
   ]
  },
  {
   "cell_type": "markdown",
   "id": "a22c57bf",
   "metadata": {},
   "source": [
    "* **OBSERVATION**: As expected, these are invalid words. Some of them contain 1 or 2 letters only (these are easy to be identified). Others are simply created by stitching multiple valid words."
   ]
  },
  {
   "cell_type": "code",
   "execution_count": 12,
   "id": "7c61f003",
   "metadata": {},
   "outputs": [
    {
     "name": "stdout",
     "output_type": "stream",
     "text": [
      "Number of words after removing words with 41+ letters: 1,294,835\n"
     ]
    }
   ],
   "source": [
    "# Firstly, we can safely remove all words with 41+ letters\n",
    "words_df = words_df[words_df['word'].str.len() < 41]\n",
    "print(f\"Number of words after removing words with 41+ letters: {len(words_df):,}\")"
   ]
  },
  {
   "cell_type": "markdown",
   "id": "cc9a2332",
   "metadata": {},
   "source": [
    "## 9. Remove same-letter words"
   ]
  },
  {
   "cell_type": "code",
   "execution_count": 13,
   "id": "6ee4566b",
   "metadata": {},
   "outputs": [
    {
     "name": "stderr",
     "output_type": "stream",
     "text": [
      "C:\\Users\\mdzho\\AppData\\Local\\Temp\\ipykernel_8028\\4107147024.py:2: UserWarning: This pattern is interpreted as a regular expression, and has match groups. To actually get the groups, use str.extract.\n",
      "  three_letter_words_df = words_df[words_df['word'].str.contains(r'(\\w)\\1{2}')]\n"
     ]
    },
    {
     "name": "stdout",
     "output_type": "stream",
     "text": [
      "Number of words with the same letter three times: 8,157\n"
     ]
    },
    {
     "data": {
      "text/html": [
       "<div>\n",
       "<style scoped>\n",
       "    .dataframe tbody tr th:only-of-type {\n",
       "        vertical-align: middle;\n",
       "    }\n",
       "\n",
       "    .dataframe tbody tr th {\n",
       "        vertical-align: top;\n",
       "    }\n",
       "\n",
       "    .dataframe thead th {\n",
       "        text-align: right;\n",
       "    }\n",
       "</style>\n",
       "<table border=\"1\" class=\"dataframe\">\n",
       "  <thead>\n",
       "    <tr style=\"text-align: right;\">\n",
       "      <th></th>\n",
       "      <th>word</th>\n",
       "      <th>tfidf</th>\n",
       "    </tr>\n",
       "    <tr>\n",
       "      <th>id</th>\n",
       "      <th></th>\n",
       "      <th></th>\n",
       "    </tr>\n",
       "  </thead>\n",
       "  <tbody>\n",
       "    <tr>\n",
       "      <th>1494</th>\n",
       "      <td>ммм</td>\n",
       "      <td>0.879062</td>\n",
       "    </tr>\n",
       "    <tr>\n",
       "      <th>16599</th>\n",
       "      <td>мммм</td>\n",
       "      <td>0.847826</td>\n",
       "    </tr>\n",
       "    <tr>\n",
       "      <th>19054</th>\n",
       "      <td>гооол</td>\n",
       "      <td>0.845165</td>\n",
       "    </tr>\n",
       "    <tr>\n",
       "      <th>36921</th>\n",
       "      <td>мнооооого</td>\n",
       "      <td>0.825439</td>\n",
       "    </tr>\n",
       "    <tr>\n",
       "      <th>38855</th>\n",
       "      <td>лелеее</td>\n",
       "      <td>0.823016</td>\n",
       "    </tr>\n",
       "    <tr>\n",
       "      <th>39066</th>\n",
       "      <td>ххх</td>\n",
       "      <td>0.822723</td>\n",
       "    </tr>\n",
       "    <tr>\n",
       "      <th>41705</th>\n",
       "      <td>иии</td>\n",
       "      <td>0.819420</td>\n",
       "    </tr>\n",
       "    <tr>\n",
       "      <th>42405</th>\n",
       "      <td>ееех</td>\n",
       "      <td>0.818515</td>\n",
       "    </tr>\n",
       "    <tr>\n",
       "      <th>42696</th>\n",
       "      <td>беее</td>\n",
       "      <td>0.818152</td>\n",
       "    </tr>\n",
       "    <tr>\n",
       "      <th>46097</th>\n",
       "      <td>ооооо</td>\n",
       "      <td>0.813527</td>\n",
       "    </tr>\n",
       "    <tr>\n",
       "      <th>47729</th>\n",
       "      <td>нооо</td>\n",
       "      <td>0.811230</td>\n",
       "    </tr>\n",
       "    <tr>\n",
       "      <th>49393</th>\n",
       "      <td>нееее</td>\n",
       "      <td>0.809004</td>\n",
       "    </tr>\n",
       "    <tr>\n",
       "      <th>51779</th>\n",
       "      <td>ммммм</td>\n",
       "      <td>0.805756</td>\n",
       "    </tr>\n",
       "    <tr>\n",
       "      <th>54932</th>\n",
       "      <td>амиии</td>\n",
       "      <td>0.801433</td>\n",
       "    </tr>\n",
       "    <tr>\n",
       "      <th>55216</th>\n",
       "      <td>ейййй</td>\n",
       "      <td>0.801073</td>\n",
       "    </tr>\n",
       "    <tr>\n",
       "      <th>57930</th>\n",
       "      <td>ииии</td>\n",
       "      <td>0.797346</td>\n",
       "    </tr>\n",
       "    <tr>\n",
       "      <th>58008</th>\n",
       "      <td>алооо</td>\n",
       "      <td>0.797222</td>\n",
       "    </tr>\n",
       "    <tr>\n",
       "      <th>59220</th>\n",
       "      <td>такааа</td>\n",
       "      <td>0.795630</td>\n",
       "    </tr>\n",
       "    <tr>\n",
       "      <th>59953</th>\n",
       "      <td>уффф</td>\n",
       "      <td>0.794628</td>\n",
       "    </tr>\n",
       "    <tr>\n",
       "      <th>60145</th>\n",
       "      <td>оххх</td>\n",
       "      <td>0.794391</td>\n",
       "    </tr>\n",
       "  </tbody>\n",
       "</table>\n",
       "</div>"
      ],
      "text/plain": [
       "            word     tfidf\n",
       "id                        \n",
       "1494         ммм  0.879062\n",
       "16599       мммм  0.847826\n",
       "19054      гооол  0.845165\n",
       "36921  мнооооого  0.825439\n",
       "38855     лелеее  0.823016\n",
       "39066        ххх  0.822723\n",
       "41705        иии  0.819420\n",
       "42405       ееех  0.818515\n",
       "42696       беее  0.818152\n",
       "46097      ооооо  0.813527\n",
       "47729       нооо  0.811230\n",
       "49393      нееее  0.809004\n",
       "51779      ммммм  0.805756\n",
       "54932      амиии  0.801433\n",
       "55216      ейййй  0.801073\n",
       "57930       ииии  0.797346\n",
       "58008      алооо  0.797222\n",
       "59220     такааа  0.795630\n",
       "59953       уффф  0.794628\n",
       "60145       оххх  0.794391"
      ]
     },
     "execution_count": 13,
     "metadata": {},
     "output_type": "execute_result"
    }
   ],
   "source": [
    "# Check the words that contain the same letter three times\n",
    "three_letter_words_df = words_df[words_df['word'].str.contains(r'(\\w)\\1{2}')]\n",
    "print(f\"Number of words with the same letter three times: {len(three_letter_words_df):,}\")\n",
    "three_letter_words_df.head(20)"
   ]
  },
  {
   "cell_type": "markdown",
   "id": "94557a92",
   "metadata": {},
   "source": [
    "* **OBSERVATION**: These are incorrectly spelled interjections (междуметия) in spoken language. And these are not valid Bulgarian words.\n",
    "So, we assume that we can safely remove all such words (with 3 consecutive same letters)."
   ]
  },
  {
   "cell_type": "code",
   "execution_count": 14,
   "id": "643b4e72",
   "metadata": {},
   "outputs": [
    {
     "name": "stderr",
     "output_type": "stream",
     "text": [
      "C:\\Users\\mdzho\\AppData\\Local\\Temp\\ipykernel_8028\\1572709988.py:1: UserWarning: This pattern is interpreted as a regular expression, and has match groups. To actually get the groups, use str.extract.\n",
      "  words_df = words_df[~words_df['word'].str.contains(r'(\\w)\\1{2}')]\n"
     ]
    },
    {
     "name": "stdout",
     "output_type": "stream",
     "text": [
      "Number of words after removing words with 3 consecutive same letters: 1,286,678\n"
     ]
    }
   ],
   "source": [
    "words_df = words_df[~words_df['word'].str.contains(r'(\\w)\\1{2}')]\n",
    "print(f\"Number of words after removing words with 3 consecutive same letters: {len(words_df):,}\")"
   ]
  },
  {
   "cell_type": "markdown",
   "id": "7db133c8",
   "metadata": {},
   "source": [
    "## 10. Remove words with only 2 unique letters"
   ]
  },
  {
   "cell_type": "markdown",
   "id": "a6c82ac4",
   "metadata": {},
   "source": [
    "What about words like `ахахаха`. We don't need them either."
   ]
  },
  {
   "cell_type": "code",
   "execution_count": 15,
   "id": "94c97d26",
   "metadata": {},
   "outputs": [
    {
     "name": "stdout",
     "output_type": "stream",
     "text": [
      "Number of words with 2 unique letters: 1,949\n",
      "Number of words with 3 unique letters: 14,534\n",
      "Number of words with 4 unique letters: 55,885\n"
     ]
    }
   ],
   "source": [
    "words_df['unique_letters_count'] = words_df['word'].apply(lambda x: len(set(x)))\n",
    "print(f\"Number of words with 2 unique letters: {len(words_df[words_df['unique_letters_count'] == 2]):,}\")\n",
    "print(f\"Number of words with 3 unique letters: {len(words_df[words_df['unique_letters_count'] == 3]):,}\")\n",
    "print(f\"Number of words with 4 unique letters: {len(words_df[words_df['unique_letters_count'] == 4]):,}\")"
   ]
  },
  {
   "cell_type": "code",
   "execution_count": 16,
   "id": "e36484c1",
   "metadata": {},
   "outputs": [
    {
     "name": "stdout",
     "output_type": "stream",
     "text": [
      "Number of words with 2 unique letters and length 6+: 478\n",
      "['хахахаха', 'тотото', 'хахахах', 'хихихи', 'теетет', 'ахахаха', 'хахахахах', 'хахахха', 'хохохо', 'хихихихи', 'ахахах', 'хаххаха', 'лелеле', 'тцтцтц', 'хахахахахахахаха', 'хахахахахахах', 'хохохохо', 'хахахх', 'хахахахахахахахаха', 'ахахахахах', 'хахахахх', 'хаххахаха', 'хехехехехе', 'хахахаххаха', 'хихихих', 'хахахахахха', 'ахахахахахаха', 'хихихихихи', 'хахаах', 'хахахахаа', 'ххахаха', 'хахаххах', 'лелелеле', 'ахахха', 'хахахахахахахахахаха', 'хахахаах', 'хаххах', 'хахахахахахахах', 'хахаххаа', 'ахахахха', 'хаххаа', 'тцтцтцтц', 'пупупу', 'хахаххахаха', 'аххаха', 'хахаххахах', 'ахахахахахах', 'хаххахах', 'хахахахахахахахахахаха', 'ахахахахахахаха', 'хихихихии', 'ахаххаха', 'хахааха', 'хахахаххахаха', 'ххахах', 'хахахахаххаха', 'татата', 'ххахахаха', 'хахахахахахха', 'лалала', 'хахахахаах', 'хехехехех', 'хаахаха', 'аххахаха', 'дадада', 'хихихихих', 'хахахахахаа', 'хахахахахахахахах', 'хахахахахахахахахахахаха', 'ляляля', 'ахахахахха', 'хаххаах', 'ахахаххаха', 'ехехехе', 'ахахахахахахахаха', 'дидиди', 'хаахах', 'хаххахахах', 'хихихихихихи', 'ахахаа', 'нанана', 'хахаххахахаха', 'хаххахахаха', 'хехехехехехе', 'хохохохохо', 'хихихии', 'хехеххе', 'хахахаххаа', 'ахахахахахахах', 'охохохо', 'лелелелеле', 'охохох', 'хохохох', 'хахахааха', 'хахахаххах', 'кикики', 'ахахахаа', 'хехехее', 'ххахахах', 'хахаххахахах', 'хахахахахахахахахахахахаха', 'хахахахахаах', 'хахахахахх', 'хахахахахахахха', 'нененене', 'аахахаха', 'хахаахах', 'аххахах', 'хахахаххахах', 'мамама', 'леелее', 'ахахахахахахахахаха', 'хахахахаххахаха', 'хахахаахах', 'ахаххахаха', 'хаахахаха', 'ахахаххахаха', 'ахахахаххаха', 'ненене', 'папапа', 'хахахахахахахахахах', 'хеххехе', 'гагага', 'хихиххи', 'блблбл', 'хахахахахахаа', 'хахаххахаа', 'тцтцтцт', 'ахаххахах', 'хахахаххахахаха', 'лелелел', 'лелелее', 'ахахахахахахахах', 'аахаха', 'ахахахахахха', 'хяхяхя', 'хаххахха', 'пупупупу', 'хаххахахха', 'хахаххахахха', 'тататата', 'ахаххах', 'бабаба', 'хахахахахахахахахахахахахаха', 'хахахахахахахахахахах', 'хахаххаах', 'хаахха', 'хаххахаа', 'тцтцтцтцтц', 'ахаххаа', 'ахахаах', 'хахахаххахахах', 'аххахахаха', 'ахааха', 'ахаххахахаха', 'ахахаххахахаха', 'аахахах', 'хахаахаха', 'хухуху', 'ххахахахаха', 'айайай', 'ххахахахах', 'хихихихихихихи', 'хаахахах', 'лелелелелеле', 'бобобобобобобо', 'хахахаахаха', 'ахахахх', 'хаххахахахах', 'хахаахха', 'хахаахахах', 'хехехеххе', 'ххахха', 'хахахахахаххаха', 'ахахахахаа', 'кикикики', 'ахахаххах', 'хахахахахахахахахахахахахахаха', 'хахахахахахх', 'хахахахааха', 'хохохохохохо', 'хахахахахахаах', 'ахахахахахахахахахаха', 'хахаххахахахах', 'чачача', 'хаххахаххах', 'хихиих', 'хахахахахахахахахахахахахахахаха', 'хехеххехе', 'ехехее', 'хахахаххаах', 'ахахахаххахаха', 'аахахахаха', 'ехехех', 'додододо', 'аххахахах', 'ахахахахх', 'кекеке', 'лалалала', 'ахахахахахахахахах', 'мамамама', 'хахаххахха', 'хаахаахаахаахаа', 'тцтцтцтцт', 'хихихихихих', 'ахахаххахах', 'хаххахахахаха', 'хахахахаххах', 'хахахаххахахахаха', 'хаххааха', 'кококо', 'дададада', 'хахахахаххаа', 'аахахахах', 'хихихиххи', 'шишишиши', 'лелелелел', 'ххахахха', 'хахахахахахаххаха', 'хахахахахахахахахахахах', 'хахахахахахахаа', 'хехехехехех', 'охохохохо', 'хахахахаххахахаха', 'ахахахаах', 'ххахахаа', 'попопо', 'ахахахахаххаха', 'хахахахахахахахха', 'нананана', 'лелеел', 'ахаххахахах', 'хохохохох', 'хахахахаахаха', 'мимими', 'хахахаахахах', 'хахаххахахахаха', 'леллее', 'хаахахахах', 'хааххаха', 'аххахахахах', 'хехехехее', 'хахахахаахах', 'хахахахахахахахахахахахахахахахахаха', 'ххихихи', 'охохохох', 'бабабаба', 'хахахаахха', 'ххахахахахаха', 'маамаа', 'азазаз', 'лелелле', 'хахахахахаахах', 'хихихиих', 'ляляляля', 'хехеех', 'тцтцтцтцтцтц', 'ихихихи', 'хмхмхм', 'ххаахах', 'ххахаа', 'ххехехе', 'хахахахахаххахаха', 'ахахаахах', 'аахахахахах', 'ехехехехе', 'хахахахаххахах', 'хахахаххахаа', 'хаххахахахха', 'вевеве', 'аххаах', 'аахахахахаха', 'хихихихихихихихи', 'оохохохоххохохо', 'ахахахахахахха', 'хехехехехехехе', 'хаххахх', 'лелелелелелеле', 'хаххахахаа', 'какака', 'ехехехех', 'хахахахаххахахахаха', 'ахахаххаа', 'ххахахахахах', 'хахаххахахахахах', 'хаахахахаха', 'ххааха', 'ахахаххаах', 'ахахааха', 'хехехехехехехехе', 'хихиихи', 'хеххее', 'сггсгс', 'хихихихихихих', 'лоолоо', 'хиихихи', 'хахахахахааха', 'хахахаххахахахах', 'хаххахахахахаха', 'хахаахаа', 'хаахаа', 'хахаахахаха', 'хахаххахаххаха', 'ахахахахахаа', 'хаахахаа', 'ахахахахахахахахахах', 'хахахахахахахахахахахахахахахахаха', 'ахахахаххах', 'ххаххаха', 'хахахаххахахха', 'аххахахахаха', 'титити', 'хааххаа', 'нененененене', 'хехехеех', 'хаахахха', 'хохохоо', 'хиххихи', 'хахаххахахахха', 'илиили', 'кекекеке', 'ахаахах', 'хаххахаах', 'тцтцттц', 'ахаахаха', 'ххахахахха', 'хаххахахахахахаха', 'ххахаххаха', 'хахахаахахаха', 'хехеехе', 'хахахааххаха', 'хеххех', 'мхмхмм', 'мимимими', 'хахахаахх', 'хахахахахахахахахахахахахахахахахахахаха', 'хахаххахаах', 'хахаххахахаххаха', 'дадададада', 'ахахахахахх', 'даадаада', 'хахаахх', 'тутуту', 'ахахаххахахах', 'тцтцтцтцтцт', 'хехехехехехех', 'бибиби', 'хахаххааха', 'ненененене', 'хахахахаххахахах', 'лилили', 'лалалалала', 'хахаххахахахахаха', 'хиихих', 'ббибби', 'папапапа', 'охохоо', 'мамамамама', 'ххахаах', 'хахахаххааха', 'хахахахаахахах', 'бебебебе', 'хаххахахаах', 'ххахахааха', 'ахахахахахахахахахахахаха', 'хахаххахахаа', 'ахахахааха', 'хехехеехе', 'лелелелее', 'ахахахахаах', 'ахаххахахахах', 'хахахахаххаах', 'какакакака', 'кокококо', 'хахахахахаахаха', 'тцтцтцттц', 'ахахахахахахахахахахаха', 'хеххехехе', 'ахахахаххаа', 'хахаахахахах', 'хахахахахаххах', 'хехехх', 'хъхъхъх', 'ахаахха', 'ненененененене', 'ахаххаах', 'аххахаа', 'кикикикики', 'хахахахаххахахахах', 'хаххахахаххаха', 'хахахаххахахахха', 'хахахахахаххахахаха', 'хихиихих', 'пупупуп', 'снснснсн', 'хааххах', 'хахахахахаххаа', 'йейейе', 'мхмхмх', 'хахахаххахха', 'хахахахахахахахахха', 'хаххаххаха', 'хахахахахахахахахахахахах', 'хехехехеххе', 'ххахахахахахаха', 'гоггог', 'аххахаах', 'ахахахахаххахаха', 'лялялял', 'мхмхмхм', 'хахахахахахахаах', 'хаххаахаха', 'хаахаххаха', 'ааххаха', 'хахахахахахааха', 'мемеме', 'хаххаахах', 'ххахахаах', 'хмхмхмх', 'ляляляляля', 'хохохохохох', 'ххахааха', 'ахаахахах', 'ахахаххахахахах', 'аахахаа', 'ахахаххахахахахахаххахахахахахха', 'аххахахахахаха', 'хахахаххахахахахаха', 'хаххаххах', 'хахахахаахахаха', 'аахахахахахаха', 'хаахахахахахаха', 'ахахахахахахахахахахах', 'хихихх', 'хахахахахахахахахахахахахахахахахахаха', 'ахаххахахахаха', 'хахаахахха', 'хихихихихихихихихи', 'ахахахахааха', 'ахахахаххахах', 'хахахахахахахахахахахахахах', 'рсррср', 'хахахахахахахахахахахахахахахах', 'ахаххахаа', 'хахахахаххахахахахаха', 'рарара', 'йейейейейейе', 'аххахахахха', 'хехеххее', 'охохохохохо', 'ахахахахахахх', 'хахахахахахахаххахаха', 'амамамама', 'хехеххех', 'хаххахахахахха', 'шушушу', 'хиххиих', 'аххахахха', 'ахахахахахахаа', 'ххихих', 'хихихиххихи', 'хохохохохохохохо', 'деедее', 'хахахаххахахахахахах', 'хаххахахахахахах', 'хахахахаххахха', 'хихихихиххи', 'ъхъхъх', 'бабабабаба', 'бубубу', 'йейейейе', 'ахахахаххахахаха', 'айайайай', 'диидии', 'хахахахахахаххахаха', 'ххахахахахахха', 'ххахахх', 'гагагага']\n"
     ]
    }
   ],
   "source": [
    "# Identify words for which the number of unique letters is 2 and their length is 6+\n",
    "two_unique_letters_words_df = words_df[(words_df['unique_letters_count'] == 2) & (words_df['word'].str.len() >= 6)]\n",
    "print(f\"Number of words with 2 unique letters and length 6+: {len(two_unique_letters_words_df):,}\")\n",
    "print(two_unique_letters_words_df['word'].tolist())"
   ]
  },
  {
   "cell_type": "markdown",
   "id": "2f3138d1",
   "metadata": {},
   "source": [
    "* **OBSERVATION**: There is a single valid word here `тотото`. All the rest can be removed."
   ]
  },
  {
   "cell_type": "code",
   "execution_count": 17,
   "id": "df6f9e54",
   "metadata": {},
   "outputs": [
    {
     "name": "stdout",
     "output_type": "stream",
     "text": [
      "Number of words after removing `two_unique_letters_words_df`: 1,286,666\n"
     ]
    }
   ],
   "source": [
    "# Filter `тотото`\n",
    "two_unique_letters_words_df = words_df[words_df['word'].str.contains('тотото')]\n",
    "\n",
    "# Remove from `words_df` all words from two_unique_letters_words_df\n",
    "words_df = words_df[~words_df['word'].isin(two_unique_letters_words_df['word'])]\n",
    "print(f\"Number of words after removing `two_unique_letters_words_df`: {len(words_df):,}\")"
   ]
  },
  {
   "cell_type": "code",
   "execution_count": 18,
   "id": "9b0b78a2",
   "metadata": {},
   "outputs": [
    {
     "name": "stdout",
     "output_type": "stream",
     "text": [
      "['хахахаха', 'хахах', 'хахахах', 'хахахахах', 'хахахха', 'хахахахахахахаха', 'хахахахахахах', 'хахахх', 'хахахахахахахахаха', 'хахахахх', 'хахахаххаха', 'хахахахахха', 'хахахахаа', 'хахаххах', 'хахахахахахахахахаха', 'хахахаах', 'хахахахахахахах', 'хахаххаа', 'хахаххахаха', 'хахаххахах', 'хахахахахахахахахахаха', 'хахахаххахаха', 'хахахахаххаха', 'хахахахахахха', 'хахахахаах', 'хахахахахаа', 'хахахахахахахахах', 'хахахахахахахахахахахаха', 'хахаххахахаха', 'хахахаххаа', 'хахахааха', 'хахахаххах', 'хахаххахахах', 'хахахахахахахахахахахахаха', 'хахахахахаах', 'хахахахахх', 'хахахахахахахха', 'хахахаххахах', 'хахахахаххахаха', 'хахахаахах', 'хахахахахахахахахах', 'хахахахахахаа', 'хахаххахаа', 'хахахаххахахаха', 'хахаххахахха', 'хахахахахахахахахахахахахаха', 'хахахахахахахахахахах', 'хахаххаах', 'хахахаххахахах', 'хахахаахаха', 'хахахахахаххаха', 'хахахахахахахахахахахахахахаха', 'хахахахахахх', 'хахахахааха', 'хахахахахахаах', 'хахаххахахахах', 'хахахахахахахахахахахахахахахаха', 'хахахаххаах', 'хахаххахха', 'хахахахаххах', 'хахахаххахахахаха', 'хахахахаххаа', 'хахахахахахаххаха', 'хахахахахахахахахахахах', 'хахахахахахахаа', 'хахахахаххахахаха', 'хахахахахахахахха', 'хахахахаахаха', 'хахахаахахах', 'хахаххахахахаха', 'хахахс', 'хахахахаахах', 'хахахахахахахахахахахахахахахахахаха', 'хахахаахха', 'хахахахахаахах', 'хахахахахаххахаха', 'хахахахаххахах', 'хахахаххахаа', 'хахахахаххахахахаха', 'хахаххахахахахах', 'хахахахахааха', 'хахахаххахахахах', 'хахаххахаххаха', 'хахахахахахахахахахахахахахахахаха', 'хахахаххахахха', 'хахаххахахахха', 'хахахаахахаха', 'хахахааххаха', 'хахахаахх', 'хахахахахахахахахахахахахахахахахахахаха', 'хахаххахаах', 'хахаххахахаххаха', 'хахаххааха', 'хахахахаххахахах', 'хахахахо', 'хахаххахахахахаха', 'хахахаххааха', 'хахахахаахахах', 'хахаххахахаа', 'хахахахаххаах', 'хахахахахаахаха', 'хахахахахаххах', 'хахахахаххахахахах', 'хахахаххахахахха', 'хахахахахаххахахаха', 'хахахахахаххаа', 'хахахаххахха', 'хахахахахахахахахха', 'хахахахахахахахахахахахах', 'хахахахахахахаах', 'хахахахахахааха', 'хахахаххахахахахаха', 'хахахахаахахаха', 'хахахо', 'хахахахахахахахахахахахахахахахахахаха', 'хахахахахахахахахахахахахах', 'хахахахахахахахахахахахахахахах', 'хахахахаххахахахахаха', 'хахахахахахахаххахаха', 'хахахаххахахахахахах', 'хахахахаххахха', 'хахахихи', 'хахахахахахаххахаха']\n"
     ]
    }
   ],
   "source": [
    "words_starting_with_ha = words_df[words_df['word'].str.startswith('хахах')]\n",
    "print(words_starting_with_ha.word.tolist())"
   ]
  },
  {
   "cell_type": "code",
   "execution_count": 19,
   "id": "5b6e5180",
   "metadata": {},
   "outputs": [
    {
     "name": "stdout",
     "output_type": "stream",
     "text": [
      "Number of words after removing words starting with `хахах`: 1,286,543\n"
     ]
    }
   ],
   "source": [
    "# We can safely remove all words that start with `хахах`\n",
    "words_df = words_df[~words_df['word'].str.startswith('хахах')]\n",
    "print(f\"Number of words after removing words starting with `хахах`: {len(words_df):,}\")"
   ]
  },
  {
   "cell_type": "code",
   "execution_count": 20,
   "id": "d47a10f9",
   "metadata": {},
   "outputs": [
    {
     "name": "stdout",
     "output_type": "stream",
     "text": [
      "['тцтцтц', 'тцтц', 'тцтцтцтц', 'тцтцт', 'тцтцтцт', 'тцтцтцтцтц', 'тцтцтцтцт', 'тцтцтцтцтцтц', 'тцт', 'тцтцттц', 'тцтцтцтцтцт', 'тцтцтцттц', 'цтцт', 'тцттц']\n"
     ]
    }
   ],
   "source": [
    "words_containing_tc = words_df[words_df['word'].str.contains('тцт')]\n",
    "print(words_containing_tc.word.tolist())"
   ]
  },
  {
   "cell_type": "code",
   "execution_count": 21,
   "id": "6f78f903",
   "metadata": {},
   "outputs": [
    {
     "name": "stdout",
     "output_type": "stream",
     "text": [
      "Number of words after removing words containing `тцт`: 1,286,529\n"
     ]
    }
   ],
   "source": [
    "# We can safely remove all words that contain `тцт`\n",
    "words_df = words_df[~words_df['word'].str.contains('тцт')]\n",
    "print(f\"Number of words after removing words containing `тцт`: {len(words_df):,}\")"
   ]
  },
  {
   "cell_type": "markdown",
   "id": "cd4c74e9",
   "metadata": {},
   "source": [
    "## 11. Remove stitched words\n",
    "\n",
    "Now we need to come up with mechanism to identify the stitched words. How about we use our current vocabulary as a **ground-truth** and use it for finding **stitched words**."
   ]
  },
  {
   "cell_type": "code",
   "execution_count": 22,
   "id": "93c2598f",
   "metadata": {},
   "outputs": [
    {
     "name": "stdout",
     "output_type": "stream",
     "text": [
      "Number of words in vocabulary: 1,228,264\n"
     ]
    }
   ],
   "source": [
    "# Load vocabulary\n",
    "vocab_df = pd.read_csv('data/words.txt.gz', encoding='windows-1251', header=None, compression='gzip', names=['word'])\n",
    "print(f\"Number of words in vocabulary: {len(vocab_df):,}\")"
   ]
  },
  {
   "cell_type": "code",
   "execution_count": 23,
   "id": "52c188bf",
   "metadata": {},
   "outputs": [],
   "source": [
    "# Define a function that looks for longest vocabulary word that share the same first letters with the suspicious word\n",
    "def look_for_longest_possible_match(suspicious_word: str, vocabulary: list[str]) -> tuple[str, str]:\n",
    "    \"\"\" Look for the longest possible match in the vocabulary (fast implementation).\"\"\"\n",
    "    # Use binary search to find the start and end indices of the vocabulary words that share the same first letters.\n",
    "    start_index = bisect.bisect_left(vocabulary, suspicious_word[:2])\n",
    "    end_index = bisect.bisect_right(vocabulary, suspicious_word)\n",
    "    vocab_slice = vocabulary[start_index:end_index]\n",
    "    \n",
    "    # Once we have a subset of potential matches, sort these words by length (longest first).\n",
    "    vocab_slice_longest_first = sorted(vocab_slice, key=len, reverse=True)\n",
    "\n",
    "    # Loop through the potential matches. If one is found, then remove it from the suspicious word and return the remaining part\n",
    "    for vocab_word in vocab_slice_longest_first:\n",
    "        if suspicious_word.startswith(vocab_word):\n",
    "            return suspicious_word[len(vocab_word):], vocab_word # Match found! Return the remaining part and the matched word.\n",
    "    return (suspicious_word, None) # No match! Return the original word and None."
   ]
  },
  {
   "cell_type": "code",
   "execution_count": 24,
   "id": "990a16c2",
   "metadata": {},
   "outputs": [
    {
     "name": "stdout",
     "output_type": "stream",
     "text": [
      "Number of suspicious words: 5,884\n",
      "Number of invalid words: 1,180\n",
      "['отвсякъдепомалкозавсекигопонещо', 'транспортбългарияавстрия', 'повечехарактеристикиинтернетбезплатен', 'модаинтимноздраведиети', 'фитнесрецептисемействоза', 'дехидроепиандростерон', 'темпоромандибуларната', 'каквоправимвбиблиотеката', 'холангиопанкреатография', 'фоликулостимулиращия']\n",
      "Number of valid words: 4,704\n",
      "['дванадесетопръстника', 'противовъзпалителните', 'глюкокортикостероиди', 'конкурентоспособност', 'новодиагностицираните', 'зърнопроизводителите', 'европредседателството', 'конкурентоспособността', 'социалдемократическа', 'средностатистическия']\n"
     ]
    }
   ],
   "source": [
    "# Long words are considered suspicious.\n",
    "suspicious_words_df = words_df[words_df['word'].str.len() >= 20]\n",
    "print(f\"Number of suspicious words: {len(suspicious_words_df):,}\")\n",
    "\n",
    "# Sort vocabulary words alphabetically. It will be required for the binary search.\n",
    "vocabulary_alpha_sorted = sorted(vocab_df['word'])\n",
    "\n",
    "# Now look for words from suspicious set that start with words from vocabulary. \n",
    "# If the suspicious word can be split into 3+ valid words, then we consider the suspicious word invalid.\n",
    "invalid_words = []\n",
    "valid_words = []\n",
    "for sus_word in suspicious_words_df['word']:\n",
    "    # Find first match\n",
    "    sus_subword_1, word_match_1 = look_for_longest_possible_match(sus_word, vocabulary_alpha_sorted)\n",
    "    if word_match_1:\n",
    "        # Find second match\n",
    "        sus_subword_2, word_match_2 = look_for_longest_possible_match(sus_subword_1, vocabulary_alpha_sorted)\n",
    "        if word_match_2:\n",
    "            # Find third match\n",
    "            sus_subword_3, word_match_3 = look_for_longest_possible_match(sus_subword_2, vocabulary_alpha_sorted)\n",
    "            if sus_subword_3:\n",
    "                # Found 3 consecutive valid subwords. The word is invalid.\n",
    "                invalid_words.append(sus_word)\n",
    "                continue\n",
    "    # Could not prove it is a stitched word (i.e. invalid).\n",
    "    valid_words.append(sus_word)\n",
    "\n",
    "print(f\"Number of invalid words: {len(invalid_words):,}\")\n",
    "print(invalid_words[:10])\n",
    "print(f\"Number of valid words: {len(valid_words):,}\")\n",
    "print(valid_words[:10])\n"
   ]
  },
  {
   "cell_type": "code",
   "execution_count": 25,
   "id": "824ed5b7",
   "metadata": {},
   "outputs": [
    {
     "name": "stdout",
     "output_type": "stream",
     "text": [
      "Number of words after removing invalid (stitched) words: 1,285,349\n"
     ]
    }
   ],
   "source": [
    "# Remove the invalid words from the words_df set.\n",
    "words_df = words_df[~words_df['word'].isin(invalid_words)]\n",
    "print(f\"Number of words after removing invalid (stitched) words: {len(words_df):,}\")"
   ]
  },
  {
   "cell_type": "markdown",
   "id": "5e7f7efb",
   "metadata": {},
   "source": [
    "## 12. Remove invalid words\n",
    "\n",
    "In Project Stork we manually built a list of `16 000` invalid words, that frequently appeared in our corpuse. We can further safely remove them."
   ]
  },
  {
   "cell_type": "code",
   "execution_count": 26,
   "id": "6075c566",
   "metadata": {},
   "outputs": [
    {
     "name": "stdout",
     "output_type": "stream",
     "text": [
      "Number of invalid words: 16,425\n"
     ]
    },
    {
     "data": {
      "text/html": [
       "<div>\n",
       "<style scoped>\n",
       "    .dataframe tbody tr th:only-of-type {\n",
       "        vertical-align: middle;\n",
       "    }\n",
       "\n",
       "    .dataframe tbody tr th {\n",
       "        vertical-align: top;\n",
       "    }\n",
       "\n",
       "    .dataframe thead th {\n",
       "        text-align: right;\n",
       "    }\n",
       "</style>\n",
       "<table border=\"1\" class=\"dataframe\">\n",
       "  <thead>\n",
       "    <tr style=\"text-align: right;\">\n",
       "      <th></th>\n",
       "      <th>word</th>\n",
       "    </tr>\n",
       "  </thead>\n",
       "  <tbody>\n",
       "    <tr>\n",
       "      <th>5049</th>\n",
       "      <td>болкуци</td>\n",
       "    </tr>\n",
       "    <tr>\n",
       "      <th>8142</th>\n",
       "      <td>деван</td>\n",
       "    </tr>\n",
       "    <tr>\n",
       "      <th>5868</th>\n",
       "      <td>видеоплеър</td>\n",
       "    </tr>\n",
       "    <tr>\n",
       "      <th>2617</th>\n",
       "      <td>аасериоид</td>\n",
       "    </tr>\n",
       "    <tr>\n",
       "      <th>3733</th>\n",
       "      <td>анието</td>\n",
       "    </tr>\n",
       "    <tr>\n",
       "      <th>16419</th>\n",
       "      <td>яячева</td>\n",
       "    </tr>\n",
       "    <tr>\n",
       "      <th>4143</th>\n",
       "      <td>базаданни</td>\n",
       "    </tr>\n",
       "    <tr>\n",
       "      <th>94</th>\n",
       "      <td>ааааааааааааааахахахах</td>\n",
       "    </tr>\n",
       "    <tr>\n",
       "      <th>864</th>\n",
       "      <td>аааммиии</td>\n",
       "    </tr>\n",
       "    <tr>\n",
       "      <th>11305</th>\n",
       "      <td>маааа</td>\n",
       "    </tr>\n",
       "  </tbody>\n",
       "</table>\n",
       "</div>"
      ],
      "text/plain": [
       "                         word\n",
       "5049                  болкуци\n",
       "8142                    деван\n",
       "5868               видеоплеър\n",
       "2617                аасериоид\n",
       "3733                   анието\n",
       "16419                  яячева\n",
       "4143                базаданни\n",
       "94     ааааааааааааааахахахах\n",
       "864                  аааммиии\n",
       "11305                   маааа"
      ]
     },
     "execution_count": 26,
     "metadata": {},
     "output_type": "execute_result"
    }
   ],
   "source": [
    "# Load the list of invalid words\n",
    "invalid_words_df = pd.read_csv('data/6_project_stork_invalid_words.txt.gz', encoding='windows-1251', header=None, compression='gzip')\n",
    "invalid_words_df.columns = ['word']\n",
    "print(f\"Number of invalid words: {len(invalid_words_df):,}\")\n",
    "invalid_words_df.sample(10)"
   ]
  },
  {
   "cell_type": "code",
   "execution_count": 27,
   "id": "7f3380d1",
   "metadata": {},
   "outputs": [
    {
     "name": "stdout",
     "output_type": "stream",
     "text": [
      "Number of words after removing invalid (stitched) words: 1,276,801\n"
     ]
    }
   ],
   "source": [
    "# Remove invalid words\n",
    "words_df = words_df[~words_df['word'].isin(invalid_words_df['word'])]\n",
    "print(f\"Number of words after removing invalid (stitched) words: {len(words_df):,}\")"
   ]
  },
  {
   "cell_type": "markdown",
   "id": "17843dfd",
   "metadata": {},
   "source": [
    "* **OBSERVATION**: 8000 invalid words were removed."
   ]
  },
  {
   "cell_type": "markdown",
   "id": "635e0b20",
   "metadata": {},
   "source": [
    "## 13. Remove names\n",
    "\n",
    "Project Stork produced a list of `names`. A name was considered every word that starts with a capital letter **in 70+%** of the cases. Let's remove the names from our dataset."
   ]
  },
  {
   "cell_type": "code",
   "execution_count": 28,
   "id": "282d3f5e",
   "metadata": {},
   "outputs": [
    {
     "name": "stdout",
     "output_type": "stream",
     "text": [
      "Number of names: 3,884,854\n"
     ]
    },
    {
     "data": {
      "text/html": [
       "<div>\n",
       "<style scoped>\n",
       "    .dataframe tbody tr th:only-of-type {\n",
       "        vertical-align: middle;\n",
       "    }\n",
       "\n",
       "    .dataframe tbody tr th {\n",
       "        vertical-align: top;\n",
       "    }\n",
       "\n",
       "    .dataframe thead th {\n",
       "        text-align: right;\n",
       "    }\n",
       "</style>\n",
       "<table border=\"1\" class=\"dataframe\">\n",
       "  <thead>\n",
       "    <tr style=\"text-align: right;\">\n",
       "      <th></th>\n",
       "      <th>word</th>\n",
       "    </tr>\n",
       "  </thead>\n",
       "  <tbody>\n",
       "    <tr>\n",
       "      <th>2613101</th>\n",
       "      <td>предишнанедостиг</td>\n",
       "    </tr>\n",
       "    <tr>\n",
       "      <th>322621</th>\n",
       "      <td>беозопасен</td>\n",
       "    </tr>\n",
       "    <tr>\n",
       "      <th>2641354</th>\n",
       "      <td>пройновстрелбашепа</td>\n",
       "    </tr>\n",
       "    <tr>\n",
       "      <th>2925447</th>\n",
       "      <td>серебренинков</td>\n",
       "    </tr>\n",
       "    <tr>\n",
       "      <th>1961867</th>\n",
       "      <td>мардавиз</td>\n",
       "    </tr>\n",
       "  </tbody>\n",
       "</table>\n",
       "</div>"
      ],
      "text/plain": [
       "                       word\n",
       "2613101    предишнанедостиг\n",
       "322621           беозопасен\n",
       "2641354  пройновстрелбашепа\n",
       "2925447       серебренинков\n",
       "1961867            мардавиз"
      ]
     },
     "execution_count": 28,
     "metadata": {},
     "output_type": "execute_result"
    }
   ],
   "source": [
    "# Load the names list\n",
    "names_df = pd.read_csv('data/6_project_stork_names.txt.gz', encoding='windows-1251', header=None, compression='gzip')\n",
    "names_df.columns = ['word']\n",
    "print(f\"Number of names: {len(names_df):,}\")\n",
    "names_df.sample(5)"
   ]
  },
  {
   "cell_type": "code",
   "execution_count": 29,
   "id": "5432f95b",
   "metadata": {},
   "outputs": [
    {
     "name": "stdout",
     "output_type": "stream",
     "text": [
      "Number of words after removing names: 1,272,609\n"
     ]
    }
   ],
   "source": [
    "# Remove names\n",
    "words_df = words_df[~words_df['word'].isin(names_df['word'])]\n",
    "print(f\"Number of words after removing names: {len(words_df):,}\")"
   ]
  },
  {
   "cell_type": "markdown",
   "id": "cac2286c",
   "metadata": {},
   "source": [
    "* **OBSERVATION**: 3500 names were removed."
   ]
  },
  {
   "cell_type": "markdown",
   "id": "fadaa971",
   "metadata": {},
   "source": [
    "## 14. Remove words ending with `ъ`\n",
    "There might be some archaic words which usually ends with `ъ`."
   ]
  },
  {
   "cell_type": "code",
   "execution_count": 30,
   "id": "ff390ee4",
   "metadata": {},
   "outputs": [
    {
     "name": "stdout",
     "output_type": "stream",
     "text": [
      "Number of words after removing words ending with `ъ`: 1,272,609\n"
     ]
    }
   ],
   "source": [
    "# Remove words ending with `ъ`\n",
    "words_df = words_df[~words_df['word'].str.endswith('ъ')]\n",
    "print(f\"Number of words after removing words ending with `ъ`: {len(words_df):,}\")"
   ]
  },
  {
   "cell_type": "markdown",
   "id": "634b0d71",
   "metadata": {},
   "source": [
    "* **OBSERVATION**: No archaic words ending with `ъ`."
   ]
  },
  {
   "cell_type": "markdown",
   "id": "765cd8b6",
   "metadata": {},
   "source": [
    "## 15. Remove words ending with `ь`\n",
    "There might be some russian words that ends with `ь`."
   ]
  },
  {
   "cell_type": "code",
   "execution_count": 31,
   "id": "54175b7f",
   "metadata": {},
   "outputs": [
    {
     "name": "stdout",
     "output_type": "stream",
     "text": [
      "Number of words after removing words ending with `ь`: 1,272,609\n"
     ]
    }
   ],
   "source": [
    "# Remove words ending with `ь`\n",
    "words_df = words_df[~words_df['word'].str.endswith('ь')]\n",
    "print(f\"Number of words after removing words ending with `ь`: {len(words_df):,}\")"
   ]
  },
  {
   "cell_type": "markdown",
   "id": "e00e74c7",
   "metadata": {},
   "source": [
    "* **OBSERVATION**: No russian words ending with `ь`."
   ]
  },
  {
   "cell_type": "markdown",
   "id": "9d69e57a",
   "metadata": {},
   "source": [
    "## 16. Check 1-letter words"
   ]
  },
  {
   "cell_type": "code",
   "execution_count": 32,
   "id": "f8c58fdf",
   "metadata": {},
   "outputs": [
    {
     "name": "stdout",
     "output_type": "stream",
     "text": [
      "Number of one letter words: 0\n"
     ]
    }
   ],
   "source": [
    "# Are there any one letter words?\n",
    "print(f\"Number of one letter words: {len(words_df[words_df['word'].str.len() == 1]):,}\")"
   ]
  },
  {
   "cell_type": "markdown",
   "id": "befd728f",
   "metadata": {},
   "source": [
    "* **OBSERVATION**: No one-letter words."
   ]
  },
  {
   "cell_type": "markdown",
   "id": "fe30a4cc",
   "metadata": {},
   "source": [
    "## 17. Check 2-letter words"
   ]
  },
  {
   "cell_type": "code",
   "execution_count": 33,
   "id": "ba31d9e7",
   "metadata": {},
   "outputs": [
    {
     "name": "stdout",
     "output_type": "stream",
     "text": [
      "Number of two letter words: 245\n",
      "['яж', 'ща', 'як', 'ям', 'ял', 'чу', 'яд', 'ас', 'ом', 'пи', 'ат', 'ят', 'ос', 'ум', 'пя', 'юг', 'гу', 'ля', 'дя', 'тю', 'де', 'уа', 'фо', 'уу', 'еи', 'зя', 'уе', 'ои', 'ое', 'ощ', 'уй', 'ъх', 'ий', 'вя', 'яр', 'еж', 'чв', 'йт', 'тч', 'пч', 'бю', 'чч', 'юр', 'кй', 'ют', 'жн', 'бч', 'лш', 'йи', 'ък', 'хн', 'кя', 'яв', 'аж', 'яй', 'мй', 'чф', 'ъж', 'чн', 'фн', 'сж', 'бщ', 'лц', 'мш', 'цр', 'ад', 'ея', 'цт', 'гя', 'ъщ', 'гж', 'щв', 'сй', 'мч', 'уг', 'бй', 'фз', 'мж', 'яе', 'сш', 'хз', 'вц', 'щш', 'шш', 'рж', 'шн', 'нш', 'еч', 'яб', 'лй', 'хф', 'цл', 'йй', 'кж', 'йш', 'лч', 'жб', 'яа', 'ащ', 'ъз', 'жд', 'дй', 'ьа', 'вш', 'юж', 'рч', 'жт', 'чш', 'ъй', 'юм', 'пш', 'гч', 'жж', 'кч', 'тш', 'юд', 'гю', 'щс', 'жл', 'нж', 'ъд', 'шп', 'ье', 'гх', 'щр', 'жв', 'шр', 'кш', 'хя', 'дш', 'цн', 'йк', 'ищ', 'хш', 'шм', 'юч', 'жп', 'шщ', 'лж', 'ъг', 'гй', 'ъч', 'юу', 'фю', 'ую', 'чй', 'юб', 'шч', 'йф', 'йс', 'яи', 'гд', 'вщ', 'йу', 'йл', 'хй', 'йх', 'йд', 'юо', 'ьу', 'щт', 'ъа', 'чя', 'зч', 'йр', 'ъц', 'ящ', 'щз', 'бж', 'ъи', 'фй', 'щм', 'ъб', 'ъе', 'йя', 'шя', 'ьт', 'йп', 'щн', 'йз', 'ьи', 'чю', 'юш', 'йц', 'ьз', 'яч', 'ущ', 'рщ', 'фя', 'дщ', 'щч', 'ъо', 'ьс', 'зю', 'йб', 'зш', 'ъш', 'мщ', 'щб', 'щк', 'хч', 'зй', 'ьв', 'пщ', 'йч', 'щг', 'ьх', 'ьр', 'шю', 'ьм', 'цй', 'жй', 'ья', 'ью', 'щп', 'ъя', 'ьл', 'щл', 'ьн', 'ьй', 'цж', 'ьп', 'ьш', 'щц', 'шй', 'цч', 'жх', 'жя', 'ъу', 'ьк', 'жш', 'жю', 'ьд', 'ьц', 'ъю', 'лщ', 'ьж', 'цш', 'щх', 'шж', 'ющ', 'щй', 'щф', 'ьб', 'йж']\n"
     ]
    }
   ],
   "source": [
    "# Two letter words\n",
    "two_letter_words = words_df[words_df['word'].str.len() == 2]\n",
    "print(f\"Number of two letter words: {len(two_letter_words):,}\")\n",
    "# Print all the 2-letter words\n",
    "print(two_letter_words['word'].tolist())"
   ]
  },
  {
   "cell_type": "markdown",
   "id": "bfca21dc",
   "metadata": {},
   "source": [
    "* **OBSERVATION**: We see a lot of invalid words (`гу`, `ля`, `уа`, `фо`, ...). And some of them has high TF-IDF score. We need to remove tham and find a way to do this automatically for the rest of the set."
   ]
  },
  {
   "cell_type": "code",
   "execution_count": 34,
   "id": "9e058e2a",
   "metadata": {},
   "outputs": [
    {
     "name": "stdout",
     "output_type": "stream",
     "text": [
      "Number of words after removing 2-letter consonant words: 1,272,490\n",
      "Number of words after removing 2-letter words containing 'ь': 1,272,467\n",
      "Number of two letter words: 103\n",
      "['яж', 'ща', 'як', 'ям', 'ял', 'чу', 'яд', 'ас', 'ом', 'пи', 'ат', 'ят', 'ос', 'ум', 'пя', 'юг', 'гу', 'ля', 'дя', 'тю', 'де', 'уа', 'фо', 'уу', 'еи', 'зя', 'уе', 'ои', 'ое', 'ощ', 'уй', 'ъх', 'ий', 'вя', 'яр', 'еж', 'бю', 'чч', 'юр', 'ют', 'йи', 'ък', 'кя', 'яв', 'аж', 'яй', 'ъж', 'ад', 'ея', 'гя', 'ъщ', 'уг', 'яе', 'шш', 'еч', 'яб', 'йй', 'яа', 'ащ', 'ъз', 'юж', 'ъй', 'юм', 'жж', 'юд', 'гю', 'ъд', 'хя', 'ищ', 'юч', 'ъг', 'ъч', 'юу', 'фю', 'ую', 'юб', 'яи', 'йу', 'юо', 'ъа', 'чя', 'ъц', 'ящ', 'ъи', 'ъб', 'ъе', 'йя', 'шя', 'чю', 'юш', 'яч', 'ущ', 'фя', 'ъо', 'зю', 'ъш', 'шю', 'ъя', 'жя', 'ъу', 'жю', 'ъю', 'ющ']\n"
     ]
    }
   ],
   "source": [
    "# Generate all possible consonant permutations\n",
    "consonant_permutations = [''.join(comb) for comb in itertools.permutations('бвгджзйклмнпрстфхцчшщ', 2)]\n",
    "\n",
    "# Remove words that are in the list of invalid 2-letter words\n",
    "words_df = words_df[~words_df['word'].isin(consonant_permutations)]\n",
    "print(f\"Number of words after removing 2-letter consonant words: {len(words_df):,}\")\n",
    "\n",
    "# Remove all 2-letter words that contain 'ь'\n",
    "words_df = words_df[~((words_df['word'].str.contains('ь') & (words_df['word'].str.len() == 2)))]\n",
    "print(f\"Number of words after removing 2-letter words containing 'ь': {len(words_df):,}\")\n",
    "\n",
    "# Print all the 2-letter words\n",
    "two_letter_words = words_df[words_df['word'].str.len() == 2]\n",
    "print(f\"Number of two letter words: {len(two_letter_words):,}\")\n",
    "# Print all the 2-letter words\n",
    "print(two_letter_words['word'].tolist())\n"
   ]
  },
  {
   "cell_type": "code",
   "execution_count": 35,
   "id": "9bd02b12",
   "metadata": {},
   "outputs": [
    {
     "name": "stdout",
     "output_type": "stream",
     "text": [
      "Number of words after removing 2-letter words: 1,272,393\n"
     ]
    }
   ],
   "source": [
    "# Remove invalid 2-letter words\n",
    "invalid_2_letter_words = ['гу', 'ля', 'уа', 'фо', 'уу', 'еи', 'уе', 'ои', 'ое', 'ий', 'бю', 'чч', 'юр', 'йи', 'ък', 'кя', 'яв', 'аж', 'ъж', 'ея', 'гя', 'ъщ', 'уг', 'яе', 'шш', 'еч', 'яб', 'йй', 'яа', 'ащ', 'ъз', 'юж', 'ъй', 'юм', 'жж', 'юд', 'гю', 'ъд', 'хя', 'ищ', 'юч', 'ъг', 'ъч', 'юу', 'фю', 'ую', 'юб', 'яи', 'йу', 'юо', 'ъа', 'чя', 'ъц', 'ящ', 'ъи', 'ъб', 'ъе', 'йя', 'шя', 'чю', 'юш', 'яч', 'ущ', 'фя', 'ъо', 'зю', 'ъш', 'шю', 'ъя', 'жя', 'ъу', 'жю', 'ъю', 'ющ']\n",
    "words_df = words_df[~words_df['word'].isin(invalid_2_letter_words)]\n",
    "print(f\"Number of words after removing 2-letter words: {len(words_df):,}\")"
   ]
  },
  {
   "cell_type": "markdown",
   "id": "1c63c5bc",
   "metadata": {},
   "source": [
    "* **OBSERVATION**: All 2-letter words after `ад` were invalid words."
   ]
  },
  {
   "cell_type": "code",
   "execution_count": 36,
   "id": "b146a436",
   "metadata": {},
   "outputs": [
    {
     "data": {
      "text/html": [
       "<div>\n",
       "<style scoped>\n",
       "    .dataframe tbody tr th:only-of-type {\n",
       "        vertical-align: middle;\n",
       "    }\n",
       "\n",
       "    .dataframe tbody tr th {\n",
       "        vertical-align: top;\n",
       "    }\n",
       "\n",
       "    .dataframe thead th {\n",
       "        text-align: right;\n",
       "    }\n",
       "</style>\n",
       "<table border=\"1\" class=\"dataframe\">\n",
       "  <thead>\n",
       "    <tr style=\"text-align: right;\">\n",
       "      <th></th>\n",
       "      <th>word</th>\n",
       "      <th>tfidf</th>\n",
       "      <th>unique_letters_count</th>\n",
       "    </tr>\n",
       "    <tr>\n",
       "      <th>id</th>\n",
       "      <th></th>\n",
       "      <th></th>\n",
       "      <th></th>\n",
       "    </tr>\n",
       "  </thead>\n",
       "  <tbody>\n",
       "    <tr>\n",
       "      <th>151089</th>\n",
       "      <td>ад</td>\n",
       "      <td>0.671084</td>\n",
       "      <td>2</td>\n",
       "    </tr>\n",
       "  </tbody>\n",
       "</table>\n",
       "</div>"
      ],
      "text/plain": [
       "       word     tfidf  unique_letters_count\n",
       "id                                         \n",
       "151089   ад  0.671084                     2"
      ]
     },
     "execution_count": 36,
     "metadata": {},
     "output_type": "execute_result"
    }
   ],
   "source": [
    "words_df[words_df.word == 'ад']"
   ]
  },
  {
   "cell_type": "markdown",
   "id": "644d586b",
   "metadata": {},
   "source": [
    "* **OBSERVATION**: Below TF-IDF = 0.67 we could expect surge of invalid words.\n",
    "\n",
    "Let's test this assumption."
   ]
  },
  {
   "cell_type": "markdown",
   "id": "946a1282",
   "metadata": {},
   "source": [
    "## 18. TFIDF - Validity relation"
   ]
  },
  {
   "cell_type": "code",
   "execution_count": 37,
   "id": "ce554a6b",
   "metadata": {},
   "outputs": [
    {
     "name": "stdout",
     "output_type": "stream",
     "text": [
      "['избрахте', 'давай', 'честито', 'свъси', 'отпътуване', 'настоявайте', 'подкани', 'привет', 'промърмори', 'пазете', 'братко', 'сбърчи', 'сепна', 'изчерви', 'чекирал', 'вирна', 'честита', 'откога', 'аман', 'идвам']\n"
     ]
    }
   ],
   "source": [
    "# Print 20 random words with TF-IDF between 0.90 and 1.00\n",
    "print(words_df[(words_df['tfidf'] > 0.90) & (words_df['tfidf'] <= 1.00)].sample(20).word.tolist())"
   ]
  },
  {
   "cell_type": "markdown",
   "id": "995d6e30",
   "metadata": {},
   "source": [
    "* **OBSERVATION**: 0 invalid words ($0.9 < TFIDF < 1.0$)."
   ]
  },
  {
   "cell_type": "code",
   "execution_count": 38,
   "id": "b72f4513",
   "metadata": {},
   "outputs": [
    {
     "name": "stdout",
     "output_type": "stream",
     "text": [
      "['дизайнерката', 'посещавах', 'показали', 'аминокиселина', 'тъпо', 'говорителя', 'статични', 'уликите', 'ритмични', 'кварталната', 'оживи', 'специалната', 'нормалното', 'допуснато', 'металния', 'мъченици', 'опашка', 'изключения', 'напомнящи', 'пустия']\n"
     ]
    }
   ],
   "source": [
    "# Print 20 random words with TF-IDF between 0.80 and 0.90\n",
    "print(words_df[(words_df['tfidf'] > 0.80) & (words_df['tfidf'] <= 0.90)].sample(20).word.tolist())"
   ]
  },
  {
   "cell_type": "markdown",
   "id": "203519c7",
   "metadata": {},
   "source": [
    "* **OBSERVATION**: 0 invalid words ($0.8 < TFIDF < 0.9$)."
   ]
  },
  {
   "cell_type": "code",
   "execution_count": 39,
   "id": "d8de1014",
   "metadata": {},
   "outputs": [
    {
     "name": "stdout",
     "output_type": "stream",
     "text": [
      "['феодализма', 'издай', 'висели', 'пингвина', 'холокостът', 'узнайте', 'гущерови', 'оптики', 'скиптъра', 'сливаха', 'юзър', 'себето', 'виелицата', 'нахранена', 'авиаторите', 'поглаждане', 'поясната', 'властване', 'цака', 'гръбначна']\n"
     ]
    }
   ],
   "source": [
    "# Print 20 random words with TF-IDF between 0.70 and 0.80\n",
    "print(words_df[(words_df['tfidf'] > 0.70) & (words_df['tfidf'] <= 0.80)].sample(20).word.tolist())"
   ]
  },
  {
   "cell_type": "markdown",
   "id": "65c03517",
   "metadata": {},
   "source": [
    "* **OBSERVATION**: 1 invalid word ($0.7 < TFIDF < 0.8$)."
   ]
  },
  {
   "cell_type": "code",
   "execution_count": 40,
   "id": "5fa85353",
   "metadata": {},
   "outputs": [
    {
     "name": "stdout",
     "output_type": "stream",
     "text": [
      "['физкултурният', 'надценяването', 'небета', 'експедитивен', 'непропусклива', 'мъжагите', 'адренокортикотропен', 'повлечени', 'летописецът', 'стоматологичният', 'натежаваха', 'командуващия', 'притежавахме', 'поми', 'мегапиксели', 'свръхпечалба', 'полиартритът', 'нослетата', 'ознаменувана', 'съвкупна']\n"
     ]
    }
   ],
   "source": [
    "# Print 20 random words with TF-IDF between 0.60 and 0.70\n",
    "print(words_df[(words_df['tfidf'] > 0.60) & (words_df['tfidf'] <= 0.70)].sample(20).word.tolist())"
   ]
  },
  {
   "cell_type": "markdown",
   "id": "800358df",
   "metadata": {},
   "source": [
    "* **OBSERVATION**: 1 invalid word ($0.6 < TFIDF < 0.7$)."
   ]
  },
  {
   "cell_type": "code",
   "execution_count": 41,
   "id": "379c213a",
   "metadata": {},
   "outputs": [
    {
     "name": "stdout",
     "output_type": "stream",
     "text": [
      "['масовизация', 'ъгълна', 'колпитът', 'здрачевина', 'сдухват', 'замерял', 'централноамерикански', 'примамливият', 'дръпваха', 'подсладя', 'множащите', 'поливано', 'гребят', 'заподозряните', 'четириседмичен', 'буахахаха', 'паращитовидна', 'натрапчивостта', 'припадналата', 'хаджът']\n"
     ]
    }
   ],
   "source": [
    "# Print 20 random words with TF-IDF between 0.50 and 0.60\n",
    "print(words_df[(words_df['tfidf'] > 0.50) & (words_df['tfidf'] <= 0.60)].sample(20).word.tolist())"
   ]
  },
  {
   "cell_type": "markdown",
   "id": "b942e4fa",
   "metadata": {},
   "source": [
    "* **OBSERVATION**: 2 invalid words ($0.5 < TFIDF < 0.6$)."
   ]
  },
  {
   "cell_type": "code",
   "execution_count": 42,
   "id": "f9a05282",
   "metadata": {},
   "outputs": [
    {
     "name": "stdout",
     "output_type": "stream",
     "text": [
      "['гладачно', 'неоформяне', 'петоъгълната', 'микроикономическите', 'хулиганствал', 'означавайки', 'декадентските', 'междугалактическия', 'връчвания', 'вълновода', 'офталмохирург', 'белтъчена', 'бележил', 'диосгенинът', 'протрила', 'гликозидната', 'дермаролерът', 'таинствено', 'електроакустични', 'анихилатор']\n"
     ]
    }
   ],
   "source": [
    "# Print 20 random words with TF-IDF between 0.40 and 0.50\n",
    "print(words_df[(words_df['tfidf'] > 0.40) & (words_df['tfidf'] <= 0.50)].sample(20).word.tolist())"
   ]
  },
  {
   "cell_type": "markdown",
   "id": "a1862c59",
   "metadata": {},
   "source": [
    "* **OBSERVATION**: 3 invalid words ($0.4 < TFIDF < 0.5$)."
   ]
  },
  {
   "cell_type": "code",
   "execution_count": 43,
   "id": "ad52cc9d",
   "metadata": {},
   "outputs": [
    {
     "name": "stdout",
     "output_type": "stream",
     "text": [
      "['стохотворения', 'хидроагрегат', 'едномарковата', 'иналото', 'пожеление', 'развъня', 'кандидиатки', 'сигнализиращото', 'хиперимунната', 'мисълчица', 'неприятнос', 'елиттур', 'лавровишнята', 'тийчър', 'анураци', 'ижте', 'хапнати', 'излзиат', 'клонални', 'отраслеви']\n"
     ]
    }
   ],
   "source": [
    "# Print 20 random words with TF-IDF between 0.30 and 0.40\n",
    "print(words_df[(words_df['tfidf'] > 0.30) & (words_df['tfidf'] <= 0.40)].sample(20).word.tolist())"
   ]
  },
  {
   "cell_type": "markdown",
   "id": "44052e82",
   "metadata": {},
   "source": [
    "* **OBSERVATION**: 4 invalid words ($0.3 < TFIDF < 0.4$).\n",
    "\n",
    "In general, this simple test proves that words with lower TFIDF have higher probability to be invalid."
   ]
  },
  {
   "cell_type": "markdown",
   "id": "7e0cf860",
   "metadata": {},
   "source": [
    "Let's evalute the delta between our vocabulary and different TF-IDF segments."
   ]
  },
  {
   "cell_type": "code",
   "execution_count": 44,
   "id": "90fb13a1",
   "metadata": {},
   "outputs": [
    {
     "name": "stdout",
     "output_type": "stream",
     "text": [
      "Number of unknown words in segment 0.95 - 1.00: 0\n",
      "[]\n",
      "----------------------------------------------------------------------------------------------------\n",
      "Number of unknown words in segment 0.90 - 0.95: 9\n",
      "['аман', 'братко', 'дрън', 'егати', 'елате', 'лат', 'милейди', 'нерде', 'окей']\n",
      "----------------------------------------------------------------------------------------------------\n",
      "Number of unknown words in segment 0.85 - 0.90: 110\n",
      "['айде', 'амин', 'арганово', 'атопичен', 'бам', 'баце', 'бегай', 'бес', 'био', 'биткойн', 'бла', 'благодарско', 'блек', 'блендер', 'богу', 'болеше', 'болят', 'брато', 'вайбър', 'веган', 'вегани', 'верно', 'воскресе', 'глюкозамин', 'голем', 'дан', 'дедо', 'дел', 'детокс', 'дрон', 'друже', 'дъще', 'ебаси', 'ебати', 'евала', 'еко', 'екскретира', 'задълго', 'закъде', 'исусе', 'йок', 'каланхое', 'кардио', 'карнитин', 'ква', 'кето', 'киноа', 'кор', 'коронавирусът', 'креатин', 'криптовалути', 'къв', 'локдаун', 'мадам', 'маз', 'макс', 'мал', 'мале', 'мастър', 'мега', 'мегапикселова', 'мемори', 'мойта', 'мойте', 'мойто', 'мъфини', 'наесен', 'насериозно', 'недейте', 'нема', 'обикновенно', 'оттука', 'охо', 'парабени', 'пелети', 'пос', 'потрепера', 'про', 'противопоказан', 'противопоказана', 'противопоказани', 'противопоказано', 'рун', 'селфи', 'сим', 'сичко', 'следобяд', 'смех', 'смс', 'споко', 'стевия', 'супозитории', 'тати', 'тва', 'твойта', 'тез', 'термо', 'тея', 'тогаз', 'тоз', 'требе', 'уау', 'фейк', 'форте', 'фрийлансър', 'хас', 'хепарин', 'холецистит', 'цък', 'шейсет']\n",
      "----------------------------------------------------------------------------------------------------\n",
      "Number of unknown words in segment 0.80 - 0.85: 569\n",
      "['аблация', 'авторке', 'автофокус', 'агар', 'аденокарцином', 'аджеба', 'адюнктата', 'аза', 'азът', 'айрян', 'аква', 'акото', 'алилуя', 'аменорея', 'ангиоедем', 'ангиопатия', 'анонимизирани', 'антиконвулсанти', 'антипсихотици', 'антихипертензивни', 'антуриум', 'апартхотел', 'апликатор', 'апликатора', 'априори', 'арган', 'аргановото', 'аргинин', 'асана', 'асани', 'асимптоматичен', 'асимптоматично', 'астро', 'асцит', 'атерома', 'атопичният', 'аферим', 'афилиейт', 'ацетилсалицилова', 'ацетилсалициловата', 'ашваганда', 'бата', 'бати', 'батка', 'беба', 'бебка', 'бебо', 'беж', 'безглутенови', 'бело', 'беха', 'бидат', 'бикина', 'бионаличност', 'бионаличността', 'биоразградими', 'биткойна', 'биткойни', 'биткойнът', 'бифидобактерии', 'блендера', 'блефарит', 'блокер', 'блокери', 'блокчейн', 'блонди', 'блутут', 'бонсай', 'брандиране', 'брауни', 'брекети', 'бременеене', 'брум', 'бря', 'бтв', 'бурсит', 'бустерна', 'бутер', 'вагиноза', 'вазоконстрикторни', 'ваксинационен', 'варикоцеле', 'васкулит', 'веганите', 'везикули', 'веке', 'веки', 'веков', 'вело', 'венге', 'вендинг', 'вентрикулите', 'вервай', 'вервайте', 'вервам', 'веч', 'видяли', 'винтидж', 'винтоверт', 'вовеки', 'воистина', 'волатилност', 'всинца', 'въззивната', 'въй', 'въх', 'гейминг', 'гербавите', 'гербаджийски', 'герберастите', 'гестационен', 'гестационна', 'гликемичен', 'гликолова', 'глицин', 'гломерулонефрит', 'глутатион', 'глюкокортикостероиди', 'глюконат', 'голема', 'големо', 'гра', 'гуш', 'двамина', 'деба', 'дев', 'дежа', 'декупаж', 'делукс', 'десятката', 'дет', 'джанъм', 'диатеза', 'димер', 'дисбиоза', 'диспенсър', 'диспнея', 'дифузер', 'доброволчеството', 'доде', 'додо', 'доживот', 'докрая', 'дорде', 'дрона', 'дронове', 'дроновете', 'дронът', 'дънк', 'дя', 'евалата', 'евалла', 'европредседателството', 'едем', 'едного', 'езофагит', 'екс', 'ексел', 'екскретират', 'ексудат', 'ексфолира', 'ексфолиращ', 'еле', 'елексир', 'ендометриума', 'еозинофилите', 'епа', 'ерго', 'еритематозус', 'еритромицин', 'ехе', 'жалбоподателката', 'желязодефицитна', 'живяли', 'замалко', 'заподозрения', 'заподозреният', 'запример', 'зарад', 'зна', 'знайш', 'зумба', 'зън', 'иврит', 'идиопатична', 'изведнаж', 'излезна', 'излезнат', 'излезнаха', 'излезне', 'изолат', 'именици', 'имениците', 'имуномодулиращи', 'имуномодулиращо', 'имуностимулант', 'имуностимуланти', 'инверторен', 'инвитро', 'инокс', 'инулин', 'инфлуенсър', 'инфлуенсъри', 'инфографика', 'йес', 'кала', 'капут', 'карнитинът', 'каротеноиди', 'касерола', 'кафемашина', 'кемпер', 'кератит', 'киберсигурност', 'киберсигурността', 'кикаха', 'киноата', 'кладница', 'клирънс', 'клубени', 'клубените', 'ковид', 'ковида', 'коди', 'колцина', 'комбуча', 'комедони', 'комерс', 'комисион', 'комп', 'компа', 'компресионни', 'копирайтинг', 'копринка', 'коронавирус', 'коронавируса', 'коронавирусна', 'коронавирусната', 'коронакризата', 'коуч', 'коучинг', 'кра', 'крафт', 'креатинин', 'креатинът', 'крекери', 'крипто', 'криптовалута', 'криптовалутата', 'криптовалутите', 'крутони', 'ксилитол', 'куркумин', 'куркуминът', 'къш', 'лайк', 'лайкове', 'лайм', 'лаксативи', 'лактулоза', 'ламбда', 'лани', 'ланцетни', 'лапароскопия', 'лапароскопията', 'лате', 'лево', 'левцин', 'лег', 'лезии', 'лезиите', 'лезия', 'лезията', 'лет', 'лето', 'леторастите', 'лимец', 'лимфаденит', 'лимфом', 'линолова', 'липаза', 'липопротеини', 'лумен', 'лумена', 'лупус', 'лутеин', 'мадмоазел', 'мазителна', 'мазителната', 'мазньо', 'мазта', 'мазът', 'макадамия', 'макро', 'макролиди', 'малчо', 'маме', 'мастер', 'мастопатия', 'мате', 'матряла', 'мдам', 'мегапикселов', 'медиа', 'мер', 'микрофибърна', 'миозит', 'мицеларна', 'многая', 'мож', 'моно', 'монохидрат', 'моноцитите', 'моп', 'моторика', 'мрън', 'мулти', 'мултикукър', 'мулч', 'мулчиране', 'мхм', 'мъждене', 'мъфините', 'мяу', 'наживо', 'назофаринкса', 'намазка', 'намясто', 'нано', 'наобратно', 'напът', 'нарязайте', 'начаса', 'нашта', 'наште', 'невус', 'недотам', 'незалепващо', 'нейн', 'некви', 'некои', 'некой', 'неколкостотин', 'немам', 'немаш', 'немаше', 'неоплазма', 'неоплазмата', 'неоплазми', 'нетъкан', 'неутрофили', 'неутрофилите', 'новодиагностицираните', 'някакси', 'няква', 'някви', 'няколкостотин', 'няколкото', 'оба', 'овци', 'одеало', 'оксидативен', 'опорка', 'опорки', 'опс', 'органик', 'ортеза', 'осанна', 'отвреме', 'отвсякога', 'оти', 'палео', 'палпиране', 'паник', 'панкреатин', 'папиломен', 'папули', 'парентерално', 'парко', 'пароксизмална', 'педито', 'пелетите', 'пентакли', 'пептична', 'пергола', 'печ', 'пико', 'планк', 'погрешката', 'погрешки', 'погрешките', 'подкаст', 'подкаста', 'подматрачна', 'подмярка', 'полар', 'полу', 'помилуй', 'попфолк', 'поравно', 'постарому', 'пота', 'пош', 'правиме', 'праиш', 'пребиотици', 'предсърдно', 'прееклампсия', 'пробиотични', 'пролапс', 'протеинурия', 'профи', 'пук', 'пулпата', 'пундит', 'разтрепера', 'райх', 'рат', 'рата', 'ратан', 'регургитация', 'рейк', 'ретривър', 'рефлукс', 'рибофлавин', 'риг', 'ритейл', 'руни', 'сайдинг', 'сакрума', 'сашета', 'све', 'свеки', 'свен', 'свет', 'своего', 'свойта', 'свойте', 'себореен', 'селфита', 'сенсей', 'сие', 'сиктир', 'сира', 'сите', 'сички', 'склерата', 'склеротерапия', 'слинг', 'слънцезащита', 'смирна', 'смутита', 'снек', 'сорбенти', 'сорбитол', 'соросоиди', 'спецпрокуратурата', 'спинална', 'спирулина', 'спондилит', 'стак', 'стартъп', 'стартъпи', 'статини', 'стеарат', 'стендъп', 'стотин', 'страбизъм', 'суб', 'суит', 'сукуленти', 'сульо', 'суп', 'супозиториите', 'супозитория', 'сървис', 'таквиз', 'таквоз', 'тако', 'таковата', 'тамън', 'тарт', 'таурин', 'твойте', 'твойто', 'тей', 'тем', 'тех', 'тийзър', 'тиймбилдинг', 'тиреоидит', 'токени', 'токоферол', 'токсикоза', 'толко', 'тотал', 'трахеит', 'требва', 'тренер', 'тригон', 'трофични', 'туит', 'туйто', 'тю', 'тяхните', 'убаво', 'уебинар', 'улцерозен', 'упс', 'уролитиаза', 'факто', 'фарма', 'фета', 'фетална', 'филър', 'филъри', 'финтех', 'фисури', 'фитоестрогени', 'фишинг', 'флеболог', 'фотопауза', 'фталати', 'фънки', 'фърмуера', 'халал', 'хах', 'хаштаг', 'хеви', 'хейт', 'хейтър', 'хейтъри', 'хейтърите', 'хелминти', 'хемангиоми', 'хепатопротектори', 'хепатоцитите', 'хиалурон', 'хидро', 'хипер', 'хипергликемия', 'хиперемия', 'хиперпигментация', 'хипертиреоидизъм', 'хиперхидроза', 'хипоалергенен', 'хипоалергенна', 'хипоалергенни', 'хипоалергичен', 'хипохондриум', 'хихи', 'холелитиаза', 'холката', 'хондроитин', 'хондропротектори', 'хостел', 'хъм', 'цитрат', 'цунки', 'чиа', 'чорбаджи', 'шам', 'шейсетте', 'шот', 'шота', 'щот', 'юрисконсултско', 'язе', 'ят']\n",
      "----------------------------------------------------------------------------------------------------\n",
      "Number of unknown words in segment 0.75 - 0.80: 1,295\n",
      "['авва', 'авио', 'автоантитела', 'агонисти', 'агранулоцитоза', 'адаптоген', 'адаптогени', 'аденомиоза', 'аденомиозата', 'аднексит', 'адювантна', 'аеро', 'азелаинова', 'ази', 'аки', 'алах', 'алейна', 'алелуя', 'алиекспрес', 'алкантара', 'алоу', 'алтер', 'амблиопия', 'амбробене', 'американ', 'амилия', 'амилоидоза', 'амина', 'амини', 'аминогликозиди', 'аминотрансфераза', 'амла', 'амниоцентеза', 'анавар', 'анастомоза', 'ангиоми', 'андрогенен', 'андрогенна', 'аневризъм', 'анкилозиращ', 'антиваксър', 'антимикотични', 'антипаразитен', 'антитромбоцитни', 'антитусивни', 'антоцианини', 'антуриумът', 'анулации', 'анцунг', 'апа', 'апликатори', 'апликаторът', 'апсалар', 'араб', 'аргининът', 'ареата', 'асаните', 'асимптоматична', 'асимптоматични', 'асконата', 'астрал', 'астрала', 'атеромата', 'атопична', 'атопичния', 'аускултация', 'аутлет', 'ацетил', 'ацидофилус', 'базофилите', 'бактериостатично', 'балнео', 'банкянски', 'баннат', 'барс', 'басмати', 'баха', 'бегайте', 'безлюбието', 'бейб', 'бензодиазепини', 'бехме', 'бибип', 'билиарна', 'биоразградим', 'биос', 'биосигурност', 'биофлавоноиди', 'бифидобактериите', 'бланк', 'блендирайте', 'блефаропластика', 'блокерите', 'блокчейна', 'блокчейнът', 'бойче', 'боке', 'боксофис', 'боксофиса', 'болков', 'болкови', 'болковите', 'болковия', 'болковият', 'бонго', 'босвелия', 'брандинг', 'брандирана', 'брандирането', 'братчед', 'брег', 'брекетите', 'брексит', 'бриг', 'бро', 'броколито', 'бронходилататори', 'бръм', 'брях', 'буги', 'буйки', 'булгари', 'буут', 'бър', 'бързосъхнещ', 'бързосъхнеща', 'бърнър', 'вазодилататори', 'вазодилатация', 'вазоконстриктивни', 'вазоконстриктор', 'вазоконстрикторно', 'вазоспазъм', 'ваксинационни', 'ваксинационните', 'ваксинационния', 'ваксинационният', 'валенце', 'варици', 'ватова', 'веданта', 'везикулите', 'вербена', 'верваш', 'верка', 'верна', 'вес', 'видеорегистратор', 'видяни', 'викс', 'винтоверти', 'витекс', 'включая', 'влаго', 'влогър', 'влогъри', 'водо', 'водоструйка', 'возия', 'возкресе', 'волатилността', 'вулгарис', 'въззиваемата', 'въззивна', 'въззивния', 'въззивно', 'въззивното', 'вярни', 'гайковерт', 'ганаш', 'гарвану', 'гастродуоденит', 'гастроезофагеален', 'гейминга', 'гейнър', 'гербави', 'гербераст', 'герберасти', 'герберастки', 'гестоза', 'гипскартон', 'гликемичният', 'гликиран', 'глицинът', 'глюкозаминът', 'глюкометър', 'говориме', 'гонартроза', 'горчични', 'гравис', 'графен', 'грач', 'грух', 'гуава', 'густо', 'гхи', 'гък', 'далечко', 'дамане', 'двори', 'деде', 'дедовия', 'деескалация', 'дежавю', 'дейта', 'деконгестанти', 'демодекоза', 'демодикоза', 'денга', 'дермални', 'дерогация', 'десятка', 'детоксикатор', 'дефолт', 'джуджи', 'дзверски', 'дзън', 'дианче', 'диастаза', 'диатезата', 'дивертикулоза', 'дизартрия', 'дилдо', 'дип', 'дирхама', 'дисбиозата', 'дискорд', 'дисменорея', 'диспептични', 'дистрикт', 'дистрофични', 'дисфагия', 'дита', 'дихидротестостерон', 'доброволчество', 'докинг', 'докле', 'домофонна', 'доне', 'дорийн', 'досами', 'досьо', 'дотука', 'дощя', 'дрифт', 'дропшипинг', 'другаре', 'дъбене', 'дяда', 'ебахти', 'европарламент', 'европарламентът', 'евросъюзът', 'евър', 'егаси', 'екзацербации', 'екзит', 'експандиран', 'ексфолиращи', 'елей', 'електрокоагулация', 'емболизация', 'емоджи', 'ендометрит', 'ендометриумът', 'ентеробиоза', 'еозинофилия', 'епигастриума', 'епикондилит', 'епифизната', 'ептен', 'ераст', 'ериус', 'еспадрили', 'еспумизан', 'ехогенност', 'живе', 'жлъчегонно', 'журналя', 'журналята', 'загдето', 'заднешком', 'законоустановения', 'заман', 'заникъде', 'затрепера', 'заустване', 'зеландони', 'зема', 'зеолит', 'зиг', 'ивент', 'игнор', 'идиопатичен', 'изабелла', 'излив', 'изотоничен', 'импакт', 'имуноанализ', 'инверторни', 'инвестмънт', 'ингвинална', 'ингвиналната', 'ингвиналните', 'интерконектора', 'интерконекторът', 'интеркостална', 'инфинити', 'инфлуенсърите', 'исто', 'иха', 'какафония', 'калине', 'калус', 'калцификация', 'канабиноиди', 'кане', 'кантор', 'карантиниране', 'кардиосклероза', 'кармади', 'карпалния', 'касаторът', 'касия', 'каст', 'катана', 'катехоламини', 'катомбо', 'кафеви', 'кафемашината', 'кафемашини', 'кахексия', 'кахраман', 'квилинг', 'кейсове', 'кемпера', 'кемпери', 'кемпър', 'кено', 'кератоза', 'кетогенна', 'кетогенната', 'кетоза', 'кешбек', 'кик', 'кимчи', 'кистозна', 'кифоза', 'клавуланова', 'клауд', 'клубари', 'клубарите', 'клъб', 'клъч', 'коагулограма', 'коги', 'колоректален', 'колпоскопия', 'комарник', 'комарници', 'комбо', 'комедоните', 'компакт', 'компани', 'комплексарщина', 'компресивни', 'компресионните', 'комуне', 'комунета', 'кондиломи', 'конт', 'контрактура', 'контуриране', 'коньо', 'копат', 'копривка', 'корола', 'коронавируси', 'корпорейшън', 'котидж', 'коучингът', 'кофтито', 'краш', 'креатина', 'криейтив', 'криодеструкция', 'кросфит', 'круп', 'крупата', 'куест', 'куестове', 'куиз', 'куизове', 'кукуво', 'кунг', 'купероза', 'кък', 'кьор', 'кюретаж', 'лабаво', 'ламби', 'левкоплакия', 'левкоцитната', 'лено', 'лепилна', 'лепски', 'лигиране', 'лимецът', 'лимфаденопатия', 'лимфедем', 'лимфоидна', 'лимфоидната', 'лимфоми', 'лимфостаза', 'лини', 'линимент', 'линоленова', 'липопротеините', 'лита', 'лобелия', 'локдауна', 'лол', 'лордоза', 'лотус', 'лузър', 'луменът', 'лутеалната', 'лутеинът', 'льольо', 'магнитотерапия', 'майдан', 'маймун', 'макетата', 'макролидите', 'макронутриенти', 'максиларните', 'малабсорбция', 'малечко', 'малце', 'малчовците', 'маман', 'мамита', 'мамма', 'манас', 'мангъра', 'мандор', 'манука', 'мараба', 'маран', 'машала', 'машалла', 'медиата', 'мена', 'мерино', 'мет', 'метавселената', 'мигрантска', 'мигрантската', 'мигрантски', 'мигрантския', 'мидж', 'микоплазма', 'микробиом', 'микробиома', 'микродермабразио', 'милене', 'мимо', 'мисо', 'мицеларен', 'мицеларната', 'многоплодна', 'многофамилни', 'можал', 'мока', 'мониториране', 'моноклонални', 'мононенаситени', 'монотерапия', 'морещицата', 'муколитици', 'муколитично', 'мултицет', 'мулчира', 'мулчирането', 'муци', 'муцка', 'мъко', 'мълниезащита', 'нази', 'назолабиалните', 'найда', 'найс', 'наката', 'нала', 'намаляне', 'нами', 'наникъде', 'напоете', 'напрактика', 'наратив', 'нарко', 'насе', 'нататъка', 'наужким', 'нашего', 'наще', 'невуси', 'нега', 'негро', 'недоразвитие', 'нежели', 'незалепващ', 'неинфекциозен', 'неинфекциозни', 'неква', 'некво', 'некое', 'неколко', 'некоя', 'некротични', 'нектарини', 'некъде', 'немазна', 'немаме', 'немат', 'немой', 'немоторизирани', 'неоплазмите', 'непоследен', 'непредадени', 'нервоза', 'нехормонални', 'низорал', 'нийм', 'никва', 'нимандър', 'нитро', 'них', 'нони', 'ноотропи', 'ноотропил', 'ноотропни', 'ностра', 'носферату', 'нутела', 'нутриенти', 'нъцки', 'някво', 'обряд', 'обсесивни', 'обсесивно', 'обсесия', 'овците', 'овърклок', 'одеала', 'одеалото', 'оклузия', 'окомплектовка', 'оксалати', 'оксидативния', 'октагона', 'оливети', 'омг', 'онея', 'онихомикоза', 'опиоиди', 'опипом', 'опорките', 'орофаринкса', 'остеоартроза', 'остеофити', 'отвар', 'относими', 'отхрачване', 'отхрачването', 'офтопик', 'папили', 'папиломавирус', 'папулите', 'параназалните', 'парапроктит', 'парестезия', 'паро', 'парочистачка', 'пастили', 'патронажна', 'паци', 'пачове', 'педераси', 'педикулоза', 'пелетна', 'пелетни', 'пендел', 'пентхаус', 'перголи', 'пердута', 'периартрит', 'персистираща', 'персон', 'пикси', 'пикър', 'пилори', 'пипса', 'пирантел', 'пис', 'пиу', 'плацентарната', 'плей', 'плийз', 'плоскоклетъчен', 'плс', 'плясна', 'повърхностноактивни', 'подкосъм', 'подматрачни', 'поднормено', 'подтон', 'подфорум', 'покет', 'покривност', 'ползваема', 'ползу', 'поликистоза', 'поликистозни', 'поликистозните', 'полипоза', 'полисорб', 'полит', 'полиурия', 'полусинтетичен', 'полусинтетични', 'померан', 'помпадур', 'помпадура', 'попето', 'попфолка', 'порша', 'посвоему', 'прай', 'предиобед', 'предпечат', 'предсърдното', 'преживения', 'презентиране', 'препубликуване', 'прерна', 'принцеска', 'проактивни', 'пробиотичните', 'пров', 'провлачи', 'прокоп', 'просеко', 'проспан', 'протеаза', 'протей', 'протект', 'протестъри', 'протестърите', 'протоиерей', 'профит', 'процесната', 'прощъпулник', 'психосоматика', 'псориатичен', 'пульо', 'путинова', 'пуш', 'пър', 'първом', 'райд', 'рандомизирани', 'рансъмуер', 'рассия', 'рашките', 'реваксинация', 'резник', 'рейсинг', 'рейсър', 'рейт', 'ремаркетинг', 'рент', 'ресет', 'реси', 'ретиноиди', 'реферали', 'рехидратация', 'риал', 'родовитост', 'роду', 'ройбос', 'ронин', 'росене', 'роска', 'ротавирус', 'ротавирусна', 'рубладжии', 'румене', 'руните', 'рустик', 'сабо', 'сайдар', 'сакам', 'сакаш', 'самонарезни', 'самсара', 'сапани', 'саркоидоза', 'сарком', 'сарматите', 'сахиб', 'светая', 'свойто', 'свръхрастеж', 'сдвояване', 'сеанчанците', 'себето', 'себума', 'седация', 'селфито', 'сенсибилизация', 'серамиди', 'серенити', 'сигмоидоскопия', 'силка', 'симптоматологията', 'синовит', 'сиска', 'сичките', 'сичкото', 'скатер', 'скинията', 'склеротерапията', 'скрийн', 'сладурковци', 'слинга', 'слънцезащитата', 'смекта', 'смешко', 'смутито', 'солар', 'солеви', 'солкосерил', 'сонома', 'сонче', 'соросоид', 'соросоидите', 'соте', 'сотирайте', 'софтгел', 'спамя', 'спецсъда', 'спецсъдът', 'спиналната', 'спирулината', 'спондилоза', 'спряли', 'стаа', 'сталкер', 'стартъпа', 'стартъпите', 'статините', 'стевията', 'стероли', 'стилус', 'стоели', 'сток', 'стоунър', 'субуфер', 'суити', 'суитшърт', 'суплементи', 'суфи', 'сушилник', 'сцинтиграфия', 'съжеление', 'съншайн', 'сървиз', 'съслужиха', 'табата', 'таби', 'тавариш', 'тавегил', 'тагнато', 'таква', 'тактилни', 'таме', 'танг', 'тане', 'таничка', 'тапас', 'таргетиране', 'тарта', 'тату', 'теке', 'текстурирана', 'телно', 'телом', 'тендинит', 'тенкс', 'тенкю', 'терияки', 'термозащита', 'тета', 'тиби', 'тиквун', 'тимуса', 'тиреоидни', 'тироидит', 'титър', 'токсикозата', 'толтеките', 'топик', 'трансмазнини', 'трейдър', 'трейдъри', 'трейдърите', 'тренди', 'тренера', 'тресчотка', 'тригеминалния', 'трижди', 'трипс', 'трихолог', 'трихомониаза', 'троле', 'тролене', 'троли', 'тролинг', 'тролиш', 'тромбофилия', 'троп', 'тубули', 'туитове', 'туринг', 'тъпомера', 'тюркоазени', 'тюркоазено', 'тюх', 'убав', 'убава', 'убави', 'увеит', 'увреда', 'удри', 'уебинари', 'уиндоуса', 'уй', 'умрел', 'уоу', 'урати', 'уролитиазата', 'утрогестан', 'фадо', 'фаленопсис', 'фана', 'фарм', 'фармакокинетика', 'фармакокинетиката', 'фарси', 'фасилити', 'фаст', 'фебрилни', 'фенибут', 'фертилитета', 'фестал', 'феталната', 'феър', 'фиамета', 'фибробластите', 'фиброиди', 'фибромиалгия', 'физалис', 'фила', 'филърите', 'фисура', 'фитоестрогените', 'фитонутриенти', 'фитостероли', 'флашмоб', 'флебектомия', 'флип', 'флорина', 'флоринда', 'флористи', 'флуорохинолоните', 'флъш', 'фокси', 'фоликуларна', 'фоликуларната', 'фоликулит', 'фонофореза', 'фрезоване', 'фуксия', 'фунгицидно', 'фундуса', 'фурункулоза', 'фъдж', 'хайл', 'хайлайтър', 'хакатон', 'хамамелис', 'хане', 'ханъм', 'харе', 'хатха', 'хаштага', 'хаштагове', 'хейлит', 'хелма', 'хелминтите', 'хелминтоза', 'хелоу', 'хелп', 'хемангиома', 'хемолиза', 'хемоптиза', 'хемостатични', 'хемостатично', 'хепаринов', 'хепаринът', 'хепатоза', 'хепатомегалия', 'хепатоцити', 'херпесна', 'херпесния', 'хеш', 'хигрома', 'хидрогел', 'хидрогенирани', 'хидрогите', 'хидрокси', 'хидролизат', 'хидронефроза', 'хималая', 'химио', 'хипервитаминоза', 'хиперикум', 'хиперкератоза', 'хиперхидрозата', 'хипокалиемия', 'хипоплазия', 'хипофункция', 'хирудотерапия', 'хирудотерапията', 'хистаминовите', 'хистероскопия', 'хитозан', 'хлеб', 'хлъц', 'холангит', 'холеретични', 'холестаза', 'холецистектомия', 'холециститът', 'холтер', 'хондроза', 'хонорис', 'хоства', 'хостела', 'хостели', 'хостелът', 'хуба', 'цекума', 'цела', 'целата', 'цефалгия', 'цинджао', 'циркон', 'цитомегаловирус', 'цитросепт', 'чайлдърмас', 'чал', 'чатбот', 'чекай', 'четиресет', 'чиба', 'чита', 'чиче', 'човекопоток', 'чок', 'чопър', 'чуденка', 'шакти', 'шатъл', 'шаш', 'шизандра', 'шийтаке', 'шнорхелинг', 'шоко', 'шорт', 'шотове', 'шугар', 'шуслерова', 'шуслерови', 'шутър', 'ювиги', 'юре', 'яве', 'ягодоплодни']\n",
      "----------------------------------------------------------------------------------------------------\n",
      "Number of unknown words in segment 0.70 - 0.75: 3,262\n",
      "['абвера', 'автоагресия', 'автохемотерапия', 'агапе', 'агнозия', 'адапален', 'аденокарциномът', 'административнонаказателни', 'адсорбенти', 'аериране', 'айсинг', 'аквалор', 'аким', 'акселерометър', 'аксони', 'алабала', 'алгинат', 'алеви', 'алейкум', 'алел', 'алели', 'алкалоза', 'алканите', 'алки', 'амблиопията', 'амери', 'аминазин', 'аминотрансферазата', 'амниотична', 'амниотичната', 'ампел', 'ангиом', 'ангиома', 'ангиоспазъм', 'анис', 'анкери', 'анкерни', 'антикоагулантна', 'антимикотичен', 'антипсихотиците', 'антитромбин', 'антихелминтно', 'антихолинергични', 'антрален', 'анци', 'апетитовъзбуждащо', 'арахноидната', 'аресва', 'асаната', 'асимптомна', 'аскариди', 'аскаридоза', 'аскортуин', 'астери', 'атаракс', 'атма', 'атриовентрикуларен', 'аутфита', 'афтър', 'ацерола', 'ацетаминофен', 'ашкенази', 'байряка', 'баклофен', 'балаяж', 'банове', 'банши', 'баро', 'баче', 'башарът', 'баши', 'бегам', 'беге', 'безглутеново', 'безмислици', 'безрамков', 'безсребреници', 'белото', 'бензалкониев', 'бензилов', 'бенто', 'биб', 'биоревитализация', 'биорезонансна', 'бип', 'битурбо', 'блаженни', 'блажка', 'блистерна', 'блондинство', 'бодибилдъри', 'бойкоборисов', 'болеста', 'борната', 'брахитерапия', 'брейкбола', 'бронхиектазии', 'бубето', 'бурчин', 'бух', 'вазодилататор', 'вайбъра', 'вака', 'валерианата', 'валокордин', 'ванкомицин', 'варка', 'ватов', 'ваште', 'веднагически', 'велоклуб', 'вентрикула', 'вержи', 'вертиго', 'ветер', 'вечера', 'вибро', 'вивена', 'вират', 'виско', 'включ', 'влагоуловител', 'влане', 'влеза', 'воалит', 'водоструйката', 'всяк', 'вулвит', 'възмож', 'възоснова', 'вървяли', 'вътреставни', 'габапентин', 'габиони', 'ганаша', 'гардан', 'гелето', 'гербавата', 'германи', 'германите', 'гестационната', 'гестационния', 'гестационният', 'гинекомастията', 'гликемията', 'гломерулите', 'гломерулната', 'гнойът', 'говорящи', 'големата', 'голямите', 'гопи', 'горенаписаното', 'горун', 'горчичен', 'гошия', 'дайде', 'даките', 'данжу', 'данке', 'дахно', 'двамината', 'двамката', 'двуспално', 'девисил', 'деган', 'декиш', 'декомпенсиран', 'декомпенсирана', 'деконгестантно', 'декс', 'демодекозата', 'демодекс', 'дено', 'денте', 'дермабразио', 'дерматомиозит', 'десквамация', 'джакръм', 'джандан', 'джап', 'джелем', 'джендърски', 'джиографик', 'джордана', 'джулка', 'джума', 'дзавала', 'диастазата', 'дивертикула', 'дизелгейт', 'дипломатик', 'диплопия', 'дипроспан', 'дистопия', 'дисфория', 'дите', 'дихидрат', 'добавлено', 'добрее', 'дого', 'доиде', 'доксон', 'долган', 'домбо', 'домо', 'донейде', 'доплерография', 'достъпвате', 'доцетаксел', 'доши', 'дразги', 'драм', 'древней', 'дринк', 'дроп', 'думит', 'дури', 'душкабина', 'еврогейски', 'евроидиоти', 'европростак', 'еднаж', 'еех', 'езерняците', 'езофагеален', 'екадаши', 'екзацербация', 'екзекютив', 'екселанс', 'екструзия', 'елан', 'ендометриална', 'ендометриалната', 'енерги', 'ение', 'енкодер', 'ентеробактерии', 'ентъртейнмънт', 'естриол', 'етиологичен', 'етиологични', 'етиологичния', 'етърци', 'еуцерин', 'ефтини', 'жозиан', 'жоржина', 'жорка', 'жослин', 'зако', 'запов', 'започ', 'засяти', 'зачезна', 'защот', 'здравче', 'зеленка', 'зеро', 'зим', 'знеш', 'зоополиция', 'зпзни', 'идеа', 'извесно', 'издательство', 'излезат', 'излезнала', 'излезнали', 'излезнем', 'измивен', 'измивна', 'израилевите', 'израстнали', 'израстнат', 'илиачната', 'илияне', 'иляди', 'имунокомпрометирани', 'инвестмънтс', 'индол', 'инервира', 'инжинер', 'инжинери', 'инозин', 'иноксови', 'инсайт', 'инстаграма', 'интегративна', 'интерагри', 'интеракция', 'интерконектор', 'интерстициален', 'интерстициална', 'интраназално', 'инулинът', 'иригоскопия', 'иридоциклит', 'искренни', 'истин', 'итонг', 'ишници', 'йеюнума', 'йодинол', 'йодомарин', 'йоланте', 'йорки', 'йохимбе', 'йохимбин', 'кадетки', 'каджи', 'кайш', 'каламус', 'калдерата', 'калината', 'калинке', 'калорекс', 'калуси', 'калусът', 'камел', 'камене', 'кампа', 'канабидиолът', 'канабиноидите', 'канюла', 'капрезе', 'капути', 'карнеол', 'каротеноидите', 'каскетурата', 'качак', 'кейса', 'кейтрин', 'келп', 'кептън', 'кератинови', 'кератоконюнктивит', 'кетонна', 'кзинтът', 'киберпрестъпниците', 'киндъл', 'кири', 'клапна', 'клеменза', 'коагулограмата', 'коглин', 'коджак', 'койн', 'кокцикса', 'колобър', 'командор', 'командора', 'комбат', 'комит', 'компресионен', 'компресионна', 'комуноиди', 'комшу', 'кона', 'кондиломите', 'конечно', 'конкурентноспособни', 'конюнктивалната', 'копаница', 'копаш', 'коприненост', 'корги', 'коркорън', 'коро', 'коронавирусни', 'коронал', 'коронасубсидии', 'кравария', 'крейсера', 'крекер', 'крио', 'криолиполиза', 'крок', 'крокотак', 'кръц', 'куара', 'куперозата', 'курантил', 'курни', 'кьде', 'лаваш', 'лайма', 'лакто', 'лактоферин', 'лакуните', 'лапе', 'ларингоспазъм', 'лауринова', 'левзея', 'левкорея', 'левкоцитна', 'левкоцитурия', 'лега', 'ленка', 'лепилни', 'либерастите', 'либерастията', 'ливит', 'лизиноприл', 'лизозим', 'лимфомът', 'липоевата', 'липолиза', 'листерия', 'литератур', 'лобули', 'ловиан', 'логосът', 'лоренцовите', 'лорик', 'лоркин', 'лостара', 'лофт', 'лумбосакралната', 'лумени', 'лутеална', 'лутеинизиращия', 'любица', 'люджан', 'лямблиоза', 'маалата', 'магнифлекс', 'маестра', 'майстерът', 'майтаке', 'маклаклън', 'малеат', 'малигнен', 'малку', 'малоу', 'малоумщина', 'малуер', 'маляка', 'мамета', 'манголд', 'мандали', 'манолаки', 'мантак', 'маняк', 'мараси', 'марджин', 'марианче', 'марнин', 'марула', 'масса', 'массаракш', 'машин', 'мегапикселовата', 'мегапикселови', 'мезентериална', 'мейд', 'меми', 'метатарзалната', 'метилкобаламин', 'метози', 'мехатроника', 'мидокалм', 'миелин', 'микобактерии', 'микобактериите', 'микроангиопатия', 'микроводорасли', 'микроконтролер', 'микрофибърни', 'милк', 'милки', 'мимка', 'мислиме', 'ммол', 'многозадачност', 'многоо', 'многосеменна', 'многофамилна', 'модераторски', 'модерирането', 'модерн', 'моем', 'момето', 'моноаминооксидазата', 'монотерапията', 'моноцитоза', 'мошенник', 'мрът', 'мудри', 'мукоза', 'мукозата', 'мукта', 'мултак', 'мултикукъра', 'мултиметър', 'мултитаскинг', 'мургите', 'мурзилки', 'мурзилките', 'мързеше', 'мъртав', 'мюсулмани', 'навет', 'надник', 'найвероятно', 'найде', 'найдобрите', 'найду', 'намалям', 'нанометров', 'направ', 'напрай', 'напреко', 'наративи', 'нард', 'нареч', 'нарколог', 'настройкиприемам', 'наталната', 'натурал', 'нафазолин', 'начал', 'невродегенеративни', 'неинфекциозно', 'некак', 'нелепнещо', 'немате', 'нена', 'неносене', 'неоплазия', 'неразбрал', 'неска', 'нескафе', 'несъм', 'нетренировъчни', 'неутрофилия', 'нехирургично', 'нечести', 'нечестие', 'ниал', 'нигела', 'никнейма', 'ничего', 'ништо', 'новодиагностицирани', 'новое', 'новому', 'нодуларна', 'нукс', 'нюбай', 'някава', 'обеснявам', 'овладяни', 'одил', 'одим', 'означва', 'озонотерапията', 'оидиум', 'оклузивна', 'окомплектовката', 'оксалатите', 'олиа', 'онлай', 'оох', 'описторхоза', 'опорката', 'оренда', 'оружие', 'осиг', 'осификация', 'особенности', 'остеосинтеза', 'отго', 'отишел', 'отколко', 'откровенни', 'оттърва', 'охоо', 'оче', 'пайдушко', 'палин', 'паляк', 'панакота', 'пангасиус', 'панкреасни', 'панкреатинът', 'папула', 'парабените', 'парахидроксибензоат', 'паращитовидните', 'пароксизмално', 'партите', 'патогенетични', 'патогенетично', 'пауловния', 'пауч', 'пеевските', 'пекани', 'пелетен', 'пелтие', 'пеперони', 'пепино', 'перинатална', 'пероксидаза', 'перфузия', 'петручио', 'пиезо', 'пимафуцин', 'пинко', 'пиодермия', 'пиперин', 'пиритион', 'писменно', 'питта', 'пичели', 'плантарна', 'плас', 'пластификатори', 'площа', 'пневмосклероза', 'пого', 'поголям', 'подкастът', 'подкошието', 'подмярката', 'подостра', 'подостър', 'подържане', 'пожароустойчиви', 'пожароустойчивост', 'поздрви', 'полио', 'политкоректността', 'полицайте', 'полуготовност', 'полуобзаведен', 'полусинтетично', 'получвам', 'поляти', 'помога', 'понякой', 'порастнал', 'порастнала', 'посипка', 'посольство', 'постменопауза', 'потенцира', 'потът', 'прават', 'правосубектност', 'први', 'предлежание', 'предсърдната', 'преко', 'преполагам', 'преполиване', 'пресотерапия', 'претапициране', 'прилож', 'приоритизиране', 'причастяване', 'пробиотичен', 'пробиотична', 'проветривост', 'произ', 'прок', 'прокимен', 'пролин', 'промопакет', 'пропо', 'прополисова', 'простатектомия', 'протеинурията', 'протеолитични', 'противоплъзгащо', 'протромбиновото', 'процесните', 'псевдомембранозен', 'психло', 'псориатични', 'пудовка', 'пулсомер', 'пурко', 'пуруша', 'пълноплащащи', 'пяни', 'рабира', 'работиме', 'радикулопатия', 'радиохирургия', 'раелин', 'развъдчик', 'развъдчиците', 'разд', 'разпиляни', 'разходомери', 'ралични', 'рамта', 'раптор', 'растът', 'ревита', 'реглан', 'редко', 'редуктаза', 'реж', 'резбови', 'резко', 'резна', 'рейдер', 'рейл', 'реколтирани', 'ренка', 'ренфрю', 'репатрак', 'репейно', 'репейско', 'репер', 'репо', 'рецидивът', 'риала', 'ривотрил', 'ридра', 'рилейшънс', 'рлинда', 'роина', 'роксан', 'романда', 'ромашкин', 'руки', 'рускоговорящи', 'русской', 'рутозид', 'рюджи', 'ряката', 'савидлин', 'саит', 'сайдра', 'сайте', 'саксите', 'салатни', 'самбукус', 'самост', 'саму', 'сарита', 'сармати', 'сата', 'сатениран', 'сати', 'сатори', 'саундбар', 'сафие', 'сдвояването', 'себорейна', 'севанна', 'северанс', 'сезал', 'секви', 'семеринги', 'септа', 'септемврий', 'сепуко', 'сертралин', 'сетлиста', 'сефира', 'сигмоидит', 'сигорно', 'силикагел', 'синастрия', 'синопсис', 'синт', 'сквален', 'скейтлок', 'сколько', 'скопе', 'скраба', 'скрепер', 'скриншот', 'славяна', 'слов', 'случей', 'смления', 'смуга', 'снимк', 'собрание', 'советская', 'сополки', 'сосче', 'сосчето', 'софора', 'софосбувир', 'социал', 'соч', 'спайдър', 'спами', 'спамим', 'спиронолактон', 'сплитер', 'ставроф', 'стендбай', 'стийм', 'стома', 'стоманобетонова', 'стор', 'стрептодермия', 'строит', 'стромата', 'струпясване', 'стьопка', 'суахили', 'субакутен', 'сублингвално', 'субсидиарност', 'суде', 'сукралоза', 'сукулентите', 'сукцинат', 'сулфорафан', 'сулфур', 'супермото', 'събмишън', 'съдопроизводствените', 'съобщениемоля', 'съсъд', 'съфорумници', 'таанците', 'тайн', 'таково', 'тала', 'таланвор', 'талезин', 'таралясник', 'тбраната', 'твновини', 'текстуриран', 'телеангиектазии', 'теремон', 'термогенен', 'термогенни', 'термопанели', 'тетра', 'тиймбилдинги', 'тимусната', 'тисамон', 'тлина', 'тлината', 'тново', 'тобрамицин', 'товае', 'токофероли', 'толуен', 'тонал', 'тонала', 'топика', 'траф', 'трафа', 'трахеитът', 'трахеобронхит', 'требваше', 'тремен', 'триа', 'тривитаминол', 'триж', 'трициклични', 'тройник', 'тромбин', 'тромбоемболични', 'тромботични', 'тромбоцитоза', 'трофизма', 'трофична', 'тубулите', 'тува', 'туита', 'тулси', 'тургор', 'тургора', 'турцит', 'туту', 'тюли', 'убавец', 'удобствазала', 'уебинарът', 'уенцел', 'ултрабук', 'улцерация', 'улцерозни', 'унас', 'универс', 'уреаплазма', 'уст', 'уърд', 'фактум', 'фалопиевата', 'фармакодинамични', 'фата', 'федора', 'фенел', 'фетален', 'фиатни', 'фибромиалгията', 'фитбол', 'фитолизин', 'фитоспорин', 'фитофтора', 'флипчарт', 'флопа', 'флорентин', 'флутиказон', 'фолати', 'фоликулостимулиращ', 'фосфомицин', 'фотоепилатор', 'фотоподмладяване', 'фотостареене', 'фрайди', 'фрийлансъри', 'фугаи', 'фумарат', 'фуроат', 'фурункул', 'фък', 'хаджият', 'хадис', 'хаиде', 'хало', 'халюциноза', 'харват', 'харддиск', 'харнаш', 'хасане', 'хауз', 'хаштаговете', 'хая', 'хваление', 'хван', 'хейтърски', 'хелминтни', 'хемангиомът', 'хемодинамика', 'хемодинамични', 'хемохроматоза', 'хената', 'хепатобилиарната', 'хепатоцелуларен', 'херпесната', 'херпесният', 'хидроксихлорохин', 'хидрохинон', 'хидроцеле', 'хиперопия', 'хиперпролактинемия', 'хиперсекреция', 'хипертоничност', 'хипоалергенните', 'хипотензивни', 'хистаминови', 'хистероскопията', 'хлорелата', 'хлорогенна', 'хори', 'хоризонталата', 'хорион', 'храсторез', 'хубу', 'хъх', 'целото', 'церебролизин', 'цетрин', 'цефалалгия', 'цилиарния', 'циметидин', 'цинаризин', 'циркадните', 'циркадния', 'циркулаторна', 'цисплатин', 'цистин', 'цоцат', 'чакръкчия', 'чард', 'чашелистчета', 'черкова', 'чески', 'чехльо', 'човешк', 'чувек', 'чустват', 'шатуш', 'широ', 'шнека', 'шурк', 'юзери', 'юката', 'ютакалтинг', 'ядеме', 'язик', 'яйчников', 'яйчниковия', 'яр', 'ясене']\n",
      "----------------------------------------------------------------------------------------------------\n",
      "Number of unknown words in segment 0.65 - 0.70: 6,380\n",
      "['абнормно', 'аваст', 'ават', 'авест', 'автоложна', 'адаптогенно', 'аденокарциноми', 'аджаба', 'адипоцити', 'айча', 'акарициди', 'акатизия', 'аквадетрим', 'актосъставителят', 'аладар', 'алайнери', 'алекситимия', 'алкени', 'алоказия', 'алтернатив', 'алткойн', 'алу', 'америте', 'амигос', 'анат', 'ангар', 'ангиоедемът', 'андрогенетична', 'анестезин', 'анимата', 'анксиолитик', 'антидиуретичен', 'антипаразитна', 'антитромботично', 'апликаторите', 'априлчето', 'арахидоновата', 'армировъчна', 'артериовенозни', 'артродеза', 'архиканцлерът', 'асил', 'асимптомни', 'аскорил', 'астаксантинът', 'астилба', 'асъм', 'атазанавир', 'ателектаза', 'афер', 'аюрведическата', 'баако', 'бага', 'балоор', 'бандеровци', 'банеоцин', 'банкянска', 'банът', 'барик', 'батката', 'бебеносене', 'бебоче', 'бегали', 'бегаш', 'безаналогови', 'безел', 'безмислените', 'безогледални', 'белата', 'бена', 'бензодиазепин', 'бензоената', 'бергамаските', 'бетадин', 'бибоб', 'биен', 'билинг', 'биодинамично', 'биофидбек', 'бисквит', 'бистричани', 'бисфосфонати', 'бицепсово', 'благодариме', 'блг', 'блендери', 'блендерът', 'блес', 'блик', 'блокаут', 'блуграс', 'блуз', 'бовта', 'богатсво', 'бозони', 'болгари', 'брадикинин', 'бракя', 'братчеди', 'бред', 'брем', 'бромелаинът', 'бронхиоли', 'брош', 'брт', 'буд', 'будем', 'буду', 'буле', 'булет', 'булченски', 'българомразци', 'бъра', 'ваксърите', 'валдорфската', 'вантаджо', 'варг', 'варикоцелето', 'вато', 'ваю', 'вдин', 'вднг', 'везикула', 'везикулит', 'велмар', 'венабили', 'венедиктов', 'версиколор', 'верт', 'веселчун', 'взаимнозаменяеми', 'взаимноизключващи', 'виброшлайф', 'визионерство', 'вилке', 'винка', 'винтоверта', 'виремия', 'вирусоцидно', 'вискозитетен', 'витализира', 'вишисти', 'вла', 'влогърът', 'вов', 'водолейчета', 'вои', 'воистину', 'ворлд', 'впе', 'врема', 'всмисъл', 'входирам', 'входират', 'възз', 'възможнос', 'въху', 'гав', 'галатяните', 'гастропатия', 'геймингът', 'гекон', 'георгини', 'гепатромбин', 'геройте', 'главесто', 'гласник', 'глиоза', 'глутаминовата', 'глюкозо', 'глюконеогенезата', 'големото', 'грамите', 'грахам', 'гризини', 'гроп', 'груди', 'гюзел', 'дагит', 'далацин', 'даосите', 'девството', 'дегу', 'дедов', 'дейдара', 'декалите', 'делир', 'демар', 'демоа', 'депакин', 'дермаролер', 'десилва', 'десио', 'десностранна', 'джакфрут', 'джарл', 'джези', 'джейл', 'джейлбрейк', 'джендърска', 'джениел', 'джийни', 'джулката', 'джустиниани', 'дзадзо', 'диабете', 'дивелъпмънт', 'диглюконат', 'дидрогестерон', 'дизаин', 'дилдото', 'диметинден', 'димира', 'дискуси', 'дистимия', 'дистро', 'дифузори', 'добо', 'доброзорно', 'доминатор', 'дорзалната', 'доръти', 'достъпва', 'дофината', 'дошите', 'драймън', 'драс', 'дупелюбец', 'дура', 'дът', 'ебът', 'евет', 'еврогейските', 'евтиност', 'евче', 'егрегорът', 'едемът', 'едклинт', 'еду', 'езомепразол', 'езофагеалната', 'експириънс', 'екстил', 'екстирпация', 'екстраверт', 'екстрапирамидни', 'екстрем', 'ексудатът', 'еластинови', 'еластиновите', 'електростимулатор', 'елементали', 'емолиент', 'емпием', 'ендодонтия', 'енергизиране', 'енергийност', 'ениус', 'енкодери', 'еозинофилна', 'епимедиум', 'епистаксис', 'ерготерапия', 'ерендира', 'ерит', 'еритремия', 'еритропоезата', 'естрон', 'етата', 'ехолалия', 'жат', 'желате', 'живееме', 'живовлек', 'жилиат', 'жислен', 'жна', 'завтра', 'завъртяни', 'заги', 'заливни', 'замаска', 'заприм', 'зацветяване', 'зачем', 'зев', 'зековете', 'зелеът', 'зефани', 'зимоустойчивост', 'знете', 'зоотрополис', 'зто', 'зщо', 'иаз', 'играеме', 'излужени', 'измивни', 'изотонична', 'изпо', 'използв', 'израилски', 'израилския', 'изс', 'изсушители', 'икон', 'имарет', 'имм', 'имуносупресивно', 'инактивирани', 'инман', 'инсектициден', 'интеракции', 'интервалното', 'интърнешънъл', 'инфилтративен', 'инхибин', 'ирайзис', 'ирга', 'иризис', 'исихия', 'искусство', 'ище', 'кабинен', 'кавернозна', 'каждому', 'казава', 'калей', 'калка', 'калпурния', 'калциум', 'калцификации', 'камаран', 'камаро', 'камео', 'канамицин', 'каноли', 'карамба', 'кардиалгия', 'кардията', 'кастели', 'кася', 'катаболните', 'катехоламините', 'качестве', 'кашмер', 'келоидни', 'кенгуро', 'кенъли', 'кератиновите', 'кератолитичен', 'киберпрестъпници', 'кизомба', 'кимея', 'кинезиология', 'клаудина', 'клипарти', 'клия', 'клостридии', 'кмето', 'кмт', 'кнез', 'книге', 'кнуд', 'коагулационни', 'коагулопатия', 'коинфекция', 'колова', 'колпоскоп', 'командори', 'комутационни', 'конкурентноспособна', 'копир', 'корела', 'кормия', 'коронавирусните', 'короновируса', 'кортексин', 'косер', 'кохош', 'крадяли', 'краи', 'краткък', 'краудфъндинг', 'криптокралицата', 'круг', 'ксантелазма', 'куай', 'кумранските', 'кучегон', 'къл', 'кюнефе', 'кямран', 'лазули', 'лайсните', 'лайфстайлбг', 'лакота', 'лакрос', 'лактостаза', 'ламбата', 'ланцетна', 'левитра', 'легай', 'лееко', 'леонар', 'лепилната', 'леталитетът', 'либераст', 'лиде', 'лиевен', 'лийън', 'ликвора', 'лими', 'лимфаденитът', 'лимфаденопатията', 'лимфоидните', 'липодистрофия', 'листериоза', 'лициум', 'логотерапията', 'лордозата', 'лохии', 'лумбосакрален', 'лучшее', 'льова', 'маала', 'маани', 'майкя', 'макияж', 'макмахън', 'макролидни', 'макронутриент', 'малков', 'маншафта', 'мапа', 'марибел', 'маримба', 'марияне', 'мартенче', 'масаи', 'масао', 'мастерон', 'материалноправните', 'матерял', 'мбит', 'мебеверин', 'мезоконци', 'меньше', 'мергуин', 'меркелица', 'месността', 'металдетектинг', 'метилцелулоза', 'метицилин', 'метформинът', 'миглопластика', 'миже', 'мизар', 'микомакс', 'микроблогинг', 'микротик', 'минит', 'миноциклин', 'минтака', 'мишън', 'мкм', 'млако', 'многозадачността', 'многофакторна', 'моделството', 'модераторе', 'модерноедасечете', 'монарда', 'мондар', 'моноцитозата', 'монурал', 'моо', 'морой', 'моушън', 'муколитиците', 'мукоплант', 'мукополизахариди', 'мулчер', 'муск', 'мъртъл', 'мърчандайз', 'мът', 'мяст', 'наглоста', 'надия', 'назол', 'наименован', 'найголемите', 'накаква', 'накакъв', 'налудно', 'намаляли', 'намаляме', 'намалянето', 'наноматериали', 'наративът', 'наср', 'невробекс', 'неврогенни', 'невродегенеративно', 'невропротективни', 'невросонография', 'неги', 'неде', 'недоклатени', 'нез', 'неиска', 'нейтив', 'некротизиращ', 'нелуц', 'ненавреме', 'ненаяли', 'неотопляеми', 'непо', 'непредадена', 'неразбирам', 'нервичките', 'неутрофилните', 'нефрона', 'нехлъзгаща', 'нигде', 'ниедни', 'нистина', 'ниту', 'нихорасите', 'новий', 'новичока', 'новораждането', 'новоустановените', 'нодуларни', 'нолина', 'нома', 'ноотропните', 'носимоспособност', 'нощник', 'нудли', 'нудълс', 'нутриентите', 'нуше', 'нява', 'обач', 'оберфреза', 'обряди', 'обсесивна', 'обсесивните', 'обсесията', 'обтурация', 'обяват', 'овата', 'овчо', 'озна', 'оклузията', 'оксандролон', 'оксигенацията', 'оксидаза', 'олар', 'оливерник', 'олигоелементи', 'олинклузив', 'олмеките', 'онл', 'онос', 'опушеност', 'ордас', 'оромис', 'ортодонтията', 'орторексия', 'освобож', 'осле', 'османтус', 'отварката', 'относимо', 'отсрани', 'оттях', 'оувър', 'оулз', 'очанка', 'ошонеси', 'панто', 'пантотенат', 'панчакарма', 'папаз', 'папилите', 'паприка', 'паракорд', 'пародонталните', 'паундове', 'паучове', 'паф', 'пебс', 'педе', 'пез', 'пейл', 'пейстна', 'пенициламин', 'пента', 'пенталгин', 'пепито', 'первая', 'периорален', 'пернициозна', 'перукан', 'песня', 'пеца', 'пивот', 'пикногенол', 'пиодерма', 'писиар', 'пландемия', 'поблизо', 'повелителко', 'повечеполезна', 'повшенной', 'поди', 'подматрачната', 'подпозиции', 'подфоруми', 'подхват', 'подържането', 'поздави', 'позле', 'поиск', 'поларена', 'поликистозата', 'поликистозна', 'полисинг', 'полити', 'помалка', 'попфолкът', 'порастнеш', 'последованието', 'поср', 'пострижение', 'похудения', 'правильно', 'праксис', 'пребиотични', 'предиспозиция', 'предсърдни', 'презентатори', 'прека', 'преклузивен', 'прерастна', 'пресна', 'пресфото', 'пресъдено', 'претърпяли', 'приапизъм', 'пригот', 'прин', 'принес', 'принцепс', 'приоритизирането', 'приосновните', 'припознавачи', 'природоматематическа', 'пробовземане', 'провъзпалителни', 'програм', 'происходит', 'прокоратурата', 'прокюрдската', 'промена', 'просек', 'проследима', 'протеазни', 'протестанството', 'противоплъзгащи', 'противостареещо', 'процесс', 'псевд', 'психотип', 'публ', 'пунт', 'пус', 'путинизма', 'путиновия', 'пънете', 'пюр', 'рабирам', 'радоил', 'разбереме', 'разградими', 'разходомер', 'райче', 'рако', 'рандом', 'рапон', 'ратанови', 'рашата', 'реваксинацията', 'регис', 'регресен', 'режимна', 'рейкбек', 'реколтираните', 'рендер', 'ресивъра', 'рескю', 'республика', 'ретиноева', 'ретривърът', 'ривароксабан', 'рипс', 'рисперидон', 'риталин', 'рожденната', 'рокзвезда', 'ролса', 'рости', 'рси', 'рудбекия', 'рулз', 'русофилистици', 'русском', 'рушняците', 'ръч', 'садоха', 'садхана', 'самй', 'самоотчет', 'санем', 'санжонг', 'саркоидозата', 'сатурацията', 'сашетата', 'сборка', 'свадбата', 'свекитата', 'светлосила', 'сволач', 'сгр', 'сеайне', 'сейн', 'сенжин', 'сенка', 'сентября', 'сериа', 'серотонинов', 'сеток', 'сигни', 'сигнификантно', 'силимаринът', 'синтепон', 'синупрет', 'сирдалуд', 'сиу', 'склерозант', 'славяноболгарская', 'сладурко', 'слайдъл', 'слайсове', 'слойна', 'смляни', 'смят', 'снибрил', 'солевият', 'солнце', 'сополките', 'сорбента', 'сост', 'спалко', 'спелтата', 'спинери', 'спленектомия', 'средноголеми', 'средноранен', 'сталактони', 'стгр', 'стигмати', 'стили', 'стова', 'стоманобетонови', 'сториборд', 'стува', 'суитите', 'сукулент', 'сулфаниламид', 'сулфонилурея', 'супергеройски', 'супероксид', 'сфеноидит', 'събожник', 'събожника', 'съборността', 'съвършенни', 'съдружително', 'съдята', 'съпричиняване', 'съставомерно', 'сътояние', 'сярен', 'таким', 'тактилните', 'танацетум', 'тарамис', 'тартарат', 'татка', 'тач', 'твърдосплавни', 'тедо', 'тежкоболни', 'телери', 'тенотен', 'теоритични', 'тептангра', 'терафлу', 'термозащитен', 'термостатичен', 'тетания', 'тето', 'теф', 'технологий', 'тиклопидин', 'тиленол', 'тиоктовата', 'тиристора', 'тиристори', 'тици', 'токсемия', 'токсоплазма', 'толераст', 'толерасти', 'толквоа', 'толсистемата', 'топлоизолиране', 'топоси', 'торакална', 'торесен', 'торични', 'тортелини', 'тортиля', 'торън', 'трансдермален', 'трансдермални', 'трансуретрална', 'трбява', 'тренч', 'триак', 'трипофобия', 'трипъл', 'трихотиломания', 'тромбопластиново', 'тромбоцитопенична', 'тта', 'тубус', 'турки', 'турунда', 'туф', 'туше', 'тънкописец', 'тьй', 'тяхният', 'угедай', 'ударо', 'уелмите', 'уиджет', 'ука', 'уме', 'умма', 'уорвия', 'ураа', 'урб', 'ургалите', 'уреаплазмоза', 'уринен', 'уро', 'урочна', 'усб', 'уси', 'условиях', 'успокоител', 'усул', 'уте', 'фагорите', 'фаила', 'файт', 'фанал', 'фарингеалните', 'фейд', 'фейл', 'фенела', 'ферит', 'фетбърнъри', 'фибринолизата', 'фийда', 'филорга', 'финната', 'фир', 'фитинова', 'фитолампи', 'флебография', 'флексо', 'флорибунда', 'флотилен', 'флувоксамин', 'фойхтер', 'фолатът', 'фортнъм', 'фосфатидилхолин', 'фосфодиестераза', 'фотодинамична', 'фруктоолигозахариди', 'фуджико', 'фузафунгин', 'фуксията', 'фуразидин', 'хабанеро', 'хабте', 'хавра', 'хайфу', 'хаки', 'халстън', 'хандан', 'харесатебезплатен', 'хаторите', 'хвост', 'хелминтиозата', 'хелпа', 'хемицелулоза', 'хепарини', 'хептрал', 'хербион', 'херметизма', 'херндън', 'хидроксиапатит', 'хипербарна', 'хиперицин', 'хиперкалцемия', 'хиперпролактинемията', 'хипертрихоза', 'хиповитаминозата', 'хипстъри', 'хитон', 'хлорогенова', 'хлорофитум', 'холдингс', 'холецистита', 'холецистокинин', 'хомоцистеинът', 'хондроксид', 'хота', 'хоут', 'хочет', 'хочопепа', 'хпа', 'храсторези', 'хроматин', 'хуел', 'цве', 'цело', 'цефалгията', 'циалис', 'цианотични', 'цикатрикси', 'цинерария', 'цирконии', 'цистоскопията', 'цитомегаловирусна', 'цоца', 'цугцванг', 'църк', 'четът', 'чикия', 'чило', 'чилъри', 'чино', 'чинч', 'чипират', 'чистак', 'чки', 'човк', 'чувашки', 'чуствах', 'шавасана', 'шайна', 'шайра', 'шалота', 'шанти', 'шейлок', 'шерилин', 'шлейм', 'шлемник', 'шно', 'шър', 'щаслива', 'щрек', 'щте', 'ъптайм', 'югуларната', 'юрон', 'юруци', 'яйчникови', 'ярдем', 'яри']\n",
      "----------------------------------------------------------------------------------------------------\n",
      "Number of unknown words in segment 0.60 - 0.65: 9,227\n",
      "['абер', 'агрегира', 'аддукторите', 'аерирането', 'аерофобията', 'азб', 'азелаиновата', 'айказаноиди', 'айлък', 'айре', 'акарицид', 'акатисти', 'аквата', 'аклас', 'албигони', 'алгинатна', 'алопатични', 'амарилисът', 'амонците', 'анастомозата', 'ангренажа', 'анетол', 'анин', 'антипсихотичен', 'антитромбоцитен', 'антихолинергичните', 'аргана', 'арш', 'асакери', 'асакерите', 'асмалък', 'аспра', 'ател', 'атриовентрикуларна', 'аутлети', 'ахем', 'ахм', 'аципол', 'аяна', 'багаин', 'багатуре', 'базалиом', 'байджу', 'байкъри', 'бамбино', 'банкянското', 'барманство', 'барово', 'басрахип', 'беборани', 'бебочето', 'бездомността', 'безмензурна', 'безопастно', 'белодроб', 'белфир', 'бензодиазепинови', 'бете', 'билдери', 'бинду', 'биоикономика', 'биоикономиката', 'биокозметика', 'биорегулатори', 'бисглицинат', 'блендираме', 'блендират', 'блефароконюнктивит', 'блогрол', 'блогърството', 'блюдтл', 'бодендик', 'болестност', 'болковата', 'бонзи', 'бориме', 'брахиалната', 'бремелинки', 'брия', 'бронхикум', 'бронховаксом', 'бръмчалки', 'бугар', 'бугараш', 'буйките', 'букита', 'булченска', 'буу', 'бъгнал', 'бързозатягащ', 'бързоразвиващи', 'бъф', 'бяли', 'бясът', 'вазовски', 'ваксинопрофилактиката', 'валар', 'валинът', 'вапа', 'вариатора', 'вароатоза', 'вару', 'васкуларизация', 'вдео', 'велопарк', 'венография', 'вентрална', 'вере', 'вереме', 'веселушка', 'вески', 'вечная', 'видете', 'видох', 'винкело', 'вишист', 'вка', 'властелине', 'вливка', 'вно', 'войлс', 'волфи', 'ворлинкин', 'всякаде', 'вулгари', 'вътреставна', 'вътресъдова', 'вярвям', 'гавискон', 'газировка', 'ганета', 'гастропареза', 'гда', 'гелови', 'гемцитабин', 'гениталите', 'герберугите', 'гигабитова', 'гика', 'глифове', 'гносиса', 'голямоформатни', 'гонди', 'гонококов', 'горчично', 'госпож', 'градин', 'градови', 'граж', 'гуги', 'гугул', 'гътман', 'гьозум', 'дабигатран', 'дадеме', 'дади', 'данкония', 'дарбепоетин', 'дарка', 'двоумене', 'деактивация', 'дездемонка', 'делиме', 'демерара', 'деметриос', 'деминерализирана', 'дендрариум', 'денон', 'депилиране', 'десната', 'деточкин', 'дефектиране', 'дефектнотокови', 'дехоспитализация', 'джайв', 'джаръд', 'джендърската', 'джоги', 'джуниор', 'диада', 'диатомичната', 'дивертикулът', 'дийкстра', 'дилвиш', 'димент', 'дименхидринат', 'дирофилариоза', 'дисоциативни', 'дихидрокверцетин', 'добкин', 'дова', 'доганчо', 'доген', 'доидат', 'доматките', 'домашних', 'допа', 'дотогаз', 'дравец', 'древнего', 'дрождеви', 'друк', 'дутастерид', 'дъм', 'дюшаме', 'европей', 'евростил', 'единственният', 'едният', 'едновремнно', 'екоселище', 'експлойт', 'екстраваганца', 'екстранет', 'ексфолиатор', 'елвидом', 'елект', 'електорите', 'елисе', 'елфата', 'емико', 'ендест', 'ендоваскуларната', 'ендокарда', 'ендоморф', 'ендотелна', 'ендоцервицит', 'енергоразхода', 'енкодера', 'енкодинга', 'ентерококите', 'еозин', 'епилирани', 'ерат', 'ерготерапевт', 'ере', 'ерни', 'есер', 'есрахаддон', 'есциталопрам', 'етанерцепт', 'етопозид', 'еторикоксиб', 'етоса', 'ефталитите', 'ещер', 'жабке', 'жартиерен', 'жейна', 'жестови', 'жет', 'жипка', 'жирондинците', 'жужка', 'задач', 'закл', 'запечатка', 'запла', 'заплатаджии', 'затв', 'зграда', 'зела', 'зера', 'зергите', 'зинерит', 'змейо', 'змс', 'золотая', 'зорлен', 'зощо', 'зщт', 'зюлфикяр', 'иайдо', 'иако', 'ибу', 'ивични', 'извадков', 'известн', 'изделияметал', 'изключител', 'изключителн', 'изотзадзе', 'изохорен', 'изразеност', 'изсраел', 'ийдън', 'иключително', 'иктеричен', 'илис', 'имакак', 'имените', 'имеют', 'имидазол', 'имплантолог', 'импрегнант', 'индоктринирани', 'институциата', 'инструктури', 'интелски', 'интерконекторите', 'интермодалния', 'интрадермални', 'информациянастаняване', 'инфромация', 'ипратропиум', 'исключително', 'испратя', 'истиността', 'италянски', 'ител', 'ихаа', 'ищцовата', 'йебем', 'йерей', 'кават', 'каланхоето', 'калдаръмени', 'календър', 'камарото', 'камбогия', 'кандра', 'капитонирани', 'караванинг', 'карм', 'карнауба', 'карони', 'катехоламин', 'катизма', 'катлея', 'каточели', 'каул', 'кауня', 'кафемашините', 'качественно', 'квато', 'кепър', 'керамзит', 'кератинизираните', 'кетонната', 'кефат', 'киберзаплахите', 'кибернож', 'кийти', 'килифаревски', 'килифарски', 'килоома', 'кинли', 'кистички', 'кистична', 'ккто', 'кланични', 'клапно', 'клейнман', 'клифс', 'книгу', 'книжица', 'когиталността', 'колаборативни', 'колдрекс', 'колекторската', 'колопроктолог', 'компаунд', 'компетентностен', 'комплектоват', 'комповете', 'компостират', 'компроментира', 'комун', 'конгестивен', 'контак', 'контести', 'контратубекс', 'конхи', 'кордура', 'кориза', 'кориолус', 'космонафт', 'костофф', 'котиледоните', 'которого', 'кракле', 'криптоактиви', 'криптопазара', 'ксандрия', 'кстракт', 'ктомври', 'кубиковите', 'кувиоз', 'куист', 'кулау', 'кумичене', 'купиме', 'купиране', 'курна', 'къню', 'кютека', 'лабданум', 'лагове', 'ладове', 'лайкват', 'лакет', 'лако', 'лактофилтрум', 'ламблията', 'ламотрижин', 'ланистърите', 'ланцота', 'левкоцитните', 'левокамерната', 'легатът', 'лейлъни', 'лената', 'лествицата', 'летото', 'летрозол', 'леч', 'лжил', 'лидийски', 'лийпхорн', 'ликорис', 'листя', 'лиху', 'лодкостоянка', 'лозинка', 'луняни', 'любвеобвилни', 'лявоцентристка', 'мажоритаря', 'маккрий', 'малигнена', 'маляките', 'мамзел', 'манел', 'манус', 'марона', 'мартенчетата', 'маточник', 'махла', 'меджу', 'мезоморф', 'мекониум', 'мелирование', 'мелодет', 'ментаци', 'меско', 'месторастения', 'метастатично', 'метеочувствителност', 'метиленовото', 'метхемоглобинемия', 'миелинова', 'миелоцити', 'микенците', 'микролакс', 'микропигментация', 'микроцефалията', 'микроцикли', 'милгамма', 'милиярда', 'мимина', 'мимозка', 'миналато', 'министърпредседател', 'минуваше', 'минцлаф', 'миоматозните', 'мирабилис', 'миранди', 'миром', 'мицеларният', 'мкл', 'ммда', 'моге', 'модерирам', 'модницам', 'модници', 'моего', 'мозе', 'моклобемид', 'моменто', 'момчилградчани', 'монетизиране', 'моной', 'монокок', 'мориарити', 'мориса', 'моте', 'мотоблокове', 'мужчин', 'мул', 'мулча', 'мупироцин', 'муца', 'мълниезащитни', 'мюбарекът', 'наварския', 'наддавателно', 'надлимитната', 'надстройването', 'наиболее', 'нанизъм', 'наобед', 'насляпо', 'натокиназа', 'нбили', 'неб', 'небулизатор', 'невромантик', 'невропсихиатър', 'невроциркулаторната', 'негрони', 'незабрава', 'незначи', 'неинформативен', 'нейшън', 'нелекарствено', 'нелекуващи', 'нелфинавир', 'немазно', 'немедикаментозни', 'немедикаментозно', 'немозол', 'неокортекса', 'неоперабилни', 'неоренал', 'неосъществяване', 'неповече', 'неразливаща', 'нервят', 'нерегулярни', 'нериса', 'нетление', 'нефигурална', 'нехлъзгащи', 'ниеден', 'нийд', 'никелодеон', 'николачко', 'нитрофураните', 'нифад', 'нифурател', 'ницерголин', 'нищу', 'ножична', 'номерологията', 'нул', 'нърдове', 'нящу', 'обави', 'обезмисли', 'обече', 'обито', 'обладательниц', 'обсолютно', 'обтурации', 'общост', 'обяснава', 'овладяли', 'оводняване', 'огр', 'одойл', 'ойто', 'околноста', 'олко', 'омаата', 'омикрона', 'онкомаркери', 'оногури', 'оод', 'опоменато', 'оркестра', 'отбългария', 'отваряема', 'отведнаж', 'отделност', 'отречение', 'отриц', 'отсраняване', 'отсътвията', 'оттърват', 'оча', 'очудя', 'пави', 'палмарната', 'паляци', 'памета', 'пампите', 'памяти', 'папулозен', 'парасимпатикова', 'париеталния', 'парньори', 'партнъор', 'партнъори', 'парцеларен', 'парциални', 'патогенетичен', 'пауловнията', 'пашо', 'пекениносите', 'пенцикловир', 'пеонът', 'перефразираме', 'перинатални', 'перитол', 'персонализируеми', 'перфекто', 'пикосулфат', 'пинови', 'пирогени', 'пичи', 'плацентарния', 'плондир', 'повечерие', 'подалеч', 'подготвка', 'подмускулно', 'подпор', 'подцели', 'позлва', 'поклоници', 'полифепан', 'полуобзаведено', 'понделник', 'поре', 'последователноста', 'постерна', 'постнатална', 'почвопокривни', 'почтенност', 'пради', 'праймери', 'превилегии', 'превъплащава', 'превърща', 'преданоотдадени', 'предване', 'предви', 'предиобяд', 'предстенни', 'презентазия', 'преканцерозни', 'преклузивни', 'премикс', 'преторията', 'префектно', 'преценяш', 'приемство', 'приро', 'природоматематически', 'приятли', 'проводимата', 'прогениторни', 'прогерия', 'програматик', 'продадът', 'промедол', 'проницателят', 'проспани', 'простит', 'противоравно', 'протопсалт', 'протос', 'процесна', 'проя', 'пръви', 'публи', 'пуд', 'пуда', 'пуу', 'пухльо', 'пьрво', 'рабит', 'рагар', 'радикс', 'радлер', 'радос', 'разпрашава', 'разст', 'райхът', 'ракс', 'рансъмуера', 'расположен', 'растени', 'растояния', 'реактивация', 'рево', 'регионаизбрано', 'реднеците', 'редо', 'резистивен', 'рекаро', 'ремоделира', 'ренална', 'репелентни', 'рест', 'рестайлинг', 'ретаргетинг', 'ретиналдехид', 'ретрийвър', 'рефрактерна', 'рецептичка', 'рециркулиращи', 'риалитита', 'рибай', 'ривотрила', 'рикия', 'ритуксимаб', 'ришатра', 'рожденден', 'рокабили', 'рондхайм', 'ротавирусни', 'ротавирусните', 'роузмънт', 'роятно', 'рубра', 'румъни', 'рустикални', 'ръна', 'ръстман', 'сабля', 'сав', 'савет', 'сажо', 'саине', 'саките', 'самади', 'самооткриване', 'сансевиерия', 'сапан', 'сардукари', 'сарито', 'сартани', 'сатвик', 'сатина', 'сбн', 'сборката', 'сваляема', 'сваха', 'сверата', 'светлоизточници', 'светоотечески', 'своебразно', 'севдо', 'седацията', 'селджуките', 'селенометионин', 'сенд', 'сенсибилизацията', 'серио', 'серотипа', 'сертификатни', 'сигн', 'симфиза', 'сиситема', 'ситуациата', 'скаара', 'скатери', 'скефлок', 'скиба', 'скив', 'склуптура', 'скос', 'скрижал', 'скруполи', 'сладчината', 'слаклайн', 'слийти', 'служащи', 'смехурковци', 'снимкиплувен', 'собственност', 'советского', 'современная', 'сокодвижението', 'солуцио', 'соми', 'соро', 'соросня', 'соталол', 'союза', 'спамете', 'спесификация', 'спецобвинението', 'списвачи', 'спод', 'спондилоартрозата', 'средноинтелигентен', 'српског', 'станицата', 'станишевци', 'стаф', 'стват', 'стевиола', 'стеги', 'стир', 'столи', 'стора', 'сторитата', 'страши', 'стта', 'стяги', 'субмукозна', 'суициден', 'суицидно', 'супервизор', 'суплементация', 'супрадин', 'сценарно', 'събожници', 'съот', 'съответсвие', 'сърд', 'сърц', 'съсем', 'тагава', 'тажин', 'тайчи', 'таком', 'талкав', 'тамари', 'тамарин', 'тарънс', 'татен', 'тви', 'твърдяните', 'тедрик', 'текстуриране', 'телос', 'тените', 'теоритичната', 'терефталат', 'теримън', 'термогенна', 'термопанел', 'термостатични', 'тероарът', 'теръмън', 'тесме', 'тетракаин', 'тетър', 'тигра', 'тийзърът', 'тийнеджърите', 'типика', 'тишлайфери', 'тишуут', 'тобрадекс', 'токораз', 'токоферил', 'толокова', 'томос', 'тоолкова', 'топамакс', 'топиари', 'топлопренос', 'торакалгия', 'торачки', 'ториани', 'трахоматис', 'трашъри', 'тресчотки', 'трет', 'трикопол', 'тристата', 'трихолога', 'трихолози', 'трихотиломанията', 'трък', 'тст', 'тубуларна', 'тубуларни', 'туркофили', 'турър', 'тхе', 'търпиме', 'тял', 'уайтджак', 'уауу', 'убихинон', 'уиндолс', 'уловител', 'ултрамаратона', 'улу', 'умнокрасивците', 'уори', 'упанишад', 'уретрални', 'уримил', 'урсодезоксихолова', 'усвояема', 'утече', 'учас', 'фаворите', 'фалопиеви', 'фейка', 'фенофибрат', 'ферас', 'феръдей', 'фибринолизин', 'фиброматоза', 'финалгон', 'фироми', 'фитолампа', 'фитолизинът', 'фитотерапевтични', 'фишингът', 'флейкс', 'флоатно', 'флопът', 'флуанксол', 'фок', 'форка', 'форму', 'фортран', 'франкин', 'фризерното', 'фрогоко', 'фрон', 'фукоидан', 'фърлям', 'фърлят', 'хайда', 'хайъръм', 'хакен', 'халахан', 'халюкс', 'хамоляс', 'харайн', 'харак', 'харкабийпаролин', 'хастарна', 'хвър', 'хев', 'хедлайнър', 'хедсет', 'хейти', 'хейтъра', 'хемостатичните', 'хепатозата', 'хери', 'хермия', 'херниална', 'херниалния', 'хеши', 'хидролипидната', 'хинаяна', 'хинт', 'хиперзвуков', 'хипокинезия', 'хипохлорид', 'хиромацу', 'хламидиоза', 'хми', 'хове', 'холестатична', 'хорарна', 'хризопраз', 'хруп', 'хути', 'цветоносите', 'цветоусещане', 'цервикалгия', 'цим', 'цинарикс', 'циркониевите', 'цистаденома', 'цитотоксичните', 'цитрамонът', 'цифровизиране', 'црква', 'црп', 'цялият', 'цярове', 'чанч', 'частноправните', 'чатене', 'черепномозъчни', 'четност', 'чехлю', 'чимен', 'чойтелър', 'чуково', 'шарпей', 'шаури', 'шеше', 'шея', 'шибуми', 'шигелоза', 'шипов', 'шса', 'шуър', 'ъща', 'юдо', 'юнчета', 'юруците', 'яленхорм', 'януарки', 'яслин']\n",
      "----------------------------------------------------------------------------------------------------\n",
      "Number of unknown words in segment 0.55 - 0.60: 13,300\n",
      "['ааз', 'августе', 'агроаптеките', 'агротехнологията', 'аденилат', 'аденотомията', 'адиктед', 'аеропласт', 'айрънбеър', 'акрилат', 'акупресурни', 'акустират', 'аларът', 'алергизация', 'алиментарен', 'алпецин', 'алунит', 'аметропия', 'амига', 'анайс', 'англите', 'аненцефалия', 'анпу', 'антиангин', 'антиваксърска', 'антидиабетични', 'антиедематозни', 'антиедемни', 'антипаразитния', 'антипуритичен', 'антистрептолизин', 'антихолинергична', 'анциструс', 'аон', 'апликейшън', 'арахноида', 'арбайт', 'аркоксия', 'ароматизант', 'артропластиката', 'асемблирането', 'асенце', 'аскър', 'асоцира', 'аспарт', 'асуса', 'атем', 'атмана', 'атмос', 'аулина', 'ахалазията', 'багатури', 'базоцелуларен', 'балтавар', 'бангии', 'банкстери', 'баншите', 'барото', 'бахър', 'безаналогов', 'безаналогова', 'белй', 'бензалдехид', 'бибка', 'бигз', 'биелни', 'бизакодил', 'биомагазините', 'бионаличен', 'бисаболол', 'битийни', 'блоговата', 'бни', 'богообщение', 'божийте', 'бокич', 'боларди', 'бонфилето', 'боо', 'босвелията', 'босу', 'ботанците', 'боуч', 'боцето', 'боча', 'брадикинезия', 'броги', 'бронзанта', 'бронховитал', 'бронхоконстрикция', 'буенец', 'бунга', 'бургундите', 'буст', 'бучу', 'бързоабсорбираща', 'бява', 'ваалет', 'ваген', 'вазодилататорните', 'ваканцуват', 'вакел', 'ваков', 'валденберг', 'вареники', 'варистор', 'варус', 'варусна', 'васани', 'вашят', 'ведньж', 'векторизиране', 'веляновата', 'вентолина', 'верващи', 'вернио', 'вертицилиум', 'веце', 'вийом', 'витмин', 'влагоабсорбатори', 'влагоемност', 'вогоните', 'водоотблъскване', 'волнухин', 'впечат', 'всеизгаряния', 'вторски', 'възка', 'въшни', 'гайковерта', 'гамаглобулин', 'гаметофит', 'гангста', 'гауачините', 'гелое', 'геоинженерство', 'гепат', 'герберасите', 'гила', 'гинки', 'глаг', 'гладиус', 'гледичия', 'глекен', 'гликиране', 'глупа', 'глутеални', 'глювайн', 'гносисът', 'гриста', 'гроздоберник', 'груйчо', 'гръкомани', 'гуербрет', 'гьот', 'даба', 'дайгиан', 'дакрилоцитит', 'дактилоскопни', 'дамаджан', 'даманака', 'дариеш', 'дарче', 'датник', 'даца', 'дворите', 'двоянка', 'дезипрамин', 'делюзии', 'демонизация', 'денимира', 'денсхол', 'деонтей', 'дерево', 'десебарите', 'десенсибилизацията', 'дестрахис', 'десятки', 'детоксификацията', 'детоксифицира', 'джейла', 'джендари', 'джордитата', 'диадата', 'диаманте', 'дизастър', 'дискаунтъри', 'дисоциативната', 'диспозитор', 'диспорт', 'дисфорично', 'добавт', 'добрър', 'догановата', 'договоряне', 'дозовия', 'дозор', 'дойчевеле', 'домашнахрана', 'домошарка', 'досвидя', 'дплр', 'дришльовци', 'другим', 'друмове', 'дръндарския', 'дунавки', 'дупце', 'дълък', 'дъстъра', 'дьонмета', 'дюмас', 'дюрън', 'дялко', 'дясният', 'евана', 'евангелизатори', 'евнтуално', 'еврогей', 'европрокурори', 'едикакво', 'ежегодишно', 'екзотоксин', 'екологизиране', 'екосъобразност', 'екоталибаните', 'експанжъни', 'експираторна', 'екст', 'екстрадацията', 'екстраинтестинални', 'ексудативния', 'ексудативният', 'ектопаразитите', 'ектропион', 'еламай', 'еластазата', 'еластичноста', 'елевит', 'елудрил', 'емперо', 'ендометриоидни', 'енегрия', 'ентерална', 'еозинофилните', 'епархи', 'епигастриална', 'епирубицин', 'еписклерит', 'епитопи', 'ергометрия', 'еритропения', 'еритроцитен', 'ерор', 'етам', 'етин', 'еубиотиците', 'еустомата', 'еухарис', 'жека', 'желение', 'жини', 'жълтенето', 'забрав', 'завед', 'заграница', 'задравейте', 'законе', 'заливната', 'залогодателя', 'запълняемостта', 'зауженне', 'зация', 'зашеметителя', 'заяжданици', 'звездо', 'зди', 'здравй', 'здравн', 'земам', 'земаш', 'земятя', 'зино', 'знал', 'зтв', 'зуза', 'иврита', 'игру', 'игси', 'идио', 'изключитлено', 'изковки', 'излужените', 'измерна', 'изнагляха', 'изпълзяли', 'изцял', 'иима', 'икч', 'имайл', 'иматакъвнарод', 'имобилизирани', 'имуноблот', 'имунокол', 'имунокомпрометираните', 'имуностимулация', 'имуносупресирани', 'имунохистохимични', 'инайла', 'инал', 'инструктурите', 'интерне', 'интрахепаталните', 'инхибиторния', 'ирги', 'ирон', 'исида', 'истиски', 'итай', 'итератор', 'итоги', 'йерофант', 'кабинният', 'каймакама', 'какапо', 'калимявката', 'калос', 'калот', 'калциневрин', 'камбоджия', 'камчи', 'каназучи', 'каприловата', 'карбидопа', 'картосхема', 'катетърна', 'катинче', 'кейлбаните', 'кепи', 'кератом', 'кератомите', 'керченският', 'кесиджия', 'кетаминът', 'кетопрофенът', 'кибершпионаж', 'кикове', 'кирина', 'кланница', 'климатотерапия', 'ковидиоти', 'ковидиотите', 'кодона', 'кокоро', 'колаборативен', 'комундерите', 'комуноидната', 'кондю', 'консулата', 'континюитет', 'контол', 'контрапункти', 'контратеза', 'конфликтология', 'конюгат', 'копривке', 'копт', 'копърко', 'короядите', 'костовци', 'красотичка', 'крашове', 'краяна', 'креатиновите', 'кренвиршки', 'кривосъдие', 'криго', 'кризиса', 'криптоборси', 'кришевски', 'крот', 'крюто', 'ксантинол', 'ксено', 'ксефокам', 'ксто', 'кта', 'куилинг', 'кукерикон', 'курбелите', 'кутиики', 'куупър', 'куцотата', 'кърмчия', 'лагна', 'лагото', 'лаетрил', 'лакардия', 'лакатнишки', 'ламбрекен', 'ламп', 'левостранен', 'легам', 'лейко', 'лейър', 'лентинан', 'лжи', 'лидъла', 'лимфогенен', 'лици', 'лобарната', 'ловчия', 'лукната', 'лурекс', 'лучета', 'лютивка', 'лютивост', 'лясковчани', 'мава', 'магнезиум', 'майкрософтски', 'макълхъни', 'малигненост', 'мальчик', 'мануал', 'маржан', 'марилион', 'маско', 'матаке', 'матър', 'махарет', 'медиират', 'медосбора', 'мелехин', 'мемсахиб', 'менидж', 'менни', 'менс', 'ментала', 'металдетектинга', 'метатарзуса', 'метрия', 'миазъм', 'мийди', 'микоризата', 'микроаденоми', 'микроангиопатията', 'микроданни', 'микропукнатините', 'микросметката', 'микрострък', 'микрофилтрация', 'милиамперчаса', 'миливолта', 'миниляво', 'мисе', 'мискантус', 'мле', 'многоводие', 'мов', 'могада', 'молнупиравир', 'моло', 'морат', 'морскистъкълца', 'мтого', 'мукополизахаридоза', 'муку', 'мултаци', 'мултифокален', 'мултифокалните', 'мчил', 'навага', 'наварската', 'назо', 'найголемия', 'намерия', 'наноматериалите', 'наоборот', 'нарен', 'наркологът', 'научиме', 'нашя', 'нврятн', 'невенска', 'невроендокринен', 'невроми', 'неговта', 'неелектролити', 'нейонизиращи', 'некав', 'некритични', 'неможаха', 'неможенето', 'ненагледаш', 'необжалваеми', 'неопластичните', 'непридвидим', 'неразделки', 'нестига', 'нещотърсачи', 'никейците', 'нмзх', 'нмирт', 'нмр', 'нни', 'нововъдения', 'ноемри', 'номадка', 'нюзру', 'някав', 'някьде', 'няна', 'обеснявай', 'обле', 'обратнояйцевидни', 'овулаторен', 'овулационен', 'овърклокнат', 'окабелени', 'околкото', 'окра', 'окуломоторни', 'олед', 'олигофренска', 'олоферн', 'омализумаб', 'онбаши', 'онкотичното', 'онна', 'оптрони', 'оразмерителни', 'орнитинът', 'орофарингеален', 'ортомол', 'осемдесе', 'основном', 'остеосинтезата', 'отвечает', 'отгвор', 'отз', 'отид', 'откол', 'отлич', 'отнийде', 'отомикозата', 'отоневрология', 'отпенва', 'оту', 'оференти', 'охр', 'оцт', 'очанката', 'очкава', 'очудени', 'пагодин', 'падел', 'палатинови', 'палцови', 'паникулит', 'папиломни', 'паркин', 'парксайд', 'парлам', 'парламен', 'пасарела', 'пастицио', 'патоки', 'патриотин', 'пачът', 'педераски', 'пелопонеските', 'пелота', 'пенообразувател', 'переодично', 'перианални', 'перисти', 'перма', 'перманент', 'перод', 'пероксиден', 'перонеален', 'петал', 'петковци', 'пефектно', 'пинозол', 'пиполфен', 'пипълс', 'пиразинамид', 'пираканта', 'питайя', 'пластифицирана', 'плащачи', 'плодовет', 'плоскоземци', 'плоскоклетъчни', 'повервал', 'повърхностноактивните', 'повяхналата', 'подараци', 'поддържниците', 'подкисляват', 'подкосъма', 'подкр', 'подкре', 'подмандибуларните', 'подматрачните', 'подниво', 'подобр', 'подсметка', 'подтези', 'позитивират', 'поизчерпа', 'полигоновите', 'поликозанол', 'полинаситени', 'полуинтернатни', 'получване', 'помлад', 'помяр', 'поппевец', 'поразлични', 'послеродовия', 'похожие', 'прам', 'праф', 'прахосмукирането', 'прахосмукирате', 'првиот', 'прдстоящи', 'преампа', 'превилегия', 'прегнакеър', 'предватително', 'преддоговорна', 'предишнапредишна', 'председ', 'предствител', 'предчуствие', 'прекрасности', 'прелага', 'преме', 'преоразмерява', 'пресвещени', 'приключ', 'приложе', 'присъст', 'притес', 'причастници', 'проблематизиране', 'провете', 'провиденция', 'проводимите', 'продове', 'продромалния', 'прокто', 'пролетарията', 'промокодове', 'пропагадна', 'проспективни', 'протеи', 'противосъсирващо', 'процесинга', 'процесно', 'прошивката', 'пръстенна', 'публикационната', 'путинизмът', 'пъро', 'пьрвия', 'рабдомиосарком', 'рабере', 'работн', 'раглан', 'разични', 'разия', 'различнит', 'разтреперал', 'раичка', 'раку', 'ралче', 'ранее', 'рапидки', 'рапторът', 'ребъртинг', 'редукционизъм', 'рекал', 'рекламареклама', 'релевират', 'рендерите', 'реоперация', 'репаративна', 'репитрите', 'ресуспендиране', 'ретиф', 'ретроперитонеален', 'реферала', 'ридомил', 'ритими', 'роаккутан', 'ровини', 'рогер', 'родентициди', 'розовочервени', 'ромова', 'роф', 'рохингите', 'рувейде', 'руш', 'рьодри', 'сабар', 'сабли', 'савета', 'сакски', 'салафитски', 'самоизлекуване', 'самяма', 'сарантис', 'сарафани', 'сатия', 'сатошита', 'сатурналии', 'световъзприемане', 'светоотеческо', 'свръхрастежът', 'свръхсекреция', 'свръхток', 'свясно', 'секатори', 'селд', 'семийон', 'септем', 'серамид', 'сервер', 'сервера', 'сероксат', 'серпентин', 'сигмоидно', 'силибинин', 'силяха', 'симулакрум', 'симфони', 'синулан', 'синурите', 'сирата', 'сисилия', 'сказ', 'скалариите', 'скалнооблицовъчни', 'сканд', 'скатавка', 'скраймир', 'скрийншотите', 'скро', 'скулптурът', 'слийп', 'слипи', 'словестно', 'смениме', 'смръдлив', 'солвентни', 'солц', 'сомата', 'соросоидчета', 'состояния', 'социалноикономически', 'спиналния', 'спокоиствие', 'спроред', 'срешна', 'српскиукранська', 'стадирането', 'стамина', 'статорната', 'стафа', 'ствия', 'стереотаксична', 'стерноклеидомастоидния', 'стефина', 'стигматизира', 'стигнеме', 'стийви', 'стоиме', 'стоич', 'стрептокарпус', 'стресора', 'стриит', 'стъд', 'стъклофибърна', 'стъпални', 'субиги', 'суплементирането', 'суправит', 'супурацията', 'сфероцитоза', 'събите', 'събтията', 'съксес', 'съндък', 'съобще', 'състрадава', 'тагване', 'тайная', 'такима', 'тапек', 'тарджено', 'тарла', 'твръде', 'твъде', 'твърдотелните', 'тего', 'тегретол', 'текел', 'телапревир', 'терито', 'тестинг', 'тетия', 'тетрад', 'технолигии', 'тиймбилдингът', 'типоразмера', 'ткв', 'ткъв', 'тлкова', 'тнр', 'товага', 'тогоз', 'токсикодермия', 'томоса', 'торкс', 'тормансианите', 'тофифи', 'трабекулите', 'травматичност', 'тракпада', 'траници', 'трансепидермалната', 'трансперант', 'трансфобията', 'трансцедентното', 'трашърите', 'трекслър', 'трибуне', 'трикуспидната', 'трипсинът', 'трк', 'тромбиновото', 'тромбо', 'тромбокрит', 'тумороподобни', 'тургура', 'туризм', 'турките', 'тънак', 'тънкоиглена', 'тъчарбитри', 'удвлтвит', 'удволствие', 'удоб', 'удобрявам', 'удовете', 'удрете', 'уийкенд', 'уйчо', 'улицит', 'уловителя', 'уляха', 'умнокрасавци', 'умността', 'униатството', 'уомбат', 'уоутър', 'уретралната', 'уринната', 'уртикариален', 'усд', 'усещ', 'фарадеев', 'фарматекс', 'фатиха', 'фебуксостат', 'фелдкуратът', 'феомеланин', 'фиброз', 'фикси', 'финишното', 'флавин', 'флатуленцията', 'флебектазия', 'флексора', 'флостерон', 'форсколий', 'фосфатидил', 'фотоец', 'фотопринтер', 'фотофакт', 'фрагман', 'фрайхер', 'фрезера', 'фризи', 'фрилансър', 'фръкне', 'фугорез', 'футон', 'фъки', 'хайлайтърите', 'ханти', 'ханут', 'хаптоглобин', 'хармонизатор', 'хаши', 'хебе', 'хеей', 'хейтваш', 'хелиосферата', 'хелти', 'хематемеза', 'хепарините', 'хепатоцелуларна', 'херцов', 'хид', 'хидролесс', 'хидроцелето', 'хима', 'химиотерапевт', 'хипеаструм', 'хиперавтомобил', 'хипербилирубинемията', 'хиперемезис', 'хиперинсулинизъм', 'хиперкортизолизъм', 'хиперлипидемията', 'хиперспленизъм', 'хипертензивен', 'хиперхромна', 'хипоперфузия', 'хипотиреоза', 'хипхоп', 'хирагана', 'хитони', 'хихик', 'холе', 'хомогенизатор', 'хош', 'хумидор', 'хунгерман', 'цамф', 'царвул', 'цват', 'цвеке', 'цветниците', 'цивилис', 'цига', 'циклотимията', 'циркониева', 'циркулаторен', 'цом', 'цоциалист', 'цялята', 'чаква', 'чакръкчиите', 'часни', 'часност', 'частноправен', 'чаше', 'чаще', 'челюста', 'чембероване', 'чернодрешковци', 'чернокоската', 'четир', 'четя', 'чинат', 'чистоцвет', 'чито', 'чиърс', 'чоек', 'чтения', 'чукундуртите', 'чуфа', 'шагия', 'шамата', 'шеб', 'шенкел', 'шиптари', 'шкембак', 'шли', 'шмати', 'шонен', 'шрути', 'шюкран', 'ъби', 'ъпгрейт', 'ъпи', 'юдеизъм', 'юнгиански', 'якои', 'яку', 'януарките']\n",
      "----------------------------------------------------------------------------------------------------\n",
      "Number of unknown words in segment 0.50 - 0.55: 19,097\n",
      "['авторефрактометрия', 'аденопатия', 'адипозната', 'адони', 'адроните', 'адсорбентът', 'адължително', 'азвярвамипомагам', 'айвис', 'айлант', 'актиновите', 'акцион', 'алхузур', 'амнестична', 'амперов', 'англета', 'анисовото', 'анкет', 'анм', 'анодиране', 'анонимът', 'антиартрит', 'антиваксиналните', 'антиконвулсивните', 'антракноз', 'антрахинонови', 'арендодателя', 'арме', 'армировъчен', 'артротомия', 'асертивното', 'аспириновите', 'астролаб', 'атаче', 'ауките', 'ацербин', 'базикат', 'байдъуей', 'бактериоцини', 'балабар', 'батманът', 'башибузук', 'бебевалежа', 'бебеносна', 'бебинка', 'безболезен', 'безвидна', 'бенбен', 'бензидаминов', 'бенигнени', 'бетакаротинът', 'бетаметазонът', 'бетанин', 'библеистиката', 'биви', 'бигълите', 'бики', 'биогеография', 'биоелементи', 'биоразградимата', 'биорегулатор', 'биосистема', 'бифидумбактеринът', 'блокирва', 'бобс', 'бодрумска', 'боженски', 'болк', 'бредон', 'букер', 'букетни', 'буметанид', 'бунтокапи', 'бурят', 'бушонира', 'бъбречноклетъчен', 'бърнер', 'вайпърс', 'вакумирани', 'вапорето', 'васновини', 'вдиш', 'великобританците', 'великопостни', 'велиса', 'велопреход', 'венектомия', 'вениаминците', 'венопротектори', 'вертебролози', 'веспер', 'вешки', 'викот', 'виктоза', 'винкавек', 'високонадеждни', 'високоумие', 'витр', 'включитено', 'влагозащитни', 'влечат', 'вовсе', 'водамашина', 'водеш', 'воси', 'врху', 'всл', 'втек', 'втелясвам', 'вторта', 'вчетвъртък', 'възкресна', 'възлагателното', 'вързанки', 'въртиме', 'въскресение', 'въстанници', 'вътрешноучилищен', 'въшните', 'вярен', 'газанализатори', 'галантус', 'галилеяните', 'гамавит', 'гаци', 'гго', 'гейбери', 'геймката', 'гейпаради', 'гейрб', 'гелите', 'генитали', 'генотипиране', 'геодинамични', 'геообект', 'гераниево', 'гетската', 'главогръд', 'гликогеноза', 'гликозаминогликан', 'глисаж', 'глуоните', 'глута', 'глюкофагът', 'гномео', 'говорящо', 'горизонт', 'горчивостта', 'готвяйте', 'граздан', 'грантов', 'графии', 'гроздено', 'гуербретът', 'гърмяни', 'гюведжета', 'далтепарин', 'датив', 'двмт', 'дворе', 'двоянката', 'двудозовите', 'двумя', 'дебъг', 'девелопмънт', 'декорсо', 'дексаметазона', 'демакиаж', 'демовия', 'денот', 'депилационен', 'депута', 'дерева', 'дерибеите', 'дерусификация', 'деситилетие', 'десото', 'дефекират', 'джагат', 'джагътът', 'джансъз', 'джинджерол', 'джинжифил', 'джойуинд', 'джук', 'диип', 'дийпи', 'димек', 'димерите', 'диспергира', 'дистопична', 'дифицит', 'днесбг', 'доверителност', 'догане', 'дозозависима', 'доказател', 'домификация', 'дории', 'дофторите', 'дошляци', 'доър', 'драгарите', 'драще', 'дребнио', 'дрогар', 'дуньо', 'дъбоко', 'дъгмор', 'дълбокопочистващ', 'дюня', 'еат', 'ебня', 'еволюционизъм', 'евонимус', 'едематозната', 'едитна', 'едновр', 'едномоментно', 'еймен', 'екосхеми', 'експандираният', 'експлорейшън', 'екстракардиални', 'екстремофили', 'елдярн', 'елегантн', 'електрофизиологичните', 'елементаризъм', 'елфаната', 'енергепика', 'ентелегенти', 'епигастричната', 'епикарда', 'епилептоидите', 'епилиращи', 'епителизиране', 'ерва', 'еризипа', 'есения', 'естрата', 'етнофилетизъм', 'еферентна', 'живел', 'жиг', 'журна', 'забелжка', 'заветниците', 'завойът', 'задобряла', 'заемател', 'законодателстват', 'закускаизберете', 'залезно', 'залужават', 'заразоносителство', 'заселеност', 'затово', 'зборови', 'звинги', 'здравеопазната', 'земледелие', 'зето', 'змейче', 'зонен', 'зоонозни', 'зърнояд', 'ибандроновата', 'ивот', 'играйка', 'идентичноста', 'иероглифи', 'избегат', 'извъднъж', 'извънаудиторни', 'извънборсово', 'извъндоговорна', 'изискв', 'излезят', 'изотоничният', 'изполваш', 'изправ', 'изпратиме', 'изтр', 'изтърпяли', 'изшкурете', 'иконимически', 'иконоборчеството', 'иксиански', 'илеостомия', 'илм', 'имап', 'именикът', 'имото', 'имуногенни', 'имунограмата', 'инактивация', 'инджекции', 'инжинерни', 'инклузии', 'инкорпорейтед', 'инотропни', 'инсулата', 'интегративните', 'интезивен', 'интолеранс', 'инфекци', 'ипостасното', 'искуствен', 'ислед', 'иследванията', 'исползват', 'истеряса', 'ихтиманци', 'ихтиозата', 'иърдън', 'кааха', 'кабарайджан', 'кабелта', 'кагебистки', 'каждой', 'каждом', 'кажета', 'казанато', 'казува', 'кайваля', 'кайгана', 'кайна', 'кайтай', 'каладиум', 'калатеята', 'калуната', 'камерафони', 'канарио', 'кантирането', 'капитанине', 'капутите', 'карагенанът', 'карантирани', 'кароши', 'картатаимате', 'карту', 'карциноиди', 'катарната', 'кашерни', 'квадите', 'квантум', 'кее', 'кербоване', 'кингшип', 'кинезитерапевтична', 'кистозното', 'кланичния', 'кланкера', 'клекшопа', 'клемънси', 'клецат', 'клинова', 'клъстеризация', 'книгит', 'коаните', 'кокошко', 'колективистична', 'колекци', 'комедона', 'комитати', 'компакта', 'компект', 'компетентностният', 'компостируема', 'компроментират', 'конкремент', 'конструк', 'конструктурите', 'копулационен', 'корега', 'кортови', 'косера', 'крв', 'крестор', 'крийпи', 'криптоборсите', 'криптоспоридиоза', 'крнвиру', 'кросовъра', 'кръмбъл', 'кудето', 'кукурбитин', 'купероз', 'курсо', 'кутя', 'кюрдка', 'кютеци', 'лайтбокс', 'лаксативните', 'ламинатните', 'латиго', 'латте', 'лахудзи', 'леворъки', 'ледо', 'лекарсва', 'ленуца', 'лесено', 'леуцин', 'лигаментни', 'лимоненът', 'лингво', 'липопротеинът', 'лити', 'литуратура', 'лихенсед', 'личка', 'лоратидин', 'лоукик', 'лунги', 'луциферическите', 'лъжехристи', 'льоши', 'лютно', 'мадонка', 'мазилна', 'майку', 'макропролактин', 'малура', 'мамасита', 'мангалско', 'манд', 'манитолът', 'мантруване', 'марганин', 'марджед', 'марили', 'мариолка', 'марковци', 'маронити', 'марсиани', 'мастабата', 'мастодон', 'мастърите', 'мастърът', 'мацури', 'мгв', 'меверето', 'мегер', 'мего', 'меджит', 'медиумни', 'медлено', 'медроксипрогестерон', 'междурегионалните', 'мембър', 'менингеална', 'менонитите', 'меркато', 'мернахме', 'метатарзалгия', 'метилурациловите', 'миелоза', 'мижай', 'милениъли', 'минерализовани', 'минс', 'мичурински', 'мишничен', 'мляни', 'моавски', 'модерирате', 'модусите', 'мозби', 'мокапор', 'молк', 'монкур', 'моноглицериди', 'монозомия', 'моноцитни', 'монтанистите', 'мораксела', 'мофа', 'мсц', 'музеологията', 'музико', 'мукоцеле', 'мултисензорно', 'мускарин', 'муцо', 'мушенгии', 'мяч', 'нагал', 'наистена', 'найдоха', 'найлесно', 'найхубавата', 'налиния', 'написанато', 'напрвим', 'напрвих', 'напреженов', 'нарастналия', 'наречат', 'насрещници', 'настойване', 'натаспин', 'натък', 'наури', 'нафтизинът', 'нашел', 'нашла', 'нвн', 'нвт', 'невропротектор', 'невротренинг', 'неврохормони', 'невъзобновяем', 'неговат', 'неизпълнили', 'некадърие', 'некротизиращият', 'непиенето', 'непланиранодиети', 'неповярвалите', 'непомерно', 'непукливи', 'несиметрия', 'несъвършенни', 'несъответсвие', 'нетварното', 'нефес', 'нефрозен', 'нивката', 'низпослано', 'ником', 'никчето', 'нискоскоростни', 'нистатинът', 'ниха', 'новопотвърдените', 'номоканон', 'нтт', 'нтфс', 'обезмирисител', 'обезопасители', 'обективирането', 'обмазване', 'обсъж', 'обтича', 'обци', 'ожеш', 'оидиума', 'оксибутират', 'октоих', 'окъсяване', 'олеат', 'олеин', 'олео', 'олисяване', 'олито', 'омба', 'омепразид', 'омнадрен', 'ондатрата', 'опастности', 'опустощителен', 'орбин', 'оригинаторите', 'ортомолекулярната', 'орхиепидидимит', 'осигорява', 'останових', 'остафка', 'оствка', 'остъй', 'отграничават', 'отечественная', 'отложенията', 'отнови', 'оттървали', 'оттървахме', 'отцу', 'отчество', 'офломил', 'оценъчност', 'очки', 'паже', 'палица', 'папевайо', 'парабулбарно', 'парзивал', 'партньо', 'пателарната', 'пействате', 'пелте', 'пемброк', 'пент', 'пенчю', 'перинаталните', 'перода', 'песньовки', 'печелбари', 'пиджи', 'пийпълметричните', 'пикането', 'пикаш', 'пикинг', 'пингът', 'пиндолол', 'пионите', 'пирятел', 'планинит', 'плачебно', 'плеоцитоза', 'плос', 'плчт', 'поважна', 'подвариантите', 'поддержку', 'поддушови', 'поднаправление', 'подпомогане', 'подрамката', 'подсайт', 'позвол', 'полва', 'полифенолните', 'полихидрамниони', 'полуматов', 'полуостър', 'полусекстил', 'полушепнешком', 'помагаите', 'попули', 'порционирани', 'посвета', 'почерне', 'почетокот', 'поширане', 'пошове', 'правилникова', 'праймъри', 'прасковото', 'праштам', 'предизвикателсто', 'предлежанието', 'преднапрежение', 'предразсъдаци', 'председа', 'предсериен', 'предствям', 'предсъстезателна', 'презавиване', 'презадоволяване', 'преключи', 'премирът', 'прена', 'препубликуването', 'прети', 'претренираност', 'приг', 'придвид', 'прикл', 'приключенства', 'примляскване', 'приципа', 'прогинова', 'продромалният', 'продълже', 'прозелити', 'проктологична', 'пролиферативните', 'прониран', 'пространстве', 'протестърка', 'противостареещите', 'проходит', 'процесионка', 'процианидини', 'прочая', 'псевдодеменция', 'психиятрията', 'психоорганичен', 'публикув', 'пустощта', 'путинов', 'пхахаха', 'пълне', 'първоначал', 'пърленката', 'пясъкоструй', 'рабиране', 'равнинецо', 'равноделни', 'радица', 'разбрира', 'разколете', 'разкр', 'разпарчетосване', 'райдърите', 'ракаро', 'ракшаса', 'рамерите', 'рахамим', 'ребранд', 'регионаспорт', 'регнеш', 'редуктан', 'режимните', 'реканто', 'рекция', 'ременно', 'репхайм', 'ресва', 'ретинобластома', 'ретиноидни', 'реултат', 'реферални', 'рехидратиращ', 'рително', 'рифър', 'рма', 'рнка', 'роблем', 'рогонт', 'родоският', 'розмариновото', 'ройбен', 'ронинът', 'рордж', 'росенът', 'росин', 'рострата', 'рунни', 'русофилистични', 'ручок', 'савири', 'самбал', 'самодиагностицирайте', 'самозасмукване', 'самопохвали', 'самопубликуване', 'сангвинисти', 'светлоносец', 'светоотеческия', 'свобдно', 'свободо', 'сглабят', 'сдм', 'сдмица', 'себежертвата', 'себеразяждащо', 'себозол', 'северомакедонците', 'сегашността', 'сейтан', 'семеначе', 'сервизират', 'сердолик', 'сериализацията', 'серифни', 'сефирата', 'сещу', 'сиаладенит', 'сиалова', 'сибили', 'сиддха', 'сикъл', 'синето', 'ситара', 'сифониране', 'скойто', 'скорген', 'скреперът', 'скролваме', 'скролват', 'слезнала', 'слънцелюбиво', 'слятост', 'сметищен', 'сметовоз', 'смис', 'смисла', 'смръчкула', 'снисхождение', 'соад', 'собсвена', 'собсвеника', 'соджин', 'солене', 'спермална', 'спермогенезата', 'спимен', 'спиърман', 'споделте', 'спринклери', 'спържа', 'срямо', 'стаии', 'стайлър', 'станда', 'статица', 'статиякметът', 'ствам', 'стевиозидът', 'стегнация', 'стомп', 'страйкаута', 'стромален', 'струв', 'струмозус', 'стърчането', 'субцитрат', 'суплес', 'супозиторият', 'сурав', 'сурне', 'сфира', 'събраност', 'съврем', 'съзависими', 'сървисите', 'таксичка', 'талятелите', 'тамахи', 'тарка', 'тарканян', 'тахти', 'тачира', 'тачка', 'тварен', 'терезварош', 'термографското', 'термопласти', 'тетраплегия', 'теше', 'тешки', 'тиамфеникол', 'тиванската', 'тивито', 'типоразмер', 'титина', 'тише', 'токсикация', 'токсокарозата', 'толина', 'толтакси', 'толу', 'тонче', 'топастроложката', 'топлоотделящи', 'торакса', 'тоски', 'тотемово', 'тпй', 'трабват', 'трабузан', 'традиционата', 'трансатлантик', 'транскутанна', 'требования', 'трекер', 'трекерите', 'триажа', 'триампур', 'триконхална', 'триумфализъм', 'троакара', 'тромболитиците', 'тромболитичен', 'тромболитичната', 'трофизмът', 'трохантерит', 'тррябва', 'трува', 'туберкулом', 'тубето', 'тулбар', 'туфлями', 'тъзи', 'тъпане', 'търговияпрочети', 'уанде', 'уважаеме', 'увяхнало', 'угодниче', 'удъри', 'уебсървър', 'уелм', 'узиел', 'уинамп', 'украйнска', 'умир', 'унгвентът', 'уолпейпър', 'упоритоста', 'урала', 'уролити', 'уртики', 'услушва', 'устана', 'утероплацентарния', 'уук', 'учавстват', 'ушото', 'фанела', 'фарингомикоза', 'фартинг', 'фаши', 'фейкът', 'ферти', 'физиогномия', 'фиромска', 'фитогеографски', 'флаваноидите', 'флавоноидна', 'флавонол', 'флашва', 'флеботониците', 'флеботромбозата', 'фоерверките', 'фоликулата', 'форйевър', 'формулките', 'форома', 'форуме', 'фотките', 'фоторезистор', 'фоторецепторните', 'фотостоп', 'фотошопски', 'фрийрайда', 'фузидова', 'функцио', 'фунциите', 'фуут', 'хананейката', 'хариер', 'хасфалт', 'хатар', 'хахавия', 'хеджфондове', 'хеленка', 'хематогенният', 'хемоза', 'хемокултури', 'хепазолон', 'херниалното', 'херпетиформис', 'хиг', 'хипоидни', 'ховърборди', 'хокер', 'холекалциферолът', 'хондрит', 'хопала', 'хорошее', 'хранта', 'хтонично', 'хував', 'царги', 'целандинът', 'цереус', 'цианотично', 'цигай', 'цикладска', 'циркумцизия', 'цистаденоми', 'цистеамин', 'цитогенетични', 'цитологичната', 'цитологичните', 'цитологичният', 'цитровит', 'цифер', 'цни', 'цолажа', 'църните', 'чакваме', 'чали', 'черитата', 'четириевангелието', 'чийп', 'чистит', 'чистом', 'чичу', 'чорбета', 'чуваемо', 'чувствувание', 'чувстовото', 'чур', 'чуствай', 'шандис', 'шегели', 'шинди', 'шипров', 'шлаков', 'шоплук', 'шулци', 'щело', 'щеси', 'ърся', 'юва']\n",
      "----------------------------------------------------------------------------------------------------\n",
      "Number of unknown words in segment 0.45 - 0.50: 26,375\n",
      "['аакима', 'абутилона', 'аваме', 'авемар', 'авене', 'авренти', 'автофокусиране', 'адекват', 'азс', 'айвара', 'акалифа', 'акирадж', 'акупресурна', 'алканови', 'алкарисианинът', 'алкилиран', 'алтенхайм', 'алфист', 'амарилиси', 'амфиболити', 'ангаже', 'анозмия', 'антиатеросклеротично', 'антидиабетичен', 'антикоагулационната', 'антисеборейно', 'апексът', 'апост', 'арков', 'аромадифузер', 'ароматазните', 'архетипови', 'асоциализация', 'астатин', 'атараксия', 'ателектази', 'атериал', 'афалина', 'ахаххаха', 'ацетабуларната', 'ацетатно', 'ацидофилните', 'аюрведическите', 'базичка', 'балана', 'баскски', 'бастарни', 'батинка', 'бахси', 'бедлингтън', 'бежава', 'безнадеждието', 'безрамковият', 'безревлива', 'беладжии', 'бесе', 'бешамеловия', 'беятите', 'билингвално', 'биоградинка', 'биодостъпността', 'биомимикрията', 'благоприятсва', 'блаущейн', 'блерик', 'блефарити', 'блоггер', 'бови', 'богооткровените', 'борб', 'боркороните', 'бранното', 'брецели', 'бриела', 'бронти', 'бронхопулмонарна', 'бронхоразширяващ', 'бубачко', 'бускен', 'бутилхидроксианизол', 'бъгер', 'бънт', 'вакумира', 'валденсите', 'вашото', 'ведая', 'велинче', 'вернуться', 'веровал', 'веселке', 'вечено', 'вечества', 'веян', 'взички', 'взяли', 'виброакустична', 'винорелбин', 'виолетке', 'вирабхадрасана', 'висококонтрастни', 'витаглутам', 'витаминовите', 'вйна', 'включитело', 'властт', 'внимателската', 'вобензим', 'воено', 'военопрестъпници', 'воила', 'ворфакс', 'врен', 'връзкарска', 'всеотдаденост', 'вуй', 'вука', 'вхд', 'въе', 'възглавни', 'въздуховодна', 'възмута', 'възрастнит', 'възстанал', 'въргу', 'върхе', 'гандхарвите', 'гарантираност', 'гардиаза', 'гастростома', 'гелиш', 'гемология', 'гемотерапия', 'гентазон', 'гепнат', 'гетоизацията', 'гешефтаров', 'гигафабрики', 'глиалната', 'глоксинии', 'гнор', 'гонококовата', 'господя', 'гпд', 'грушдева', 'гсма', 'даосът', 'датиповече', 'двусекционна', 'дебелослойни', 'дезита', 'дейтрейдинг', 'декал', 'декомпресивна', 'деконструирани', 'деликат', 'деокупацията', 'депине', 'дермабразия', 'дерматол', 'десну', 'деспоте', 'дехидратационна', 'джайните', 'джизя', 'джоконците', 'джохианците', 'дзю', 'диаболите', 'диаскинтест', 'диатриба', 'диенцефалонът', 'диклопрам', 'дисметаболична', 'дисфонията', 'добром', 'долата', 'долра', 'достъпете', 'доузряване', 'драгхар', 'дракуса', 'драмедия', 'дрб', 'дриновци', 'дрождна', 'дрънки', 'дтей', 'дуопол', 'дъбстепа', 'дъжат', 'дървостой', 'дюбелирането', 'еверите', 'еврпейските', 'едиин', 'едът', 'ежектора', 'езеряните', 'ейии', 'екотерапевт', 'екотоп', 'екринните', 'ексклузинвият', 'екстатичност', 'екстернализация', 'ексцентрикова', 'елейсон', 'електрет', 'електрическ', 'електронож', 'елине', 'елитра', 'елхичке', 'ендивията', 'ендоцервикса', 'ентимемата', 'еньовските', 'епей', 'ерадикационната', 'ерантис', 'ергофобия', 'еритропоетинови', 'ермелинда', 'ерудитски', 'ескаринче', 'естетизирането', 'етолкова', 'ефрейторката', 'жаление', 'жартиерни', 'жатоба', 'женение', 'жнаеш', 'забогат', 'загатки', 'заключе', 'залавното', 'занята', 'запознаеме', 'запрещено', 'звездит', 'зглеж', 'здравкодимитров', 'земянитски', 'зиго', 'змейчето', 'знаменен', 'зокор', 'золедронат', 'зява', 'иен', 'избивка', 'извад', 'извенявам', 'излседването', 'измерното', 'измък', 'изначава', 'изнес', 'използането', 'изпълняв', 'икариин', 'иктеричният', 'илиндичка', 'илопрост', 'илу', 'илханите', 'импинджмънт', 'имплантатна', 'инбридингът', 'инджера', 'инекция', 'инициа', 'иноваторство', 'инославие', 'инсули', 'интеристите', 'инфестации', 'информалното', 'инц', 'исказвания', 'искрови', 'ислех', 'источно', 'ицяло', 'йеюнум', 'йой', 'кайи', 'калпротектинът', 'канаки', 'канселирани', 'капилярката', 'капло', 'капок', 'карбендазим', 'карданов', 'картика', 'картосхемите', 'картофчо', 'каъо', 'квали', 'квоо', 'кейки', 'кератодерма', 'кератоконуса', 'кетопрофена', 'киберхигиена', 'килгрми', 'киликандзер', 'кинезиолог', 'кириз', 'клента', 'клинка', 'клокна', 'клубеца', 'клуру', 'коагулопатията', 'ковидизма', 'ковински', 'ководещ', 'коетое', 'козче', 'коиго', 'койнбейс', 'колимация', 'количестовото', 'колманскоп', 'колрак', 'колям', 'комарни', 'комодския', 'конвектоматите', 'конглокенция', 'конструктура', 'консултум', 'контекстуализация', 'конформното', 'копилот', 'копютър', 'корегиран', 'кориолисовите', 'коронамерките', 'корпоратокрация', 'корум', 'кратон', 'краудфъндинга', 'краудфъндингът', 'кредитн', 'кредни', 'криминалнопроявени', 'кроканта', 'кромко', 'ксимебак', 'ксплуатации', 'кукрито', 'културознание', 'кунта', 'купух', 'курикулум', 'курма', 'куропалат', 'кхат', 'къпеме', 'кърва', 'кървал', 'късометражка', 'кьщата', 'лабне', 'лаболатория', 'лагам', 'ладовете', 'лайкдийлърите', 'лактогенни', 'ланолинов', 'латите', 'леатон', 'лебкухен', 'лендър', 'лепирудин', 'лефона', 'лефскито', 'лигър', 'лидол', 'лимфодренажният', 'липолитична', 'лумпенпролетариат', 'луупове', 'лци', 'люлинчани', 'лявия', 'малок', 'малуса', 'мамице', 'мангъри', 'манит', 'мартензитна', 'масайски', 'масира', 'маслообразен', 'мастерклас', 'матриялът', 'матросовски', 'махрово', 'машшала', 'медиазнание', 'медиумните', 'междуреберно', 'мезоролера', 'менорагията', 'месечн', 'месопроизводство', 'меткам', 'метрополните', 'мецофорте', 'миглитол', 'миелинизация', 'миелографията', 'миер', 'мизофонията', 'микрето', 'микробизнес', 'микрокератом', 'микромобилност', 'микроуслуги', 'милай', 'милярдери', 'миокардиопатия', 'митн', 'митол', 'митоманията', 'млековарка', 'млекопреработката', 'млия', 'моднички', 'мозъчносъдовите', 'молоси', 'мондрита', 'монотипен', 'морбата', 'мравкороден', 'муат', 'мултивитаминния', 'мултиволан', 'мултисензорни', 'мурзилката', 'мутрински', 'мухаджири', 'муцинко', 'муя', 'мшление', 'мънер', 'мюсулманската', 'набълбука', 'нагуализма', 'наддавателното', 'надкрачи', 'надналягане', 'надракът', 'наелон', 'наемлетищен', 'нажа', 'наименоват', 'найглавното', 'найобикновени', 'найстранното', 'нанекъде', 'нанокомпозити', 'наот', 'напраат', 'напрвили', 'натискови', 'научит', 'началоосветителни', 'нашмъркал', 'нгельс', 'ндрей', 'неакадемични', 'неалергичните', 'небели', 'небиблейска', 'неверната', 'невроизобразяване', 'неврорехабилитация', 'неврохимия', 'неепителни', 'некротизиращи', 'немрящ', 'ненамерили', 'ненето', 'неокласиката', 'неокс', 'неосмислени', 'неосчетоводени', 'неотопляемите', 'нераждавейка', 'нервоуспокояващо', 'неровердите', 'неспечелилите', 'нетърпени', 'неуробекс', 'нех', 'нечакащи', 'нечетимо', 'нивниот', 'ниет', 'ноблес', 'новено', 'нович', 'новопроектираните', 'новоюлианския', 'нормлно', 'ношта', 'нуклеозидните', 'нутрикозметика', 'някакаво', 'няли', 'нялколко', 'обезбългарени', 'обеззаразители', 'обезшумяващи', 'обзаве', 'обрек', 'обривен', 'обсервационни', 'обша', 'ованови', 'огледна', 'огняра', 'октомрви', 'омаам', 'омерзява', 'онихомикози', 'онкурс', 'оофоректомия', 'оповаваме', 'оръжиеруско', 'орът', 'оставата', 'остеокалцинът', 'остеохондропатията', 'остъствието', 'отвратни', 'отдаваемата', 'отдиференцират', 'отдругата', 'откроими', 'отнаса', 'относятся', 'отчуждителят', 'оценими', 'очистилището', 'очн', 'падежира', 'палаткаджии', 'палко', 'панголинът', 'пандурин', 'панкреасно', 'параметр', 'параскевидекатриафобия', 'паратрамол', 'паращитовиден', 'паротидния', 'парсване', 'парцеларните', 'пателина', 'патологоанатомия', 'патрола', 'патронажните', 'пашуването', 'пекарство', 'пенала', 'пенсийо', 'пентилин', 'перквизиторът', 'перфекната', 'пефин', 'печеливше', 'пикасата', 'пикт', 'пипитам', 'пираха', 'пирувата', 'писк', 'пишета', 'пишешти', 'плегия', 'плоскоцилиндрична', 'плугини', 'плътн', 'пневмоцити', 'побезопасно', 'повествуване', 'повлиае', 'подарк', 'подключ', 'подкрепители', 'подмести', 'подмодула', 'подплащници', 'подрегиони', 'подълбок', 'пожлавам', 'полимат', 'полиметилсилоксан', 'полисилоксан', 'полихромни', 'полицентрична', 'полос', 'полумост', 'полуномади', 'полуокръжните', 'полусолени', 'помладите', 'понзу', 'понкога', 'поняког', 'популар', 'популярная', 'порц', 'послоен', 'посрешнат', 'постнаталните', 'постпандемичния', 'потвърж', 'потемата', 'потрбн', 'поче', 'пракрасна', 'практике', 'пракшалана', 'пралине', 'праховита', 'превъплатил', 'предизвикатества', 'предостав', 'предпазв', 'предприятийца', 'предучилище', 'презасадени', 'президенския', 'прекасен', 'прекасно', 'премиерот', 'преоразмерено', 'преюдициалност', 'прикормку', 'прилеплив', 'примикюр', 'принимает', 'припадност', 'приципи', 'приципно', 'причастявате', 'проактивният', 'продължаваите', 'проинфлационна', 'прокурватура', 'пролекарства', 'противогърчови', 'противопоказаните', 'протрахирано', 'процесуалност', 'прочието', 'прошел', 'пруд', 'пряви', 'психофармакотерапия', 'птко', 'публичноправно', 'пует', 'пулсоксиметърът', 'пустулозният', 'путресцин', 'пухльовци', 'пълнокадрови', 'пърдялника', 'пътьо', 'рабути', 'радиоинженерство', 'раздват', 'разнит', 'разпложен', 'разполжение', 'разходопокривна', 'расолник', 'растител', 'рбти', 'реализиция', 'резидентството', 'резитбени', 'реконструкционист', 'репко', 'репозицията', 'рептилоидния', 'рефлексотерапевт', 'реформър', 'рефрейминг', 'рецепиент', 'рикетсиите', 'риплей', 'ристоцетин', 'рисун', 'риткат', 'ромула', 'рубеже', 'рудбекията', 'рци', 'рчи', 'рюмел', 'сабини', 'сабинче', 'саджи', 'салафит', 'самоопределеност', 'самостерилен', 'самотноживееща', 'самохвати', 'сандбокс', 'санкцийте', 'сарее', 'саундрак', 'сборг', 'свекървището', 'светогорие', 'свещеницит', 'свръхразширяване', 'свръхсъзнателен', 'свтовен', 'сданието', 'сдмици', 'сеанчанските', 'себевъзприемане', 'себеизследването', 'себил', 'севта', 'сегментална', 'селекоксиб', 'сието', 'симкарти', 'симптомният', 'сиурно', 'сифилистична', 'сиш', 'скампи', 'скорст', 'скоруша', 'скрийнове', 'скротален', 'скуиши', 'славнобългарска', 'сладкотворци', 'слезат', 'слиминг', 'смас', 'сметоизвозващите', 'смехавците', 'смехоран', 'смиъл', 'смсла', 'смърността', 'сновният', 'собсвеното', 'солг', 'солистична', 'солукс', 'соматосензорни', 'сорайя', 'сосе', 'состава', 'софиябургасварнавелико', 'сочинение', 'спесификациите', 'спойце', 'спорист', 'средномногогодишните', 'сриозно', 'ставям', 'стакли', 'сталакмити', 'стама', 'ствения', 'стериотипите', 'стилн', 'стойку', 'стойм', 'столичн', 'стоматидин', 'страотна', 'стращно', 'стронгил', 'стул', 'стъклопламси', 'субкултурна', 'субкултурните', 'субмарини', 'субоидите', 'сукове', 'суочовете', 'суперенциклопедия', 'сучайно', 'схемен', 'сще', 'събинче', 'съвокуплява', 'съгрява', 'сърбел', 'сътветната', 'сътезания', 'тайбрейк', 'такованката', 'такти', 'талъсъми', 'тарнег', 'таролог', 'тартронова', 'ташкън', 'тборът', 'твитер', 'тдн', 'теги', 'текстолита', 'темературата', 'темпертура', 'тензионен', 'терапевтици', 'терморегулиране', 'термохартия', 'тестостеронни', 'тиквешки', 'тиктокърка', 'тилитик', 'тинкарлин', 'тичко', 'тлв', 'тличен', 'тмя', 'тоничко', 'топкане', 'трабанче', 'трабекуларна', 'тракбол', 'тралгунът', 'трансмембранни', 'трансови', 'транспортейшън', 'трансфекция', 'тратории', 'трахеобронхитът', 'треакторията', 'триазоли', 'трибензозид', 'трибоец', 'трибъл', 'трипозиционен', 'триптаза', 'трист', 'трихо', 'тромбозиране', 'тромбопоетин', 'тръгнале', 'трявбало', 'тугра', 'тупуркане', 'турлюгювеч', 'тухл', 'тшф', 'тържик', 'уанай', 'уважаме', 'угрофински', 'удияна', 'узика', 'ултура', 'уплел', 'упражнеия', 'урабийка', 'уредна', 'урогинекология', 'успенците', 'успявят', 'устекинумаб', 'усуканица', 'уточниме', 'ученх', 'уширена', 'фандра', 'фарнксът', 'фатуш', 'фашизм', 'фенерлии', 'фенивир', 'фенилпропионова', 'фенистила', 'ферментативни', 'фертилизация', 'финн', 'флуоксиместерон', 'флуорокорт', 'фомата', 'фоскарнет', 'фотосенсибилизатор', 'фотохроматични', 'фрагове', 'фраска', 'фрез', 'френелови', 'фреонови', 'фримасоните', 'фулбрайтов', 'фундаментал', 'фунтов', 'фунциониране', 'хайър', 'халосия', 'хапенето', 'хардтейл', 'хариуел', 'хатакикоми', 'хаша', 'хеджфонда', 'хейтърка', 'хелатирани', 'хемоемболизация', 'хемотест', 'хенгери', 'херцептина', 'хетско', 'хиалиновите', 'хидрия', 'хиперурикозурия', 'хиперчувствителна', 'хипобулия', 'хипогонадизма', 'хипосулфит', 'хистърито', 'хихихихии', 'хоксни', 'холпърт', 'холщайнер', 'хорнова', 'хотенд', 'хризоколата', 'хрр', 'хттп', 'хубосник', 'хурити', 'хшиши', 'царст', 'целт', 'ценнен', 'церебеларен', 'церковной', 'цетиризинов', 'циа', 'цианотипия', 'циганизират', 'цистаденокарцином', 'цоизит', 'црни', 'цуранския', 'цуцка', 'чаламба', 'чашовидна', 'чемер', 'черношарената', 'четиресетте', 'четникгуа', 'чикаматсу', 'чипотъл', 'чисът', 'читам', 'чителна', 'чките', 'чокърът', 'чорбаспор', 'чохъл', 'чувсташ', 'чугуната', 'чудотворка', 'чътнито', 'шалето', 'шестограмни', 'шибучица', 'широкопрофилни', 'шлиф', 'шнековете', 'шогаол', 'шокохолик', 'шунил', 'щастливост', 'ществувала', 'ъбщи', 'ъпна', 'ъфорд', 'южне', 'ябло', 'явне', 'ямен', 'ятрогенните']\n",
      "----------------------------------------------------------------------------------------------------\n",
      "Number of unknown words in segment 0.40 - 0.45: 35,771\n",
      "['авентските', 'аврорианските', 'агалаксия', 'агалактия', 'агорафоб', 'аденомиоматоза', 'адидаски', 'адукторния', 'адювантното', 'аерогенни', 'аеропреса', 'ажустиране', 'айдия', 'айдос', 'аквадукти', 'аксолотлите', 'актосъставители', 'алангро', 'алег', 'алиански', 'аминобензоат', 'ангиомиолипомът', 'аневризмално', 'анлг', 'антидотни', 'антисоциалност', 'антихелминтозни', 'анюитетна', 'араваките', 'арахант', 'арахноид', 'аргументативните', 'аргументум', 'арим', 'архимедия', 'асортиментдиета', 'аспираторна', 'ауреум', 'аурикулария', 'ацидофилна', 'баберици', 'багаина', 'базила', 'барней', 'бгфутбол', 'бебеправите', 'бедстяие', 'безотпадъчно', 'безпроцесните', 'бендж', 'бензинаджията', 'бетакаротени', 'бидове', 'бизан', 'биопроизход', 'битстамп', 'блондора', 'бобинките', 'богодите', 'богословиемаркиран', 'болуса', 'болъгар', 'боначеа', 'борапарат', 'борту', 'брабанцио', 'бравлин', 'бронхипрет', 'буквоед', 'булмастифа', 'бутанова', 'бъли', 'бързонагряваща', 'ваксинопредотвратимите', 'варяжката', 'васини', 'васс', 'вачапа', 'вежи', 'везикулозната', 'везикуретрален', 'велкоме', 'вену', 'вероятнос', 'версим', 'ветърът', 'взят', 'видахме', 'видеозаписване', 'византиски', 'вишакха', 'владете', 'водобранни', 'водометни', 'ворсинки', 'връна', 'всеха', 'вшла', 'въвсем', 'възприемаемо', 'въпростът', 'гамбийски', 'гарамантите', 'гардини', 'гасударя', 'гатор', 'геминидите', 'генети', 'гербажиите', 'гербовник', 'гесото', 'гинофит', 'гинофлор', 'гипет', 'гладат', 'гларгин', 'глг', 'глейвиране', 'глицеролови', 'глюкарат', 'глюкуронирането', 'годинана', 'голенищем', 'гондорците', 'гордееме', 'гриже', 'гримоара', 'гриполек', 'гурувците', 'гьобелсовски', 'дайдат', 'далаверджии', 'дарданците', 'дахи', 'дезинхибиция', 'дезодорантен', 'действием', 'деконструктивни', 'дексаметозон', 'делбен', 'делик', 'делира', 'дензакуска', 'депакина', 'дермоабразио', 'дескрипция', 'детектва', 'дефрагментатор', 'децатата', 'дече', 'дечинки', 'дечурлигите', 'джазфест', 'джб', 'джеят', 'джогирате', 'джогъри', 'джунгарски', 'дзупа', 'дибет', 'димианки', 'димирате', 'дисгевзия', 'дисеминирано', 'диспергираните', 'дистантни', 'дистрофичната', 'докол', 'допикае', 'допу', 'дразне', 'дришня', 'друшки', 'дрхи', 'дръжкова', 'дузпаджии', 'дургото', 'дългодействаща', 'ебнята', 'евете', 'евкалиптното', 'евременна', 'едекон', 'едестин', 'еджи', 'едмици', 'еднотипността', 'ежесменен', 'ейдоса', 'екзити', 'екокултура', 'екомерс', 'екорегиона', 'ексруския', 'екстрасистолът', 'ектопион', 'електорнен', 'електродинамичен', 'енети', 'ентелектуалец', 'ентелигентни', 'енят', 'епибрасинолид', 'епилептиформени', 'епроблем', 'еритр', 'еритроплакия', 'ерлайнс', 'еруейз', 'ескамильо', 'етаирите', 'етаноловите', 'етите', 'ехокардиографска', 'еякулиране', 'жгутици', 'жегичка', 'желязосвързващ', 'жертвичка', 'жестко', 'живх', 'заащо', 'забитин', 'загравяне', 'занзи', 'засеганти', 'застото', 'затоплизъма', 'захъхри', 'зачезнахте', 'зебалт', 'зерчер', 'зици', 'зоин', 'зпзт', 'зугло', 'ибогаинът', 'ивалекс', 'иваш', 'иврид', 'игнейс', 'идивидуален', 'идир', 'иеу', 'избег', 'извинета', 'извинето', 'извратенящина', 'изгладняли', 'издателсво', 'изделий', 'изискават', 'изор', 'изст', 'изтекът', 'изтискани', 'изтчници', 'изцело', 'изцоцат', 'изявават', 'илвия', 'илиакална', 'илиризма', 'имаики', 'имакой', 'именова', 'индек', 'индиянец', 'интерени', 'интермитент', 'интрагастрална', 'инути', 'инфериор', 'инфламаторните', 'инфрареда', 'истиляне', 'исхиума', 'итересна', 'итни', 'ишлиме', 'ищях', 'йониеца', 'каар', 'кагебешник', 'казеинати', 'каквио', 'каквои', 'какьвто', 'калията', 'канаденсис', 'канарка', 'каньонингът', 'кападокийската', 'каракачанец', 'карако', 'карийците', 'карлина', 'кармическия', 'карона', 'картушите', 'каршеринг', 'катехизаторска', 'каткто', 'каширането', 'квадривиум', 'кване', 'квинон', 'квиринът', 'келте', 'кентър', 'кетаните', 'килог', 'кинобилети', 'кипата', 'кирякстефчовци', 'кламатското', 'клиндацин', 'клинета', 'клинтъновата', 'клипнете', 'когаро', 'коитоне', 'количк', 'колоска', 'колтурен', 'комедогенност', 'комисионът', 'компроментиращи', 'комуняшка', 'комутационното', 'конвексни', 'кондрат', 'коноравирус', 'конректно', 'контрадемонстрации', 'концетрирани', 'конюктивити', 'корабля', 'коравовратни', 'кораничните', 'корегираната', 'кореспондецията', 'корехидорът', 'коронарографии', 'костообразуването', 'кохезивен', 'крадливци', 'краините', 'краква', 'кракър', 'креместо', 'крийпове', 'кримай', 'кринка', 'криптозоологията', 'крите', 'крйна', 'кротуша', 'кръвоследник', 'кръсникът', 'ксарет', 'ксетанор', 'ксилазин', 'кувет', 'кукл', 'кулитата', 'кумквати', 'курдите', 'курсус', 'кутерът', 'късоплодни', 'кюпе', 'кючекиня', 'лаболатории', 'ладиевидната', 'ладински', 'лаймовете', 'лайфс', 'лакрицови', 'лактис', 'ланката', 'ланугото', 'латерализацията', 'латитюд', 'лаур', 'лахан', 'легислатурата', 'лекчение', 'ленгуидж', 'лепирайте', 'лепър', 'леривон', 'летал', 'лецека', 'либертин', 'ливаге', 'ливедо', 'ливите', 'лийчъри', 'лиорн', 'лицията', 'локализатор', 'лонгобарди', 'лорелът', 'лупанар', 'лусион', 'лутеинов', 'лъжегъсеници', 'льобоф', 'лянхуа', 'маанете', 'магданозлия', 'магистр', 'магребски', 'майндконтрол', 'макаронаджия', 'маком', 'макферсоните', 'малавийски', 'малади', 'мамекс', 'мамограмите', 'мамотропин', 'мард', 'маринистиката', 'мариуча', 'маркаин', 'матаки', 'матюшка', 'мащам', 'маянското', 'маятико', 'медиатек', 'медом', 'медуларните', 'междубраншова', 'междуобщинското', 'мейтс', 'мекане', 'меке', 'метавселените', 'металяги', 'метопи', 'миконазолов', 'микромотори', 'микропилоти', 'мингяни', 'минимун', 'минувал', 'минуте', 'миозата', 'миофибри', 'мириканци', 'мирозиназа', 'мисз', 'мисионерстват', 'мистериен', 'млу', 'многбройни', 'многократко', 'многосезонни', 'многоспектърна', 'множес', 'мнфч', 'могнат', 'модерирал', 'моеме', 'мокасината', 'мокр', 'молианис', 'моменът', 'моноетиленгликол', 'монстъри', 'москвичка', 'мофонго', 'мршанците', 'мукозното', 'мултимилиардната', 'мънечка', 'мъркуча', 'мьжьт', 'набръже', 'надговаряне', 'надстърча', 'назолакрималните', 'накзателното', 'наличи', 'наложаща', 'намтаан', 'напирмер', 'напомям', 'направлени', 'напримет', 'напряжение', 'народнит', 'наскро', 'наснимаме', 'настенен', 'настойват', 'наул', 'националреволюционери', 'начинна', 'начнется', 'ндерланди', 'неасистирано', 'небольшие', 'невъзпалени', 'неговете', 'незасягащи', 'неинтензивните', 'некомунистите', 'необжалваната', 'неоплатоници', 'неоповестени', 'неподържан', 'неправил', 'непремахнати', 'нерагламентирани', 'неревматични', 'нетуоркинг', 'неумрелите', 'нефрогенната', 'нехаресващи', 'нивелачния', 'никотинатът', 'нипазол', 'нитрофосфата', 'нкря', 'ннимн', 'новинифутболфутболни', 'нунатак', 'няколно', 'обгледен', 'обика', 'обрънете', 'обслу', 'обстоятествата', 'овековечава', 'овулите', 'овъртания', 'оганя', 'огон', 'одесняване', 'одея', 'одново', 'оживотворяване', 'окз', 'оклудери', 'околвръстното', 'околоността', 'олестра', 'олет', 'олигополни', 'олигофренка', 'омнес', 'омре', 'опрасканата', 'определоно', 'опунции', 'оранжевочервен', 'оргонен', 'оромен', 'остепороза', 'отварат', 'отданието', 'отишл', 'отоворът', 'офикии', 'оцениме', 'паднеме', 'палатиноза', 'пампита', 'пандеми', 'пандитите', 'панитумумаб', 'паразитологична', 'партенокарпен', 'партиаршия', 'партииния', 'парфум', 'парфюмената', 'пасольството', 'патас', 'пахиподиум', 'пдл', 'пезевенг', 'пействай', 'пекано', 'пембяна', 'периорални', 'пероцин', 'пешади', 'пешете', 'пиис', 'пиколитра', 'пиново', 'пиноленова', 'пиоцианова', 'пишчица', 'пията', 'плни', 'плоскостни', 'плочк', 'площадковите', 'плюсите', 'плюшковци', 'пневмогрупа', 'пният', 'повсевместна', 'подвиги', 'подкастинга', 'подморът', 'подпряли', 'поефективни', 'пожаробезопасен', 'поздравлния', 'поздраления', 'познавата', 'позцията', 'показъл', 'покъсен', 'полване', 'поленка', 'полисилиций', 'полисинузит', 'политикс', 'полуавтоматизирани', 'полуколичествен', 'полуроден', 'получам', 'получение', 'помалкия', 'понясям', 'попълно', 'порблема', 'порке', 'порошок', 'портюгъл', 'посевместна', 'постан', 'постерминали', 'постит', 'постмаркетинговото', 'постранно', 'посърбени', 'правии', 'правнорелевантните', 'празну', 'прайслайн', 'праплеменница', 'прахозащитна', 'прдължи', 'превантира', 'прегр', 'предикация', 'предполетната', 'предсказателен', 'предсъзнавано', 'презамятам', 'преносиха', 'преобра', 'привес', 'приемка', 'приклеиваем', 'приклонете', 'примаме', 'применяют', 'прискърцване', 'пристъргва', 'провителството', 'прогарамата', 'продуктивноста', 'проиводители', 'произвежд', 'проктоскоп', 'прониквателна', 'проприоцептивните', 'пропулсивна', 'простате', 'противонасекомна', 'противоплесенни', 'противохлъзгащ', 'профилираност', 'псевдофилософски', 'птицегон', 'пулпи', 'пунктатни', 'пунктирни', 'пусте', 'путинизира', 'пухкавелко', 'пучо', 'пцета', 'пъде', 'пютриума', 'равителството', 'радиоиод', 'разбъбрах', 'разговорях', 'разгъв', 'разкачането', 'размразител', 'разсейвателят', 'разсто', 'разстроиство', 'разстройката', 'разязвяват', 'ракиямен', 'рапери', 'распада', 'рдовно', 'реактивацията', 'ревив', 'ревлю', 'регистърна', 'регите', 'редкост', 'резорбируема', 'реинженеринга', 'рекапитализирането', 'релаксационните', 'реминерализират', 'ремоут', 'реперна', 'ресвирол', 'реслизумаб', 'ретикулата', 'ретробулбарно', 'рефика', 'рефлуксни', 'рехоспитализациите', 'рещат', 'рзбрх', 'рибс', 'ривански', 'рипи', 'родден', 'ротавирусния', 'рублика', 'рудини', 'румънизация', 'русияни', 'рустифина', 'рутабаги', 'ръците', 'ръчва', 'сабаале', 'саге', 'салвадорците', 'самонавиването', 'самоподпомагане', 'самополиване', 'санчита', 'сариколски', 'саски', 'саудаде', 'свадьба', 'сваляемият', 'свеви', 'светосила', 'себереализиране', 'северномакедонско', 'северночерноморските', 'северокорейците', 'седващия', 'секуди', 'селенометионинът', 'семблер', 'сеправи', 'септембар', 'сераве', 'сербов', 'сериозо', 'сетови', 'сиару', 'сиили', 'силодозин', 'синбиотикът', 'синфелд', 'ситовете', 'сифонирам', 'скатерни', 'скири', 'скитълс', 'сконс', 'скоростсписък', 'скса', 'слюни', 'смърни', 'смяня', 'снаг', 'снопе', 'содомците', 'сорсинг', 'сотвори', 'соцалните', 'спектр', 'спекулума', 'специлен', 'способов', 'спциални', 'сребърце', 'стабилитрон', 'стандартизационна', 'стафизагрия', 'стационира', 'ствително', 'стейкхолдъри', 'степинг', 'стифират', 'стихирите', 'стохил', 'странешком', 'стрипове', 'строхотни', 'студенстките', 'субкапсуларна', 'сугестопед', 'судьбу', 'сунели', 'супрематизма', 'сутре', 'счетово', 'съгасен', 'сълба', 'съобщенито', 'сърталанска', 'съръководител', 'състезанито', 'състи', 'същето', 'сьбрание', 'сяданетоалетни', 'тайта', 'такерът', 'талент', 'талианци', 'тантрична', 'таргум', 'тартани', 'твъдо', 'тебаин', 'текамин', 'тексте', 'телевизионерски', 'телевизонно', 'температуре', 'териак', 'термопластик', 'терраса', 'терри', 'течуща', 'тибутите', 'тиквешкия', 'тимбалчета', 'тимеросал', 'токоз', 'тонзиларна', 'тоози', 'топикално', 'торохранилища', 'тоукъни', 'тпзи', 'траверсо', 'трансвагиналният', 'трансвестити', 'трансезофагеално', 'трансплантолог', 'траспортна', 'трафикираните', 'трео', 'треперушки', 'трогови', 'тролира', 'тролщината', 'тронки', 'тускарорът', 'тъки', 'тъпотийте', 'тялто', 'убавецо', 'убида', 'убиени', 'удрил', 'уево', 'улич', 'умани', 'умнее', 'упралява', 'урагане', 'ураниум', 'уросептик', 'усешен', 'успялите', 'утвър', 'утрее', 'утренни', 'учасе', 'учатниците', 'учетом', 'учулище', 'фаворитен', 'факю', 'фалело', 'фатина', 'фашизацията', 'фейхоада', 'фемтосекундният', 'фига', 'филлер', 'филса', 'финит', 'фиромец', 'фитката', 'фитостволови', 'фйешън', 'флексен', 'флинтифлюшки', 'флог', 'флокули', 'флуидизиран', 'фоликсин', 'фрейксенет', 'фризъор', 'фрийлансер', 'фрми', 'фруункулоза', 'фулвиновата', 'фурта', 'фъндс', 'фърляте', 'хайбуни', 'хайфи', 'хаканаи', 'хапканадежда', 'хашитоксикоза', 'хелатните', 'хелирането', 'херцеговците', 'хидратор', 'хиксос', 'хиоидна', 'хипердиагностика', 'хипердинамичен', 'хиперкинетичното', 'хиперкомпенсация', 'хиперлактацията', 'хиперпластичната', 'хипоцентърът', 'хипстер', 'хипстерите', 'хиротониите', 'хистохематологичните', 'хифемата', 'хлорофилинът', 'хоремака', 'хоронгвата', 'хостия', 'хубао', 'хубяв', 'хюмексгрип', 'центръра', 'цилиндр', 'ционен', 'цръв', 'цръна', 'цъм', 'чависти', 'чалгаджийте', 'чапарала', 'часовн', 'чеима', 'чейнчаджиите', 'черепки', 'чехла', 'чиготите', 'чинкови', 'чиства', 'чортен', 'чувале', 'шаброване', 'шантиклер', 'шверт', 'шерл', 'шикари', 'шлакова', 'шоти', 'шпаньолците', 'щатливи', 'щепсъла', 'ъндерграунд', 'ънплъгд', 'ъпсайклинг', 'юного', 'яблъчна', 'язьк', 'яйцеживородни', 'якобити', 'ямакаши', 'ямков']\n",
      "----------------------------------------------------------------------------------------------------\n",
      "Number of unknown words in segment 0.35 - 0.40: 50,766\n",
      "['аблутофобия', 'авалак', 'авторизационен', 'автотапицерия', 'автохонната', 'аери', 'актвност', 'актосъставителката', 'албуминова', 'алдостеронов', 'алеманда', 'алзергрунд', 'алкаж', 'алкоголя', 'алтери', 'алуминизирани', 'аминохинолинови', 'антиалергичност', 'антитромбоцитите', 'антифонното', 'антихелминтиците', 'антропоморфизирани', 'аони', 'апельсин', 'апофатичното', 'аправете', 'арабе', 'арбовирус', 'аргенте', 'армана', 'археогенетика', 'атинците', 'атомарно', 'атусин', 'ацетогенини', 'бамб', 'банбони', 'бандикут', 'баптизия', 'барен', 'беглишко', 'бегството', 'безблагодатна', 'безкалорични', 'безродничество', 'безсрамност', 'безсулфатна', 'безформие', 'безхартиена', 'беица', 'бейбихалера', 'белии', 'белнали', 'беменност', 'бенгалис', 'бензоникотинова', 'биаси', 'бигуанидната', 'билингвите', 'биоинформатик', 'биофилтрация', 'бкло', 'благопожелателни', 'блема', 'блогоден', 'богоборческите', 'болднах', 'борам', 'ботевизма', 'ботевиста', 'ботщина', 'боянката', 'брилянтената', 'брилянтени', 'бронхоектатична', 'бронхопулмонален', 'брошью', 'бръмбърчета', 'буддлея', 'булериан', 'булетите', 'булне', 'бунджар', 'буслента', 'буташуди', 'бушкрафтър', 'бъдеи', 'бъкетите', 'бъргари', 'ваде', 'валахите', 'валвулит', 'валун', 'вапора', 'варикобустер', 'ватния', 'вашато', 'вграде', 'вгризва', 'велий', 'велми', 'венско', 'венчея', 'веселчуне', 'взаимодействи', 'видий', 'вийдам', 'вилозните', 'вираут', 'вируслав', 'висшегласието', 'витализатора', 'вицеприемиерът', 'вицепримиер', 'вкусом', 'врела', 'връзкарщината', 'всероссийская', 'входн', 'въговете', 'възпряни', 'вълконски', 'вървът', 'върешната', 'вътреобщностен', 'вярвях', 'вярвящ', 'газобетонови', 'галеас', 'галинор', 'ганки', 'гастродуодит', 'гащурите', 'гейа', 'гемиджийско', 'геостратези', 'гербили', 'гинурата', 'глациалните', 'глациология', 'глиоксилова', 'глюкоронова', 'гобе', 'гойски', 'голфетката', 'госаку', 'гоуемия', 'гравиера', 'гравнар', 'грануломатозната', 'грба', 'групен', 'гръме', 'гугълмапс', 'гуйанг', 'гуннов', 'гъзерете', 'давлением', 'дайджестив', 'дамит', 'даравя', 'дартснюз', 'датичката', 'деацетилиране', 'дебрянка', 'девс', 'дейза', 'делегатура', 'делинквентни', 'делфис', 'деминерализиране', 'демисезон', 'депигментираната', 'депилаторените', 'депротеинизация', 'деркето', 'дерматопатия', 'дермоиди', 'дерогирани', 'десебарки', 'десенатор', 'десностранните', 'дефинируемо', 'дефинитивност', 'джавелините', 'дженъл', 'джианът', 'джъткам', 'диамид', 'дибромид', 'дивисон', 'дидипиди', 'диомо', 'дислайкове', 'дистопичният', 'дитя', 'дифузивни', 'дицентър', 'довски', 'дозе', 'доксинг', 'донакс', 'донашната', 'допътува', 'досвд', 'достйнство', 'државите', 'дръжавна', 'дсно', 'дубровчани', 'думаа', 'дуфастън', 'дърлям', 'дякът', 'дящи', 'еддер', 'едих', 'еднии', 'едновременото', 'ежедевно', 'екарана', 'екзорцизмът', 'екоплажа', 'екринни', 'експерия', 'екстракардиалните', 'ексхумиране', 'екфолиант', 'елекроуреди', 'елеминирани', 'елетронната', 'емпимема', 'ендобронхиален', 'ендрише', 'ензалутамид', 'ентезопатии', 'ердоганист', 'ердоганска', 'етим', 'етногеография', 'еточно', 'ефузионен', 'ехт', 'жарн', 'желязобетон', 'животну', 'жлезистовите', 'жлезния', 'завършителните', 'загавието', 'задавт', 'задравява', 'закреплена', 'заобгражда', 'запазната', 'запеваема', 'запознам', 'затегателен', 'захарула', 'звънещи', 'здни', 'зеофит', 'зилотството', 'зимми', 'зната', 'зование', 'золофта', 'зоста', 'зъвършва', 'ивосиромахов', 'идентичностната', 'идолослужителите', 'идос', 'избушиха', 'изкключително', 'изложенито', 'измение', 'изопроцесите', 'изповеда', 'изпращяли', 'изпълнат', 'изфорсирам', 'илитидът', 'имеете', 'имотко', 'имуноблотингът', 'индентифицираме', 'индинол', 'индитата', 'индувидуална', 'инклузивността', 'интеграта', 'интерсните', 'инфодъмп', 'иоланд', 'ипад', 'ислямизационните', 'истмат', 'истнска', 'итература', 'ифнормация', 'ицак', 'йонон', 'йореги', 'йофа', 'кабелджия', 'калибар', 'калкареум', 'калмуци', 'камове', 'камуниз', 'камунизма', 'кандидов', 'канла', 'канселирането', 'караджовци', 'каракаша', 'карантират', 'карбинолът', 'каротид', 'каруселен', 'катализация', 'кафаната', 'кахута', 'кашла', 'квазирелигиозен', 'квантувано', 'кеджа', 'керванджийката', 'керотин', 'кефише', 'киберпрестъпна', 'киберпрестъпни', 'киргизската', 'киринейски', 'кистичният', 'китапи', 'клодронова', 'клюз', 'козмос', 'кокцида', 'кокю', 'колеи', 'колективистки', 'колнат', 'колумнея', 'команду', 'коморбидно', 'компютьра', 'консултати', 'контраиндицирани', 'конюгирания', 'кордобския', 'кослород', 'косматна', 'кофпомпи', 'кочовати', 'крадеха', 'крафтмастер', 'креатенин', 'крещяш', 'кризиси', 'криосфера', 'кросър', 'кръчките', 'ксерн', 'ксило', 'ктпп', 'кумулиран', 'куротното', 'кълчоти', 'кърлите', 'лакатя', 'лапачото', 'ларгактил', 'латунная', 'лаунчъра', 'ледах', 'ледване', 'леза', 'леким', 'лемути', 'лету', 'лечениена', 'либерасткото', 'либидните', 'лигаментотомия', 'лимфоотока', 'липковците', 'липосклероза', 'лицеистите', 'лкарит', 'лозенските', 'луминий', 'лястовице', 'магданоса', 'магистала', 'максиму', 'малондиалдехид', 'малообразовани', 'маляване', 'маляров', 'маниполирате', 'марджини', 'маскутен', 'мастил', 'матриц', 'махални', 'медуса', 'меемед', 'междубраншовите', 'мезорегион', 'мейбомианските', 'мексикор', 'мелоксикама', 'менаджерите', 'мерус', 'месецословите', 'метанолова', 'меткай', 'метроритмични', 'мибе', 'мидии', 'мизерабли', 'мизеро', 'микогенецът', 'микрвълнв', 'микрорегулиране', 'микстум', 'милиома', 'минералкортикоид', 'миноритари', 'минтути', 'мирабили', 'мирковската', 'митологичност', 'младонагънати', 'многообхватно', 'могам', 'модърите', 'мозилла', 'мойна', 'моммента', 'мониторирайте', 'морганела', 'мотопехота', 'мочата', 'мривет', 'мтци', 'мултипления', 'мурдасите', 'мутагенността', 'мухлъо', 'навлезла', 'нагерб', 'нагласьов', 'надзаливни', 'назаконно', 'нанониво', 'написао', 'напусканена', 'напълнат', 'нарните', 'народоволците', 'нарушват', 'насипището', 'начатъците', 'нашиша', 'нащу', 'ндрангнекх', 'неадювантна', 'небуквално', 'невроглии', 'неврозоподобно', 'невъзобновяема', 'недоминантната', 'недопълване', 'нееволюиралото', 'нееднаквена', 'независмостта', 'незаменяемите', 'неиздържах', 'нейла', 'некалибровани', 'некодираща', 'нексът', 'некърмени', 'ненадлежното', 'неодамна', 'неодобрявана', 'неподменена', 'непритежание', 'неприязан', 'непрязън', 'нереализираност', 'несоциална', 'несправедли', 'нестойностни', 'неструктурните', 'несъдови', 'несъществувал', 'неутрини', 'неучилите', 'нзими', 'нидерлански', 'никакаква', 'нилатл', 'нитоденбезкнижки', 'нобилетин', 'нобли', 'новокръстения', 'новопубликуваните', 'ноку', 'ноотропик', 'нуклеокапсидът', 'нуклеофил', 'нущо', 'нците', 'нявай', 'някакъво', 'няколкоетажна', 'няшият', 'обаснение', 'обезмаслителите', 'обекът', 'обещетени', 'обжалваемия', 'обичш', 'облавяне', 'областстаразагора', 'облегалната', 'обмиване', 'обмиват', 'образавание', 'обриета', 'обримчена', 'объема', 'овцевъдка', 'огурски', 'одначава', 'озге', 'озелен', 'оклната', 'околностит', 'околоностите', 'околоо', 'окрих', 'оксидази', 'октилия', 'олигофренично', 'онална', 'онасловен', 'оникомикоза', 'опрви', 'оптикоелектронни', 'опунциите', 'органометални', 'ордолиберализма', 'ормация', 'оротовата', 'осифицираща', 'осколъчна', 'основоно', 'остеони', 'остерията', 'остнала', 'осъзнание', 'отверствие', 'отвьн', 'отговорностти', 'отебали', 'отечки', 'отклонителните', 'отнсоно', 'отпосл', 'отсла', 'отценките', 'охлаждаеми', 'оцетнокисела', 'паганистични', 'пагур', 'палаткуващите', 'памтник', 'панте', 'панхистеректомия', 'парапсориаза', 'паратион', 'париетария', 'паркинсониците', 'партско', 'пашката', 'пдбяв', 'педагоги', 'педалборд', 'пекиджинг', 'пелагианците', 'пеларгониеви', 'пелински', 'пентанол', 'пеониа', 'переговоров', 'периноспора', 'перитани', 'персентила', 'персоналистичен', 'песена', 'петролеца', 'пиип', 'пикограм', 'пингвинската', 'пинда', 'пипитата', 'пирт', 'пистак', 'пистарките', 'питьо', 'пищол', 'пиявките', 'планерист', 'пластмаска', 'платфо', 'платфомата', 'плевродиния', 'подвесна', 'подмукозата', 'подсайта', 'подсушивает', 'подхдящ', 'подчелюстна', 'поездка', 'позити', 'познам', 'покон', 'полдневна', 'политическта', 'полупериметъра', 'поскрие', 'поствяне', 'постмаркетингово', 'потекът', 'потенциометрични', 'потест', 'потм', 'потоковите', 'похудели', 'православн', 'прагматистката', 'превъплатен', 'предвърително', 'предизика', 'предложене', 'предполетния', 'предраз', 'предренесанс', 'предупрежде', 'преебаването', 'презими', 'преизползваме', 'премем', 'преобл', 'преполиват', 'препочитанията', 'преседателят', 'пресонаж', 'пресреклама', 'претеризъм', 'префейс', 'префектното', 'прецедателят', 'прзидента', 'прзидентът', 'прибие', 'прибр', 'придерживаться', 'приздрачна', 'приказливке', 'примена', 'примести', 'прирастта', 'притесява', 'проверяемите', 'провите', 'провлачил', 'провлачите', 'проглотид', 'продробности', 'продълбочителят', 'проектанския', 'проемат', 'прозе', 'прокоментираме', 'прокреативна', 'пролабира', 'пролотерапия', 'проминират', 'пронаталистична', 'пропин', 'протаргола', 'протеиногенна', 'противохерпесно', 'професиналните', 'профессиональной', 'прошумела', 'псевдоисторик', 'псевдоисториците', 'псевдополипоза', 'психоакустиката', 'психотравматичен', 'публикат', 'публиква', 'пудров', 'пуликации', 'пушилници', 'пци', 'първопричинител', 'пъруване', 'пътепоказателни', 'пътешествиесмисия', 'пюрлоджикол', 'рабкор', 'разбераш', 'разбирем', 'разбъркаваме', 'разграниченост', 'раздвиждане', 'разледай', 'размр', 'разообразни', 'разпищяли', 'ракуго', 'ракцията', 'ралите', 'рапаната', 'расходка', 'рачил', 'рашеда', 'рдавам', 'редата', 'резорбацията', 'резулти', 'рекурентната', 'релора', 'ремонтуара', 'референциална', 'рехабилита', 'ржден', 'риганте', 'рицинин', 'родетели', 'родона', 'рокан', 'рохингя', 'румънещи', 'русийски', 'русист', 'рябин', 'сайдиса', 'сакаха', 'салеф', 'самоиздават', 'самоосвобождение', 'самопознаването', 'самопричинено', 'самоубочение', 'свахах', 'свежички', 'свобадата', 'северомакедонските', 'сейменът', 'сексите', 'сектретар', 'сенокосни', 'сепарационен', 'серал', 'сервалите', 'сестру', 'сетнята', 'сеточка', 'сецесионистите', 'сжигающие', 'сиганета', 'силвинит', 'силво', 'силициум', 'симат', 'симбиотик', 'симетикона', 'синдарелка', 'сиренита', 'скаутинга', 'скверноти', 'скравенски', 'следродовото', 'словянин', 'слоутурс', 'слънцебегачи', 'смалидон', 'сменяма', 'смехорана', 'смородина', 'смразмер', 'снимает', 'собтвениците', 'солитоните', 'сонотроди', 'софистически', 'спела', 'спермалният', 'спиннинга', 'спицифичен', 'спокойс', 'споменя', 'спортнотехнически', 'спосори', 'спринкълс', 'срвщу', 'сръбе', 'стадира', 'стакселът', 'станазолол', 'статиягерб', 'степенуолф', 'стероцилин', 'стикитата', 'страсно', 'стрептокарп', 'стъклопластмаса', 'субектния', 'субмаксимални', 'субмаксимално', 'субмодалностите', 'субплеврални', 'сулфхидрилните', 'сумцов', 'суровояден', 'съвершено', 'съветолог', 'съдейст', 'сьгласно', 'танур', 'тател', 'тбеляза', 'теже', 'тейнджърийн', 'телепоща', 'темана', 'тематизации', 'тематизирана', 'тембровото', 'темопорфин', 'тенанин', 'теофанията', 'територите', 'термокерамичните', 'термопластите', 'тесер', 'тетрадите', 'тетраксолин', 'теулите', 'тиреотоксични', 'тиристорните', 'тирохелп', 'титратор', 'тихомиртомов', 'тлефона', 'тначало', 'тнической', 'тоагава', 'тогаваа', 'толнепската', 'топат', 'тотици', 'трабекуларни', 'традиционне', 'транпортни', 'трейдовете', 'трионообразно', 'трихогастерите', 'троянчани', 'тръсим', 'тукмак', 'тъкна', 'търновчета', 'тюркутът', 'тяг', 'тягостност', 'убавините', 'убивт', 'убогата', 'уверявям', 'увличи', 'удовлетвореннй', 'уикимедианското', 'ултрафилтрат', 'умаловажаване', 'умбрийски', 'умреляк', 'унисек', 'управляваши', 'уравлението', 'уредиме', 'урограма', 'урските', 'успих', 'успух', 'утилизатори', 'утича', 'утря', 'учителната', 'фаворитни', 'фандъчке', 'фантик', 'фасилитирането', 'фастбека', 'фаувето', 'фациални', 'фенбойче', 'феномено', 'финишъри', 'флавониди', 'флопна', 'фойе', 'фонондоскоп', 'форнт', 'форшмак', 'фоторедактора', 'фрагрантика', 'фригиеца', 'функионира', 'функията', 'фьосталпине', 'хажра', 'хазаринът', 'халкозин', 'хамарстрьом', 'хантайци', 'харестват', 'хексен', 'хеликоптероносачите', 'хемин', 'хемиплегичната', 'хемовит', 'херниялната', 'хидробионтите', 'хименолепидоза', 'хиперлевкоцитоза', 'хипертин', 'хипотоника', 'хлорпикрин', 'ходилните', 'хордом', 'хормонозависимите', 'хорра', 'хоумпласт', 'хохи', 'хронолитът', 'хуавея', 'хуния', 'ценоизчисляваща', 'центруфугата', 'цепция', 'циклоалкани', 'цингата', 'ционер', 'цитостопцията', 'цукидаши', 'цуцовата', 'чакровата', 'чакръкчийството', 'часам', 'чдтврц', 'четвъртъчни', 'четнишки', 'чистосортови', 'чици', 'чтиво', 'чувтват', 'чутурката', 'чуч', 'чървул', 'шиптери', 'шкеите', 'шкембаците', 'шнуровката', 'шоуранър', 'шофорите', 'шошин', 'щадски', 'щеа', 'щирица', 'ърде', 'ъха', 'ъчно', 'юнуши', 'юрнек', 'ябуки', 'ямаш', 'ямът', 'яцимирский', 'яшасън']\n",
      "----------------------------------------------------------------------------------------------------\n",
      "Number of unknown words in segment 0.30 - 0.35: 72,943\n",
      "['аахх', 'абстинент', 'авиценна', 'автоагресивното', 'автохимотерапия', 'автохонен', 'автохонци', 'агиографско', 'адизо', 'адикшън', 'адължения', 'азиатикозид', 'аили', 'акордов', 'акропори', 'аксиларите', 'аксимален', 'аксонно', 'албигойският', 'алисиум', 'алтернативки', 'алуминев', 'алунита', 'алхимичката', 'амаи', 'амилолитична', 'амлиа', 'анастомозиращи', 'андското', 'аниматорските', 'аниморфия', 'анорексигенни', 'антиаритмик', 'антибръчково', 'антиепилептичната', 'антител', 'аргининова', 'аргининосукцинат', 'аржент', 'арнаб', 'астрофизичната', 'аудиокабел', 'ахолия', 'бабайко', 'бабко', 'бадас', 'базидиомицетите', 'базилеус', 'баирбудала', 'байрактарче', 'бакоп', 'балалайкане', 'балетками', 'балок', 'банаджии', 'банал', 'банкстерски', 'баптиски', 'баралеф', 'барековците', 'бахги', 'бебчи', 'беженец', 'безфалцово', 'беклитите', 'бензиностацията', 'бесноватост', 'библиографоведческая', 'бигардия', 'билколечителите', 'биогения', 'биогеохимичен', 'биоиндикатор', 'биостатистик', 'благословява', 'бниц', 'бобак', 'богуугодно', 'бокарал', 'боккен', 'болгаром', 'болхики', 'боровската', 'борсета', 'бошке', 'брадве', 'брариъс', 'бременнеене', 'броенете', 'бругмансията', 'бръяки', 'будиска', 'букалният', 'букаро', 'бурпи', 'бъгаринът', 'българивчужбина', 'вазилин', 'ваибар', 'валтата', 'варсел', 'варуса', 'ватсекунда', 'вашистите', 'вексилум', 'велопрехода', 'венерче', 'венцеслави', 'вердански', 'вердегия', 'вертимек', 'вертолт', 'вибраний', 'вику', 'винолей', 'висторията', 'витаминит', 'витарката', 'вителен', 'включотелно', 'вличнието', 'вогат', 'воднит', 'вододелците', 'водопис', 'воиската', 'врацаднес', 'вреж', 'втара', 'втрория', 'въздушнокосмически', 'възмездител', 'възможностиза', 'възнагра', 'възникн', 'габъровите', 'галактуроновата', 'галевизация', 'гастралният', 'гаструлата', 'гашници', 'гейлик', 'главока', 'гласувне', 'гледш', 'гликомакропептиди', 'глинобитна', 'глицитеин', 'гломусни', 'годинината', 'гоидини', 'гократно', 'гонец', 'горск', 'господн', 'градиен', 'гредат', 'гредовата', 'гризлива', 'груго', 'грузя', 'гръцкоезични', 'гърцизира', 'гътми', 'гьза', 'давач', 'далчената', 'даренето', 'датна', 'дваесет', 'двигателът', 'двусеместриален', 'дебъгваме', 'девианта', 'девиатори', 'дегресия', 'дейстават', 'деклараця', 'денино', 'депрессии', 'дермакол', 'десмоидни', 'десоциализирани', 'джагала', 'джинжифила', 'джосрън', 'диждей', 'дискутабилни', 'дихазии', 'диченг', 'дневена', 'догвора', 'дожник', 'докаот', 'доктрин', 'долихосът', 'домашноо', 'дообрее', 'допомогою', 'дорото', 'досуната', 'дотовор', 'доуджкойна', 'драгувити', 'драматическую', 'драхти', 'дружестовото', 'дългоносици', 'държавотворните', 'дюсове', 'дяволачо', 'ебливата', 'еването', 'евела', 'евентуал', 'еврогейчета', 'евроконсерваторите', 'едноплоскостно', 'едностъпкова', 'еестествено', 'ейджърите', 'еклезиологична', 'економично', 'екосъобразния', 'екранкухненски', 'екскреторен', 'ексцерпиран', 'екъм', 'електоника', 'електролиполиза', 'електролуминесцентни', 'елинофил', 'емоксипинът', 'ендема', 'енерговибрационни', 'ентелектуален', 'епидемолозите', 'ербиевият', 'ергосферата', 'еректа', 'ерчат', 'еслучвало', 'етусиазъм', 'ещата', 'жалкарско', 'живех', 'животоподържащи', 'жигулски', 'жиовта', 'жуал', 'жък', 'забрак', 'заздравяне', 'заместимост', 'заниваш', 'запомн', 'заседаниеразпореждане', 'заспиме', 'затрудн', 'захлюпена', 'здравеопазваща', 'здравеопзаване', 'здържам', 'зеленчукс', 'зеленяване', 'злоу', 'знайт', 'зонната', 'иаяпа', 'иволина', 'игроманията', 'идателство', 'идиотизиране', 'избягането', 'извнете', 'извожда', 'изгжд', 'изкачаща', 'изключитела', 'излетият', 'изност', 'изочник', 'изплънение', 'изсвиляване', 'изси', 'изязат', 'илиес', 'имла', 'имунокомплекси', 'имунокомплексна', 'инвестито', 'инволютивна', 'ингвиналното', 'индииска', 'инкарци', 'инкаса', 'инклусив', 'инкременти', 'инотропна', 'инплантира', 'инстации', 'интергрира', 'инфалтилни', 'инфекционната', 'инфопакет', 'инфос', 'ираноезично', 'ироним', 'искаите', 'иследователски', 'исмаилтяните', 'йосвани', 'йофтаз', 'кавалети', 'кавици', 'казаме', 'кайтинг', 'какко', 'калдис', 'калихти', 'камелиново', 'камовете', 'камъкафрактури', 'капсуларна', 'капуцинската', 'кардиоболница', 'кардиоболницата', 'карийската', 'каришма', 'каролевци', 'касавата', 'катионната', 'каубойте', 'кауфландската', 'кацика', 'качаството', 'квадралион', 'квазера', 'квите', 'кебави', 'кейнсиянство', 'кетокиселина', 'кетхуда', 'кжо', 'кивера', 'кимвърски', 'кинари', 'класимето', 'клеки', 'климатич', 'клиша', 'князем', 'когнитивная', 'колкоот', 'колкхаун', 'комиисята', 'комментариях', 'комунделските', 'конгестивният', 'конкретного', 'конкурски', 'консепта', 'контрибутор', 'контрукцията', 'кончик', 'копропорфирия', 'корпускулярното', 'котелките', 'котининът', 'красотка', 'крахмал', 'криптокорин', 'кропнат', 'ксаверия', 'кскурсии', 'куилион', 'куир', 'куйшан', 'кунхя', 'курорите', 'лалате', 'ланголиери', 'лаурита', 'левоментолът', 'ледериеца', 'лежаците', 'лекостепенни', 'лелемале', 'лендлер', 'лентарен', 'летанската', 'летние', 'летра', 'лидерит', 'лийдът', 'ликоподий', 'линуксаджиите', 'липон', 'липу', 'листки', 'лифткартите', 'лоад', 'локализационен', 'локоматът', 'лютиерско', 'магданозния', 'магнетическата', 'маджах', 'майндфул', 'макаронс', 'макрофотографии', 'мамоу', 'мапинги', 'масапе', 'мастноподобно', 'мачинг', 'машаалах', 'мащаш', 'мащината', 'маянско', 'мгновение', 'мегалетище', 'медвенския', 'медикса', 'междугръбначна', 'междунардната', 'междусекторния', 'менестрелката', 'ментовозелен', 'мерии', 'меркурианец', 'мерсиме', 'мертвого', 'месаж', 'месецословът', 'метаанализите', 'метанолови', 'метачните', 'механобота', 'мешите', 'мигов', 'микроспор', 'минге', 'минимализация', 'минстер', 'миоценската', 'миридит', 'митогени', 'мицетом', 'младоженик', 'младолиберална', 'мнзинтв', 'многат', 'многогоривен', 'многомодулни', 'множествениците', 'модераторстваш', 'мокрозавър', 'моментността', 'моноцикличен', 'монтанистки', 'монтировките', 'мопане', 'морантските', 'моренен', 'морфометрия', 'мосаб', 'мошмороче', 'мужчиной', 'мултивекторна', 'мултитарифен', 'мутрополити', 'мухахахха', 'мълчние', 'мюръл', 'мяссто', 'наата', 'наблюдам', 'набоцкали', 'наварени', 'нагуализмът', 'назида', 'напртив', 'наресва', 'наречният', 'нарид', 'наркопрестъпленията', 'населби', 'насуки', 'наторе', 'натренирана', 'науж', 'наутрален', 'началовсичко', 'началоетикет', 'нашого', 'нашол', 'неандарталци', 'небезивестната', 'невромедиацията', 'невъзприемащи', 'неграфични', 'недвойствеността', 'недеформираща', 'недокоснали', 'недолет', 'недонаправени', 'незакърпени', 'неисторичен', 'нейерархична', 'необлепени', 'неототалитарна', 'неприемат', 'непристигнал', 'непрогнозируемост', 'непроследена', 'неразрешение', 'несилно', 'неспециални', 'нетерата', 'неудбно', 'нефролепсис', 'нефронната', 'ниакво', 'николадамянов', 'никсан', 'нискодозирана', 'нискокултурните', 'ниями', 'новинапомните', 'новомесечие', 'новосъздаваните', 'нормотворческите', 'ностос', 'ноци', 'нпрвни', 'нравственността', 'нуклеобази', 'нуклеопластиката', 'нулевоенергийна', 'нявма', 'нямая', 'нямте', 'обедил', 'обездушаване', 'областит', 'облекоха', 'обобщителност', 'обощаване', 'образца', 'обрудван', 'общесвена', 'оводни', 'овъркеш', 'оганичения', 'ограничват', 'одреди', 'одрове', 'озадачително', 'оксидентализма', 'октидите', 'окуфлаш', 'оледна', 'омага', 'омниканален', 'опаквания', 'опаразитен', 'опитмизъм', 'оплакваници', 'оплаквателната', 'опражнявам', 'опредления', 'органотропен', 'орованда', 'орофаринга', 'оскъдняване', 'осуществляет', 'отац', 'отвлякал', 'отепа', 'откроима', 'относится', 'отрезах', 'отродите', 'отслабванепродавам', 'оттегчава', 'оттърсете', 'офромление', 'охоло', 'ощипнете', 'павильонът', 'паздер', 'палеркос', 'панкреофлат', 'пануда', 'паразидоза', 'паралеката', 'паркоелементи', 'пароозонатора', 'пароозонатори', 'партенокарп', 'партицията', 'партона', 'пасажири', 'пасошите', 'пастермак', 'пастици', 'патентопритежател', 'патохимични', 'пахиподиумът', 'певца', 'педерунгела', 'пелазг', 'перинеумната', 'пернера', 'печалб', 'печелбарството', 'пипифакс', 'пиробатерията', 'питагорейско', 'питя', 'плазмоцитома', 'плантография', 'пленерно', 'плф', 'плъхочовеците', 'пневмомасажът', 'повес', 'повл', 'подади', 'поден', 'подзвена', 'подреде', 'подсхема', 'подсъзнанито', 'поизтече', 'полигорчо', 'полиморф', 'полиолефинов', 'полихетите', 'полкортолон', 'положитлни', 'полувярващи', 'полудървени', 'полуизчерпани', 'полулицева', 'полунелегалност', 'понамързява', 'понататъчното', 'поошетам', 'порцедурата', 'поръчна', 'порязоха', 'последниве', 'последтвията', 'посредствам', 'постира', 'постъпкова', 'потвърде', 'потица', 'почиката', 'ппради', 'прадаване', 'пребиотичния', 'превентивни', 'превентираме', 'предвземки', 'преддиабетите', 'предиспозицията', 'предружител', 'предусилвателната', 'преждевремци', 'президетски', 'презлятото', 'премилостиви', 'премудрост', 'преорганизираме', 'приговянето', 'приканям', 'прикаската', 'принуж', 'принципален', 'прирдт', 'приятелсвото', 'пробор', 'продалжат', 'продают', 'продъжавайте', 'проени', 'прозвъннаха', 'производени', 'производствотона', 'пронаоса', 'пропедевтична', 'протеидите', 'противоизносните', 'протоонкогените', 'профилтрира', 'прохормонен', 'птвни', 'публикациякакво', 'пулучи', 'пупави', 'путарана', 'путати', 'путинче', 'пцуваш', 'пълнителната', 'първенстово', 'раборя', 'работина', 'рагистрирани', 'радиометричен', 'радиофабрика', 'радувай', 'разграничеността', 'разделиа', 'разкрията', 'разносители', 'разработванена', 'разсинхронизиране', 'разтълми', 'раскола', 'расстройства', 'ребут', 'ревмалгон', 'режисиор', 'резентацията', 'рейзнат', 'рекитират', 'рекордн', 'репопулацията', 'ресинтезират', 'ретардера', 'ретротранспозони', 'решното', 'реълуей', 'ридища', 'рийсе', 'рикове', 'рикърв', 'родителителите', 'рубеолният', 'ругат', 'рупове', 'русичи', 'русофилецо', 'русофилстващите', 'русунки', 'рушветни', 'рязаме', 'сабутом', 'сагира', 'садка', 'сайък', 'салиферт', 'салпингектомия', 'салуретиците', 'самокопираща', 'самонадува', 'самоназоваването', 'самооплодени', 'самопрочиства', 'самоценно', 'самоцитиране', 'сапатистки', 'сапфирове', 'сарбакана', 'сатурниански', 'сбъде', 'светилищните', 'своиство', 'свойставата', 'свръзването', 'свръхкиселинността', 'свръхманевреността', 'свръхпечелба', 'свръхпигментацията', 'свръшил', 'сеанчанки', 'себорала', 'седмиица', 'седмицистанете', 'сейде', 'секвенирания', 'секретина', 'сексо', 'сексуалн', 'сележилин', 'селесто', 'селянджъри', 'семайството', 'семесйтва', 'серизоните', 'серификата', 'сечът', 'сигналов', 'сидерация', 'силанизираните', 'синхронизационни', 'скаква', 'скокливко', 'скотомата', 'скочбрайт', 'скречкарта', 'скрииншоти', 'слезоха', 'сливовка', 'слоистост', 'слони', 'случни', 'слчува', 'сляби', 'смреката', 'смуща', 'смянат', 'снегова', 'сократическия', 'сонотрода', 'специалено', 'списася', 'сплинт', 'спорофили', 'спотна', 'спродължителност', 'средзимния', 'станее', 'старението', 'староиврит', 'статуарна', 'стваха', 'степной', 'стилетни', 'сторонники', 'стохастичност', 'страат', 'стрехина', 'строхотна', 'струтиомимуси', 'суаб', 'суайп', 'субжанр', 'сублиминалните', 'субпестиленция', 'субтотален', 'суве', 'суворовските', 'суксаметоний', 'сулци', 'суровоядната', 'схаванах', 'съблезъби', 'съвместиммост', 'съотвентите', 'състеанието', 'сътворе', 'съштото', 'същпуп', 'табернакул', 'таблао', 'танислав', 'тантрума', 'танчерица', 'тартифлет', 'тахографска', 'тването', 'тваш', 'тектроникс', 'телепосещение', 'тенденционните', 'тентови', 'теоритическа', 'термовете', 'тестовте', 'тиеринката', 'тийней', 'тирокс', 'тичкане', 'тишийна', 'тишкетмоаките', 'тодишен', 'токофобията', 'толквова', 'тракииските', 'тредлоу', 'трипхоп', 'трогова', 'тромбоксаните', 'трофически', 'тртябва', 'туберколозно', 'тубусите', 'тузлията', 'тукатите', 'тхагите', 'тържестве', 'тьез', 'уведе', 'удлинителю', 'уебплатформа', 'ужени', 'уиекнд', 'уиши', 'уким', 'ултраподхранващ', 'унгарчета', 'универистетите', 'упадака', 'уползотворява', 'упортреба', 'употребе', 'упява', 'усещанието', 'усраинците', 'усъв', 'утрам', 'участьк', 'фантасмагор', 'ферохимици', 'физраствор', 'филмарка', 'филмикомедии', 'филмообразуватели', 'фитокомпозиция', 'фладери', 'флекситарианците', 'флотоводци', 'фототранзисторите', 'франсъзов', 'фритин', 'фрн', 'фтириоза', 'фузионна', 'фуклявене', 'фуникульора', 'ханаанка', 'хаотизъм', 'характерезират', 'харамийството', 'харлен', 'хатая', 'хебефренични', 'хелатора', 'хелиотропин', 'хемиартропластика', 'хепатамин', 'хигената', 'хигроматерия', 'хидройоникс', 'хидропериод', 'хидяди', 'хиперергичен', 'хипоацидни', 'хипофизарните', 'хистаминолибератори', 'ховерборд', 'холино', 'хонгконгските', 'хонтийците', 'хорсе', 'християнст', 'хронизира', 'цалуфка', 'цацарово', 'целии', 'центроида', 'цетя', 'цивилзация', 'циментфазер', 'цихлазома', 'цукемоно', 'чалгарии', 'чарап', 'чарновски', 'часовета', 'частнит', 'ченоте', 'черевно', 'чирикахуаите', 'чицата', 'чланка', 'чопара', 'чувству', 'чуждинче', 'шайтани', 'шелонг', 'шеметке', 'шенраб', 'шипна', 'шипрова', 'шистоваците', 'шмъркали', 'шортваш', 'шпилково', 'щастливавръзка', 'щукари', 'ърсят', 'югендамт', 'ютубърка', 'явися']\n",
      "----------------------------------------------------------------------------------------------------\n",
      "Number of unknown words in segment 0.25 - 0.30: 104,438\n",
      "['аарр', 'абвгде', 'абластична', 'абони', 'авиопорт', 'авиоснаряд', 'автобронзатор', 'автономисткото', 'авторемарке', 'автотрофния', 'агрикултурна', 'адблокърите', 'акридонов', 'акциата', 'алеата', 'аленделон', 'алинк', 'алиходжа', 'американца', 'амерканският', 'ампче', 'амстердамхотел', 'аналгинум', 'анатомофизиологични', 'ангажимени', 'андростенонът', 'анжуйският', 'анизотропното', 'анлизи', 'аноните', 'антиспазматиците', 'антиюгославска', 'апсе', 'арйани', 'ароганти', 'ароидните', 'аромаспрей', 'арсентий', 'артикулидушсъбуждане', 'арумънския', 'асфалтна', 'асфалтополагача', 'атомоносен', 'аудиологията', 'аудиосериалът', 'аутсоурсинг', 'ацетилцелулоза', 'ашурбелкала', 'баластровата', 'балдъзка', 'басилика', 'бебешкосиньо', 'бегчето', 'бединява', 'бежавите', 'безвентилаторен', 'безпристрасна', 'безсмърните', 'белорусов', 'бенстент', 'беснуват', 'бзброй', 'бибипката', 'бизнесджетове', 'биовълняването', 'биопластиката', 'биорегулаторът', 'биринджии', 'бластираща', 'блидо', 'блото', 'блутоот', 'бобимин', 'богословката', 'болас', 'болхиките', 'болярине', 'бонгос', 'ботели', 'ботлинзи', 'бояджийната', 'бразователна', 'бременилките', 'брилиядори', 'бронеплоча', 'бронзовка', 'бронхоектазно', 'бронхопровокационни', 'бронхоспастична', 'буреноска', 'бъднуване', 'българици', 'бълраски', 'бята', 'вагонката', 'вазоконстрикционни', 'вазоконструктивни', 'вакейшън', 'валает', 'валидационните', 'валкони', 'варваров', 'вархонити', 'вегатарианци', 'вентчър', 'венчелист', 'венчърните', 'вепреки', 'верижн', 'верката', 'ветренските', 'вечесе', 'вечнм', 'вздоровления', 'вибрафонист', 'вивито', 'вивия', 'видеофилмиране', 'видишли', 'винилени', 'винясата', 'високоликвидна', 'влюбат', 'влязна', 'вододисперсна', 'военноленната', 'возврат', 'волокон', 'волюцию', 'воляк', 'ворчеството', 'вракям', 'врапче', 'връзкамежду', 'всеплодие', 'всещедрият', 'всичкиостанали', 'всичкиприемам', 'вторинк', 'вутц', 'въздухомер', 'възитание', 'въкресение', 'въможните', 'външностьта', 'въпрсната', 'вьтрешни', 'вяврам', 'газата', 'газификационни', 'гасителното', 'гдинт', 'гемавар', 'гемове', 'гендирът', 'географя', 'германоезична', 'гетовизацията', 'гигантохелония', 'горзно', 'гравитометрите', 'гражаданите', 'грануломатозния', 'греческое', 'гриджитор', 'губители', 'гуцманията', 'гъдурийо', 'гьоингите', 'гяволско', 'дабазир', 'далекобойноста', 'далисо', 'данаправите', 'двоене', 'двти', 'дебутен', 'декабристка', 'декбилдъри', 'демократин', 'дерачите', 'детсктата', 'дефтмените', 'джабърът', 'джанабет', 'джерри', 'джонтирал', 'диалогизма', 'дивание', 'диверторите', 'диестер', 'диркторът', 'дистанциона', 'дифлуорометан', 'длни', 'дневного', 'доволствия', 'доганчето', 'доларджия', 'долски', 'доманската', 'домашноприготвено', 'дончевдоктора', 'доосветява', 'дополнительнй', 'достно', 'драговичите', 'драмедии', 'дриптип', 'друдо', 'друмови', 'дрьогер', 'духами', 'душепастир', 'дшли', 'дъмбери', 'дървесновлакнести', 'дяде', 'евахте', 'европедерасти', 'евросаюза', 'едномислие', 'експортването', 'екшънгерой', 'елдените', 'електормобили', 'елинофилство', 'еманципатор', 'емигрантикус', 'енерготела', 'епигастралният', 'епитропията', 'епифеноми', 'ериките', 'еродот', 'ерпегето', 'есейско', 'еутироид', 'ехинокандини', 'ешеверии', 'еякулационни', 'жедневна', 'жестокостьта', 'жужне', 'жълтокраките', 'жълтурия', 'жънеме', 'забури', 'завьрши', 'загинаа', 'закна', 'занмава', 'зараде', 'зареждаемия', 'застрели', 'затврят', 'затвярям', 'заторен', 'захири', 'звездами', 'здравослоно', 'зейнката', 'зразите', 'ибач', 'иваниандрей', 'иванчовците', 'идеизасрещи', 'избарн', 'извънбиблейските', 'изгризка', 'издании', 'изключителени', 'излзиане', 'изопще', 'изпражнява', 'изследователко', 'изсушителните', 'икнмички', 'икомомиката', 'икономичеката', 'илиационната', 'имасхе', 'имету', 'имилиана', 'имитрекс', 'импортозаместването', 'имунизатор', 'имурана', 'иницаторите', 'иновирайте', 'иноческо', 'инсититут', 'инсулиноустойчив', 'инфантилизирането', 'инфог', 'инфоден', 'иридодиагностиката', 'иркови', 'искривена', 'иследваме', 'истаналите', 'исторски', 'йоглавчани', 'йонограмата', 'йорселф', 'кагебеецът', 'кадай', 'казбите', 'казуалните', 'кайка', 'какъо', 'камбанче', 'капитолира', 'караманлия', 'кардиохирургичното', 'каризматичен', 'касканджия', 'кидамом', 'китсунета', 'клайстер', 'клерка', 'кличето', 'ковариационна', 'кожаа', 'койнето', 'колесат', 'коликираща', 'колинеарност', 'компорелонските', 'комуниакция', 'кондензоотделителя', 'конническо', 'контитуция', 'контрарио', 'конусовите', 'конфортът', 'концепциата', 'концеция', 'копилдака', 'копирайтърска', 'кореп', 'косвенни', 'котколюбител', 'котролът', 'кратър', 'креационната', 'крематория', 'криптообменът', 'крнелия', 'кулега', 'купувачаза', 'куртак', 'кучегр', 'куюмджийството', 'кханани', 'къббе', 'кънк', 'ладжа', 'лакомийо', 'лактират', 'лактичен', 'лактобацилиус', 'ланаголд', 'лангът', 'лапара', 'лаутарите', 'лбн', 'левенто', 'левкоплаки', 'лекарстовото', 'лесорастителна', 'лещниците', 'либоло', 'лиган', 'ликворен', 'лимфооттока', 'линеари', 'лиофилен', 'листбялосов', 'лишайният', 'логъри', 'лубрикиращо', 'лукойлци', 'лунатна', 'луной', 'лунолет', 'лъжесвещеник', 'лъжуняк', 'лъчване', 'лъчижка', 'льобов', 'ляса', 'маац', 'магистратата', 'магнетронен', 'магребинки', 'мадах', 'макач', 'макиатото', 'максс', 'малдежки', 'малорус', 'манастиру', 'мангустина', 'мандаринното', 'манее', 'марихуански', 'масковския', 'маукрените', 'мачет', 'мдас', 'мегаскандално', 'медиалингвистика', 'междукланова', 'мезоинжектор', 'мезопорите', 'мендосаапартамент', 'менингови', 'меритократичната', 'меркеловите', 'метамерия', 'меценатското', 'мецна', 'микробиот', 'микроларингохирургия', 'микромассаж', 'микросайтът', 'микросубектите', 'милус', 'министративен', 'митографии', 'мишкарско', 'младоземният', 'мляку', 'мнбго', 'многоимотните', 'модвам', 'модерницация', 'моноцистоза', 'морейски', 'морепреди', 'мотивна', 'мощностью', 'моък', 'мрежовостта', 'музкальной', 'музкой', 'мултиверс', 'мултипрофилно', 'мултитаскъри', 'мунду', 'мунката', 'мускогите', 'мухради', 'муцинки', 'мюлет', 'набът', 'набюдавани', 'навични', 'нагали', 'нагушването', 'надземени', 'надзирателството', 'найчувствителните', 'накладните', 'наняся', 'напаравя', 'нарязян', 'настройкте', 'нгоре', 'ндвандве', 'неатрактивност', 'невалид', 'невизитни', 'невродинамиката', 'неврокозметиката', 'невяр', 'неденатурирани', 'недочитането', 'незакупен', 'незнамкво', 'неиде', 'неизпълнява', 'неинсулинозависима', 'нейнто', 'некъдарността', 'немастна', 'немигриращ', 'немоо', 'немотивиращо', 'немху', 'ненаучаване', 'необластни', 'неоднозначно', 'неоковани', 'неописумо', 'неоромантика', 'неосапуняемите', 'неоходимия', 'неполучавали', 'непризнали', 'непритенциозен', 'непроумявам', 'неразлистена', 'неразхождането', 'нередуцируемата', 'неръждаемост', 'несулфатните', 'несъборени', 'неуниверситетски', 'ниозоми', 'нискостепенното', 'новинапроф', 'новинибг', 'новинифалшивите', 'новмодел', 'новния', 'новоосветен', 'нография', 'нормалитет', 'нофилин', 'нтиперспиранти', 'нтлн', 'нувам', 'нувита', 'нуклеола', 'нчало', 'ншкой', 'нъс', 'обводняване', 'обвхат', 'обезбащяването', 'обратной', 'обтановката', 'общоезиковите', 'обърнет', 'одринец', 'окопирани', 'оксигеназа', 'олеандров', 'олмезид', 'онкол', 'онсени', 'онхоцерциаза', 'оньи', 'опитада', 'опозиционите', 'опрделения', 'определит', 'оптронът', 'опътя', 'оргазнизира', 'оренбургският', 'ориентална', 'орфографии', 'освества', 'осигоря', 'особождението', 'остаяш', 'остовни', 'остроухият', 'остсоявам', 'осужден', 'осушителни', 'отвалят', 'отговриха', 'отемилия', 'откинат', 'отливъчен', 'отсейване', 'оттечки', 'охранат', 'очаквом', 'очеизвадния', 'пайтони', 'пакша', 'пальот', 'панаиро', 'паномир', 'папара', 'папомобил', 'параглайдинга', 'параспазъм', 'парастаси', 'парламентарнта', 'пароводен', 'паротидният', 'партнъорски', 'партньорит', 'пасакалията', 'паспели', 'пастината', 'патанол', 'патейтос', 'патриотарстващи', 'пеението', 'пезидентът', 'пекарът', 'пекениносът', 'пеларг', 'пеноизолът', 'перфузирани', 'пецилия', 'печалаба', 'пийнувам', 'писнето', 'плащаще', 'плиткоумнико', 'плодоносието', 'повярайте', 'погин', 'подлизурковщината', 'подорбява', 'подпийване', 'подсипване', 'подфондовете', 'пожеляние', 'пожеш', 'позавава', 'позвонок', 'покойност', 'полесното', 'поливитаминозен', 'полиемиелит', 'поликарбофил', 'полодовете', 'положениети', 'понисши', 'поничке', 'понсар', 'пообучи', 'поока', 'пополам', 'посветана', 'посвящала', 'последнията', 'поствено', 'постедством', 'потециала', 'почвообразувателни', 'праводържател', 'празнико', 'празнка', 'пранува', 'првилните', 'предазначение', 'предодвратяването', 'предписмени', 'предпред', 'прекрасницата', 'преоценъчният', 'преподобному', 'препъри', 'прескунди', 'преустроиства', 'приемами', 'приимаш', 'прикоито', 'прикореновата', 'прислуж', 'приятлю', 'пробанти', 'проведят', 'прогерин', 'проготвила', 'проекат', 'проекторен', 'прозападност', 'прозвищу', 'прозорции', 'произведенияредактиране', 'проказни', 'прокторе', 'проктоскопът', 'пролабирал', 'пролектус', 'пролифериране', 'промотивна', 'прониз', 'проплавала', 'проприята', 'проситутка', 'простакисимус', 'проттв', 'протя', 'процорци', 'пртивник', 'психоантропология', 'публикваме', 'пумон', 'пунктурата', 'пустое', 'пъке', 'пъклоогън', 'пълноформатният', 'пънчът', 'първолашките', 'пътда', 'равняв', 'разбичват', 'разбнообразие', 'развенчим', 'развиеме', 'разговараме', 'разделов', 'разиваме', 'разкза', 'разконсервиран', 'разпоожение', 'разсат', 'раннозреещи', 'рачитат', 'реалшуле', 'ребелде', 'революционизъм', 'регистрацята', 'редутски', 'резектабилни', 'резолция', 'резсмее', 'рейвънъл', 'рекнала', 'рекодните', 'репешажните', 'рецикл', 'рециркулаторите', 'ридор', 'риковете', 'рисунков', 'риърдъновият', 'рнат', 'ровилвил', 'ролерен', 'ротит', 'ртния', 'ружче', 'рядах', 'саап', 'сабис', 'саветване', 'самбукът', 'самовъзтановяване', 'самоизписах', 'самонабедили', 'самопоставили', 'саруевият', 'сбраа', 'сбъдн', 'сввят', 'светлоотдаването', 'светоен', 'свиделството', 'свръхбагането', 'свръхинвестиране', 'свръхкомпактна', 'свръхлибералната', 'свръхриболова', 'свърхпечалбите', 'себенаричат', 'себеподобието', 'себорен', 'секвенатори', 'секирай', 'секциота', 'селагинелата', 'семеотделяне', 'сензитизация', 'серьезнх', 'сестиери', 'сеферка', 'сибиукъща', 'сивилизация', 'сиганетата', 'сидераст', 'силии', 'силиконените', 'симпатикомиметичната', 'синкодерът', 'синтоми', 'синусотомия', 'синьохрилковците', 'сиромашни', 'ситопечатар', 'скадала', 'скейтшоп', 'скосението', 'скрт', 'слабоосветената', 'слаборазчленена', 'следавателно', 'следвт', 'следущия', 'слойих', 'слухопротезирани', 'слънчеце', 'смехурковците', 'смиреномъдрият', 'смученото', 'снимкина', 'сондаги', 'социопатизъм', 'спанда', 'спациален', 'спермия', 'споку', 'спортивнх', 'средаи', 'среюу', 'станимирапетрова', 'стафиден', 'стейнолвур', 'стеки', 'стереоскопско', 'сторнка', 'страньорите', 'стрчето', 'сттията', 'субалтерните', 'субатрофията', 'сумел', 'супермалцинството', 'сураво', 'съветизавръзката', 'съдъжащи', 'съзадоха', 'съюото', 'таберна', 'таиджи', 'тайренският', 'такаяки', 'талибанов', 'тамасичната', 'тамешигири', 'тарля', 'тарсила', 'тауранци', 'твердотельное', 'твърдомери', 'тейната', 'текстилени', 'тектови', 'телафона', 'телене', 'теност', 'тепарва', 'терафлю', 'термолабилните', 'тетрахедрон', 'тетрациклична', 'технециев', 'товарознание', 'тозислучай', 'тократно', 'токсидермии', 'тонзилогенен', 'тонограми', 'тонометре', 'топлофик', 'торакалното', 'торгов', 'торксове', 'тпит', 'травес', 'трансджендера', 'требява', 'триконхалната', 'тричертите', 'тромбоемболичната', 'тртр', 'тръсталака', 'туберкуловете', 'туйван', 'тулсата', 'тунката', 'турбоча', 'турксата', 'тъпутинчо', 'търско', 'тъщичке', 'тъъпи', 'тяз', 'уважвние', 'уважнеие', 'уиккукракрана', 'уинема', 'уличн', 'ултивитамини', 'умаряш', 'умная', 'унижощена', 'уплатнена', 'употребаза', 'уредва', 'урския', 'усмее', 'устройсвто', 'усща', 'утопи', 'учкур', 'учре', 'факер', 'фалщиви', 'фанарите', 'фейлем', 'феминаци', 'фенопрофен', 'физичеката', 'физката', 'фикоеритрин', 'филлохинон', 'филмовете', 'флебопротекторите', 'флуоресцентите', 'форсайтовци', 'фрейдзон', 'фрийлансинг', 'фтизис', 'фторирования', 'фуксит', 'фусидова', 'ффективна', 'хайфист', 'хамелеончо', 'хандлинг', 'хантайски', 'хаотизира', 'хардтопи', 'харемна', 'харития', 'хартисалите', 'хворост', 'хебефреничен', 'хейна', 'хексамери', 'херойски', 'хетерожена', 'хештагът', 'хидромеханичната', 'хидропневматика', 'хидросалпингсът', 'хидроскопичност', 'хилежът', 'хипемолги', 'хипепеструм', 'хиперкомуникацията', 'хиперлонова', 'хиперомия', 'хльо', 'холям', 'хорологичен', 'хороска', 'хоррор', 'хотелджият', 'хоят', 'хроматичността', 'хронолити', 'хумсхи', 'цвъркач', 'цвърне', 'цвяр', 'ценаот', 'циклозерин', 'циклонична', 'циклоспорините', 'циперкап', 'циране', 'цомпантли', 'цълата', 'чаламби', 'чарми', 'чатлението', 'чеирен', 'чекненето', 'человечки', 'чийзкейкчетата', 'чийзкейците', 'чипарета', 'чипосано', 'чистонова', 'членики', 'чокера', 'чупакабрас', 'шаранагати', 'шарбо', 'шасьори', 'шественото', 'шимозата', 'шишишиши', 'шобърка', 'шоличките', 'шунгите', 'шутник', 'шушета', 'ъздаването', 'ьза', 'юдон', 'юнисайкъла', 'ядите', 'яйш', 'ямовете']\n",
      "----------------------------------------------------------------------------------------------------\n",
      "Number of unknown words in segment 0.20 - 0.25: 155,739\n",
      "['абразирани', 'аварианинът', 'автиматично', 'автопремиера', 'автотоварач', 'агрята', 'адсорбционното', 'аербека', 'азапентаценов', 'айроплан', 'аклохола', 'аксите', 'актъорски', 'акциони', 'аларан', 'алфр', 'альфонс', 'алянак', 'амбартанен', 'аминохинолони', 'амплитуд', 'анагажиран', 'анакрота', 'анафема', 'анестизия', 'анкилозиращо', 'анодизираното', 'аноимен', 'антиграждански', 'антиперетици', 'антиспорулантно', 'антисъветисти', 'антитръмпистки', 'антифеърплей', 'антраконоза', 'антреприз', 'антроподи', 'апатоабуличен', 'апликаторния', 'апоген', 'аргив', 'аружия', 'асатаси', 'аталата', 'атеринки', 'атернативни', 'аубриеция', 'африски', 'афроазиатци', 'ацефалия', 'бабушчи', 'багажнико', 'баджанаките', 'балконом', 'банкнотоброячната', 'баталака', 'бебедъжд', 'бебетан', 'бебонки', 'безгр', 'безмедикаменти', 'безчовешко', 'берална', 'берелефи', 'бернедудлите', 'бесполезен', 'биковчето', 'билдбордовете', 'биоактиватора', 'биоеквивалентна', 'биргия', 'биропиец', 'бихевиористичен', 'бихевиористичния', 'благуно', 'блогорея', 'бнет', 'богданите', 'богоразмисъл', 'болейбола', 'болсет', 'борикови', 'бранденбургер', 'брейз', 'бретанско', 'бретуалдата', 'бронзовокафяв', 'бронхобелодробни', 'бръчкиа', 'бункеро', 'буранът', 'бурелски', 'бъгларско', 'вазодилатативно', 'вакисни', 'валандара', 'валанж', 'валификация', 'варенник', 'вегетарянски', 'ведере', 'велофайтон', 'верминофобия', 'веселчунско', 'ветриво', 'взаимопреливане', 'взеи', 'визуалиация', 'винобара', 'винтонарезни', 'виприятна', 'виртуализационен', 'вирусот', 'високопропускащ', 'вистите', 'вистория', 'включением', 'владат', 'власинчести', 'вмъртвяване', 'военноразузнавателна', 'возбуждение', 'возе', 'войът', 'волвулуса', 'волствия', 'воркутински', 'впрегат', 'врагоглед', 'вселенецът', 'встречают', 'вторникк', 'вуниверситет', 'вчепетлен', 'въглокрад', 'възблагодарил', 'възмножко', 'вънчен', 'въплащаващи', 'въпрели', 'вършии', 'вътршена', 'гаика', 'галвния', 'гамка', 'гданският', 'геносин', 'геотехнологии', 'гепнала', 'гергир', 'геройзъм', 'гилзов', 'гиях', 'глаголска', 'глазанти', 'гласовее', 'глашатайства', 'гликофорин', 'глокално', 'глуонна', 'голомянка', 'голямобеловски', 'гонадотропиномите', 'грандио', 'графоманки', 'грейбъна', 'грейдове', 'гримуари', 'грипмакс', 'грушанка', 'грънчара', 'гуанаки', 'гурбетлъка', 'гърн', 'гюрюк', 'дааеманите', 'далда', 'далерийците', 'данено', 'дарани', 'даржавните', 'дармачакра', 'двеиляди', 'двуумят', 'двуциф', 'дебитиран', 'деепричастен', 'дейностното', 'декомпилираш', 'делигнификация', 'дентинните', 'деоксинат', 'дерети', 'деруни', 'детектването', 'детни', 'дефибриране', 'джетуеб', 'джилиен', 'джълан', 'дибета', 'дидит', 'дидомира', 'диметиланилин', 'дистантната', 'дистоничната', 'дисциплинарана', 'дифендърът', 'дказано', 'дктр', 'днешиня', 'добраа', 'добролци', 'дойчото', 'доказтелствата', 'докасване', 'докатато', 'домовт', 'домонетно', 'дондуркан', 'допла', 'допрестъпник', 'достойснство', 'дофторо', 'доховно', 'драпнах', 'дрифтиращ', 'дружбенския', 'друстранните', 'дръжкат', 'дульнев', 'душате', 'дъбоките', 'дъвкате', 'държавоформиращи', 'дюкме', 'дюрекса', 'евключена', 'евърху', 'едноверните', 'езка', 'езофагостомия', 'еквилибрира', 'еколко', 'екоманията', 'експириенс', 'екстарктът', 'екстрадурална', 'електретните', 'електрогенерацията', 'електроенерегия', 'елюм', 'емотик', 'ендодермалните', 'ендокриноцитите', 'ендомотора', 'енергопоглъщаща', 'енеретиката', 'епидемикус', 'еритробластната', 'естетсвения', 'есхибиционист', 'жалкко', 'желкя', 'желязозъбите', 'жерлин', 'жеските', 'жещи', 'животнки', 'животнот', 'жирная', 'жълтосиви', 'жълтурана', 'забележена', 'забраят', 'забърдовци', 'задръсване', 'заживееме', 'заимствование', 'зайта', 'зайчарското', 'закриваите', 'замочурените', 'запорожская', 'започвме', 'зарулира', 'застахователни', 'захисникв', 'звезделинчо', 'зверомайстора', 'згъна', 'здоровом', 'зевесин', 'змиеглава', 'зоологоческата', 'зпознат', 'ивок', 'игарчите', 'игнот', 'идиоритмичен', 'иждивенията', 'извънспортни', 'извънставната', 'издавне', 'издатлство', 'издеянат', 'изифлай', 'изкраш', 'изкушеност', 'изоосмотичен', 'изопреноидни', 'изпедерастихте', 'изпитние', 'изполин', 'изтепахте', 'изтерясах', 'изцоцаха', 'иключи', 'икономикана', 'имидиатли', 'имиж', 'иморена', 'инасталации', 'институация', 'инсулинообразен', 'интердиталния', 'интерпритации', 'инфикция', 'ирке', 'исипваш', 'искрано', 'ителекта', 'ическото', 'йекун', 'йогайога', 'калндар', 'камаграта', 'кандидатстуденския', 'капителбанд', 'капитуларии', 'капитулационните', 'каптивациите', 'капуците', 'карае', 'каркинос', 'карлдосън', 'касатата', 'каталясъл', 'катаплексичните', 'катаральная', 'катринко', 'кашонени', 'кзметика', 'кибритната', 'килион', 'кимрите', 'кинтаци', 'кисилината', 'китулова', 'климактериална', 'клометиазол', 'клотимазол', 'клубарю', 'кнархът', 'кнтакти', 'кобургските', 'коварници', 'козмктика', 'коинтеграция', 'кокошкарниците', 'колидора', 'колимирани', 'колкоко', 'колоездим', 'комбинирандневен', 'коминтира', 'комплесар', 'комуникацята', 'конгестус', 'конктерния', 'конспирални', 'контагиоз', 'контаминираната', 'контраелитът', 'контрактов', 'контуриращият', 'контурстоп', 'конушенският', 'конфиденшъл', 'конфиктите', 'коорктация', 'копанкови', 'копейкаджийте', 'копеша', 'корибант', 'кортенската', 'котурните', 'красенски', 'креъри', 'криптозооспермия', 'криптопериоди', 'ксантелизми', 'кудзо', 'кукурбитацинът', 'куртизантките', 'къмандър', 'къмза', 'къния', 'кърлежка', 'кязва', 'кятцал', 'лабари', 'лабване', 'лагофталмус', 'лаеннек', 'лаодикийското', 'лаурекс', 'лешперят', 'либераската', 'липопротеинлипазата', 'лицевини', 'лкия', 'логопедическата', 'лошева', 'лупанарът', 'луфтомери', 'лъжеполитици', 'лъжити', 'людем', 'ляващо', 'ляворадикален', 'мадрьоновата', 'мазус', 'майданчици', 'макаронните', 'македонеещите', 'максва', 'малацидини', 'мамамата', 'мамутонес', 'манадарина', 'манганат', 'мангонели', 'мандражии', 'мантично', 'маргед', 'маркушевич', 'мармозанке', 'масажорни', 'мастернодата', 'матрах', 'матрициране', 'машинночетими', 'мегаписела', 'медиакрация', 'междуародната', 'междуфазовите', 'мелачна', 'мениме', 'ментатната', 'меридаапартамент', 'меркаде', 'месница', 'месогейският', 'металлика', 'метатарсалната', 'метимазолът', 'метрифициране', 'миазматични', 'микроаерофилна', 'милиграмовите', 'милязимин', 'миниса', 'миротворител', 'мирсина', 'мисийното', 'мискинът', 'митсуко', 'млекоподающи', 'многоиглени', 'многоминутни', 'многосензорни', 'могадорианеца', 'модниблогъри', 'моежш', 'молитствовател', 'молящи', 'монобукети', 'монути', 'морешествие', 'мотоди', 'моторолските', 'мразилка', 'мултиформатна', 'мурално', 'муруци', 'мутекси', 'мънастирът', 'мясная', 'навлезят', 'нагера', 'наглосаксия', 'надвремието', 'надобря', 'назаконна', 'названиеуп', 'найщастливия', 'накняжество', 'накурухотел', 'намерика', 'намора', 'намоткам', 'нанад', 'наникого', 'наноджаул', 'нанолитър', 'напивете', 'напълзява', 'нарадиатори', 'нариша', 'насипищни', 'националисткото', 'начетът', 'нашон', 'наюни', 'небактериалната', 'невивен', 'невие', 'невропластничността', 'негоното', 'недерформируема', 'недоговороспособни', 'недължимата', 'неизместени', 'немем', 'ненаблюдаемата', 'непредолима', 'неприказка', 'непробивни', 'непробуденият', 'неразпукнати', 'нередови', 'несолидарни', 'несъздаваща', 'нещстник', 'нирваничното', 'нишама', 'нововъдените', 'новозапочнатото', 'новомучеников', 'новообзаведената', 'норсулфазолът', 'носоглътните', 'носше', 'нпрочетете', 'нуджите', 'нямаче', 'оани', 'оара', 'обамова', 'обдинява', 'обединиява', 'обезчестител', 'обертоновото', 'обеществено', 'обжекти', 'обкет', 'облекохме', 'обръкани', 'общопрофилните', 'оводняваш', 'овулата', 'огащва', 'оживявя', 'ознавава', 'озновата', 'околостъблен', 'окомплект', 'окоренена', 'окряква', 'онагля', 'опитмално', 'опитъл', 'опицията', 'оправник', 'опробват', 'опфа', 'оранизираме', 'ориджина', 'оросто', 'освобиди', 'оствиш', 'осъщестявава', 'отводок', 'откири', 'откровяване', 'отразителният', 'отслабванеедин', 'охлювката', 'ошови', 'палаткувам', 'панретинална', 'парагнилец', 'парламетарните', 'партиотичен', 'партнерства', 'патокинезиология', 'патофакторите', 'патроними', 'пддъж', 'педикулоцидни', 'пежота', 'пеларгонова', 'пентокси', 'пептазол', 'пепфиз', 'перверзи', 'периодо', 'перитон', 'перхлората', 'петят', 'пивампицилин', 'пирантелът', 'писателем', 'пистичката', 'пктин', 'планерен', 'планинскострелкови', 'пластизови', 'пластмасичка', 'платмасовата', 'плче', 'плъзка', 'погол', 'погугли', 'подавляющее', 'податли', 'подвезка', 'подеде', 'подзоли', 'подкомпенсираната', 'подкомпонента', 'подкошията', 'подлавя', 'пододбен', 'подсекла', 'подцикли', 'подържката', 'поетизацията', 'позабързаха', 'позаваля', 'позволявата', 'позичка', 'пойскал', 'полазът', 'полижинаксът', 'поликот', 'положительнх', 'получаваа', 'помярщина', 'поненелник', 'понепосредствени', 'понтери', 'понясяме', 'поощипем', 'попизпълнителят', 'поразтегне', 'пораките', 'пораснло', 'порталвеститевоенен', 'портейбъл', 'посветката', 'послучей', 'постиня', 'пострахуват', 'потко', 'потокал', 'потооделяне', 'потьомкинови', 'поумерено', 'поцапа', 'поцолана', 'прагу', 'празвици', 'празнанества', 'прамиер', 'прегач', 'прегърдките', 'предваригелно', 'предзададената', 'предицирането', 'предкиткови', 'предлгането', 'предстъпления', 'преетикетирането', 'презентаторката', 'презиндента', 'прекрит', 'премак', 'преоставя', 'преподвам', 'пресъстваха', 'прикючиха', 'припикани', 'пристижния', 'пристраст', 'причинитеза', 'причинявят', 'провибане', 'продаванинови', 'прознози', 'производственная', 'прокапат', 'прокор', 'промакедонистка', 'промотино', 'пронацисти', 'проплем', 'пропущена', 'просрича', 'простофил', 'пространяват', 'противодействи', 'протягиваем', 'прпуска', 'пршал', 'псалтирю', 'психастенично', 'пспорт', 'птрн', 'публикван', 'путетата', 'пълността', 'пърчовката', 'разбиранито', 'разлиата', 'разработванет', 'разщирява', 'ракиански', 'расеяни', 'раскрта', 'раслични', 'рассиу', 'реалнен', 'револцията', 'революцинер', 'редиза', 'резн', 'реиновирането', 'религиознен', 'реологична', 'рестврация', 'рестобар', 'ресторвах', 'ретушьор', 'риций', 'ркит', 'робята', 'родоизследователи', 'рожаница', 'роица', 'роклч', 'ролният', 'рублофилско', 'рудване', 'русалийството', 'сазо', 'салицикличен', 'салота', 'самозаразяват', 'самонадейци', 'самонаричане', 'самопричини', 'самочу', 'сануват', 'сартира', 'световнопризнатото', 'свещеноначалство', 'свръхкомпетентност', 'свръхмобилен', 'свръхприроден', 'сгандийците', 'сделаните', 'сеансов', 'себеудовлетворение', 'севока', 'сеейство', 'сейменинът', 'сендхил', 'сенстра', 'сервлетът', 'сердечнй', 'серумдиамант', 'сеяндурски', 'сивочервеникава', 'сийхма', 'силоващина', 'синами', 'синбиотично', 'синволюция', 'сиромашните', 'скайбол', 'скапиш', 'скифский', 'складовет', 'склероатрофен', 'сконска', 'скороходната', 'скорпиите', 'скръндзлив', 'следнита', 'смехотвория', 'смиреномъдро', 'смочувствието', 'смъртноболни', 'совершит', 'соколоти', 'солариите', 'сомар', 'сомей', 'сондьорски', 'социоикономика', 'спиртуват', 'споделител', 'спойва', 'срастналата', 'србрт', 'средноафриканска', 'сриксация', 'сталактонът', 'стандорф', 'стараее', 'старовавилонско', 'староприемницата', 'статиябългарка', 'статиячаст', 'стаяваното', 'стемпото', 'стмана', 'стойнство', 'стратиотес', 'стресам', 'стрижамент', 'субглотичното', 'сугнал', 'сунския', 'суперсинхронна', 'суркал', 'суставу', 'сутрих', 'сфигмограмата', 'събинке', 'създадането', 'съмсъгласен', 'сърбеещите', 'сървърския', 'състояието', 'сьрца', 'тадиции', 'тазш', 'такстът', 'тартлетки', 'тасбих', 'тасоската', 'таяка', 'тварда', 'теелфон', 'текстурат', 'телепринтери', 'тембристи', 'тенесс', 'тензорезистори', 'тентал', 'теодал', 'теритария', 'термометрирани', 'тестни', 'тетърд', 'техникасъвременна', 'технолгоията', 'тешев', 'тибериум', 'тиквокрацията', 'тиранов', 'тиреоглобулиновата', 'титолува', 'топам', 'топлосъдържание', 'тореле', 'точава', 'точках', 'транслоказа', 'трансферринът', 'трансцендиращи', 'тренировъч', 'триклирен', 'триходерминът', 'тропните', 'тропом', 'тръбенката', 'туарегското', 'тунеля', 'турбидиметър', 'турбонатор', 'турник', 'турстическата', 'тънкоснага', 'търгнеш', 'търговсият', 'убъркали', 'удима', 'умозримо', 'ураките', 'уребрена', 'уреидопеницилините', 'устойчвост', 'усщането', 'утрения', 'учай', 'участковй', 'фабриалите', 'фабрикатка', 'фанити', 'фасуловите', 'фехтоването', 'фиансови', 'филаделфуса', 'филосогия', 'филтът', 'финансий', 'фитоекстракта', 'флексозамин', 'флекър', 'фнес', 'фостенцата', 'фосфити', 'фотобиостимулацията', 'фотопътеписа', 'фотостарееща', 'фралеубиефо', 'франконе', 'фронталност', 'фудболът', 'халгъзници', 'хамили', 'ханбалити', 'ханцунга', 'хаща', 'хвиля', 'хелира', 'хетеродоксалните', 'хидрометереологичната', 'хималаизмът', 'хиперакусис', 'хипорхеми', 'хипостазис', 'хистиоцитоми', 'хлорита', 'хлорос', 'хлорофита', 'ходлърите', 'хомеопатият', 'хондовите', 'хориоидеалните', 'хорскопа', 'хостващите', 'хремяса', 'хуеве', 'хърлингът', 'цвклт', 'цвятбазови', 'цервикоракалния', 'церебросклерозата', 'цефаликсин', 'цоцаалистка', 'цървулковците', 'църкав', 'чалгаджиика', 'часовнници', 'частое', 'чатата', 'ченчаджиите', 'чикин', 'чинквеченто', 'човекозастраховката', 'чорда', 'чужо', 'шансите', 'шейдерите', 'шестнайсетините', 'шефън', 'шигърово', 'шортънинг', 'штамп', 'щоките', 'ъжкият', 'ъндъркавър', 'юзърнеймът', 'ютюбе', 'яйцева']\n",
      "----------------------------------------------------------------------------------------------------\n",
      "Number of unknown words in segment 0.15 - 0.20: 252,375\n",
      "['абвд', 'автоматизм', 'автоскопия', 'автосмилане', 'автостереоскопична', 'агрикултурните', 'агрсивно', 'аджави', 'адской', 'ажгона', 'айдукатин', 'актуелната', 'алиос', 'алтейци', 'амнезийни', 'амниота', 'ампанското', 'анагалис', 'анархистичност', 'ангелообразно', 'анегре', 'антивозрастную', 'антиенергията', 'антисугестивна', 'антифрейлинг', 'апаратур', 'апопротеините', 'априза', 'арганизма', 'ареопагитики', 'ародни', 'аромаваните', 'артериоза', 'артито', 'асарон', 'асиролози', 'атематическа', 'атомичната', 'атрогрипоза', 'атрозата', 'атшиянинът', 'аудиоверсиите', 'афтерпарти', 'багажерийките', 'бадже', 'байпасирани', 'баламурски', 'бананизация', 'бандероси', 'баниановото', 'банямуленге', 'барцела', 'баталистична', 'батък', 'бдеш', 'бдпт', 'бегонией', 'безгръдната', 'безизра', 'безкраност', 'безобид', 'безоттговорно', 'безперископна', 'белониите', 'беневенуто', 'бенофска', 'бетанианка', 'бинтуронгите', 'биоаугментацията', 'биоимпедансметър', 'битанският', 'бишоуджо', 'блеъризма', 'блърбове', 'бозаджийка', 'бокери', 'болестисащ', 'болестх', 'боссе', 'бражението', 'браширане', 'бречени', 'британцитеобщо', 'брутализм', 'бтаоще', 'бугисите', 'бурофилка', 'буряка', 'буукнат', 'бъкипския', 'бългапите', 'българосръбската', 'бълраска', 'вакациите', 'валинда', 'валънтай', 'вапцай', 'варисторни', 'ваучарите', 'вдъхновенето', 'велокарнавалът', 'велосепедисти', 'верро', 'вертите', 'ветхите', 'вешело', 'вивомикс', 'виготовленн', 'виждъш', 'визуализационната', 'викая', 'винтовочне', 'високодиспергиран', 'висококаествени', 'витропресия', 'виял', 'включал', 'владиковия', 'власник', 'влязаа', 'внепосредствена', 'водовземки', 'вославна', 'воулгари', 'връщанена', 'всероссийския', 'всесмехливият', 'вспоминали', 'вшка', 'въжести', 'възвръшаемост', 'възлазяне', 'възрали', 'въоръженец', 'вършем', 'вътреушен', 'вътрешнонационално', 'вътриха', 'вьорса', 'гадалушки', 'гайчо', 'галктики', 'гардеорба', 'гаронът', 'гаурега', 'гевалците', 'геиминг', 'геликония', 'гентианин', 'генук', 'геореферентна', 'герхох', 'гинкоглидите', 'глигуна', 'гликоева', 'гнетене', 'голедам', 'голямомозъчна', 'гостелерадиофонд', 'грависледите', 'гравитациата', 'грикол', 'гугълците', 'гъбчето', 'гъзоврът', 'гълъпице', 'гърчт', 'гьозбояджия', 'дампери', 'дачнй', 'движениетопо', 'действния', 'декоди', 'демократиата', 'дерматохирургични', 'деселектира', 'десидм', 'десйтвителната', 'десцензусът', 'детдом', 'дефицитом', 'джаминки', 'джангълче', 'джаху', 'джорапи', 'джхекът', 'дзвереше', 'дзоста', 'диагнодент', 'диагоноза', 'диафизални', 'дивански', 'дивойко', 'дийската', 'дипломатчески', 'дипломе', 'дировски', 'дифосфорна', 'дишанет', 'днавен', 'днешнята', 'добеде', 'добротност', 'догодона', 'догументъри', 'додупка', 'домасната', 'дохтуран', 'дрни', 'друба', 'другоа', 'дръжкофони', 'дръпнт', 'дтетето', 'дуспалона', 'дълбачна', 'дълбокомудри', 'дълбокоовлажняващ', 'дългощапелен', 'дъмплингс', 'дъщяра', 'еамерикански', 'евидна', 'еврогеята', 'егали', 'егапиксела', 'едалите', 'единствнеият', 'едномолекулни', 'еднонощна', 'едрайантус', 'екакто', 'екзикутиран', 'екпериментирането', 'екратено', 'екскреционния', 'експлицираната', 'екстирпират', 'еланцил', 'електранната', 'емметропия', 'емоционалнавръзка', 'ендометриозното', 'енергогенератор', 'енергодълговете', 'ентос', 'еподписан', 'ерпателната', 'ескетаминът', 'ескрементите', 'есктремната', 'етнометоди', 'етнонационалистическата', 'ехов', 'жгу', 'железарина', 'желни', 'желязосъдържащия', 'женьи', 'жефти', 'живовлеково', 'жиненост', 'жиролет', 'заамстердам', 'забраменяла', 'завележка', 'завивси', 'зависливци', 'заглинам', 'заговоре', 'зазависимостта', 'законътза', 'закулисни', 'закърнялостта', 'залав', 'залозиоставете', 'замъртвяла', 'запеченная', 'заредждане', 'засевери', 'засрахователната', 'затвярането', 'заявали', 'звенарската', 'звукотехническа', 'здряве', 'здтави', 'зилиза', 'зклал', 'зовиракса', 'идала', 'идиялно', 'избоява', 'извар', 'извастна', 'изискванияте', 'излеяна', 'излъхване', 'изневиде', 'изорди', 'изпратщам', 'изпълнета', 'изпълнилнил', 'изпълнинето', 'изразвам', 'изредяват', 'изтисквайки', 'източнат', 'изцакали', 'иициативата', 'иканализация', 'иксодид', 'имоно', 'импийча', 'импиратура', 'имптизнт', 'инденмитет', 'индиийци', 'индуиският', 'индурирани', 'инжинерката', 'инсектоакарицидно', 'интерференционно', 'инфиниум', 'иридоскоп', 'испанскую', 'истинаа', 'историически', 'итрон', 'ишвари', 'йефимова', 'йокосо', 'кавинтън', 'казута', 'какарът', 'калмикският', 'калндара', 'калотински', 'камилчо', 'камунез', 'канаган', 'кандидатдокторантските', 'каосюнхотел', 'каппут', 'каприлична', 'капусти', 'караванните', 'каравелисткото', 'каратана', 'кардиоселективност', 'картодържатела', 'катсцената', 'каум', 'кафемашиникафе', 'кафепийци', 'качаваме', 'каьа', 'кбга', 'квадрицикъл', 'квазиформа', 'кватратни', 'квес', 'кеая', 'кемитрейлс', 'кийбордове', 'киклически', 'киотският', 'кирилдомусчиев', 'клвиатура', 'клюница', 'коагрегацията', 'ковидолози', 'ковренска', 'кодета', 'козментика', 'козоеба', 'кокади', 'колемболите', 'количетвени', 'колонарна', 'коментарати', 'комерсиале', 'компрограмата', 'конвойът', 'конкрена', 'консултирйте', 'кориндър', 'коробелачките', 'корридора', 'костиум', 'котлету', 'кохбаци', 'крадливче', 'крайсполката', 'креденца', 'крилодери', 'крузиен', 'кръстонсците', 'ксиомито', 'културтрегерката', 'культовую', 'кушения', 'лабиринтски', 'лагранжианът', 'лайнаут', 'лайнянко', 'лаковую', 'лакунче', 'лангурът', 'ланконски', 'латерофлексия', 'латиската', 'латифундистки', 'лебени', 'леглано', 'леденобялата', 'ледствеността', 'лесбианизма', 'лимфоциркулацията', 'литорин', 'литровици', 'лицаот', 'лоунч', 'луноклазъма', 'любимостите', 'лющяна', 'магьо', 'мажорант', 'мазазини', 'маймунясва', 'майтапосвате', 'макросоциален', 'макротилин', 'макрофакторите', 'малисити', 'манухин', 'мараведис', 'маркдауни', 'маскка', 'матричността', 'мдици', 'мединците', 'медлени', 'междупластовия', 'мелтимедия', 'мендерлъка', 'месечената', 'металоемък', 'металоокисните', 'миалгична', 'мигрантчета', 'мижавки', 'микроскеротерапия', 'милиамата', 'миниапарат', 'минитмените', 'минр', 'мифологические', 'многоградни', 'мовес', 'мокш', 'монската', 'морфофизиологичните', 'мразовидни', 'мрежанет', 'мрьнкане', 'муждуособици', 'мултиезичната', 'мултикомфортна', 'мултикоптерът', 'мурзиляк', 'мушик', 'мчтатли', 'мъдурки', 'мъждрамуняк', 'наачалото', 'наведнъш', 'нагладата', 'надола', 'надрязва', 'назакателното', 'наикономическите', 'наимператора', 'найумната', 'найфината', 'наклонният', 'наличнизащитни', 'намолдова', 'нансук', 'наплющиш', 'нарушенном', 'наседка', 'наследием', 'насобщи', 'натъманяването', 'науй', 'научнофантастическа', 'нахан', 'национелн', 'нацрт', 'нацункам', 'нащрека', 'нгаси', 'неврометаболитен', 'невромин', 'невропраксия', 'недобродетелният', 'незименяеми', 'неидеологизиран', 'неисправност', 'некапризните', 'некротического', 'нексън', 'некъпещи', 'немохамеданското', 'неонаталози', 'неоптимистичните', 'неосманистите', 'неоткликваща', 'неотстояването', 'неподсилените', 'непредубено', 'непретен', 'непроявление', 'непуснал', 'несъмнейно', 'неубивай', 'неубходими', 'нефроновия', 'нечернокожи', 'нечйи', 'нешушачи', 'нивидими', 'ниглежиране', 'низкорослая', 'низпослали', 'низпослах', 'нимику', 'нирматрелвир', 'нисковисочинен', 'нистика', 'новинанаса', 'ноебходимост', 'нумерологическа', 'нюорлеанска', 'обвъзване', 'обдишвател', 'обережно', 'обклекло', 'обрнах', 'обсъджа', 'общоизточнославянски', 'обълне', 'обясниение', 'обясннение', 'овсяная', 'огарките', 'огранизаторът', 'окрехкотите', 'окровения', 'олигодендроглията', 'омати', 'омекчителни', 'опазаването', 'опишкани', 'оправляван', 'опрегна', 'опривата', 'опровержители', 'опстановка', 'оптимизрате', 'ордана', 'оскитоцин', 'оснбвен', 'осочена', 'останкинския', 'осьществяват', 'отбранатамомо', 'отгтовори', 'отдате', 'отельерство', 'отжените', 'отиаме', 'отиваще', 'отпъваме', 'отрицателан', 'отстранияване', 'оттколкото', 'оттоке', 'оууригуриуе', 'офект', 'офицерата', 'очести', 'паана', 'павина', 'палиацията', 'палмист', 'папаверинов', 'параходит', 'парашке', 'паргат', 'парфюмериини', 'патажного', 'пдалите', 'педалство', 'пезевенклъка', 'пентестинг', 'пенционере', 'периохидрит', 'петнис', 'пефректно', 'пиармени', 'пингнеш', 'пиниевите', 'пионна', 'пиперидиновите', 'пиперуда', 'пирозомите', 'пирта', 'пиуривареца', 'пишора', 'плакативни', 'плащик', 'плечах', 'плутино', 'плъзгателни', 'плъок', 'плюшкински', 'побетата', 'повечетохора', 'поданическия', 'подготивил', 'поддъжаният', 'подкожушено', 'подкрепна', 'подробиц', 'подскалата', 'подходащия', 'пожевалам', 'позаслабнали', 'позволяте', 'поизвади', 'поклокар', 'пококетничи', 'полезную', 'ползваики', 'полифизиографското', 'помазанник', 'помазния', 'понадрани', 'поначупя', 'понякова', 'поокраси', 'поприветлив', 'посветяваше', 'поставната', 'постпроцесорите', 'посух', 'потентатът', 'похимия', 'почивкатенис', 'правилнода', 'правнат', 'праден', 'працента', 'прднт', 'превъплатете', 'предателсто', 'предаторче', 'предзназначена', 'предисторияза', 'предрагост', 'предсъветските', 'предтсоят', 'презгодината', 'преключвател', 'пренаправата', 'препомнете', 'пресвяткване', 'престигнала', 'претърсв', 'префренциални', 'прецините', 'пречеи', 'приведм', 'привтання', 'привтен', 'призовчица', 'примествеността', 'присидател', 'приъдинявнт', 'прияъен', 'провални', 'провукации', 'продълавай', 'проектоизявление', 'прозодика', 'произесе', 'прокурорства', 'противослънчево', 'противосъсирването', 'протогониста', 'професиолналисти', 'профилактику', 'процуденти', 'прошлото', 'проявение', 'прпцес', 'прродата', 'прусурки', 'прушаците', 'псевдотолерантността', 'психосъстояния', 'птиценогата', 'птищата', 'пупсът', 'пхахха', 'пъблишер', 'пътищарска', 'радиорубрика', 'разбета', 'разбъркавайте', 'разлеждането', 'разнобразява', 'разночинец', 'разпаднето', 'разпляска', 'разсаждение', 'разсила', 'ракетенкрайцер', 'ракиярите', 'рангетоп', 'ранита', 'рансъмуеърът', 'расцветает', 'ратн', 'реаранжирана', 'реднали', 'ремонтирва', 'рененсанс', 'реномираност', 'реплантираната', 'рефлуксезофагит', 'рехабитологът', 'рехидриране', 'решениието', 'реяли', 'рзерв', 'рзстояния', 'риозното', 'родикуларният', 'ромонял', 'рчдбе', 'рънвате', 'рьори', 'саблеви', 'сабьо', 'самлейн', 'самовладат', 'самообрязване', 'самски', 'сбоводно', 'светлоцветни', 'светоизграждането', 'светоустройствените', 'свинееби', 'свинеобразните', 'свлеча', 'свойна', 'свред', 'свтофара', 'сграет', 'седановия', 'седържат', 'сежде', 'секвенирала', 'селтакиси', 'сельотката', 'сенсите', 'сервисио', 'сесъли', 'сефарадим', 'сжатие', 'сигмостомия', 'силаботонизма', 'симплексните', 'синергийните', 'синос', 'сйело', 'сказовата', 'скайта', 'скимингите', 'склуптинг', 'скрбта', 'скуппула', 'скус', 'слабокачествена', 'слаборозов', 'слеа', 'следащо', 'следственната', 'следстоличен', 'следходно', 'служии', 'слуушай', 'смиъла', 'снуборд', 'собтсвениците', 'солитонна', 'сомита', 'сонгаи', 'соросокрация', 'сотанат', 'сотириологичният', 'сотията', 'софисйки', 'софияобщина', 'социалицма', 'спартаковски', 'спасето', 'споненах', 'сприщиха', 'спрялия', 'спумизан', 'спуткин', 'сравния', 'староскандинавския', 'статияердоган', 'статияцените', 'статоцити', 'стенозира', 'стернит', 'стесненето', 'стимурила', 'стражей', 'страният', 'стройгарант', 'стрьеснах', 'студнт', 'стъпателни', 'сукрат', 'сулинка', 'супермилиардери', 'супурирането', 'суровки', 'сууклуци', 'сциалистите', 'съборджиите', 'събпра', 'съглаше', 'съмненния', 'съмнямам', 'сърцеразбиващи', 'съсредоча', 'състезнаия', 'съшествуващо', 'сьзидателност', 'табачество', 'тайнянин', 'таксат', 'тангел', 'тангерос', 'танкистката', 'творенья', 'теагедия', 'тегавее', 'тежкокартечар', 'тейските', 'текстзащо', 'телемаркети', 'тенеденцията', 'термосвивателна', 'тесногърдите', 'типичнят', 'титуловаше', 'товаби', 'товарищем', 'тоеста', 'токсокарните', 'траницов', 'транка', 'тргедията', 'трикополом', 'триобемно', 'триофлен', 'тройственият', 'тромбоаз', 'трудноповлияващи', 'тсог', 'тугината', 'турилски', 'тутла', 'тухлато', 'търпеливит', 'тъъпа', 'тяснопирамидална', 'тящите', 'убяд', 'уведох', 'увлиза', 'увоява', 'угасней', 'узорите', 'ултранационалистичните', 'ултрапопулизъм', 'ултраустойчиво', 'ултрачерни', 'унаследяемостта', 'управлявщата', 'усетш', 'усиия', 'устройставата', 'утилизационен', 'участмат', 'уърдпреско', 'факторизъм', 'фантазьорке', 'фекалче', 'фенули', 'фенхексамид', 'фетишистично', 'фетровх', 'феус', 'фиатови', 'фиброеластичен', 'фиброидния', 'фиксия', 'финоменът', 'фитобентоса', 'флагманбг', 'фланцирани', 'флуудваш', 'форографът', 'фосфагенната', 'фосфинови', 'фототоксичният', 'франчайзират', 'фреймите', 'фритьозника', 'фронтендър', 'фърфя', 'хамериканчето', 'харийд', 'хеех', 'хейтат', 'хемози', 'хемоплегия', 'хемото', 'хемофилика', 'хетеропластичните', 'хетероцентризъм', 'хидралази', 'хидролазен', 'хиперкортизмът', 'хиперпигмент', 'хириматит', 'хожър', 'хоутърнските', 'храненее', 'царствобългария', 'цереброцеребелума', 'циклоза', 'циливизовани', 'ципират', 'цирконием', 'цитокиново', 'цифорв', 'цръцнатото', 'чартистка', 'чеканье', 'черешарниците', 'чернозелената', 'черрвей', 'четверокнижие', 'четвертую', 'читтли', 'човета', 'човечеч', 'чудатковци', 'шампиион', 'шампионин', 'швабчетата', 'шезлогна', 'шейкват', 'шеметн', 'шечер', 'шишмановският', 'шламовата', 'шозофрения', 'шоколадрейтинг', 'щастлим', 'щастно', 'щщом', 'щъпукаше', 'ъдбни', 'ътянит', 'ъщтвяв', 'юидически', 'японияда', 'ячк']\n",
      "----------------------------------------------------------------------------------------------------\n"
     ]
    }
   ],
   "source": [
    "# Segment by TF-IDF score\n",
    "segment_095_100 = words_df[(words_df['tfidf'] > 0.95) & (words_df['tfidf'] <= 1.00)]\n",
    "segment_090_095 = words_df[(words_df['tfidf'] > 0.90) & (words_df['tfidf'] <= 0.95)]\n",
    "segment_085_090 = words_df[(words_df['tfidf'] > 0.85) & (words_df['tfidf'] <= 0.90)]\n",
    "segment_080_085 = words_df[(words_df['tfidf'] > 0.80) & (words_df['tfidf'] <= 0.85)]\n",
    "segment_075_080 = words_df[(words_df['tfidf'] > 0.75) & (words_df['tfidf'] <= 0.80)]\n",
    "segment_070_075 = words_df[(words_df['tfidf'] > 0.70) & (words_df['tfidf'] <= 0.75)]\n",
    "segment_065_070 = words_df[(words_df['tfidf'] > 0.65) & (words_df['tfidf'] <= 0.70)]\n",
    "segment_060_065 = words_df[(words_df['tfidf'] > 0.60) & (words_df['tfidf'] <= 0.65)]\n",
    "segment_055_060 = words_df[(words_df['tfidf'] > 0.55) & (words_df['tfidf'] <= 0.60)]\n",
    "segment_050_055 = words_df[(words_df['tfidf'] > 0.50) & (words_df['tfidf'] <= 0.55)]\n",
    "segment_045_050 = words_df[(words_df['tfidf'] > 0.45) & (words_df['tfidf'] <= 0.50)]\n",
    "segment_040_045 = words_df[(words_df['tfidf'] > 0.40) & (words_df['tfidf'] <= 0.45)]\n",
    "segment_035_040 = words_df[(words_df['tfidf'] > 0.35) & (words_df['tfidf'] <= 0.40)]\n",
    "segment_030_035 = words_df[(words_df['tfidf'] > 0.30) & (words_df['tfidf'] <= 0.35)]\n",
    "segment_025_030 = words_df[(words_df['tfidf'] > 0.25) & (words_df['tfidf'] <= 0.30)]\n",
    "segment_020_025 = words_df[(words_df['tfidf'] > 0.20) & (words_df['tfidf'] <= 0.25)]\n",
    "segment_015_020 = words_df[(words_df['tfidf'] > 0.15) & (words_df['tfidf'] <= 0.20)]\n",
    "\n",
    "segments = [segment_095_100, segment_090_095, segment_085_090, segment_080_085, segment_075_080, segment_070_075, \n",
    "            segment_065_070, segment_060_065, segment_055_060, segment_050_055, segment_045_050, segment_040_045, \n",
    "            segment_035_040, segment_030_035, segment_025_030, segment_020_025, segment_015_020]\n",
    "\n",
    "# For each segment, print the number of unknown words\n",
    "for segment in segments:\n",
    "    unknown_words = set(segment['word']) - set(vocab_df['word'])\n",
    "    print(f\"Number of unknown words in segment {segment['tfidf'].min():.2f} - {segment['tfidf'].max():.2f}: {len(unknown_words):,}\")\n",
    "    print(sorted(list(unknown_words)[:1000]))\n",
    "    print('-'*100)"
   ]
  },
  {
   "cell_type": "markdown",
   "id": "a4a662b9",
   "metadata": {},
   "source": [
    "* **OBSERVATION**: Considering that a lot of the new (unknown) words are actually invalid ones, we can conditionally conclude that lower TF-IDF is indeed correlated with higher probability of word being invalid."
   ]
  },
  {
   "cell_type": "markdown",
   "id": "2eaed271",
   "metadata": {},
   "source": [
    "## 19. Unknown words (TFIDF > 0.8)\n",
    "\n",
    "I have manually analysed all the new (unknown) words with TF-IDF higher than $0.80$:\n",
    "* ~900 words in total\n",
    "* 75% of them were valid words\n",
    "* 25% of them were discussable :)\n",
    "\n",
    "### 19.1 Slang words\n",
    "* **Example**: `вера`, `вервай`, `видяли`, `немам`, `няква`, `праиш`, `гербаджийски`, `герберастите` ...\n",
    "* **Observation**: 10% of the highly-scored unknown words are formally invalid Bulgarian words. However, they are very common slang words (evident from the TF-IDF).\n",
    "* **Decision**: I decide to include them in our vocabulary, because I believe they would be beneficial for training a tokenizer or language model (to understand slang/informal speech).\n",
    "\n",
    "### 19.2 Foreign words\n",
    "* **Example**: `екс`, `лайм`, `лайк`, `джънк`, `волатилност`, `диспенсър`, `коди`, `интернет` ...\n",
    "* **Observation**: 5% of the highly-scored unknown words are foreign words (from English and Turkish). However, they are very common slang words (evident from the TF-IDF).\n",
    "* **Decision**: I decide to include them in our vocabulary, so we don't lose their semantics.\n",
    "\n",
    "### 19.3 Pharmacy Names\n",
    "* **Example**: `нурофен`, `панадол`, `омепразол`, `диклофенак`, `клотримазол` ...\n",
    "* **Observation**: 5% of the highly-scored unknown words are pharmacy-related names.\n",
    "* **Decision**: I decide to exclude them from the vocabulary. I will manually cherrypick them and dump in the `names` list. (so in the future we can use them for PoS tagging)\n",
    "\n",
    "### 19.4 Other Names\n",
    "* **Example**: `ютуб`, `ютюб`, `уиндоус`, `форекс`, `интел` ...\n",
    "* **Observation**: 2% of the highly-scored unknown words are names (non pharmacy related).\n",
    "* **Decision**: I decide to exclude them from the vocabulary. They will be dumped in the `names` list. (so in the future we can use them for PoS tagging)\n",
    "\n",
    "### 19.5 Typos and grammar mistakes\n",
    "* **Example**: `смърта`, `сместта`, `рожденник`, `безмислени` ...\n",
    "* **Observation**: 2% of the highly-scored unknown words are jargon words. \n",
    "* **Decision**: I decide to exclude them from the vocabulary. Because if we go this way, we should include a lot of garbage.\n",
    "\n",
    "### 19.6 Archaic/Dialect words\n",
    "* **Example**: `доде`, `дорде`, `требе`, `зарад`, `едного` ...\n",
    "* **Observation**: <1% of the highly-scored unknown words are archaic words. In some parts of Bulgaria people still use them.\n",
    "* **Decision**: I decide to include them in the vocabulary.\n",
    "\n",
    "### 19.7 Jargon words\n",
    "* **Example**: `деба`, `ебаси`, `ебати`, `кор` ...\n",
    "* **Observation**: <1% of the highly-scored unknown words are jargon words. \n",
    "* **Decision**: I decide to include them in the vocabulary. Might be useful to be able to understand their semantics.\n"
   ]
  },
  {
   "cell_type": "markdown",
   "id": "260e3a91",
   "metadata": {},
   "source": [
    "**CONCLUSION**: I have manually updated the `names` and `invalid_word`s` lists. So, now all unknown words with TF-IDF over $0.8$ are safe to be added to the vocabulary (all invalid words will be filtered)."
   ]
  },
  {
   "cell_type": "markdown",
   "id": "d6c3a829",
   "metadata": {},
   "source": [
    "## 20. Unknown words (TFIDF > 0.75)\n",
    "Now I will go through all unknown words with TFIDF score between $0.75$ and $0.8$. I don't have time to this entirely manually, so I'll think of some semi-automatic approach."
   ]
  },
  {
   "cell_type": "code",
   "execution_count": 45,
   "id": "e4c3ebc4",
   "metadata": {},
   "outputs": [
    {
     "name": "stdout",
     "output_type": "stream",
     "text": [
      "Number of unknown words in segment 0.75 - 0.80: 1,295\n"
     ]
    }
   ],
   "source": [
    "def is_pharmacy_name(word: str) -> bool:\n",
    "    \"\"\" Naive check based on the last two letters \"\"\"\n",
    "    return word[-2:] in ['ан', 'ин', 'он', 'ен', 'ол', 'ид', 'ав', 'ам', 'ат', 'ак', 'ир', 'ус']\n",
    "\n",
    "def is_stitched_word(word: str) -> bool:\n",
    "    # Find first match\n",
    "    sus_subword_1, word_match_1 = look_for_longest_possible_match(word, vocabulary_alpha_sorted)\n",
    "    if word_match_1:\n",
    "        # Find second match\n",
    "        sus_subword_2, word_match_2 = look_for_longest_possible_match(sus_subword_1, vocabulary_alpha_sorted)\n",
    "        if word_match_2:\n",
    "            return True\n",
    "    return False\n",
    "\n",
    "names_set = set(names_df.word.values)\n",
    "def is_in_names_list(word: str) -> bool:\n",
    "    return word in names_set\n",
    "\n",
    "unknown_words = set(segment_075_080['word']) - set(vocab_df['word'])\n",
    "print(f\"Number of unknown words in segment {segment_075_080['tfidf'].min():.2f} - {segment_075_080['tfidf'].max():.2f}: {len(unknown_words):,}\")"
   ]
  },
  {
   "cell_type": "markdown",
   "id": "223c529a",
   "metadata": {},
   "source": [
    "**REMARK**\n",
    "\n",
    "In the `code` folder you can find a `word_checker.py` helper script that communicates with LLM API and helps in the triage of valid words. Unfortunately, the LLMs hallucinates frequently, so I still had to manually go through each LLM answer (each word)."
   ]
  },
  {
   "cell_type": "markdown",
   "id": "7e9b0f3e",
   "metadata": {},
   "source": [
    "* **Observation**: In this segment the valuable words (after removal of invalid words and names) are about `50%` of the whole segment.\n",
    "* **Example (boundary words)**: `сакам`, `баннат`, `копат`, `персон`, `немат`, `докат`, `когат`, `убав`, `неам`, `ептен`, `лол`, `маймун` ...\n",
    "* **Decision**:  These are boundary (slang, jargon) words, that I decided to include in the vocabulary."
   ]
  },
  {
   "cell_type": "markdown",
   "id": "f61871f8",
   "metadata": {},
   "source": [
    "**CONCLUSION**: I have manually updated the `names` and `invalid_word`s` lists. So, now all unknown words with TF-IDF over $0.75$ are safe to be added to the vocabulary (all invalid words will be filtered)."
   ]
  },
  {
   "cell_type": "markdown",
   "id": "a9b1c397",
   "metadata": {},
   "source": [
    "Unfortunately, I don't have time to manually triage the segments below $0.75$, unless I figure out a more efficient (yet reliable) approach of executing this task.\n",
    "\n",
    "## 21. TFIDF distribution\n",
    "Let's plot the tfidf distribution, so we can see how many words we will miss."
   ]
  },
  {
   "cell_type": "code",
   "execution_count": 46,
   "id": "afb16e57",
   "metadata": {},
   "outputs": [
    {
     "data": {
      "image/png": "[encoded data removed]",
      "text/plain": [
       "<Figure size 1000x500 with 1 Axes>"
      ]
     },
     "metadata": {},
     "output_type": "display_data"
    }
   ],
   "source": [
    "# Plot the tfidf distribution\n",
    "plt.figure(figsize=(10, 5))\n",
    "plt.hist(words_df['tfidf'], bins=100)\n",
    "plt.title(\"TF-IDF distribution\")\n",
    "plt.xlabel(\"TF-IDF score\")\n",
    "plt.ylabel('Frequency')\n",
    "# Add vertical line over X = 0.75\n",
    "plt.axvline(x=0.75, color='red', linestyle='--', label='Cutoff line')\n",
    "plt.xticks([0.15, 0.25, 0.35, 0.45, 0.55, 0.65, 0.75, 0.85, 0.95])\n",
    "plt.legend(loc='upper right')\n",
    "plt.show()"
   ]
  },
  {
   "cell_type": "markdown",
   "id": "52852110",
   "metadata": {},
   "source": [
    "Let's add the graph for unknown (new) words."
   ]
  },
  {
   "cell_type": "code",
   "execution_count": 47,
   "id": "6b885b93",
   "metadata": {},
   "outputs": [],
   "source": [
    "unknown_words_freq = []\n",
    "pctg_range = range(15, 100)\n",
    "# For each segment, print the number of unknown words\n",
    "for pctg in pctg_range:\n",
    "    segment = words_df[(words_df['tfidf'] > pctg/100) & (words_df['tfidf'] <= (pctg+1)/100)]\n",
    "    unknown_words = set(segment['word']) - set(vocab_df['word'])\n",
    "    unknown_words_freq.append(len(unknown_words))"
   ]
  },
  {
   "cell_type": "code",
   "execution_count": 48,
   "id": "dd45e9e3",
   "metadata": {},
   "outputs": [
    {
     "data": {
      "image/png": "[encoded data removed]",
      "text/plain": [
       "<Figure size 1000x500 with 1 Axes>"
      ]
     },
     "metadata": {},
     "output_type": "display_data"
    }
   ],
   "source": [
    "plt.figure(figsize=(10, 5))\n",
    "plt.hist(words_df['tfidf'], bins=85, label='Stork words')\n",
    "plt.plot(np.array(pctg_range)/100, unknown_words_freq, label='New words')\n",
    "plt.title(\"TF-IDF distribution\")\n",
    "plt.xlabel(\"TF-IDF score\")\n",
    "plt.ylabel('Frequency')\n",
    "# Add vertical line over X = 0.75\n",
    "plt.axvline(x=0.75, color='red', linestyle='--', label='Cutoff line')\n",
    "plt.xticks([0.15, 0.25, 0.35, 0.45, 0.55, 0.65, 0.75, 0.85, 0.95])\n",
    "plt.legend(loc='upper right')\n",
    "plt.show()"
   ]
  },
  {
   "cell_type": "markdown",
   "id": "b83ec8b9",
   "metadata": {},
   "source": [
    "Let's zoom a bit."
   ]
  },
  {
   "cell_type": "code",
   "execution_count": 49,
   "id": "7c0104cb",
   "metadata": {},
   "outputs": [
    {
     "data": {
      "image/png": "[encoded data removed]",
      "text/plain": [
       "<Figure size 1000x500 with 1 Axes>"
      ]
     },
     "metadata": {},
     "output_type": "display_data"
    }
   ],
   "source": [
    "plt.figure(figsize=(10, 5))\n",
    "plt.hist(words_df['tfidf'], bins=85, label='Stork words')\n",
    "plt.plot(np.array(pctg_range)/100, unknown_words_freq, label='New words')\n",
    "plt.title(\"TF-IDF distribution\")\n",
    "plt.xlabel(\"TF-IDF score\")\n",
    "plt.ylabel('Frequency')\n",
    "# Add vertical line over X = 0.75\n",
    "plt.axvline(x=0.75, color='red', linestyle='--', label='Cutoff line')\n",
    "plt.ylim(0, 10000)\n",
    "plt.xlim(0.60, 1.0)\n",
    "plt.xticks([0.65, 0.75, 0.85, 0.95])\n",
    "plt.legend(loc='upper right')\n",
    "plt.show()"
   ]
  },
  {
   "cell_type": "markdown",
   "id": "28293d9b",
   "metadata": {},
   "source": [
    "## 22. Merge with vocabulary\n",
    "\n",
    "So far, we had `1 228 264` unique valid Bulgarian words in our vocabulary. Let's see what will be the merged set size."
   ]
  },
  {
   "cell_type": "code",
   "execution_count": 50,
   "id": "f694da4c",
   "metadata": {},
   "outputs": [
    {
     "name": "stdout",
     "output_type": "stream",
     "text": [
      "Number of words in vocabulary: 1,228,264\n",
      "Number of words in stork words set (TFIDF > 0.75): 89,481\n",
      "Number of words in vocabulary (after merge): 1,230,247\n",
      "['аблация', 'авва', 'авио', 'автоантитела', 'автозомно', 'авторке', 'автофокус', 'агар', 'агонисти', 'агранулоцитоза', 'адаптоген', 'адаптогени', 'аденоидит', 'аденокарцином', 'аденомиоза', 'аденомиозата', 'аджеба', 'аджика', 'аднексит', 'адювантна', 'адюнкта', 'адюнктата', 'аеро', 'аза', 'азелаинова', 'ази', 'азът', 'айде', 'айилци', 'айилците', 'айрян', 'аква', 'аки', 'акото', 'акупресурно', 'алах', 'алейна', 'алелуя', 'алиекспрес', 'алилуя', 'алкантара', 'алоу', 'алтер', 'аман', 'амблиопия', 'амбробене', 'аменорея', 'американ', 'амигдалата', 'амилия', 'амилоидоза', 'амин', 'амина', 'амини', 'амино', 'аминогликозиди', 'аминотрансфераза', 'амла', 'амниоцентеза', 'анавар', 'анастомоза', 'ангиоедем', 'ангиоми', 'ангиопатия', 'андрогенен', 'андрогенна', 'андрогенни', 'аневризъм', 'анкилозиращ', 'анонимизирани', 'антиваксър', 'антиваксъри', 'антиваксърите', 'антиконвулсанти', 'антимикотични', 'антипаразитен', 'антипаразитни', 'антипсихотици', 'антитромбоцитни', 'антитусивни', 'антихипертензивни', 'антоцианини', 'антуриум', 'антуриумът', 'анулации', 'анулация', 'анцунг', 'апа', 'апартхотел', 'апети', 'апликатор', 'апликатора', 'апликатори', 'апликаторът', 'априори', 'апсалар', 'араб', 'арган', 'арганово', 'аргановото', 'аргинин', 'аргининът', 'ареата', 'артикулен', 'асана', 'асани', 'асаните', 'асимптоматичен', 'асимптоматична', 'асимптоматични', 'асимптоматично', 'асконата', 'астрал', 'астрала', 'астро', 'асцит', 'атерома', 'атеромата', 'атопичен', 'атопична', 'атопичния', 'атопичният', 'аускултация', 'аутлет', 'аутфит', 'аферим', 'афилиейт', 'афро', 'афти', 'ацетил', 'ацетилсалицилова', 'ацетилсалициловата', 'ацидофилус', 'аша', 'ашваганда', 'базофили', 'базофилите', 'бактериостатичен', 'бактериостатично', 'балнео', 'бам', 'бана', 'банкянски', 'банкянския', 'баннат', 'барс', 'басмати', 'бата', 'бати', 'батка', 'баха', 'баце', 'беба', 'бебка', 'бебо', 'бегай', 'бегайте', 'беж', 'безглутенова', 'безглутенови', 'безлюбието', 'безчетков', 'бейб', 'бейлис', 'бело', 'бензодиазепини', 'берберис', 'бес', 'беха', 'бехме', 'бибип', 'бидат', 'бикина', 'билиарна', 'био', 'бионаличност', 'бионаличността', 'биоразградим', 'биоразградима', 'биоразградими', 'биос', 'биоса', 'биосигурност', 'биофлавоноиди', 'биткойн', 'биткойна', 'биткойни', 'биткойните', 'биткойнът', 'бифида', 'бифидобактерии', 'бифидобактериите', 'бла', 'благодарско', 'бланк', 'блек', 'блендер', 'блендера', 'блендирайте', 'блефарит', 'блефаропластика', 'блокер', 'блокери', 'блокерите', 'блокчейн', 'блокчейна', 'блокчейнът', 'блонди', 'блутут', 'блъди', 'богу', 'бойче', 'боке', 'боксофис', 'боксофиса', 'болеше', 'болков', 'болкови', 'болковите', 'болковия', 'болковият', 'болят', 'бонго', 'бонсай', 'босвелия', 'боц', 'брандинг', 'брандирана', 'брандиране', 'брандирането', 'брандирани', 'братко', 'брато', 'братчед', 'брауни', 'брег', 'брекети', 'брекетите', 'брексит', 'бременеене', 'бриг', 'бро', 'броколито', 'бронхиолит', 'бронходилататори', 'брум', 'бръм', 'бря', 'брях', 'бтв', 'буги', 'буйки', 'булгари', 'бурсит', 'бустерна', 'бутер', 'буут', 'бър', 'бързосъхнещ', 'бързосъхнеща', 'бърнаут', 'бърнър', 'вагиноза', 'вазодилататори', 'вазодилатация', 'вазоконстриктивни', 'вазоконстриктор', 'вазоконстрикторни', 'вазоконстрикторно', 'вазоспазъм', 'вайбър', 'ваксинационен', 'ваксинационната', 'ваксинационни', 'ваксинационните', 'ваксинационния', 'ваксинационният', 'вакуумиране', 'валенце', 'ването', 'варикоцеле', 'варици', 'васкулит', 'ватова', 'веган', 'вегани', 'веганите', 'веданта', 'везикули', 'везикулите', 'веке', 'веки', 'веков', 'вело', 'венге', 'вендинг', 'вентрикули', 'вентрикулите', 'вербена', 'верва', 'вервай', 'вервайте', 'вервам', 'верваме', 'верваш', 'верка', 'верна', 'верно', 'вес', 'веч', 'виброцил', 'видеорегистратор', 'видяли', 'видяни', 'викс', 'винтер', 'винтидж', 'винтоверт', 'винтоверти', 'вите', 'витекс', 'включая', 'влаго', 'влогър', 'влогъри', 'вовеки', 'водо', 'водоструйка', 'водоструйки', 'возия', 'возкресе', 'воистина', 'волатилност', 'волатилността', 'воскресе', 'врастнали', 'всинца', 'всите', 'вулгарис', 'въззиваемата', 'въззивна', 'въззивната', 'въззивния', 'въззивният', 'въззивно', 'въззивното', 'въй', 'въх', 'вярни', 'гайковерт', 'гамей', 'ганаш', 'гарвану', 'гастродуоденит', 'гастроезофагеален', 'гастроезофагеална', 'гейминг', 'гейминга', 'гейнър', 'гербави', 'гербавите', 'гербаджийски', 'гербераст', 'герберасти', 'герберастите', 'герберастията', 'герберастки', 'гестационен', 'гестационна', 'гестоза', 'гинекомастия', 'гипскартон', 'гликемичен', 'гликемичния', 'гликемичният', 'гликиран', 'гликолова', 'глицин', 'глицинът', 'гломерулонефрит', 'глутатион', 'глюкозамин', 'глюкозаминът', 'глюкокортикостероиди', 'глюкометър', 'глюконат', 'говориме', 'голем', 'голема', 'големо', 'гонартроза', 'горчични', 'гра', 'гравис', 'гранитогресни', 'грата', 'графен', 'грач', 'грух', 'гуава', 'густо', 'гуш', 'гхи', 'гък', 'далечко', 'дамане', 'дан', 'даре', 'двамина', 'двамцата', 'двори', 'дгд', 'деба', 'дев', 'деде', 'дедо', 'дедовия', 'деескалация', 'дежа', 'дежавю', 'дейта', 'декинг', 'деконгестанти', 'декупаж', 'дел', 'делукс', 'демодекоза', 'демодикоза', 'денга', 'дермални', 'дерогация', 'десятка', 'десятката', 'дет', 'детекция', 'детокс', 'детоксикатор', 'дефолт', 'джанъм', 'джуджи', 'дзвер', 'дзверски', 'дзън', 'дианче', 'диастаза', 'диатеза', 'диатезата', 'дивертикулит', 'дивертикулоза', 'дизартрия', 'дилатация', 'дилдо', 'димер', 'дип', 'дирхама', 'дисбиоза', 'дисбиозата', 'дискорд', 'дисменорея', 'диспенсър', 'диспептични', 'диспнея', 'дистрикт', 'дистрофични', 'дисфагия', 'дита', 'дифузер', 'дихидротестостерон', 'доброволчество', 'доброволчеството', 'доде', 'додо', 'доживот', 'докат', 'докинг', 'докле', 'докрая', 'доле', 'домофонна', 'доне', 'дорде', 'дорийн', 'досами', 'досьо', 'дотука', 'дощя', 'дрес', 'дрифт', 'дрон', 'дрона', 'дронове', 'дроновете', 'дронът', 'дропшипинг', 'другаре', 'друже', 'дрън', 'дуоденална', 'дъбене', 'дънк', 'дъще', 'дя', 'дяда', 'ебаси', 'ебати', 'ебахти', 'евала', 'евалата', 'евалла', 'европарламент', 'европарламентът', 'европредседателство', 'европредседателството', 'евросъюзът', 'евър', 'егаси', 'егати', 'едем', 'едного', 'езофагит', 'екзацербации', 'екзит', 'еко', 'екс', 'ексел', 'екскретира', 'екскретират', 'експандиран', 'експандирана', 'екстрасистоли', 'ексудат', 'ексфолира', 'ексфолират', 'ексфолиращ', 'ексфолиращи', 'ексцизия', 'елате', 'еле', 'елей', 'елексир', 'електрокоагулация', 'емаг', 'емболизация', 'емоджи', 'ендометрит', 'ендометриум', 'ендометриума', 'ендометриумът', 'ентеробиоза', 'ентерококи', 'ентеросгел', 'ентеросорбенти', 'еозинофили', 'еозинофилите', 'еозинофилия', 'епа', 'епигастралната', 'епигастриума', 'епикондилит', 'епифизната', 'ептен', 'ераст', 'ерго', 'еризипела', 'еритематозус', 'еритромицин', 'ериус', 'еспадрили', 'еспумизан', 'ехе', 'ехогенност', 'жалбоподателката', 'желязодефицитна', 'жестов', 'живе', 'живяли', 'жлъчегонно', 'журналя', 'журналята', 'загдето', 'заднешком', 'задряма', 'задълго', 'законоустановения', 'закъде', 'замалко', 'заман', 'заникъде', 'запеканка', 'заподозрения', 'заподозреният', 'запример', 'зарад', 'зарек', 'затрепера', 'заустване', 'зеландони', 'зеленолистни', 'зема', 'земе', 'зеолит', 'зиг', 'зна', 'знайш', 'зумба', 'зън', 'ивент', 'иврит', 'игнор', 'идиопатичен', 'идиопатична', 'изабелла', 'изведнаж', 'излезна', 'излезнал', 'излезнат', 'излезнах', 'излезнаха', 'излезне', 'излив', 'изолат', 'изотоничен', 'изофлавони', 'именици', 'имениците', 'импакт', 'имуноанализ', 'имуномодулиращ', 'имуномодулиращи', 'имуномодулиращо', 'имуностимулант', 'имуностимуланти', 'инверторен', 'инверторни', 'инвестмънт', 'инвитро', 'ингвинална', 'ингвиналната', 'ингвиналните', 'инокс', 'интерконектора', 'интерконекторът', 'интеркостална', 'интим', 'инулин', 'инфинити', 'инфлуенсър', 'инфлуенсъри', 'инфлуенсърите', 'инфографика', 'ирбесартан', 'исто', 'исусе', 'иха', 'йес', 'йок', 'какафония', 'кала', 'каланхое', 'калата', 'календула', 'калине', 'калус', 'калцификация', 'канабиноиди', 'кане', 'кантор', 'капут', 'карантиниране', 'кардио', 'кардиосклероза', 'кардиото', 'кармади', 'карнитин', 'карнитинът', 'каротеноиди', 'карпалния', 'касатора', 'касаторът', 'касерола', 'касия', 'каст', 'кастел', 'катана', 'катехоламини', 'катомбо', 'каутеризация', 'кафеви', 'кафемашина', 'кафемашината', 'кафемашини', 'кахексия', 'кахраман', 'ква', 'квилинг', 'кейсове', 'кемпер', 'кемпера', 'кемпери', 'кемпър', 'кено', 'кератит', 'кератоза', 'кето', 'кетоацидоза', 'кетогенна', 'кетогенната', 'кетоза', 'кешбек', 'киберсигурност', 'киберсигурността', 'кик', 'кикаха', 'кимчи', 'киноа', 'киноата', 'кистозна', 'кифоза', 'киш', 'клавуланова', 'кладница', 'класрума', 'клауд', 'клирънс', 'клубари', 'клубарите', 'клубени', 'клубените', 'клъб', 'клъч', 'коагулограма', 'ковид', 'ковида', 'когат', 'коги', 'коди', 'колоректален', 'колпоскопия', 'колцина', 'комарник', 'комарници', 'комбо', 'комбуча', 'комедони', 'комедоните', 'комерс', 'комисион', 'комп', 'компа', 'компакт', 'компани', 'комплексарщина', 'компресивни', 'компресионни', 'компресионните', 'компресионно', 'комуне', 'комунета', 'комунетата', 'кондиломи', 'конкурентноспособност', 'конт', 'контент', 'контрактура', 'контуриране', 'коньо', 'копат', 'копирайтинг', 'копривка', 'копринка', 'кор', 'корд', 'корола', 'коронавирус', 'коронавируса', 'коронавируси', 'коронавирусите', 'коронавирусна', 'коронавирусната', 'коронавирусът', 'коронакризата', 'корпорейшън', 'котидж', 'коуч', 'коучинг', 'коучингът', 'кофтито', 'кра', 'крафт', 'краш', 'креатин', 'креатина', 'креатинин', 'креатинина', 'креатинът', 'крекери', 'криейтив', 'криодеструкция', 'крипто', 'криптовалута', 'криптовалутата', 'криптовалути', 'криптовалутите', 'кростренажор', 'кросфит', 'круп', 'крупата', 'крутони', 'ксилитол', 'куест', 'куестове', 'куиз', 'куизове', 'кукуво', 'кунг', 'куни', 'купероза', 'куркумин', 'куркуминът', 'куцота', 'къв', 'кък', 'кърли', 'къш', 'кьор', 'кюретаж', 'кютек', 'лабаво', 'лаг', 'лад', 'лайк', 'лайкове', 'лайм', 'лайсна', 'лайсни', 'лаксативи', 'лактулоза', 'ламбда', 'ламби', 'лани', 'ланцетни', 'лапароскопия', 'лапароскопията', 'ларинготрахеит', 'лат', 'лате', 'левкоплакия', 'левкоцитната', 'лево', 'левцин', 'лег', 'лезии', 'лезиите', 'лезия', 'лезията', 'лено', 'лепилна', 'лепски', 'лет', 'лето', 'леторасти', 'леторастите', 'лигиране', 'лимец', 'лимецът', 'лимфаденит', 'лимфаденопатия', 'лимфедем', 'лимфоидна', 'лимфоидната', 'лимфом', 'лимфома', 'лимфоми', 'лимфостаза', 'лини', 'линимент', 'линоленова', 'линолова', 'липаза', 'липоева', 'липопротеини', 'липопротеините', 'лита', 'лобелия', 'локдаун', 'локдауна', 'лол', 'лордоза', 'лорели', 'лоркан', 'лотус', 'лузър', 'лузъри', 'лумбосакралния', 'лумен', 'лумена', 'луменът', 'лупус', 'лутеалната', 'лутеин', 'лутеинът', 'льольо', 'мааму', 'магнитотерапия', 'магнитотерапията', 'мадам', 'мадмоазел', 'маз', 'мазителна', 'мазителната', 'мазньо', 'мазта', 'мазът', 'майдан', 'майкъла', 'маймун', 'майнинг', 'макадамия', 'маке', 'макетата', 'макро', 'макролиди', 'макролидите', 'макронутриенти', 'макс', 'максиларните', 'мал', 'малабсорбция', 'мале', 'малее', 'малечко', 'малце', 'малчо', 'малчовците', 'маман', 'маме', 'мамита', 'мамма', 'манас', 'мангъра', 'мандор', 'манука', 'мараба', 'маран', 'маричанки', 'масала', 'мастер', 'мастия', 'мастопатия', 'мастър', 'мате', 'матряла', 'матча', 'машала', 'машалла', 'мдам', 'мега', 'мегапикселов', 'мегапикселова', 'медиа', 'медиата', 'мемори', 'мена', 'менингите', 'мер', 'мерино', 'мернах', 'мет', 'метавселената', 'метилурацил', 'миастения', 'мигрантска', 'мигрантската', 'мигрантски', 'мигрантския', 'мидж', 'миелоидна', 'миелом', 'микоплазма', 'микробиом', 'микробиома', 'микроблейдинг', 'микродермабразио', 'микроклистери', 'микрофибърна', 'милейди', 'милене', 'мильо', 'мимо', 'миозит', 'мисо', 'мисти', 'мицеларен', 'мицеларна', 'мицеларната', 'многая', 'многоплодна', 'многофамилни', 'модериране', 'модус', 'мож', 'можал', 'мойта', 'мойте', 'мойто', 'мока', 'мониториране', 'моно', 'моноклонални', 'мононенаситени', 'монотерапия', 'монохидрат', 'моноцити', 'моноцитите', 'моп', 'морещицата', 'морнинг', 'моторика', 'мрън', 'мрънкачи', 'мудра', 'муколитици', 'муколитични', 'муколитично', 'мулти', 'мултивитаминни', 'мултикукър', 'мултицет', 'мулч', 'мулчира', 'мулчиране', 'мулчирането', 'мурзилка', 'муци', 'муцка', 'мхм', 'мъждене', 'мъко', 'мълниезащита', 'мърсотия', 'мъфин', 'мъфини', 'мъфините', 'мяу', 'нава', 'наги', 'наесен', 'наживо', 'нази', 'назолабиални', 'назолабиалните', 'назофаринкса', 'найда', 'найс', 'наката', 'нала', 'намазка', 'намаляне', 'нами', 'намясто', 'нанай', 'наникъде', 'нано', 'наобратно', 'напоете', 'напрактика', 'напът', 'наратив', 'нарко', 'нарязайте', 'насе', 'насериозно', 'нататъка', 'наужким', 'начаса', 'нашего', 'нашта', 'наште', 'наща', 'наще', 'неам', 'невус', 'невуси', 'нега', 'негро', 'недейте', 'недоразвитие', 'недотам', 'нежели', 'незалепващ', 'незалепващо', 'неинфекциозен', 'неинфекциозни', 'нейн', 'некакви', 'неква', 'некви', 'некво', 'некое', 'некои', 'некой', 'неколко', 'неколкостотин', 'некоя', 'некротични', 'нектарини', 'некъде', 'нелка', 'нема', 'немазна', 'немам', 'немаме', 'немат', 'немаш', 'немаше', 'немой', 'немоторизирани', 'неоплазма', 'неоплазмата', 'неоплазми', 'неоплазмите', 'непоследен', 'непредадени', 'неприел', 'неразбрали', 'нервоза', 'нерде', 'нероли', 'нетъкан', 'неутропения', 'неутрофили', 'неутрофилите', 'нехормонални', 'низорал', 'нийм', 'никва', 'никнейм', 'нимандър', 'нисковъглехидратна', 'нитро', 'них', 'нишови', 'новодиагностицираните', 'нони', 'ноотропи', 'ноотропил', 'ноотропни', 'ностра', 'носферату', 'нутела', 'нутриенти', 'нъц', 'нъцки', 'някакси', 'няква', 'някви', 'някво', 'няколкостотин', 'няколкото', 'оба', 'обдухване', 'обезмаслител', 'обикновенно', 'обряд', 'обсесивни', 'обсесивно', 'обсесия', 'овци', 'овците', 'овърклок', 'одеала', 'одеало', 'одеалото', 'одел', 'окей', 'оклузия', 'окомплектовка', 'оксалати', 'оксидативен', 'оксидативния', 'октагона', 'оливети', 'омали', 'омг', 'онез', 'онея', 'онихомикоза', 'оногова', 'опиоиди', 'опипом', 'опорка', 'опорки', 'опорките', 'опс', 'ората', 'органик', 'орофаринкса', 'ортеза', 'ортези', 'осанна', 'остеоартроза', 'остеофити', 'отвар', 'отварка', 'отвреме', 'отвсякога', 'оти', 'откинем', 'относими', 'оттука', 'отхрачване', 'отхрачването', 'офтопик', 'охо', 'ощ', 'палео', 'палпиране', 'паник', 'панкреатин', 'папили', 'папиломавирус', 'папиломен', 'папули', 'папулите', 'парабени', 'параназалните', 'парапроктит', 'парентерално', 'парестезия', 'парко', 'паро', 'пароксизмална', 'парочистачка', 'пастили', 'патронажна', 'паци', 'пачове', 'педерас', 'педераси', 'педикулоза', 'педито', 'пейпал', 'пейст', 'пекан', 'пелети', 'пелетите', 'пелетна', 'пелетни', 'пендел', 'пентакли', 'пентхаус', 'пептична', 'пергола', 'перголи', 'пердута', 'периартрит', 'персистираща', 'персон', 'печ', 'пико', 'пикси', 'пикър', 'пилори', 'пинов', 'пипса', 'пирантел', 'пис', 'пиу', 'плазмафереза', 'планк', 'плацентарната', 'плей', 'плийз', 'плоскоклетъчен', 'плс', 'плясна', 'повърхностноактивни', 'погрешката', 'погрешки', 'погрешките', 'подкаст', 'подкаста', 'подкасти', 'подкосъм', 'подматрачна', 'подматрачни', 'подмярка', 'поднормено', 'подсмъркна', 'подтон', 'подфорум', 'покет', 'покривност', 'полар', 'полента', 'ползваема', 'ползу', 'поликистоза', 'поликистозни', 'поликистозните', 'полиноза', 'полипоза', 'полисорб', 'полит', 'полиурия', 'полу', 'полусинтетичен', 'полусинтетични', 'померан', 'помилуй', 'помпадур', 'помпадура', 'попето', 'попфолк', 'попфолка', 'поравно', 'порастне', 'пореч', 'портманто', 'порша', 'пос', 'посвоему', 'постарому', 'пота', 'потрепера', 'пош', 'правиме', 'праиш', 'прай', 'пребиотик', 'пребиотици', 'пребиотиците', 'преддиабет', 'предиобед', 'предпечат', 'предсърдно', 'предсърдното', 'прееклампсия', 'преживения', 'презентиране', 'препубликуване', 'пререшете', 'прерна', 'принцеска', 'про', 'проактивни', 'пробиотични', 'пробиотичните', 'проблясна', 'пров', 'провлачи', 'прокоп', 'проктит', 'пролапс', 'промокод', 'пропилен', 'просеко', 'проспан', 'протеаза', 'протеинурия', 'протей', 'протект', 'протестъри', 'протестърите', 'противопоказан', 'противопоказана', 'противопоказани', 'противопоказано', 'прото', 'протоиерей', 'профи', 'профит', 'процесната', 'процесния', 'прощъпулник', 'псевдомасони', 'псилиум', 'психосоматика', 'психосоматиката', 'псориатичен', 'птоза', 'пук', 'пулпата', 'пульо', 'пундит', 'путинова', 'пуш', 'пър', 'първом', 'разтрепера', 'райд', 'райх', 'рандомизирани', 'рансъмуер', 'рассия', 'рат', 'рата', 'ратан', 'рашките', 'реваксинация', 'регургитация', 'редизайн', 'резене', 'резник', 'рейк', 'рейсинг', 'рейсър', 'рейт', 'ремаркетинг', 'рент', 'ресет', 'реси', 'ретиноиди', 'ретривър', 'реферали', 'рефлексология', 'рефлукс', 'рефлуксна', 'рехидратация', 'риал', 'рибофлавин', 'риг', 'ритейл', 'родовитост', 'роду', 'ройбос', 'ронин', 'росене', 'роска', 'ротавирус', 'ротавирусна', 'рубладжии', 'румене', 'рун', 'руни', 'руните', 'рустик', 'сабо', 'сайдар', 'сайдинг', 'сакам', 'сакаш', 'сакрума', 'самонарезни', 'самсара', 'сапани', 'саркоидоза', 'сарком', 'сарматите', 'сахиб', 'сашета', 'све', 'свеки', 'свен', 'свет', 'светая', 'свободия', 'своего', 'свойта', 'свойте', 'свойто', 'свръхрастеж', 'сдвояване', 'сеанчанците', 'себето', 'себореен', 'себума', 'седация', 'секстил', 'селфи', 'селфита', 'селфитата', 'селфито', 'сенсей', 'сенсибилизация', 'серамиди', 'серенити', 'сигмоидоскопия', 'сие', 'сиктир', 'силка', 'сим', 'симптоматологията', 'синовит', 'сира', 'сиска', 'систолично', 'систоличното', 'сите', 'сички', 'сичките', 'сичко', 'сичкото', 'скатер', 'скинията', 'склерата', 'склеротерапия', 'склеротерапията', 'скрийн', 'сладурковци', 'следобяд', 'слинг', 'слинга', 'слънцезащита', 'слънцезащитата', 'смекта', 'смех', 'смехурко', 'смешко', 'смирна', 'смс', 'смутита', 'смутито', 'снек', 'солар', 'солеви', 'солкосерил', 'сонома', 'сонора', 'сонче', 'сорбент', 'сорбенти', 'сорбитол', 'соросоид', 'соросоиди', 'соросоидите', 'соте', 'сотирайте', 'софтгел', 'спамиш', 'спамя', 'спелта', 'спецпрокуратурата', 'спецсъд', 'спецсъда', 'спецсъдът', 'спешъл', 'спинална', 'спиналната', 'спирулина', 'спирулината', 'споко', 'спондилит', 'спондилоза', 'спряли', 'стаа', 'стак', 'стал', 'сталкер', 'стартъп', 'стартъпа', 'стартъпи', 'стартъпите', 'статини', 'статините', 'стеарат', 'стевия', 'стевията', 'стендъп', 'стероли', 'стилус', 'стинки', 'стоели', 'сток', 'стотин', 'стоунър', 'страбизъм', 'стрийм', 'суб', 'сублуксация', 'субуфер', 'суит', 'суити', 'суитшърт', 'суицидни', 'сукуленти', 'сульо', 'суп', 'суплементи', 'супозитории', 'супозиториите', 'супозитория', 'суфи', 'сушилник', 'сфагнум', 'сцинтиграфия', 'съжеление', 'съншайн', 'сървиз', 'сървис', 'съслужиха', 'сяров', 'табата', 'таби', 'тавариш', 'тавегил', 'тагнато', 'тайърър', 'таква', 'такваз', 'таквиз', 'таквоз', 'тако', 'таковата', 'тактилни', 'таме', 'тамън', 'танг', 'тане', 'танзи', 'таничка', 'тап', 'тапас', 'таргетиране', 'тарт', 'тарта', 'тати', 'татито', 'тату', 'таурин', 'тауринът', 'тва', 'твойта', 'твойте', 'твойто', 'тез', 'тей', 'теке', 'текстурирана', 'текстурирани', 'телно', 'телом', 'тем', 'тендинит', 'тенкс', 'тенкю', 'терияки', 'термо', 'термозащита', 'терра', 'тета', 'тех', 'тея', 'тиби', 'тийзър', 'тиймбилдинг', 'тиквун', 'тики', 'тимуса', 'тинитус', 'тиреоидит', 'тиреоидни', 'тироидит', 'титър', 'тогаз', 'тогова', 'тоз', 'токен', 'токена', 'токени', 'токоферол', 'токсикоза', 'токсикозата', 'толко', 'толтеките', 'толупа', 'топик', 'тотал', 'трансмазнини', 'трансмазнините', 'трахеит', 'требва', 'требе', 'трейдър', 'трейдъри', 'трейдърите', 'тренди', 'тренер', 'тренера', 'тресчотка', 'трибулус', 'тригеминалния', 'тригон', 'трижди', 'трипс', 'трихолог', 'трихомониаза', 'троле', 'тролене', 'троли', 'тролинг', 'тролите', 'тролиш', 'тромбофилия', 'троп', 'трофични', 'трофичните', 'трясна', 'туберкули', 'тубули', 'туит', 'туитове', 'туйто', 'туринг', 'тъпомера', 'тю', 'тюркоазени', 'тюркоазено', 'тюх', 'тяхните', 'уау', 'убав', 'убава', 'убави', 'убаво', 'увеит', 'увреда', 'удри', 'уебинар', 'уебинара', 'уебинари', 'уиндоуса', 'уй', 'улцерозен', 'умрел', 'уоу', 'упс', 'урати', 'урография', 'уролитиаза', 'уролитиазата', 'утрогестан', 'фадо', 'факто', 'фаленопсис', 'фалопиевите', 'фана', 'фарингеалната', 'фарм', 'фарма', 'фармакодинамика', 'фармакокинетика', 'фармакокинетиката', 'фарси', 'фасилити', 'фаст', 'фасциит', 'фебрилни', 'фейк', 'фенибут', 'фертилитета', 'фестал', 'фета', 'фетална', 'феталната', 'феър', 'фиамета', 'фибробластите', 'фиброиди', 'фибромиалгия', 'физалис', 'фила', 'филър', 'филъри', 'филърите', 'фимоза', 'финтех', 'фисура', 'фисури', 'фитоестрогени', 'фитоестрогените', 'фитонутриенти', 'фитостероли', 'фишинг', 'флашмоб', 'флебектомия', 'флеболог', 'флип', 'флорина', 'флоринда', 'флористи', 'флуорохинолони', 'флуорохинолоните', 'флъш', 'фокача', 'фокси', 'фоликуларен', 'фоликуларна', 'фоликуларната', 'фоликулит', 'фолкпевицата', 'фонофореза', 'форте', 'фотопауза', 'фрезоване', 'френд', 'фрийлансър', 'фройлайн', 'фталати', 'фуксия', 'фунгицидно', 'фундуса', 'фурункулоза', 'фууд', 'фъдж', 'фънки', 'фърмуер', 'фърмуера', 'хайл', 'хайлайтър', 'хакатон', 'халал', 'хамамелис', 'хане', 'ханъм', 'харе', 'хас', 'хатха', 'хах', 'хаштаг', 'хаштага', 'хаштагове', 'хеви', 'хейлит', 'хейт', 'хейтър', 'хейтъри', 'хейтърите', 'хелма', 'хелминти', 'хелминтите', 'хелминтоза', 'хелоу', 'хелп', 'хемангиом', 'хемангиома', 'хемангиоми', 'хемолиза', 'хемоптиза', 'хемостатичен', 'хемостатични', 'хемостатично', 'хепарин', 'хепаринов', 'хепаринът', 'хепатоза', 'хепатомегалия', 'хепатопротектори', 'хепатоцити', 'хепатоцитите', 'херпесен', 'херпесна', 'херпесни', 'херпесния', 'хех', 'хеш', 'хиалурон', 'хигрома', 'хиджаб', 'хидратант', 'хидро', 'хидрогел', 'хидрогенирани', 'хидрогите', 'хидрокси', 'хидролизат', 'хидронефроза', 'хималая', 'химио', 'хипер', 'хипервитаминоза', 'хипергликемия', 'хиперемия', 'хиперикум', 'хиперкератоза', 'хиперпигментация', 'хиперпигментацията', 'хипертиреоидизъм', 'хиперхидроза', 'хиперхидрозата', 'хиперхолестеролемия', 'хипоалергенен', 'хипоалергенна', 'хипоалергенни', 'хипоалергенно', 'хипоалергичен', 'хиповитаминоза', 'хипокалиемия', 'хипоплазия', 'хипофункция', 'хипохондриум', 'хирудотерапия', 'хирудотерапията', 'хистаминовите', 'хистероскопия', 'хитозан', 'хихи', 'хлеб', 'хлорела', 'хлъц', 'холангит', 'холдър', 'холелитиаза', 'холеретични', 'холеретично', 'холестаза', 'холецистектомия', 'холецистит', 'холециститът', 'холката', 'холтер', 'хондроза', 'хондроитин', 'хондропротектори', 'хондропротекторите', 'хонорис', 'хопи', 'хорти', 'хоства', 'хостел', 'хостела', 'хостели', 'хостелът', 'хуба', 'хъм', 'цвет', 'цветопредаване', 'цекума', 'цела', 'целата', 'целиакия', 'цефалгия', 'цина', 'цинджао', 'циркон', 'цитомегаловирус', 'цитрат', 'цитросепт', 'цунки', 'цък', 'чайлдърмас', 'чал', 'чатбот', 'чекай', 'четиресет', 'чиа', 'чиба', 'чита', 'чиче', 'човекопоток', 'чок', 'чопър', 'чорбаджи', 'чуденка', 'шакти', 'шалот', 'шам', 'шатъл', 'шаш', 'шейсет', 'шейсетте', 'шизандра', 'шийтаке', 'шнорхелинг', 'шоко', 'шорт', 'шот', 'шота', 'шотове', 'шугар', 'шумопотискане', 'шуслерова', 'шуслерови', 'шутър', 'щот', 'ъх', 'ювиги', 'юре', 'юрисконсултско', 'яве', 'ягодоплодни', 'язе', 'ят']\n"
     ]
    }
   ],
   "source": [
    "vocab_set = set(vocab_df['word'].tolist()) # Current set\n",
    "print(f\"Number of words in vocabulary: {len(vocab_set):,}\")\n",
    "\n",
    "stork_words_set = set(words_df[words_df['tfidf'] > 0.75]['word'].tolist())\n",
    "print(f\"Number of words in stork words set (TFIDF > 0.75): {len(stork_words_set):,}\")\n",
    "\n",
    "# Let's merge the two sets\n",
    "merged_vocab_set = vocab_set.union(stork_words_set)\n",
    "print(f\"Number of words in vocabulary (after merge): {len(merged_vocab_set):,}\")\n",
    "\n",
    "# Print the new words\n",
    "print(sorted(merged_vocab_set - vocab_set))"
   ]
  },
  {
   "cell_type": "markdown",
   "id": "27a58757",
   "metadata": {},
   "source": [
    "* **OBSERVATION**: 2000 new words were added to the vocabulary."
   ]
  },
  {
   "cell_type": "code",
   "execution_count": 51,
   "id": "bd2ccdde",
   "metadata": {},
   "outputs": [
    {
     "name": "stdout",
     "output_type": "stream",
     "text": [
      "Number of words written to file: 1,230,247\n"
     ]
    }
   ],
   "source": [
    "# Sort and dump the new vocabulary\n",
    "words = sorted(list(merged_vocab_set))\n",
    "with open('data/words.txt', 'w', encoding='windows-1251') as f:\n",
    "    for word in words:\n",
    "        f.write(word + '\\n')\n",
    "\n",
    "# Convert to gzip\n",
    "with open('data/words.txt', 'rb') as f_in:\n",
    "    with gzip.open('data/words.txt.gz', 'wb') as f_out:\n",
    "        f_out.writelines(f_in)\n",
    "\n",
    "# Remove the original file\n",
    "os.remove('data/words.txt')\n",
    "\n",
    "print(f\"Number of words written to file: {len(words):,}\")"
   ]
  }
 ],
 "metadata": {
  "kernelspec": {
   "display_name": "Python 3",
   "language": "python",
   "name": "python3"
  },
  "language_info": {
   "codemirror_mode": {
    "name": "ipython",
    "version": 3
   },
   "file_extension": ".py",
   "mimetype": "text/x-python",
   "name": "python",
   "nbconvert_exporter": "python",
   "pygments_lexer": "ipython3",
   "version": "3.12.10"
  }
 },
 "nbformat": 4,
 "nbformat_minor": 5
}
