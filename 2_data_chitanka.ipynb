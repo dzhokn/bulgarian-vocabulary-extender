{
 "cells": [
  {
   "cell_type": "code",
   "execution_count": 1,
   "id": "b3a978dd",
   "metadata": {},
   "outputs": [],
   "source": [
    "import os\n",
    "import gzip\n",
    "import pandas as pd\n",
    "import matplotlib.pyplot as plt"
   ]
  },
  {
   "cell_type": "markdown",
   "id": "f86c924a",
   "metadata": {},
   "source": [
    "## 1. Load data\n",
    "\n",
    "* **Source**: [Chitanka Rechnik](https://rechnik.chitanka.info/)"
   ]
  },
  {
   "cell_type": "code",
   "execution_count": 2,
   "id": "249afbaa",
   "metadata": {},
   "outputs": [
    {
     "data": {
      "text/html": [
       "<div>\n",
       "<style scoped>\n",
       "    .dataframe tbody tr th:only-of-type {\n",
       "        vertical-align: middle;\n",
       "    }\n",
       "\n",
       "    .dataframe tbody tr th {\n",
       "        vertical-align: top;\n",
       "    }\n",
       "\n",
       "    .dataframe thead th {\n",
       "        text-align: right;\n",
       "    }\n",
       "</style>\n",
       "<table border=\"1\" class=\"dataframe\">\n",
       "  <thead>\n",
       "    <tr style=\"text-align: right;\">\n",
       "      <th></th>\n",
       "      <th>word</th>\n",
       "      <th>is_main</th>\n",
       "      <th>search_count</th>\n",
       "      <th>description</th>\n",
       "    </tr>\n",
       "    <tr>\n",
       "      <th>id</th>\n",
       "      <th></th>\n",
       "      <th></th>\n",
       "      <th></th>\n",
       "      <th></th>\n",
       "    </tr>\n",
       "  </thead>\n",
       "  <tbody>\n",
       "    <tr>\n",
       "      <th>0</th>\n",
       "      <td>аванпост</td>\n",
       "      <td>True</td>\n",
       "      <td>0</td>\n",
       "      <td>ед.ч.</td>\n",
       "    </tr>\n",
       "    <tr>\n",
       "      <th>1</th>\n",
       "      <td>аванпоста</td>\n",
       "      <td>False</td>\n",
       "      <td>42</td>\n",
       "      <td>ед.ч. непълен член</td>\n",
       "    </tr>\n",
       "    <tr>\n",
       "      <th>2</th>\n",
       "      <td>аванпостът</td>\n",
       "      <td>False</td>\n",
       "      <td>33</td>\n",
       "      <td>ед.ч. пълен член</td>\n",
       "    </tr>\n",
       "    <tr>\n",
       "      <th>3</th>\n",
       "      <td>аванпостове</td>\n",
       "      <td>False</td>\n",
       "      <td>46</td>\n",
       "      <td>мн.ч.</td>\n",
       "    </tr>\n",
       "    <tr>\n",
       "      <th>4</th>\n",
       "      <td>аванпостовете</td>\n",
       "      <td>False</td>\n",
       "      <td>31</td>\n",
       "      <td>мн.ч. членувано</td>\n",
       "    </tr>\n",
       "  </tbody>\n",
       "</table>\n",
       "</div>"
      ],
      "text/plain": [
       "             word  is_main  search_count         description\n",
       "id                                                          \n",
       "0        аванпост     True             0               ед.ч.\n",
       "1       аванпоста    False            42  ед.ч. непълен член\n",
       "2      аванпостът    False            33    ед.ч. пълен член\n",
       "3     аванпостове    False            46               мн.ч.\n",
       "4   аванпостовете    False            31     мн.ч. членувано"
      ]
     },
     "execution_count": 2,
     "metadata": {},
     "output_type": "execute_result"
    }
   ],
   "source": [
    "# Read the csv file in the gzip archive\n",
    "words_df = pd.read_csv('data/1_chitanka_words.csv.gz', encoding='windows-1251', compression='gzip')\n",
    "words_df.index.name = 'id'\n",
    "words_df['is_main'] = words_df['is_main'].astype(bool) # Convert to boolean\n",
    "words_df.head()"
   ]
  },
  {
   "cell_type": "code",
   "execution_count": 3,
   "id": "1a4d81f6",
   "metadata": {},
   "outputs": [
    {
     "name": "stdout",
     "output_type": "stream",
     "text": [
      "Total words count: 4,013,667\n"
     ]
    },
    {
     "data": {
      "text/plain": [
       "word            object\n",
       "is_main           bool\n",
       "search_count     int64\n",
       "description     object\n",
       "dtype: object"
      ]
     },
     "execution_count": 3,
     "metadata": {},
     "output_type": "execute_result"
    }
   ],
   "source": [
    "print(f\"Total words count: {len(words_df):,}\")\n",
    "words_df.dtypes"
   ]
  },
  {
   "cell_type": "markdown",
   "id": "b0c5f00b",
   "metadata": {},
   "source": [
    "## 2. Remove spaced words\n",
    "In our final vocabulary we don't need compound words like:\n",
    "* `ще играя` - this should be split into two words"
   ]
  },
  {
   "cell_type": "code",
   "execution_count": 4,
   "id": "48f1dc65",
   "metadata": {},
   "outputs": [
    {
     "name": "stdout",
     "output_type": "stream",
     "text": [
      "Number of spaced words: 2,546,591\n"
     ]
    },
    {
     "data": {
      "text/html": [
       "<div>\n",
       "<style scoped>\n",
       "    .dataframe tbody tr th:only-of-type {\n",
       "        vertical-align: middle;\n",
       "    }\n",
       "\n",
       "    .dataframe tbody tr th {\n",
       "        vertical-align: top;\n",
       "    }\n",
       "\n",
       "    .dataframe thead th {\n",
       "        text-align: right;\n",
       "    }\n",
       "</style>\n",
       "<table border=\"1\" class=\"dataframe\">\n",
       "  <thead>\n",
       "    <tr style=\"text-align: right;\">\n",
       "      <th></th>\n",
       "      <th>word</th>\n",
       "      <th>is_main</th>\n",
       "      <th>search_count</th>\n",
       "      <th>description</th>\n",
       "    </tr>\n",
       "    <tr>\n",
       "      <th>id</th>\n",
       "      <th></th>\n",
       "      <th></th>\n",
       "      <th></th>\n",
       "      <th></th>\n",
       "    </tr>\n",
       "  </thead>\n",
       "  <tbody>\n",
       "    <tr>\n",
       "      <th>609117</th>\n",
       "      <td>щял е да е зеленясвал</td>\n",
       "      <td>False</td>\n",
       "      <td>4</td>\n",
       "      <td>пр.накл., бъд.пред.вр., 3л., ед.ч., м.р.</td>\n",
       "    </tr>\n",
       "    <tr>\n",
       "      <th>2441494</th>\n",
       "      <td>щяла е да е споразумявала</td>\n",
       "      <td>False</td>\n",
       "      <td>4</td>\n",
       "      <td>пр.накл., бъд.пред.вр., 3л., ед.ч., ж.р.</td>\n",
       "    </tr>\n",
       "    <tr>\n",
       "      <th>1493725</th>\n",
       "      <td>бил съм окаишвал</td>\n",
       "      <td>False</td>\n",
       "      <td>2</td>\n",
       "      <td>пр.накл., мин.неопр.вр., 1л., ед.ч., м.р.</td>\n",
       "    </tr>\n",
       "    <tr>\n",
       "      <th>3217239</th>\n",
       "      <td>убедила съм</td>\n",
       "      <td>False</td>\n",
       "      <td>0</td>\n",
       "      <td>пр.накл., мин.св.вр., 1л., ед.ч., ж.р.</td>\n",
       "    </tr>\n",
       "    <tr>\n",
       "      <th>3920699</th>\n",
       "      <td>засипала си</td>\n",
       "      <td>False</td>\n",
       "      <td>9</td>\n",
       "      <td>мин.неопр.вр., 2л., ед.ч., ж.р.</td>\n",
       "    </tr>\n",
       "    <tr>\n",
       "      <th>2378571</th>\n",
       "      <td>било си преслушало</td>\n",
       "      <td>False</td>\n",
       "      <td>3</td>\n",
       "      <td>пр.накл., мин.неопр.вр., 2л., ед.ч., ср.р.</td>\n",
       "    </tr>\n",
       "    <tr>\n",
       "      <th>2794575</th>\n",
       "      <td>бил упрекнал</td>\n",
       "      <td>False</td>\n",
       "      <td>4</td>\n",
       "      <td>пр.накл., мин.неопр.вр., 3л., ед.ч., м.р.</td>\n",
       "    </tr>\n",
       "    <tr>\n",
       "      <th>2056282</th>\n",
       "      <td>беше смушквала</td>\n",
       "      <td>False</td>\n",
       "      <td>10</td>\n",
       "      <td>мин.пред.вр., 2л., ед.ч., ж.р.</td>\n",
       "    </tr>\n",
       "    <tr>\n",
       "      <th>2829315</th>\n",
       "      <td>бяха важничили</td>\n",
       "      <td>False</td>\n",
       "      <td>7</td>\n",
       "      <td>мин.пред.вр., 3л., мн.ч.</td>\n",
       "    </tr>\n",
       "    <tr>\n",
       "      <th>1995188</th>\n",
       "      <td>щели са да салютират</td>\n",
       "      <td>False</td>\n",
       "      <td>3</td>\n",
       "      <td>пр.накл., бъд.вр., 3л., мн.ч.</td>\n",
       "    </tr>\n",
       "  </tbody>\n",
       "</table>\n",
       "</div>"
      ],
      "text/plain": [
       "                              word  is_main  search_count  \\\n",
       "id                                                          \n",
       "609117       щял е да е зеленясвал    False             4   \n",
       "2441494  щяла е да е споразумявала    False             4   \n",
       "1493725           бил съм окаишвал    False             2   \n",
       "3217239                убедила съм    False             0   \n",
       "3920699                засипала си    False             9   \n",
       "2378571         било си преслушало    False             3   \n",
       "2794575               бил упрекнал    False             4   \n",
       "2056282             беше смушквала    False            10   \n",
       "2829315             бяха важничили    False             7   \n",
       "1995188       щели са да салютират    False             3   \n",
       "\n",
       "                                        description  \n",
       "id                                                   \n",
       "609117     пр.накл., бъд.пред.вр., 3л., ед.ч., м.р.  \n",
       "2441494    пр.накл., бъд.пред.вр., 3л., ед.ч., ж.р.  \n",
       "1493725   пр.накл., мин.неопр.вр., 1л., ед.ч., м.р.  \n",
       "3217239      пр.накл., мин.св.вр., 1л., ед.ч., ж.р.  \n",
       "3920699             мин.неопр.вр., 2л., ед.ч., ж.р.  \n",
       "2378571  пр.накл., мин.неопр.вр., 2л., ед.ч., ср.р.  \n",
       "2794575   пр.накл., мин.неопр.вр., 3л., ед.ч., м.р.  \n",
       "2056282              мин.пред.вр., 2л., ед.ч., ж.р.  \n",
       "2829315                    мин.пред.вр., 3л., мн.ч.  \n",
       "1995188               пр.накл., бъд.вр., 3л., мн.ч.  "
      ]
     },
     "execution_count": 4,
     "metadata": {},
     "output_type": "execute_result"
    }
   ],
   "source": [
    "spaced_words = words_df[words_df['word'].str.contains(\" \")]\n",
    "print(f\"Number of spaced words: {len(spaced_words):,}\")\n",
    "spaced_words.sample(10)"
   ]
  },
  {
   "cell_type": "markdown",
   "id": "4e4fc958",
   "metadata": {},
   "source": [
    "So, let's directly remove them from the base dataframe."
   ]
  },
  {
   "cell_type": "code",
   "execution_count": 5,
   "id": "791cde38",
   "metadata": {},
   "outputs": [
    {
     "name": "stdout",
     "output_type": "stream",
     "text": [
      "Total words count (after spaced-words removal): 1,467,076\n"
     ]
    }
   ],
   "source": [
    "# Remove words with spaces\n",
    "words_df = words_df[~words_df['word'].str.contains(\" \")]\n",
    "print(f\"Total words count (after spaced-words removal): {len(words_df):,}\")"
   ]
  },
  {
   "cell_type": "markdown",
   "id": "c0b77286",
   "metadata": {},
   "source": [
    "## 3. Add spaced word parts"
   ]
  },
  {
   "cell_type": "markdown",
   "id": "bb77369d",
   "metadata": {},
   "source": [
    "Meanwhile, we should check if there is still any value in the removed words. We will split them by space and check if the generated parts exists in the vocabulary. If not, then we'll add them."
   ]
  },
  {
   "cell_type": "code",
   "execution_count": 6,
   "id": "52ee3d1a",
   "metadata": {},
   "outputs": [
    {
     "name": "stdout",
     "output_type": "stream",
     "text": [
      "Number of unique parts: 199,017\n",
      "['дооздравееш', 'кашлят', 'схокал', 'тормози', 'спомнела', 'замечтаваме', 'пораждате', 'гориш', 'сподавяме', 'поразмазало']\n"
     ]
    }
   ],
   "source": [
    "# Split the words into parts and keep them as a set.\n",
    "spaced_words_parts = spaced_words['word'].str.split(\" \")\n",
    "# Flatten the list and convert it to a set (no duplicates)\n",
    "spaced_words_parts = set([part for parts in spaced_words_parts for part in parts])\n",
    "# Print the number of unique parts\n",
    "print(f\"Number of unique parts: {len(spaced_words_parts):,}\")\n",
    "# Print the parts\n",
    "print(list(spaced_words_parts)[:10])"
   ]
  },
  {
   "cell_type": "markdown",
   "id": "1fef0a8f",
   "metadata": {},
   "source": [
    "Check if any of the separated words need to be added to the vocabulary."
   ]
  },
  {
   "cell_type": "code",
   "execution_count": 7,
   "id": "c4b0203c",
   "metadata": {},
   "outputs": [
    {
     "name": "stdout",
     "output_type": "stream",
     "text": [
      "Number of missing parts: 12\n",
      "['беше', 'бях', 'бяха', 'бяхме', 'бяхте', 'да', 'е', 'са', 'се', 'сме', 'сте', 'съм']\n"
     ]
    }
   ],
   "source": [
    "words_set = set(words_df['word'].values)\n",
    "spaced_parts_diff = set(spaced_words_parts) - words_set\n",
    "print(f\"Number of missing parts: {len(spaced_parts_diff):,}\")\n",
    "print(sorted(spaced_parts_diff))"
   ]
  },
  {
   "cell_type": "markdown",
   "id": "8b758ae7",
   "metadata": {},
   "source": [
    "Twelve words can be added to the vocabulary. We don't have information about their `description`, `is_main` and `search count`, so we'll set them to `NaN`."
   ]
  },
  {
   "cell_type": "code",
   "execution_count": 8,
   "id": "731fd6b3",
   "metadata": {},
   "outputs": [
    {
     "name": "stdout",
     "output_type": "stream",
     "text": [
      "Total words count (after inserting missing parts): 1,467,088\n"
     ]
    },
    {
     "data": {
      "text/html": [
       "<div>\n",
       "<style scoped>\n",
       "    .dataframe tbody tr th:only-of-type {\n",
       "        vertical-align: middle;\n",
       "    }\n",
       "\n",
       "    .dataframe tbody tr th {\n",
       "        vertical-align: top;\n",
       "    }\n",
       "\n",
       "    .dataframe thead th {\n",
       "        text-align: right;\n",
       "    }\n",
       "</style>\n",
       "<table border=\"1\" class=\"dataframe\">\n",
       "  <thead>\n",
       "    <tr style=\"text-align: right;\">\n",
       "      <th></th>\n",
       "      <th>word</th>\n",
       "      <th>is_main</th>\n",
       "      <th>search_count</th>\n",
       "      <th>description</th>\n",
       "    </tr>\n",
       "  </thead>\n",
       "  <tbody>\n",
       "    <tr>\n",
       "      <th>0</th>\n",
       "      <td>да</td>\n",
       "      <td>NaN</td>\n",
       "      <td>NaN</td>\n",
       "      <td>NaN</td>\n",
       "    </tr>\n",
       "    <tr>\n",
       "      <th>1</th>\n",
       "      <td>е</td>\n",
       "      <td>NaN</td>\n",
       "      <td>NaN</td>\n",
       "      <td>NaN</td>\n",
       "    </tr>\n",
       "    <tr>\n",
       "      <th>2</th>\n",
       "      <td>сте</td>\n",
       "      <td>NaN</td>\n",
       "      <td>NaN</td>\n",
       "      <td>NaN</td>\n",
       "    </tr>\n",
       "    <tr>\n",
       "      <th>3</th>\n",
       "      <td>бях</td>\n",
       "      <td>NaN</td>\n",
       "      <td>NaN</td>\n",
       "      <td>NaN</td>\n",
       "    </tr>\n",
       "    <tr>\n",
       "      <th>4</th>\n",
       "      <td>бяхте</td>\n",
       "      <td>NaN</td>\n",
       "      <td>NaN</td>\n",
       "      <td>NaN</td>\n",
       "    </tr>\n",
       "    <tr>\n",
       "      <th>5</th>\n",
       "      <td>съм</td>\n",
       "      <td>NaN</td>\n",
       "      <td>NaN</td>\n",
       "      <td>NaN</td>\n",
       "    </tr>\n",
       "    <tr>\n",
       "      <th>6</th>\n",
       "      <td>бяхме</td>\n",
       "      <td>NaN</td>\n",
       "      <td>NaN</td>\n",
       "      <td>NaN</td>\n",
       "    </tr>\n",
       "    <tr>\n",
       "      <th>7</th>\n",
       "      <td>са</td>\n",
       "      <td>NaN</td>\n",
       "      <td>NaN</td>\n",
       "      <td>NaN</td>\n",
       "    </tr>\n",
       "    <tr>\n",
       "      <th>8</th>\n",
       "      <td>сме</td>\n",
       "      <td>NaN</td>\n",
       "      <td>NaN</td>\n",
       "      <td>NaN</td>\n",
       "    </tr>\n",
       "    <tr>\n",
       "      <th>9</th>\n",
       "      <td>се</td>\n",
       "      <td>NaN</td>\n",
       "      <td>NaN</td>\n",
       "      <td>NaN</td>\n",
       "    </tr>\n",
       "    <tr>\n",
       "      <th>10</th>\n",
       "      <td>бяха</td>\n",
       "      <td>NaN</td>\n",
       "      <td>NaN</td>\n",
       "      <td>NaN</td>\n",
       "    </tr>\n",
       "    <tr>\n",
       "      <th>11</th>\n",
       "      <td>беше</td>\n",
       "      <td>NaN</td>\n",
       "      <td>NaN</td>\n",
       "      <td>NaN</td>\n",
       "    </tr>\n",
       "  </tbody>\n",
       "</table>\n",
       "</div>"
      ],
      "text/plain": [
       "     word is_main  search_count description\n",
       "0      да     NaN           NaN         NaN\n",
       "1       е     NaN           NaN         NaN\n",
       "2     сте     NaN           NaN         NaN\n",
       "3     бях     NaN           NaN         NaN\n",
       "4   бяхте     NaN           NaN         NaN\n",
       "5     съм     NaN           NaN         NaN\n",
       "6   бяхме     NaN           NaN         NaN\n",
       "7      са     NaN           NaN         NaN\n",
       "8     сме     NaN           NaN         NaN\n",
       "9      се     NaN           NaN         NaN\n",
       "10   бяха     NaN           NaN         NaN\n",
       "11   беше     NaN           NaN         NaN"
      ]
     },
     "execution_count": 8,
     "metadata": {},
     "output_type": "execute_result"
    }
   ],
   "source": [
    "# Insert the missing parts into the words_df\n",
    "words_df = pd.concat([words_df, pd.DataFrame({'word': list(spaced_parts_diff)})])\n",
    "\n",
    "print(f\"Total words count (after inserting missing parts): {len(words_df):,}\")\n",
    "\n",
    "words_df[words_df['word'].isin(spaced_parts_diff)].head(12)"
   ]
  },
  {
   "cell_type": "markdown",
   "id": "bfaa4078",
   "metadata": {},
   "source": [
    "## 4. Remove dashed words\n",
    "Now, we repeat the same, but with dashed words (we want them split and the parts treated like separate words).\n",
    "* `художествено-музикален` - this should be split into two words"
   ]
  },
  {
   "cell_type": "code",
   "execution_count": 9,
   "id": "56b81650",
   "metadata": {},
   "outputs": [
    {
     "name": "stdout",
     "output_type": "stream",
     "text": [
      "Number of dashed words: 11,028\n"
     ]
    },
    {
     "data": {
      "text/html": [
       "<div>\n",
       "<style scoped>\n",
       "    .dataframe tbody tr th:only-of-type {\n",
       "        vertical-align: middle;\n",
       "    }\n",
       "\n",
       "    .dataframe tbody tr th {\n",
       "        vertical-align: top;\n",
       "    }\n",
       "\n",
       "    .dataframe thead th {\n",
       "        text-align: right;\n",
       "    }\n",
       "</style>\n",
       "<table border=\"1\" class=\"dataframe\">\n",
       "  <thead>\n",
       "    <tr style=\"text-align: right;\">\n",
       "      <th></th>\n",
       "      <th>word</th>\n",
       "      <th>is_main</th>\n",
       "      <th>search_count</th>\n",
       "      <th>description</th>\n",
       "    </tr>\n",
       "  </thead>\n",
       "  <tbody>\n",
       "    <tr>\n",
       "      <th>188975</th>\n",
       "      <td>тактико-технически</td>\n",
       "      <td>True</td>\n",
       "      <td>0.0</td>\n",
       "      <td>м.р.</td>\n",
       "    </tr>\n",
       "    <tr>\n",
       "      <th>43465</th>\n",
       "      <td>контролно-ревизионно</td>\n",
       "      <td>False</td>\n",
       "      <td>5.0</td>\n",
       "      <td>ср.р.</td>\n",
       "    </tr>\n",
       "    <tr>\n",
       "      <th>356626</th>\n",
       "      <td>сиво-розов</td>\n",
       "      <td>True</td>\n",
       "      <td>0.0</td>\n",
       "      <td>м.р.</td>\n",
       "    </tr>\n",
       "    <tr>\n",
       "      <th>497828</th>\n",
       "      <td>заместник-комисари</td>\n",
       "      <td>False</td>\n",
       "      <td>15.0</td>\n",
       "      <td>мн.ч.</td>\n",
       "    </tr>\n",
       "    <tr>\n",
       "      <th>163374</th>\n",
       "      <td>гръцко-холандската</td>\n",
       "      <td>False</td>\n",
       "      <td>3.0</td>\n",
       "      <td>ж.р. членувано</td>\n",
       "    </tr>\n",
       "    <tr>\n",
       "      <th>489039</th>\n",
       "      <td>кандидат-първолака</td>\n",
       "      <td>False</td>\n",
       "      <td>13.0</td>\n",
       "      <td>ед.ч. непълен член</td>\n",
       "    </tr>\n",
       "    <tr>\n",
       "      <th>440172</th>\n",
       "      <td>кандидат-новодомците</td>\n",
       "      <td>False</td>\n",
       "      <td>8.0</td>\n",
       "      <td>мн.ч. членувано</td>\n",
       "    </tr>\n",
       "    <tr>\n",
       "      <th>384692</th>\n",
       "      <td>инженер-агрономи</td>\n",
       "      <td>False</td>\n",
       "      <td>0.0</td>\n",
       "      <td>бройна форма</td>\n",
       "    </tr>\n",
       "    <tr>\n",
       "      <th>75252</th>\n",
       "      <td>приходно-разходната</td>\n",
       "      <td>False</td>\n",
       "      <td>9.0</td>\n",
       "      <td>ж.р. членувано</td>\n",
       "    </tr>\n",
       "    <tr>\n",
       "      <th>267955</th>\n",
       "      <td>помощник-инженерче</td>\n",
       "      <td>True</td>\n",
       "      <td>0.0</td>\n",
       "      <td>ед.ч.</td>\n",
       "    </tr>\n",
       "  </tbody>\n",
       "</table>\n",
       "</div>"
      ],
      "text/plain": [
       "                        word is_main  search_count         description\n",
       "188975    тактико-технически    True           0.0                м.р.\n",
       "43465   контролно-ревизионно   False           5.0               ср.р.\n",
       "356626            сиво-розов    True           0.0                м.р.\n",
       "497828    заместник-комисари   False          15.0               мн.ч.\n",
       "163374    гръцко-холандската   False           3.0      ж.р. членувано\n",
       "489039    кандидат-първолака   False          13.0  ед.ч. непълен член\n",
       "440172  кандидат-новодомците   False           8.0     мн.ч. членувано\n",
       "384692      инженер-агрономи   False           0.0        бройна форма\n",
       "75252    приходно-разходната   False           9.0      ж.р. членувано\n",
       "267955    помощник-инженерче    True           0.0               ед.ч."
      ]
     },
     "execution_count": 9,
     "metadata": {},
     "output_type": "execute_result"
    }
   ],
   "source": [
    "dashed_words = words_df[words_df['word'].str.contains(\"-\")]\n",
    "print(f\"Number of dashed words: {len(dashed_words):,}\")\n",
    "dashed_words.sample(10)"
   ]
  },
  {
   "cell_type": "code",
   "execution_count": 10,
   "id": "c7a7dbe4",
   "metadata": {},
   "outputs": [
    {
     "name": "stdout",
     "output_type": "stream",
     "text": [
      "Total words count (after dashed words removal): 1,456,060\n"
     ]
    }
   ],
   "source": [
    "# Remove words with spaces\n",
    "words_df = words_df[~words_df['word'].str.contains(\"-\")]\n",
    "print(f\"Total words count (after dashed words removal): {len(words_df):,}\")"
   ]
  },
  {
   "cell_type": "markdown",
   "id": "f5b64969",
   "metadata": {},
   "source": [
    "## 5. Add dashed word parts"
   ]
  },
  {
   "cell_type": "code",
   "execution_count": 11,
   "id": "416feec3",
   "metadata": {},
   "outputs": [
    {
     "name": "stdout",
     "output_type": "stream",
     "text": [
      "Number of unique parts: 6,295\n",
      "['черен', 'брокерското', 'костно', 'лесомелиоративните', 'инструментални', 'командното', 'лирико', 'центристки', 'математическия', 'милионерчетата']\n"
     ]
    }
   ],
   "source": [
    "# Split the words into parts and keep them as a set.\n",
    "dashed_words_parts = dashed_words['word'].str.split(\"-\")\n",
    "# Flatten the list and convert to set (no duplicates)\n",
    "dashed_words_parts = set([part for parts in dashed_words_parts for part in parts])\n",
    "# Print the number of unique parts\n",
    "print(f\"Number of unique parts: {len(dashed_words_parts):,}\")\n",
    "# Print the parts\n",
    "print(list(dashed_words_parts)[:10])"
   ]
  },
  {
   "cell_type": "code",
   "execution_count": 12,
   "id": "9e07905e",
   "metadata": {},
   "outputs": [
    {
     "name": "stdout",
     "output_type": "stream",
     "text": [
      "Number of missing parts: 324\n",
      "['154', 'C', 'G', 'S', 'Австро', 'Г', 'До', 'Дота', 'Дотата', 'Дото', 'Илинденско', 'МВР', 'П', 'Преображенска', 'Преображенската', 'Преображенски', 'Преображенските', 'Преображенския', 'Преображенският', 'Преображенско', 'Преображенското', 'Рило', 'Родопска', 'Родопската', 'Родопски', 'Родопските', 'Родопския', 'Родопският', 'Родопско', 'Родопското', 'Ройс', 'Ройса', 'Ройси', 'Ройсите', 'Ройсче', 'Ройсчета', 'Ройсчетата', 'Ройсчето', 'Ройсът', 'Ролс', 'ТаеКуон', 'Ту', 'Унгария', 'Унгарията', 'а', 'австро', 'авто', 'агро', 'актрисо', 'актьоре', 'акушеро', 'алъш', 'американо', 'англо', 'армено', 'асиро', 'биджи', 'биджита', 'биджитата', 'биджито', 'бо', 'бото', 'булко', 'бутанче', 'бутанчета', 'бутанчетата', 'бутанчето', 'българо', 'велочасти', 'велочастите', 'венеричен', 'венерична', 'венеричната', 'венерични', 'венеричните', 'венеричния', 'венеричният', 'венерично', 'венеричното', 'вериш', 'вериша', 'вериши', 'веришите', 'веришче', 'веришчета', 'веришчетата', 'веришчето', 'веришът', 'винаро', 'времев', 'германо', 'гимназистке', 'глинестопочвен', 'глинестопочвена', 'глинестопочвената', 'глинестопочвени', 'глинестопочвените', 'глинестопочвения', 'глинестопочвеният', 'глинестопочвено', 'глинестопочвеното', 'годенице', 'готвачке', 'гръко', 'гуни', 'гунита', 'гунитата', 'гунито', 'депутатке', 'джиджи', 'джиу', 'джицу', 'джицута', 'джицутата', 'джицуто', 'джок', 'джока', 'джокът', 'директорке', 'драматико', 'естетико', 'женихо', 'жиу', 'жицу', 'жицута', 'жицутата', 'жицуто', 'зам.', 'зидаро', 'иберо', 'изпълнителке', 'израело', 'икономико', 'икономке', 'иланг', 'иланга', 'иланги', 'илангите', 'илангът', 'ирано', 'испано', 'историко', 'италиано', 'кантатно', 'карнетата', 'касиере', 'келнере', 'кланче', 'кланчета', 'кланчетата', 'кланчето', 'клукс', 'конструкторе', 'контузна', 'контузната', 'контузни', 'контузните', 'контузния', 'контузният', 'контузно', 'контузното', 'концесионере', 'кооператоре', 'ку', 'кушет', 'лесомелиоративен', 'лесомелиоративна', 'лесомелиоративната', 'лесомелиоративни', 'лесомелиоративните', 'лесомелиоративния', 'лесомелиоративният', 'лесомелиоративно', 'лесомелиоративното', 'лесомелиорации', 'лесомелиорациите', 'лесомелиорация', 'лесомелиорацията', 'лидере', 'лозаро', 'мазаческа', 'мазаческата', 'мазачески', 'мазаческите', 'мазаческия', 'мазаческият', 'мазаческо', 'мазаческото', 'мазо', 'мазота', 'мазотата', 'мазото', 'македоно', 'маш', 'машче', 'машчета', 'машчетата', 'машчето', 'машът', 'медико', 'министърке', 'миш', 'ноу', 'перпетуум', 'пинг', 'покупко', 'понг', 'понга', 'понги', 'понгите', 'понгче', 'понгчета', 'понгчетата', 'понгчето', 'понгът', 'порте', 'портета', 'портетата', 'портето', 'председателке', 'президентке', 'прет', 'природо', 'промишлна', 'промишлната', 'промишлни', 'промишлните', 'промишлния', 'промишлният', 'промишлно', 'промишлното', 'проспектов', 'проспектова', 'проспектовата', 'проспектови', 'проспектовите', 'проспектовия', 'проспектовият', 'проспектово', 'проспектовото', 'разкъсно', 'разтоварна', 'разтоварната', 'разтоварни', 'разтоварните', 'разтоварния', 'разтоварният', 'разтоварно', 'разтоварното', 'регенте', 'резачо', 'рестант', 'рестанта', 'рестанти', 'рестантите', 'рестантът', 'садо', 'саменичка', 'саменичката', 'саменички', 'саменичките', 'саменичкия', 'саменичкият', 'саменичко', 'саменичкото', 'саменичък', 'сервитьорке', 'славяно', 'студентке', 'су', 'так', 'така', 'тактико', 'такът', 'таци', 'таците', 'телеграфо', 'теци', 'теците', 'товаро', 'токита', 'токитата', 'токито', 'трип', 'угро', 'украино', 'уоки', 'учителке', 'фармацевте', 'физико', 'хай', 'хау', 'хаута', 'хаутата', 'хауто', 'химико', 'хип', 'хоп', 'хопа', 'хопове', 'хоповете', 'хопър', 'хопъра', 'хопъри', 'хопърите', 'хопърче', 'хопърчета', 'хопърчетата', 'хопърчето', 'хопърът', 'хопът', 'художествна', 'художествната', 'художествни', 'художествните', 'художествния', 'художествният', 'художествно', 'художествното', 'цуни', 'четиринайсет', 'чжуд', 'юдео', 'японо']\n"
     ]
    }
   ],
   "source": [
    "# Identify missing words, that could be added to the words_df set\n",
    "words_set = set(words_df['word'].values)\n",
    "dashed_parts_diff = set(dashed_words_parts) - words_set\n",
    "print(f\"Number of missing parts: {len(dashed_parts_diff):,}\")\n",
    "print(sorted(dashed_parts_diff))"
   ]
  },
  {
   "cell_type": "markdown",
   "id": "a91edb4e",
   "metadata": {},
   "source": [
    "There are several invalid Bulgarian words, that we'll skip (`G`, `Г`, `промишлният`, `художествния` ...)"
   ]
  },
  {
   "cell_type": "code",
   "execution_count": 13,
   "id": "5ca98fd3",
   "metadata": {},
   "outputs": [
    {
     "name": "stdout",
     "output_type": "stream",
     "text": [
      "Total words count (after inserting missing parts): 1,456,359\n"
     ]
    },
    {
     "data": {
      "text/html": [
       "<div>\n",
       "<style scoped>\n",
       "    .dataframe tbody tr th:only-of-type {\n",
       "        vertical-align: middle;\n",
       "    }\n",
       "\n",
       "    .dataframe tbody tr th {\n",
       "        vertical-align: top;\n",
       "    }\n",
       "\n",
       "    .dataframe thead th {\n",
       "        text-align: right;\n",
       "    }\n",
       "</style>\n",
       "<table border=\"1\" class=\"dataframe\">\n",
       "  <thead>\n",
       "    <tr style=\"text-align: right;\">\n",
       "      <th></th>\n",
       "      <th>word</th>\n",
       "      <th>is_main</th>\n",
       "      <th>search_count</th>\n",
       "      <th>description</th>\n",
       "    </tr>\n",
       "  </thead>\n",
       "  <tbody>\n",
       "    <tr>\n",
       "      <th>0</th>\n",
       "      <td>хопърче</td>\n",
       "      <td>NaN</td>\n",
       "      <td>NaN</td>\n",
       "      <td>NaN</td>\n",
       "    </tr>\n",
       "    <tr>\n",
       "      <th>1</th>\n",
       "      <td>англо</td>\n",
       "      <td>NaN</td>\n",
       "      <td>NaN</td>\n",
       "      <td>NaN</td>\n",
       "    </tr>\n",
       "    <tr>\n",
       "      <th>2</th>\n",
       "      <td>лесомелиоративни</td>\n",
       "      <td>NaN</td>\n",
       "      <td>NaN</td>\n",
       "      <td>NaN</td>\n",
       "    </tr>\n",
       "    <tr>\n",
       "      <th>3</th>\n",
       "      <td>контузно</td>\n",
       "      <td>NaN</td>\n",
       "      <td>NaN</td>\n",
       "      <td>NaN</td>\n",
       "    </tr>\n",
       "    <tr>\n",
       "      <th>4</th>\n",
       "      <td>изпълнителке</td>\n",
       "      <td>NaN</td>\n",
       "      <td>NaN</td>\n",
       "      <td>NaN</td>\n",
       "    </tr>\n",
       "    <tr>\n",
       "      <th>5</th>\n",
       "      <td>перпетуум</td>\n",
       "      <td>NaN</td>\n",
       "      <td>NaN</td>\n",
       "      <td>NaN</td>\n",
       "    </tr>\n",
       "    <tr>\n",
       "      <th>6</th>\n",
       "      <td>проспектовият</td>\n",
       "      <td>NaN</td>\n",
       "      <td>NaN</td>\n",
       "      <td>NaN</td>\n",
       "    </tr>\n",
       "    <tr>\n",
       "      <th>7</th>\n",
       "      <td>мазаческият</td>\n",
       "      <td>NaN</td>\n",
       "      <td>NaN</td>\n",
       "      <td>NaN</td>\n",
       "    </tr>\n",
       "    <tr>\n",
       "      <th>8</th>\n",
       "      <td>лесомелиоративните</td>\n",
       "      <td>NaN</td>\n",
       "      <td>NaN</td>\n",
       "      <td>NaN</td>\n",
       "    </tr>\n",
       "    <tr>\n",
       "      <th>9</th>\n",
       "      <td>ноу</td>\n",
       "      <td>NaN</td>\n",
       "      <td>NaN</td>\n",
       "      <td>NaN</td>\n",
       "    </tr>\n",
       "    <tr>\n",
       "      <th>10</th>\n",
       "      <td>четиринайсет</td>\n",
       "      <td>NaN</td>\n",
       "      <td>NaN</td>\n",
       "      <td>NaN</td>\n",
       "    </tr>\n",
       "    <tr>\n",
       "      <th>11</th>\n",
       "      <td>разтоварния</td>\n",
       "      <td>NaN</td>\n",
       "      <td>NaN</td>\n",
       "      <td>NaN</td>\n",
       "    </tr>\n",
       "    <tr>\n",
       "      <th>12</th>\n",
       "      <td>Преображенският</td>\n",
       "      <td>NaN</td>\n",
       "      <td>NaN</td>\n",
       "      <td>NaN</td>\n",
       "    </tr>\n",
       "    <tr>\n",
       "      <th>13</th>\n",
       "      <td>проспектова</td>\n",
       "      <td>NaN</td>\n",
       "      <td>NaN</td>\n",
       "      <td>NaN</td>\n",
       "    </tr>\n",
       "    <tr>\n",
       "      <th>14</th>\n",
       "      <td>актьоре</td>\n",
       "      <td>NaN</td>\n",
       "      <td>NaN</td>\n",
       "      <td>NaN</td>\n",
       "    </tr>\n",
       "  </tbody>\n",
       "</table>\n",
       "</div>"
      ],
      "text/plain": [
       "                  word is_main  search_count description\n",
       "0              хопърче     NaN           NaN         NaN\n",
       "1                англо     NaN           NaN         NaN\n",
       "2     лесомелиоративни     NaN           NaN         NaN\n",
       "3             контузно     NaN           NaN         NaN\n",
       "4         изпълнителке     NaN           NaN         NaN\n",
       "5            перпетуум     NaN           NaN         NaN\n",
       "6        проспектовият     NaN           NaN         NaN\n",
       "7          мазаческият     NaN           NaN         NaN\n",
       "8   лесомелиоративните     NaN           NaN         NaN\n",
       "9                  ноу     NaN           NaN         NaN\n",
       "10        четиринайсет     NaN           NaN         NaN\n",
       "11         разтоварния     NaN           NaN         NaN\n",
       "12     Преображенският     NaN           NaN         NaN\n",
       "13         проспектова     NaN           NaN         NaN\n",
       "14             актьоре     NaN           NaN         NaN"
      ]
     },
     "execution_count": 13,
     "metadata": {},
     "output_type": "execute_result"
    }
   ],
   "source": [
    "# Remove words that are not valid Bulgarian words\n",
    "dashed_parts_diff = set(dashed_parts_diff) - set(['154', 'G', 'C', 'S', 'Г', 'П', 'такът', 'таци', 'таците', 'художествния', 'художествното', 'художествните', 'художествно', 'художествна', 'художествният', 'художествни', 'художествната', 'промишлният', 'промишлната', 'промишлно', 'промишлни', 'промишлните', 'промишлна', 'промишлното', 'промишлния'])\n",
    "# Insert the missing parts into the words_df\n",
    "words_df = pd.concat([words_df, pd.DataFrame({'word': list(dashed_parts_diff)})])\n",
    "# Print the new size\n",
    "print(f\"Total words count (after inserting missing parts): {len(words_df):,}\")\n",
    "# Print some of the new words\n",
    "words_df[words_df['word'].isin(dashed_parts_diff)].head(15)"
   ]
  },
  {
   "cell_type": "markdown",
   "id": "c2f83973",
   "metadata": {},
   "source": [
    "## 6. Remove capitalized words (names)\n",
    "\n",
    "We want to keep our `vocabulary` free of names. Names could be gathered in a separate list."
   ]
  },
  {
   "cell_type": "code",
   "execution_count": 14,
   "id": "2e0529ab",
   "metadata": {},
   "outputs": [
    {
     "name": "stdout",
     "output_type": "stream",
     "text": [
      "Number of names: 5,295\n",
      "['ДОС', 'ДОСа', 'ДОСът', 'ДОСове', 'ДОСовете', 'Евроспорт', 'Евроспорта', 'Евроспортът', 'Евроспортове', 'Евроспортовете', 'Райх', 'Райха', 'Райхът', 'Райхове', 'Райховете', 'ТЕЛК', 'ТЕЛКа', 'ТЕЛКът', 'ТЕЛКове', 'ТЕЛКовете', 'Каризма', 'Каризмата', 'Сорбона', 'Сорбоната', 'Британика', 'Британиката', 'Британики', 'Британиките', 'Бундеслига', 'Бундеслигата', 'Бундеслиги', 'Бундеслигите', 'Винариа', 'Винариата', 'Винарии', 'Винариите', 'Евроконституцийка', 'Евроконституцийката', 'Евроконституцийки', 'Евроконституцийките', 'Евролевица', 'Евролевицата', 'Евролевици', 'Евролевиците', 'Европа', 'Европата', 'Европи', 'Европите', 'Клаусура', 'Клаусурата', 'Клаусури', 'Клаусурите', 'Коледа', 'Коледата', 'Коледи', 'Коледите', 'Марсилеза', 'Марсилезата', 'Марсилези', 'Марсилезите', 'Ривиера', 'Ривиерата', 'Ривиери', 'Ривиерите', 'Скудерийка', 'Скудерийката', 'Скудерийки', 'Скудерийките', 'Токуда', 'Токудата', 'Токуди', 'Токудите', 'Ханука', 'Хануката', 'Хануки', 'Хануките', 'Яга', 'Ягата', 'Яги', 'Ягите', 'Алеутски', 'Алеутския', 'Алеутският', 'Алеутска', 'Алеутската', 'Алеутско', 'Алеутското', 'Алеутските', 'Бачковски', 'Бачковския', 'Бачковският', 'Бачковска', 'Бачковската', 'Бачковско', 'Бачковското', 'Бачковските', 'Бранденбургски', 'Бранденбургския', 'Бранденбургският', 'Бранденбургска', 'Бранденбургската', 'Бранденбургско', 'Бранденбургското', 'Бранденбургските', 'Бъндеришки', 'Бъндеришкия', 'Бъндеришкият', 'Бъндеришка', 'Бъндеришката', 'Бъндеришко', 'Бъндеришкото', 'Бъндеришките', 'Карбовски', 'Карбовския', 'Карбовският', 'Карбовска', 'Карбовската', 'Карбовско', 'Карбовското', 'Карбовските', 'Малвински', 'Малвинския', 'Малвинският', 'Малвинска', 'Малвинската', 'Малвинско', 'Малвинското', 'Малвинските', 'Панчаревски', 'Панчаревския', 'Панчаревският', 'Панчаревска', 'Панчаревската', 'Панчаревско', 'Панчаревското', 'Панчаревските', 'Перловски', 'Перловския', 'Перловският', 'Перловска', 'Перловската', 'Перловско', 'Перловското', 'Перловските', 'Синайски', 'Синайския', 'Синайският', 'Синайска', 'Синайската', 'Синайско', 'Синайското', 'Синайските', 'Алцхаймер', 'Алцхаймера', 'Алцхаймерът', 'Алцхаймери', 'Алцхаймерите', 'Байрам', 'Байрама', 'Байрамът', 'Байрами', 'Байрамите', 'БУЛСТАТ', 'БУЛСТАТа', 'БУЛСТАТът', 'БУЛСТАТи', 'БУЛСТАТите', 'Бундесвер', 'Бундесвера', 'Бундесверът', 'Бундесвери', 'Бундесверите', 'Великден', 'Великдена', 'Великденът', 'Великдени', 'Великдените', 'Гергьовден', 'Гергьовдена', 'Гергьовденът', 'Гергьовдени', 'Гергьовдените', 'Гълфстрийм', 'Гълфстрийма', 'Гълфстриймът', 'Гълфстрийми', 'Гълфстриймите', 'Европарламент', 'Европарламента', 'Европарламентът', 'Европарламенти', 'Европарламентите', 'Евросъюз', 'Евросъюза', 'Евросъюзът', 'Евросъюзи', 'Евросъюзите', 'Ермитаж', 'Ермитажа', 'Ермитажът', 'Ермитажи', 'Ермитажите', 'Заубер', 'Заубера', 'Зауберът', 'Заубери', 'Зауберите', 'Илинден', 'Илиндена', 'Илинденът', 'Илиндени', 'Илиндените', 'Колизеум', 'Колизеума', 'Колизеумът', 'Колизеуми', 'Колизеумите', 'Коминтерн', 'Коминтерна', 'Коминтернът', 'Коминтерни', 'Коминтерните', 'Коминформ', 'Коминформа', 'Коминформът', 'Коминформи', 'Коминформите', 'Маргин', 'Маргина', 'Маргинът', 'Маргини', 'Маргините', 'Никулден', 'Никулдена', 'Никулденът', 'Никулдени', 'Никулдените', 'Партенон', 'Партенона', 'Партенонът', 'Партенони', 'Партеноните', 'Росинант', 'Росинанта', 'Росинантът', 'Росинанти', 'Росинантите', 'Хаинбоаз', 'Хаинбоаза', 'Хаинбоазът', 'Хаинбоази', 'Хаинбоазите', 'Хиподил', 'Хиподила', 'Хиподилът', 'Хиподили', 'Хиподилите', 'Алцхаймерче', 'Алцхаймерчето', 'Алцхаймерчета', 'Алцхаймерчетата', 'Байрамче', 'Байрамчето', 'Байрамчета', 'Байрамчетата', 'Берлинале', 'Берлиналето', 'Берлиналета', 'Берлиналетата', 'Боре', 'Борето', 'Борета', 'Боретата', 'Грами', 'Грамито', 'Грамита', 'Грамитата', 'Дискавъри', 'Дискавърито', 'Дискавърита', 'Дискавъритата', 'Долби', 'Долбито', 'Долбита', 'Долбитата', 'Европарламентче', 'Европарламентчето', 'Европарламентчета', 'Европарламентчетата', 'Евросъюзче', 'Евросъюзчето', 'Евросъюзчета', 'Евросъюзчетата', 'Ермитажче', 'Ермитажчето', 'Ермитажчета', 'Ермитажчетата', 'Зауберче', 'Зауберчето', 'Зауберчета', 'Зауберчетата', 'Илинденче', 'Илинденчето', 'Илинденчета', 'Илинденчетата', 'Колизеумче', 'Колизеумчето', 'Колизеумчета', 'Колизеумчетата', 'Коминтернче', 'Коминтернчето', 'Коминтернчета', 'Коминтернчетата', 'Коминформче', 'Коминформчето', 'Коминформчета', 'Коминформчетата', 'Коце', 'Коцето', 'Коцета', 'Коцетата', 'Криси', 'Крисито', 'Крисита', 'Криситата', 'Локо', 'Локото', 'Локота', 'Локотата', 'Марги', 'Маргито', 'Маргита', 'Маргитата', 'Марго', 'Маргото', 'Маргота', 'Марготата', 'Меги', 'Мегито', 'Мегита', 'Мегитата', 'Нестле', 'Нестлето', 'Нестлета', 'Нестлетата', 'Партенонче', 'Партенончето', 'Партенончета', 'Партенончетата', 'Росинантче', 'Росинантчето', 'Росинантчета', 'Росинантчетата', 'Стефче', 'Стефчето', 'Стефчета', 'Стефчетата', 'Стройко', 'Стройкото', 'Стройкота', 'Стройкотата', 'Фантастико', 'Фантастикото', 'Фантастикота', 'Фантастикотата', 'Хиподилче', 'Хиподилчето', 'Хиподилчета', 'Хиподилчетата', 'Айнщайнов', 'Айнщайновия', 'Айнщайновият', 'Айнщайнова', 'Айнщайновата', 'Айнщайново', 'Айнщайновото', 'Айнщайнови', 'Айнщайновите', 'Айфелов', 'Айфеловия', 'Айфеловият', 'Айфелова', 'Айфеловата', 'Айфелово', 'Айфеловото', 'Айфелови', 'Айфеловите', 'Аладинов', 'Аладиновия', 'Аладиновият', 'Аладинова', 'Аладиновата', 'Аладиново', 'Аладиновото', 'Аладинови', 'Аладиновите', 'Андрешков', 'Андрешковия', 'Андрешковият', 'Андрешкова', 'Андрешковата', 'Андрешково', 'Андрешковото', 'Андрешкови', 'Андрешковите', 'Аполонов', 'Аполоновия', 'Аполоновият', 'Аполонова', 'Аполоновата', 'Аполоново', 'Аполоновото', 'Аполонови', 'Аполоновите', 'Арабаджиев', 'Арабаджиевия', 'Арабаджиевият', 'Арабаджиева', 'Арабаджиевата', 'Арабаджиево', 'Арабаджиевото', 'Арабаджиеви', 'Арабаджиевите', 'Баташов', 'Баташовия', 'Баташовият', 'Баташова', 'Баташовата', 'Баташово', 'Баташовото', 'Баташови', 'Баташовите', 'Ботев', 'Ботевия', 'Ботевият', 'Ботева', 'Ботевата', 'Ботево', 'Ботевото', 'Ботеви', 'Ботевите', 'Валпургиев', 'Валпургиевия', 'Валпургиевият', 'Валпургиева', 'Валпургиевата', 'Валпургиево', 'Валпургиевото', 'Валпургиеви', 'Валпургиевите', 'Василев', 'Василевия', 'Василевият', 'Василева', 'Василевата', 'Василево', 'Василевото', 'Василеви', 'Василевите', 'Илиев', 'Илиевия', 'Илиевият', 'Илиева', 'Илиевата', 'Илиево', 'Илиевото', 'Илиеви', 'Илиевите', 'Карлов', 'Карловия', 'Карловият', 'Карлова', 'Карловата', 'Карлово', 'Карловото', 'Карлови', 'Карловите', 'Костов', 'Костовия', 'Костовият', 'Костова', 'Костовата', 'Костово', 'Костовото', 'Костови', 'Костовите', 'Лужков', 'Лужковия', 'Лужковият', 'Лужкова', 'Лужковата', 'Лужково', 'Лужковото', 'Лужкови', 'Лужковите', 'Малеев', 'Малеевия', 'Малеевият', 'Малеева', 'Малеевата', 'Малеево', 'Малеевото', 'Малееви', 'Малеевите', 'Марксов', 'Марксовия', 'Марксовият', 'Марксова', 'Марксовата', 'Марксово', 'Марксовото', 'Марксови', 'Марксовите', 'Миладинов', 'Миладиновия', 'Миладиновият', 'Миладинова', 'Миладиновата', 'Миладиново', 'Миладиновото', 'Миладинови', 'Миладиновите', 'Мименов', 'Мименовия', 'Мименовият', 'Мименова', 'Мименовата', 'Мименово', 'Мименовото', 'Мименови', 'Мименовите', 'Наполеонов', 'Наполеоновия', 'Наполеоновият', 'Наполеонова', 'Наполеоновата', 'Наполеоново', 'Наполеоновото', 'Наполеонови', 'Наполеоновите', 'Нептунов', 'Нептуновия', 'Нептуновият', 'Нептунова', 'Нептуновата', 'Нептуново', 'Нептуновото', 'Нептунови', 'Нептуновите', 'Омиров', 'Омировия', 'Омировият', 'Омирова', 'Омировата', 'Омирово', 'Омировото', 'Омирови', 'Омировите', 'Паисиев', 'Паисиевия', 'Паисиевият', 'Паисиева', 'Паисиевата', 'Паисиево', 'Паисиевото', 'Паисиеви', 'Паисиевите', 'Петров', 'Петровия', 'Петровият', 'Петрова', 'Петровата', 'Петрово', 'Петровото', 'Петрови', 'Петровите', 'Порточанов', 'Порточановия', 'Порточановият', 'Порточанова', 'Порточановата', 'Порточаново', 'Порточановото', 'Порточанови', 'Порточановите', 'Путин', 'Путиния', 'Путиният', 'Путина', 'Путината', 'Путино', 'Путиното', 'Путини', 'Путините', 'Първанов', 'Първановия', 'Първановият', 'Първанова', 'Първановата', 'Първаново', 'Първановото', 'Първанови', 'Първановите', 'Разцветников', 'Разцветниковия', 'Разцветниковият', 'Разцветникова', 'Разцветниковата', 'Разцветниково', 'Разцветниковото', 'Разцветникови', 'Разцветниковите', 'Рахманинов', 'Рахманиновия', 'Рахманиновият', 'Рахманинова', 'Рахманиновата', 'Рахманиново', 'Рахманиновото', 'Рахманинови', 'Рахманиновите', 'Скобелев', 'Скобелевия', 'Скобелевият', 'Скобелева', 'Скобелевата', 'Скобелево', 'Скобелевото', 'Скобелеви', 'Скобелевите', 'Томов', 'Томовия', 'Томовият', 'Томова', 'Томовата', 'Томово', 'Томовото', 'Томови', 'Томовите', 'Христов', 'Христовия', 'Христовият', 'Христова', 'Христовата', 'Христово', 'Христовото', 'Христови', 'Христовите', 'Германия', 'Германията', 'Германии', 'Германиите', 'Евроконституция', 'Евроконституцията', 'Евроконституции', 'Евроконституциите', 'Скудерия', 'Скудерията', 'Скудерии', 'Скудериите', 'Снежанка', 'Снежанката', 'Снежанки', 'Снежанките', 'Снежанке', 'Антоновден', 'Архангеловден', 'Атанасовден', 'Бабинден', 'Василовден', 'Видовден', 'Димитровден', 'Еньовден', 'Ивановден', 'Игнажден', 'Йордановден', 'Лазаровден', 'Петльовден', 'Петровден', 'Спасовден', 'Стефановден', 'Тодоровден', 'Трифоновден', 'Булгартабак', 'Булгартабака', 'Булгартабакът', 'Булгартабаци', 'Булгартабаците', 'Анди', 'Андите', 'Апалачи', 'Апалачите', 'Апенини', 'Апенините', 'Ардени', 'Ардените', 'Балеари', 'Балеарите', 'Бурбони', 'Бурбоните', 'Голански', 'Голанските', 'Дарданели', 'Дарданелите', 'Ивайловци', 'Ивайловците', 'Ивановци', 'Ивановците', 'Йордановци', 'Йордановците', 'Кариби', 'Карибите', 'Карпати', 'Карпатите', 'Кордилери', 'Кордилерите', 'Крезове', 'Крезовете', 'Малдиви', 'Малдивите', 'Пешовци', 'Пешовците', 'Пиренеи', 'Пиренеите', 'Сашовци', 'Сашовците', 'Татри', 'Татрите', 'Хабсбурги', 'Хабсбургите', 'Хаваи', 'Хаваите', 'Хималаи', 'Хималаите', 'Бундестаг', 'Бундестага', 'Бундестагът', 'Бундестази', 'Бундестазите', 'Странджа', 'Странджата', 'Странджи', 'Странджите', 'Мезозой', 'Мезозоя', 'Мезозоят', 'Палеозой', 'Палеозоя', 'Палеозоят', 'Протерозой', 'Протерозоя', 'Протерозоят', 'Ценозой', 'Ценозоя', 'Ценозоят', 'Албион', 'Албиона', 'Албионът', 'Ареопаг', 'Ареопага', 'Ареопагът', 'Ватикан', 'Ватикана', 'Ватиканът', 'Виетконг', 'Виетконга', 'Виетконгът', 'Гоминдан', 'Гоминдана', 'Гоминданът', 'Делиорман', 'Делиормана', 'Делиорманът', 'Дунав', 'Дунава', 'Дунавът', 'Евробарометър', 'Евробарометъра', 'Евробарометърът', 'Етър', 'Етъра', 'Етърът', 'Иврит', 'Иврита', 'Ивритът', 'Интерхотел', 'Интерхотела', 'Интерхотелът', 'Кнесет', 'Кнесета', 'Кнесетът', 'Ламанш', 'Ламанша', 'Ламаншът', 'Лувър', 'Лувъра', 'Лувърът', 'Нефтохим', 'Нефтохима', 'Нефтохимът', 'Ориент', 'Ориента', 'Ориентът', 'Пасифик', 'Пасифика', 'Пасификът', 'Гошо', 'Гошото', 'Гошовци', 'Гошовците', 'Пинокио', 'Пинокиото', 'Пинокиовци', 'Пинокиовците', 'Абаджиев', 'Абаджиева', 'Абрашев', 'Абрашева', 'Авджиев', 'Авджиева', 'Аврамов', 'Аврамова', 'Агов', 'Агова', 'Адамов', 'Адамова', 'Аджемов', 'Аджемова', 'Адрианов', 'Адрианова', 'Азманов', 'Азманова', 'Айвазов', 'Айвазова', 'Айков', 'Айкова', 'Аладжов', 'Аладжова', 'Алдинов', 'Алдинова', 'Алеков', 'Алекова', 'Александров', 'Александрова', 'Алексеев', 'Алексеева', 'Алексиев', 'Алексиева', 'Алексов', 'Алексова', 'Алипиев', 'Алипиева', 'Алтънов', 'Алтънова', 'Алчев', 'Алчева', 'Амалиев', 'Амалиева', 'Амбарев', 'Амбарева', 'Ананиев', 'Ананиева', 'Анастасов', 'Анастасова', 'Анатолов', 'Анатолова', 'Аначков', 'Аначкова', 'Ангелиев', 'Ангелиева', 'Ангелов', 'Ангелова', 'Ангьозов', 'Ангьозова', 'Андонов', 'Андонова', 'Андреев', 'Андреева', 'Андрейчев', 'Андрейчева', 'Андрейчин', 'Андрейчина', 'Андреков', 'Андрекова', 'Андров', 'Андрова', 'Анков', 'Анкова', 'Антов', 'Антова', 'Антониев', 'Антониева', 'Антонов', 'Антонова', 'Анчев', 'Анчева', 'Апостолов', 'Апостолова', 'Арнаудов', 'Арнаудова', 'Арсенов', 'Арсенова', 'Арсов', 'Арсова', 'Артуров', 'Артурова', 'Арфов', 'Арфова', 'Аршинов', 'Аршинова', 'Асенов', 'Асенова', 'Аспарухов', 'Аспарухова', 'Атанасов', 'Атанасова', 'Ахрянов', 'Ахрянова', 'Баджов', 'Баджова', 'Баев', 'Баева', 'Байков', 'Байкова', 'Байлов', 'Байлова', 'Байраков', 'Байракова', 'Байчев', 'Байчева', 'Бакалов', 'Бакалова', 'Бакърджиев', 'Бакърджиева', 'Балабанов', 'Балабанова', 'Балдев', 'Балдева', 'Балджиев', 'Балджиева', 'Балев', 'Балева', 'Баликов', 'Баликова', 'Балинов', 'Балинова', 'Балканджиев', 'Балканджиева', 'Балтаджиев', 'Балтаджиева', 'Балтов', 'Балтова', 'Балчев', 'Балчева', 'Бандов', 'Бандова', 'Банев', 'Банева', 'Банков', 'Банкова', 'Банов', 'Банова', 'Банчев', 'Банчева', 'Барбуков', 'Барбукова', 'Батаклиев', 'Батаклиева', 'Баталов', 'Баталова', 'Батинков', 'Батинкова', 'Батинов', 'Батинова', 'Батоев', 'Батоева', 'Бахчеванов', 'Бахчеванова', 'Бахчеджиев', 'Бахчеджиева', 'Бачев', 'Бачева', 'Башев', 'Башева', 'Бебов', 'Бебова', 'Бедриев', 'Бедриева', 'Бейков', 'Бейкова', 'Бекиров', 'Бекирова', 'Беков', 'Бекова', 'Бекяров', 'Бекярова', 'Белев', 'Белева', 'Белелиев', 'Белелиева', 'Белков', 'Белкова', 'Белошинов', 'Белошинова', 'Белчев', 'Белчева', 'Бенатов', 'Бенатова', 'Бенков', 'Бенкова', 'Бенчев', 'Бенчева', 'Бенчов', 'Бенчова', 'Беров', 'Берова', 'Бешков', 'Бешкова', 'Бижев', 'Бижева', 'Биков', 'Бикова', 'Бинев', 'Бинева', 'Бистричанов', 'Бистричанова', 'Благов', 'Благова', 'Благовестов', 'Благовестова', 'Благоев', 'Благоева', 'Блажев', 'Блажева', 'Близнаков', 'Близнакова', 'Бобев', 'Бобева', 'Богатинов', 'Богатинова', 'Богданов', 'Богданова', 'Богоев', 'Богоева', 'Богомилов', 'Богомилова', 'Боджаков', 'Боджакова', 'Бодуров', 'Бодурова', 'Боев', 'Боева', 'Божанков', 'Божанкова', 'Божанов', 'Божанова', 'Божидаров', 'Божидарова', 'Божиков', 'Божикова', 'Божилов', 'Божилова', 'Божинов', 'Божинова', 'Божков', 'Божкова', 'Бозаджиев', 'Бозаджиева', 'Бозев', 'Бозева', 'Бозов', 'Бозова', 'Бойков', 'Бойкова', 'Бойнов', 'Бойнова', 'Бойчев', 'Бойчева', 'Боков', 'Бокова', 'Бонев', 'Бонева', 'Бонин', 'Бонина', 'Бонков', 'Бонкова', 'Бонов', 'Бонова', 'Бончев', 'Бончева', 'Боржуков', 'Боржукова', 'Бориков', 'Борикова', 'Бориславов', 'Бориславова', 'Борисов', 'Борисова', 'Борянов', 'Борянова', 'Босилков', 'Босилкова', 'Бостанджиев', 'Бостанджиева', 'Боцев', 'Боцева', 'Бочев', 'Бочева', 'Бошнаков', 'Бошнакова', 'Бояджиев', 'Бояджиева', 'Боянов', 'Боянова', 'Брайков', 'Брайкова', 'Брайнов', 'Брайнова', 'Бранимиров', 'Бранимирова', 'Браниславов', 'Браниславова', 'Бранков', 'Бранкова', 'Братанов', 'Братанова', 'Братоев', 'Братоева', 'Брашлянов', 'Брашлянова', 'Бръчков', 'Бръчкова', 'Будинов', 'Будинова', 'Будьонов', 'Будьонова', 'Бузуков', 'Бузукова', 'Буков', 'Букова', 'Бумбаров', 'Бумбарова', 'Бургунджиев', 'Бургунджиева', 'Буров', 'Бурова', 'Бухчев', 'Бухчева', 'Бучков', 'Бучкова', 'Бънев', 'Бънева', 'Бързаков', 'Бързакова', 'Бърнев', 'Бърнева', 'Бъчваров', 'Бъчварова', 'Вазов', 'Вазова', 'Вакрилов', 'Вакрилова', 'Валентинов', 'Валентинова', 'Валериев', 'Валериева', 'Вангелов', 'Вангелова', 'Вангов', 'Вангова', 'Вандов', 'Вандова', 'Ванев', 'Ванева', 'Ванков', 'Ванкова', 'Ванчев', 'Ванчева', 'Варадинов', 'Варадинова', 'Варамезов', 'Варамезова', 'Вардев', 'Вардева', 'Варчев', 'Варчева', 'Васев', 'Васева', 'Василов', 'Василова', 'Василчев', 'Василчева', 'Васков', 'Васкова', 'Вацев', 'Вацева', 'Вачев', 'Вачева', 'Вачков', 'Вачкова', 'Векилов', 'Векилова', 'Веков', 'Векова', 'Велев', 'Велева', 'Велибашев', 'Велибашева', 'Велизаров', 'Велизарова', 'Великов', 'Великова', 'Велинов', 'Велинова', 'Велиславов', 'Велиславова', 'Величков', 'Величкова', 'Велков', 'Велкова', 'Велчев', 'Велчева', 'Велянов', 'Велянова', 'Венев', 'Венева', 'Венелинов', 'Венелинова', 'Венециев', 'Венециева', 'Венков', 'Венкова', 'Венциславов', 'Венциславова', 'Венчев', 'Венчева', 'Вергилов', 'Вергилова', 'Веселинов', 'Веселинова', 'Веселов', 'Веселова', 'Весков', 'Вескова', 'Весов', 'Весова', 'Видев', 'Видева', 'Виденов', 'Виденова', 'Видолов', 'Видолова', 'Викторов', 'Викторова', 'Викьов', 'Викьова', 'Витанов', 'Витанова', 'Витков', 'Виткова', 'Вичев', 'Вичева', 'Владев', 'Владева', 'Владимиров', 'Владимирова', 'Владиславов', 'Владиславова', 'Владков', 'Владкова', 'Владов', 'Владова', 'Влаев', 'Влаева', 'Влахов', 'Влахова', 'Воденичаров', 'Воденичарова', 'Войводов', 'Войводова', 'Войников', 'Войникова', 'Войнов', 'Войнова', 'Володиев', 'Володиева', 'Вретенаров', 'Вретенарова', 'Вутев', 'Вутева', 'Вутов', 'Вутова', 'Вуцов', 'Вуцова', 'Вучков', 'Вучкова', 'Въжаров', 'Въжарова', 'Вълдобрев', 'Вълдобрева', 'Вълев', 'Вълева', 'Вълканов', 'Вълканова', 'Вълков', 'Вълкова', 'Вълов', 'Вълова', 'Вълчанов', 'Вълчанова', 'Вълчев', 'Вълчева', 'Вълчинов', 'Вълчинова', 'Върбанов', 'Върбанова', 'Вътев', 'Вътева', 'Вътков', 'Въткова', 'Вътов', 'Вътова', 'Въцов', 'Въцова', 'Въчев', 'Въчева', 'Гавраилов', 'Гавраилова', 'Гаджев', 'Гаджева', 'Гайдаров', 'Гайдарова', 'Гайтанджиев', 'Гайтанджиева', 'Галев', 'Галева', 'Галинов', 'Галинова', 'Галчев', 'Галчева', 'Ганев', 'Ганева', 'Ганков', 'Ганкова', 'Ганчев', 'Ганчева', 'Ганчов', 'Ганчова', 'Гарванов', 'Гарванова', 'Гарев', 'Гарева', 'Гарелов', 'Гарелова', 'Гатев', 'Гатева', 'Гатов', 'Гатова', 'Гацев', 'Гацева', 'Гачев', 'Гачева', 'Гашаров', 'Гашарова', 'Гелев', 'Гелева', 'Генадиев', 'Генадиева', 'Генков', 'Генкова', 'Генов', 'Генова', 'Генчев', 'Генчева', 'Генчов', 'Генчова', 'Георгиев', 'Георгиева', 'Герасимов', 'Герасимова', 'Герасков', 'Гераскова', 'Герганов', 'Герганова', 'Гергинов', 'Гергинова', 'Гергинчев', 'Гергинчева', 'Гергов', 'Гергова', 'Герджиков', 'Герджикова', 'Германов', 'Германова', 'Геров', 'Герова', 'Герчев', 'Герчева', 'Гетов', 'Гетова', 'Гецов', 'Гецова', 'Гечев', 'Гечева', 'Гешев', 'Гешева', 'Гигов', 'Гигова', 'Гиздев', 'Гиздева', 'Гиздов', 'Гиздова', 'Гилев', 'Гилева', 'Гинев', 'Гинева', 'Гинин', 'Гинина', 'Гинчев', 'Гинчева', 'Гичев', 'Гичева', 'Главчев', 'Главчева', 'Гледачев', 'Гледачева', 'Глухаров', 'Глухарова', 'Гогов', 'Гогова', 'Гогошев', 'Гогошева', 'Гоев', 'Гоева', 'Гойчев', 'Гойчева', 'Големанов', 'Големанова', 'Големинов', 'Големинова', 'Горанов', 'Горанова', 'Гордев', 'Гордева', 'Горов', 'Горова', 'Горчев', 'Горчева', 'Господинов', 'Господинова', 'Гоцев', 'Гоцева', 'Гочев', 'Гочева', 'Гошев', 'Гошева', 'Граматиков', 'Граматикова', 'Григориев', 'Григориева', 'Григоров', 'Григорова', 'Гришев', 'Гришева', 'Грозданов', 'Грозданова', 'Гроздев', 'Гроздева', 'Грозев', 'Грозева', 'Грошев', 'Грошева', 'Грудев', 'Грудева', 'Груев', 'Груева', 'Грънчаров', 'Грънчарова', 'Гугов', 'Гугова', 'Гугутков', 'Гугуткова', 'Гулев', 'Гулева', 'Гунев', 'Гунева', 'Гунчев', 'Гунчева', 'Гурков', 'Гуркова', 'Гусев', 'Гусева', 'Гъдев', 'Гъдева', 'Гълъбов', 'Гълъбова', 'Гърбатов', 'Гърбатова', 'Гърдев', 'Гърдева', 'Гърков', 'Гъркова', 'Гьорев', 'Гьорева', 'Гьошков', 'Гьошкова', 'Гюзелев', 'Гюзелева', 'Гюлев', 'Гюлева', 'Гюров', 'Гюрова', 'Давидков', 'Давидкова', 'Давидов', 'Давидова', 'Даков', 'Дакова', 'Дамянов', 'Дамянова', 'Данаилов', 'Данаилова', 'Дангов', 'Дангова', 'Данев', 'Данева', 'Данков', 'Данкова', 'Данов', 'Данова', 'Данчев', 'Данчева', 'Данчов', 'Данчова', 'Даракчиев', 'Даракчиева', 'Даринов', 'Даринова', 'Дарчев', 'Дарчева', 'Даскалов', 'Даскалова', 'Дафинов', 'Дафинова', 'Дафов', 'Дафова', 'Дахтеров', 'Дахтерова', 'Дачев', 'Дачева', 'Дачков', 'Дачкова', 'Дедьов', 'Дедьова', 'Деков', 'Декова', 'Делев', 'Делева', 'Делибалтов', 'Делибалтова', 'Делибашев', 'Делибашева', 'Делибозов', 'Делибозова', 'Делов', 'Делова', 'Делчев', 'Делчева', 'Делянов', 'Делянова', 'Демирев', 'Демирева', 'Демиров', 'Демирова', 'Денев', 'Денева', 'Денков', 'Денкова', 'Денчев', 'Денчева', 'Дерменджиев', 'Дерменджиева', 'Дертлиев', 'Дертлиева', 'Детелинов', 'Детелинова', 'Дечев', 'Дечева', 'Дечков', 'Дечкова', 'Деянов', 'Деянова', 'Джабалов', 'Джабалова', 'Джамбазов', 'Джамбазова', 'Джамбов', 'Джамбова', 'Джамов', 'Джамова', 'Джанков', 'Джанкова', 'Джаферов', 'Джаферова', 'Джендов', 'Джендова', 'Дженев', 'Дженева', 'Джерманов', 'Джерманова', 'Джеров', 'Джерова', 'Джиков', 'Джикова', 'Джилянов', 'Джилянова', 'Джингов', 'Джингова', 'Джоров', 'Джорова', 'Джуров', 'Джурова', 'Диамандиев', 'Диамандиева', 'Дианов', 'Дианова', 'Диев', 'Диева', 'Диклиев', 'Диклиева', 'Диков', 'Дикова', 'Дилов', 'Дилова', 'Диманов', 'Диманова', 'Димитрачков', 'Димитрачкова', 'Димитров', 'Димитрова', 'Димков', 'Димкова', 'Димов', 'Димова', 'Димчев', 'Димчева', 'Димчов', 'Димчова', 'Динев', 'Динева', 'Динков', 'Динкова', 'Динчев', 'Динчева', 'Дичев', 'Дичева', 'Дишлиев', 'Дишлиева', 'Добрев', 'Добрева', 'Добрилов', 'Добрилова', 'Добринов', 'Добринова', 'Добромиров', 'Добромирова', 'Доганов', 'Доганова', 'Додев', 'Додева', 'Додов', 'Додова', 'Дойков', 'Дойкова', 'Дойнов', 'Дойнова', 'Дойчев', 'Дойчева', 'Дойчинов', 'Дойчинова', 'Доков', 'Докова', 'Долапчиев', 'Долапчиева', 'Долчинков', 'Долчинкова', 'Домусчиев', 'Домусчиева', 'Донев', 'Донева', 'Донков', 'Донкова', 'Донов', 'Донова', 'Дончев', 'Дончева', 'Досев', 'Досева', 'Дотев', 'Дотева', 'Доцов', 'Доцова', 'Дочев', 'Дочева', 'Дочков', 'Дочкова', 'Драганов', 'Драганова', 'Драгиев', 'Драгиева', 'Драгнев', 'Драгнева', 'Драгоев', 'Драгоева', 'Драгойчев', 'Драгойчева', 'Драгомиров', 'Драгомирова', 'Драгостинов', 'Драгостинова', 'Дражев', 'Дражева', 'Драйчев', 'Драйчева', 'Дренчев', 'Дренчева', 'Друмев', 'Друмева', 'Дрянов', 'Дрянова', 'Дуков', 'Дукова', 'Думанов', 'Думанова', 'Дундов', 'Дундова', 'Дунев', 'Дунева', 'Дунов', 'Дунова', 'Душанов', 'Душанова', 'Душков', 'Душкова', 'Дюлгеров', 'Дюлгерова', 'Дяков', 'Дякова', 'Дянков', 'Дянкова', 'Евгениев', 'Евгениева', 'Евлогиев', 'Евлогиева', 'Евстатиев', 'Евстатиева', 'Евтимов', 'Евтимова', 'Едрев', 'Едрева', 'Еленков', 'Еленкова', 'Елмиров', 'Елмирова', 'Еманоилов', 'Еманоилова', 'Емануилов', 'Емануилова', 'Емилев', 'Емилева', 'Емилов', 'Емилова', 'Енев', 'Енева', 'Енчев', 'Енчева', 'Ефремов', 'Ефремова', 'Ефтимов', 'Ефтимова', 'Жеков', 'Жекова', 'Желев', 'Желева', 'Железов', 'Железова', 'Железчев', 'Железчева', 'Желязков', 'Желязкова', 'Желязов', 'Желязова', 'Жечев', 'Жечева', 'Жечков', 'Жечкова', 'Живков', 'Живкова', 'Жиков', 'Жикова', 'Жилков', 'Жилкова', 'Жоров', 'Жорова', 'Загоров', 'Загорова', 'Заимов', 'Заимова', 'Замфиров', 'Замфирова', 'Занев', 'Занева', 'Занков', 'Занкова', 'Запрянов', 'Запрянова', 'Заралиев', 'Заралиева', 'Зарев', 'Зарева', 'Зарков', 'Заркова', 'Заров', 'Зарова', 'Зафиров', 'Зафирова', 'Захариев', 'Захариева', 'Захаров', 'Захарова', 'Захов', 'Захова', 'Зашев', 'Зашева', 'Здравков', 'Здравкова', 'Здравчев', 'Здравчева', 'Зидаров', 'Зидарова', 'Зиновиев', 'Зиновиева', 'Златанов', 'Златанова', 'Златарев', 'Златарева', 'Златев', 'Златева', 'Златинов', 'Златинова', 'Златков', 'Златкова', 'Зулчев', 'Зулчева', 'Зюмбюлев', 'Зюмбюлева', 'Ибрахимов', 'Ибрахимова', 'Ивайлов', 'Ивайлова', 'Иванов', 'Иванова', 'Иванчев', 'Иванчева', 'Иванчов', 'Иванчова', 'Ивков', 'Ивкова', 'Ивов', 'Ивова', 'Ивчев', 'Ивчева', 'Игнатов', 'Игнатова', 'Икономов', 'Икономова', 'Илиянов', 'Илиянова', 'Илков', 'Илкова', 'Илчев', 'Илчева', 'Инджов', 'Инджова', 'Иринчев', 'Иринчева', 'Исаев', 'Исаева', 'Исаков', 'Исакова', 'Искрев', 'Искрева', 'Искренов', 'Искренова', 'Искров', 'Искрова', 'Ицов', 'Ицова', 'Йовков', 'Йовкова', 'Йовов', 'Йовова', 'Йовчев', 'Йовчева', 'Йозов', 'Йозова', 'Йолов', 'Йолова', 'Йонев', 'Йонева', 'Йонков', 'Йонкова', 'Йончев', 'Йончева', 'Йорданов', 'Йорданова', 'Йосифов', 'Йосифова', 'Йотков', 'Йоткова', 'Йотов', 'Йотова', 'Йоцов', 'Йоцова', 'Кабаджов', 'Кабаджова', 'Кабаиванов', 'Кабаиванова', 'Кабакчиев', 'Кабакчиева', 'Кавалджиев', 'Кавалджиева', 'Кавръков', 'Кавръкова', 'Кадиров', 'Кадирова', 'Кадънков', 'Кадънкова', 'Казаков', 'Казакова', 'Казанджиев', 'Казанджиева', 'Кайнаров', 'Кайнарова', 'Калайджиев', 'Калайджиева', 'Калев', 'Калева', 'Калинов', 'Калинова', 'Калоферов', 'Калоферова', 'Калоянов', 'Калоянова', 'Калоянчев', 'Калоянчева', 'Калфин', 'Калфина', 'Калчев', 'Калчева', 'Калъчев', 'Калъчева', 'Камбуров', 'Камбурова', 'Каменаров', 'Каменарова', 'Каменов', 'Каменова', 'Камов', 'Камова', 'Кантарджиев', 'Кантарджиева', 'Капитанов', 'Капитанова', 'Карабаджаков', 'Карабаджакова', 'Карабатаков', 'Карабатакова', 'Карабашев', 'Карабашева', 'Карабуров', 'Карабурова', 'Каравасилев', 'Каравасилева', 'Карагечев', 'Карагечева', 'Карагьозов', 'Карагьозова', 'Караджов', 'Караджова', 'Карадиамандиев', 'Карадиамандиева', 'Карадимов', 'Карадимова', 'Караиванов', 'Караиванова', 'Карайотов', 'Карайотова', 'Каракачанов', 'Каракачанова', 'Каракашев', 'Каракашева', 'Караколев', 'Караколева', 'Караманов', 'Караманова', 'Караманолев', 'Караманолева', 'Карамишев', 'Карамишева', 'Карамфилов', 'Карамфилова', 'Караниколов', 'Караниколова', 'Караславов', 'Караславова', 'Карастойков', 'Карастойкова', 'Карастоянов', 'Карастоянова', 'Кардашев', 'Кардашева', 'Каролев', 'Каролева', 'Касабов', 'Касабова', 'Касимов', 'Касимова', 'Катеринов', 'Катеринова', 'Катрев', 'Катрева', 'Кацаров', 'Кацарова', 'Качов', 'Качова', 'Кашъмов', 'Кашъмова', 'Кеманджиев', 'Кеманджиева', 'Кендеров', 'Кендерова', 'Керанов', 'Керанова', 'Керезов', 'Керезова', 'Керчев', 'Керчева', 'Кехайов', 'Кехайова', 'Кипров', 'Кипрова', 'Кирев', 'Кирева', 'Кирилов', 'Кирилова', 'Кирков', 'Киркова', 'Киров', 'Кирова', 'Кирчев', 'Кирчева', 'Киряков', 'Кирякова', 'Кисимов', 'Кисимова', 'Кисьов', 'Кисьова', 'Китанов', 'Китанова', 'Китов', 'Китова', 'Кичуков', 'Кичукова', 'Кишишев', 'Кишишева', 'Клисаров', 'Клисарова', 'Клявчев', 'Клявчева', 'Ковачев', 'Ковачева', 'Коджабашев', 'Коджабашева', 'Коев', 'Коева', 'Кожухаров', 'Кожухарова', 'Козарев', 'Козарева', 'Козаров', 'Козарова', 'Койнов', 'Койнова', 'Койчев', 'Койчева', 'Коларов', 'Коларова', 'Колев', 'Колева', 'Колчаков', 'Колчакова', 'Колчев', 'Колчева', 'Комаров', 'Комарова', 'Комитов', 'Комитова', 'Конакчиев', 'Конакчиева', 'Кондев', 'Кондева', 'Кондов', 'Кондова', 'Конов', 'Конова', 'Константинов', 'Константинова', 'Копанаров', 'Копанарова', 'Копринков', 'Копринкова', 'Корнажев', 'Корнажева', 'Косев', 'Косева', 'Костадинов', 'Костадинова', 'Костакев', 'Костакева', 'Костакиев', 'Костакиева', 'Костенаров', 'Костенарова', 'Коцев', 'Коцева', 'Коцов', 'Коцова', 'Кочев', 'Кочева', 'Кочков', 'Кочкова', 'Краев', 'Краева', 'Крайчев', 'Крайчева', 'Кралев', 'Кралева', 'Кралчев', 'Кралчева', 'Крапчев', 'Крапчева', 'Красимиров', 'Красимирова', 'Крачунов', 'Крачунова', 'Кременлиев', 'Кременлиева', 'Кривошиев', 'Кривошиева', 'Крулев', 'Крулева', 'Крумов', 'Крумова', 'Кръжаров', 'Кръжарова', 'Крънчев', 'Крънчева', 'Кръстанов', 'Кръстанова', 'Кръстев', 'Кръстева', 'Кръчмаров', 'Кръчмарова', 'Кузев', 'Кузева', 'Кузманов', 'Кузманова', 'Кузмов', 'Кузмова', 'Кулеков', 'Кулекова', 'Куманов', 'Куманова', 'Кунев', 'Кунева', 'Кунчев', 'Кунчева', 'Купенов', 'Купенова', 'Куртев', 'Куртева', 'Куруджиев', 'Куруджиева', 'Кутев', 'Кутева', 'Куцаров', 'Куцарова', 'Кучев', 'Кучева', 'Куюмджиев', 'Куюмджиева', 'Къндев', 'Къндева', 'Кънев', 'Кънева', 'Кънов', 'Кънова', 'Кънчев', 'Кънчева', 'Кърпачев', 'Кърпачева', 'Кътев', 'Кътева', 'Кьосев', 'Кьосева', 'Кюмюрджиев', 'Кюмюрджиева', 'Кюранов', 'Кюранова', 'Кюрчиев', 'Кюрчиева', 'Кючуков', 'Кючукова', 'Лазаров', 'Лазарова', 'Лазов', 'Лазова', 'Лаков', 'Лакова', 'Лалев', 'Лалева', 'Лалов', 'Лалова', 'Ламбрев', 'Ламбрева', 'Ласкин', 'Ласкина', 'Ласков', 'Ласкова', 'Латунов', 'Латунова', 'Лачев', 'Лачева', 'Левиев', 'Левиева', 'Левтеров', 'Левтерова', 'Ленчев', 'Ленчева', 'Леонидов', 'Леонидова', 'Леонтиев', 'Леонтиева', 'Лефтеров', 'Лефтерова', 'Лечев', 'Лечева', 'Ликов', 'Ликова', 'Лилков', 'Лилкова', 'Лилов', 'Лилова', 'Лилянов', 'Лилянова', 'Липчев', 'Липчева', 'Личев', 'Личева', 'Лозанов', 'Лозанова', 'Лозанчев', 'Лозанчева', 'Лозев', 'Лозева', 'Локов', 'Локова', 'Лолов', 'Лолова', 'Луджев', 'Луджева', 'Луканов', 'Луканова', 'Луков', 'Лукова', 'Лулчев', 'Лулчева', 'Лучев', 'Лучева', 'Лучников', 'Лучникова', 'Лъчезаров', 'Лъчезарова', 'Любенов', 'Любенова', 'Любов', 'Любова', 'Любомиров', 'Любомирова', 'Любчев', 'Любчева', 'Любчов', 'Любчова', 'Людмилов', 'Людмилова', 'Люцканов', 'Люцканова', 'Ляков', 'Лякова', 'Лялев', 'Лялева', 'Мавров', 'Маврова', 'Мавродиев', 'Мавродиева', 'Магдалинчев', 'Магдалинчева', 'Магеров', 'Магерова', 'Маданков', 'Маданкова', 'Маджаров', 'Маджарова', 'Мазгалов', 'Мазгалова', 'Мазев', 'Мазева', 'Мазнев', 'Мазнева', 'Мазников', 'Мазникова', 'Майоров', 'Майорова', 'Майсторов', 'Майсторова', 'Максимов', 'Максимова', 'Маламов', 'Маламова', 'Малев', 'Малева', 'Малинов', 'Малинова', 'Малинчев', 'Малинчева', 'Малчев', 'Малчева', 'Мамалев', 'Мамалева', 'Мамедов', 'Мамедова', 'Манасиев', 'Манасиева', 'Манев', 'Манева', 'Манов', 'Манова', 'Манолов', 'Манолова', 'Манушкин', 'Манушкина', 'Манчев', 'Манчева', 'Маргаритов', 'Маргаритова', 'Марианов', 'Марианова', 'Маринков', 'Маринкова', 'Маринов', 'Маринова', 'Маринчев', 'Маринчева', 'Маричков', 'Маричкова', 'Марков', 'Маркова', 'Маров', 'Марова', 'Марсев', 'Марсева', 'Мартинов', 'Мартинова', 'Мархолев', 'Мархолева', 'Марчев', 'Марчева', 'Марчов', 'Марчова', 'Масларов', 'Масларова', 'Маслинков', 'Маслинкова', 'Матев', 'Матева', 'Матеев', 'Матеева', 'Матов', 'Матова', 'Матрозов', 'Матрозова', 'Махлелиев', 'Махлелиева', 'Мацев', 'Мацева', 'Мачев', 'Мачева', 'Машев', 'Машева', 'Медарев', 'Медарева', 'Медаров', 'Медарова', 'Медникаров', 'Медникарова', 'Мезов', 'Мезова', 'Мендов', 'Мендова', 'Менев', 'Менева', 'Менков', 'Менкова', 'Менов', 'Менова', 'Менчев', 'Менчева', 'Метанов', 'Метанова', 'Метев', 'Метева', 'Методиев', 'Методиева', 'Механджиев', 'Механджиева', 'Мехмедов', 'Мехмедова', 'Мечев', 'Мечева', 'Мечкаров', 'Мечкарова', 'Мечков', 'Мечкова', 'Мешинков', 'Мешинкова', 'Мешков', 'Мешкова', 'Миков', 'Микова', 'Миланов', 'Миланова', 'Милачков', 'Милачкова', 'Милев', 'Милева', 'Миленков', 'Миленкова', 'Миленов', 'Миленова', 'Милков', 'Милкова', 'Милов', 'Милова', 'Милоев', 'Милоева', 'Милотинов', 'Милотинова', 'Милошев', 'Милошева', 'Милушев', 'Милушева', 'Милчев', 'Милчева', 'Милчов', 'Милчова', 'Мильов', 'Мильова', 'Миндилев', 'Миндилева', 'Минев', 'Минева', 'Минков', 'Минкова', 'Минов', 'Минова', 'Минчев', 'Минчева', 'Мирев', 'Мирева', 'Миринчев', 'Миринчева', 'Мирков', 'Миркова', 'Миронов', 'Миронова', 'Мирославов', 'Мирославова', 'Мирчев', 'Мирчева', 'Мирчов', 'Мирчова', 'Мирянов', 'Мирянова', 'Митев', 'Митева', 'Митков', 'Миткова', 'Митов', 'Митова', 'Митрев', 'Митрева', 'Митров', 'Митрова', 'Митьов', 'Митьова', 'Михаелов', 'Михаелова', 'Михайлов', 'Михайлова', 'Михалев', 'Михалева', 'Михалков', 'Михалкова', 'Михов', 'Михова', 'Мицаков', 'Мицакова', 'Мицев', 'Мицева', 'Мицов', 'Мицова', 'Мичев', 'Мичева', 'Мишев', 'Мишева', 'Мишков', 'Мишкова', 'Младенов', 'Младенова', 'Модев', 'Модева', 'Моев', 'Моева', 'Мокев', 'Мокева', 'Мокрев', 'Мокрева', 'Молеров', 'Молерова', 'Моллов', 'Моллова', 'Момчев', 'Момчева', 'Момчилов', 'Момчилова', 'Монев', 'Монева', 'Монов', 'Монова', 'Москов', 'Москова', 'Мръчков', 'Мръчкова', 'Мулетаров', 'Мулетарова', 'Мунев', 'Мунева', 'Мурджев', 'Мурджева', 'Мусерлиев', 'Мусерлиева', 'Мусорлиев', 'Мусорлиева', 'Мустафов', 'Мустафова', 'Мутафов', 'Мутафова', 'Мутафчиев', 'Мутафчиева', 'Мухтанов', 'Мухтанова', 'Мънков', 'Мънкова', 'Навущаров', 'Навущарова', 'Наглев', 'Наглева', 'Найденов', 'Найденова', 'Найчов', 'Найчова', 'Накев', 'Накева', 'Наков', 'Накова', 'Налбантов', 'Налбантова', 'Нанев', 'Нанева', 'Нанков', 'Нанкова', 'Нанов', 'Нанова', 'Нарцисов', 'Нарцисова', 'Насков', 'Наскова', 'Натанаилов', 'Натанаилова', 'Натев', 'Натева', 'Натов', 'Натова', 'Наумов', 'Наумова', 'Начев', 'Начева', 'Начков', 'Начкова', 'Начов', 'Начова', 'Негенцов', 'Негенцова', 'Недев', 'Недева', 'Неделчев', 'Неделчева', 'Недков', 'Недкова', 'Недялков', 'Недялкова', 'Нейков', 'Нейкова', 'Нейчев', 'Нейчева', 'Неков', 'Некова', 'Немцов', 'Немцова', 'Ненков', 'Ненкова', 'Ненов', 'Ненова', 'Ненчев', 'Ненчева', 'Неофитов', 'Неофитова', 'Несторов', 'Несторова', 'Нетев', 'Нетева', 'Нехризов', 'Нехризова', 'Нецов', 'Нецова', 'Нешев', 'Нешева', 'Нешков', 'Нешкова', 'Никифоров', 'Никифорова', 'Ников', 'Никова', 'Никодимов', 'Никодимова', 'Николаев', 'Николаева', 'Николов', 'Николова', 'Николчев', 'Николчева', 'Николчов', 'Николчова', 'Нинов', 'Нинова', 'Нинчев', 'Нинчева', 'Нитов', 'Нитова', 'Ничев', 'Ничева', 'Новаков', 'Новакова', 'Новиков', 'Новикова', 'Новков', 'Новкова', 'Нончев', 'Нончева', 'Нотев', 'Нотева', 'Нуриев', 'Нуриева', 'Нучев', 'Нучева', 'Нушков', 'Нушкова', 'Няголов', 'Няголова', 'Обретенов', 'Обретенова', 'Обрешков', 'Обрешкова', 'Овчаров', 'Овчарова', 'Огнянов', 'Огнянова', 'Октавианов', 'Октавианова', 'Олегов', 'Олегова', 'Олчев', 'Олчева', 'Онков', 'Онкова', 'Орешаров', 'Орешарова', 'Орлинов', 'Орлинова', 'Орсов', 'Орсова', 'Османов', 'Османова', 'Павлинов', 'Павлинова', 'Павлитов', 'Павлитова', 'Павлов', 'Павлова', 'Пазарджиев', 'Пазарджиева', 'Паздеров', 'Паздерова', 'Пакеров', 'Пакерова', 'Палазов', 'Палазова', 'Палашев', 'Палашева', 'Пальов', 'Пальова', 'Памуков', 'Памукова', 'Панайотов', 'Панайотова', 'Пангелов', 'Пангелова', 'Пандов', 'Пандова', 'Панев', 'Панева', 'Панков', 'Панкова', 'Панов', 'Панова', 'Панталеев', 'Панталеева', 'Пантев', 'Пантева', 'Пантелеев', 'Пантелеева', 'Пантов', 'Пантова', 'Панчев', 'Панчева', 'Панчов', 'Панчова', 'Папазов', 'Папазова', 'Папаличев', 'Папаличева', 'Папаризов', 'Папаризова', 'Параскев', 'Параскева', 'Параскевов', 'Параскевова', 'Пармаков', 'Пармакова', 'Паруков', 'Парукова', 'Парушев', 'Парушева', 'Паскалев', 'Паскалева', 'Паскалиев', 'Паскалиева', 'Пасков', 'Паскова', 'Патев', 'Патева', 'Патриков', 'Патрикова', 'Паунов', 'Паунова', 'Пачев', 'Пачева', 'Пашамов', 'Пашамова', 'Пашев', 'Пашева', 'Пашов', 'Пашова', 'Пеев', 'Пеева', 'Пейков', 'Пейкова', 'Пейчев', 'Пейчева', 'Пеков', 'Пекова', 'Пекунов', 'Пекунова', 'Пелев', 'Пелева', 'Пелов', 'Пелова', 'Пелтеков', 'Пелтекова', 'Пенев', 'Пенева', 'Пенков', 'Пенкова', 'Пенов', 'Пенова', 'Пенушлиев', 'Пенушлиева', 'Пенчев', 'Пенчева', 'Пепев', 'Пепева', 'Перусанов', 'Перусанова', 'Перчев', 'Перчева', 'Петев', 'Петева', 'Петканов', 'Петканова', 'Петков', 'Петкова', 'Петраков', 'Петракова', 'Петранов', 'Петранова', 'Петричев', 'Петричева', 'Петрунов', 'Петрунова', 'Петрушев', 'Петрушева', 'Петрушинов', 'Петрушинова', 'Пехливанов', 'Пехливанова', 'Пешев', 'Пешева', 'Пилев', 'Пилева', 'Пиличев', 'Пиличева', 'Пиляков', 'Пилякова', 'Пиндиков', 'Пиндикова', 'Пинтев', 'Пинтева', 'Пинтиев', 'Пинтиева', 'Пинчев', 'Пинчева', 'Пиперков', 'Пиперкова', 'Пиронков', 'Пиронкова', 'Писев', 'Писева', 'Пищалов', 'Пищалова', 'Пламенов', 'Пламенова', 'Плачков', 'Плачкова', 'Пойчев', 'Пойчева', 'Политов', 'Политова', 'Понев', 'Понева', 'Попгеоргиев', 'Попгеоргиева', 'Попиванов', 'Попиванова', 'Попкалинов', 'Попкалинова', 'Попмиланов', 'Попмиланова', 'Попов', 'Попова', 'Попсавов', 'Попсавова', 'Поптодоров', 'Поптодорова', 'Попхристов', 'Попхристова', 'Попчев', 'Попчева', 'Пощаков', 'Пощакова', 'Праматаров', 'Праматарова', 'Прангов', 'Прангова', 'Премянов', 'Премянова', 'Примов', 'Примова', 'Проданов', 'Проданова', 'Продев', 'Продева', 'Пройнов', 'Пройнова', 'Пройчев', 'Пройчева', 'Прокопов', 'Прокопова', 'Профиров', 'Профирова', 'Пръмов', 'Пръмова', 'Пулев', 'Пулева', 'Пунчев', 'Пунчева', 'Пушкаров', 'Пушкарова', 'Пъков', 'Пъкова', 'Пълев', 'Пълева', 'Пълов', 'Пълова', 'Пънделов', 'Пънделова', 'Пърмаков', 'Пърмакова', 'Пъшев', 'Пъшева', 'Рабчев', 'Рабчева', 'Раданов', 'Раданова', 'Радев', 'Радева', 'Раденков', 'Раденкова', 'Радилов', 'Радилова', 'Радионов', 'Радионова', 'Радичев', 'Радичева', 'Радков', 'Радкова', 'Раднев', 'Раднева', 'Радованов', 'Радованова', 'Радоев', 'Радоева', 'Радойнов', 'Радойнова', 'Радонов', 'Радонова', 'Радославов', 'Радославова', 'Радулов', 'Радулова', 'Радушев', 'Радушева', 'Раев', 'Раева', 'Разпопов', 'Разпопова', 'Райков', 'Райкова', 'Райнев', 'Райнева', 'Райнов', 'Райнова', 'Райчев', 'Райчева', 'Райчин', 'Райчина', 'Райчинов', 'Райчинова', 'Райчов', 'Райчова', 'Раков', 'Ракова', 'Ралев', 'Ралева', 'Ралчев', 'Ралчева', 'Рангелов', 'Рангелова', 'Ранчев', 'Ранчева', 'Рафаелов', 'Рафаелова', 'Рафаилов', 'Рафаилова', 'Рачев', 'Рачева', 'Рачков', 'Рачкова', 'Рачов', 'Рачова', 'Рашев', 'Рашева', 'Рашидов', 'Рашидова', 'Рашков', 'Рашкова', 'Рашов', 'Рашова', 'Риджаков', 'Риджакова', 'Ризов', 'Ризова', 'Роглев', 'Роглева', 'Розов', 'Розова', 'Ройдев', 'Ройдева', 'Романов', 'Романова', 'Ромеов', 'Ромеова', 'Росев', 'Росева', 'Росенов', 'Росенова', 'Руенов', 'Руенова', 'Ружев', 'Ружева', 'Руменов', 'Руменова', 'Русалинов', 'Русалинова', 'Русалов', 'Русалова', 'Русанов', 'Русанова', 'Русев', 'Русева', 'Русинов', 'Русинова', 'Русков', 'Рускова', 'Рядков', 'Рядкова', 'Сабриев', 'Сабриева', 'Савев', 'Савева', 'Савов', 'Савова', 'Савчев', 'Савчева', 'Сайменов', 'Сайменова', 'Сакеларов', 'Сакеларова', 'Сакъров', 'Сакърова', 'Салиев', 'Салиева', 'Салчев', 'Салчева', 'Самарджиев', 'Самарджиева', 'Самуилов', 'Самуилова', 'Сандев', 'Сандева', 'Сандулов', 'Сандулова', 'Сапарев', 'Сапарева', 'Сапунджиев', 'Сапунджиева', 'Саракчиев', 'Саракчиева', 'Саралиев', 'Саралиева', 'Сарафов', 'Сарафова', 'Саръиванов', 'Саръиванова', 'Сашев', 'Сашева', 'Сашков', 'Сашкова', 'Сашов', 'Сашова', 'Светлев', 'Светлева', 'Светлинов', 'Светлинова', 'Светлозаров', 'Светлозарова', 'Светозаров', 'Светозарова', 'Светославов', 'Светославова', 'Свиленов', 'Свиленова', 'Свинаров', 'Свинарова', 'Севдалинов', 'Севдалинова', 'Северинов', 'Северинова', 'Севов', 'Севова', 'Седевчев', 'Седевчева', 'Седефов', 'Седефова', 'Седефчов', 'Седефчова', 'Сеизов', 'Сеизова', 'Секулов', 'Секулова', 'Семерджиев', 'Семерджиева', 'Семков', 'Семкова', 'Семов', 'Семова', 'Сендов', 'Сендова', 'Серафимов', 'Серафимова', 'Сербезов', 'Сербезова', 'Сергеев', 'Сергеева', 'Сечков', 'Сечкова', 'Сивков', 'Сивкова', 'Сивов', 'Сивова', 'Сидеров', 'Сидерова', 'Силянов', 'Силянова', 'Симеонов', 'Симеонова', 'Симов', 'Симова', 'Симонов', 'Симонова', 'Сираков', 'Сиракова', 'Слабаков', 'Слабакова', 'Славев', 'Славева', 'Славеев', 'Славеева', 'Славейков', 'Славейкова', 'Славенов', 'Славенова', 'Славков', 'Славкова', 'Славов', 'Славова', 'Славчев', 'Славчева', 'Славчов', 'Славчова', 'Славянов', 'Славянова', 'Сливков', 'Сливкова', 'Смилев', 'Смилева', 'Смиленов', 'Смиленова', 'Смилянов', 'Смилянова', 'Смоленов', 'Смоленова', 'Сойчев', 'Сойчева', 'Сокачев', 'Сокачева', 'Соколев', 'Соколева', 'Соколов', 'Соколова', 'Солаков', 'Солакова', 'Сомов', 'Сомова', 'Сонев', 'Сонева', 'Сотиров', 'Сотирова', 'Софрониев', 'Софрониева', 'Спасов', 'Спасова', 'Спиридонов', 'Спиридонова', 'Спиров', 'Спирова', 'Средков', 'Средкова', 'Сретениев', 'Сретениева', 'Ставрев', 'Ставрева', 'Стаев', 'Стаева', 'Стайков', 'Стайкова', 'Сталев', 'Сталева', 'Стаматов', 'Стаматова', 'Стамболиев', 'Стамболиева', 'Стамболов', 'Стамболова', 'Стаменов', 'Стаменова', 'Стамов', 'Стамова', 'Станев', 'Станева', 'Станилов', 'Станилова', 'Станимиров', 'Станимирова', 'Станиславов', 'Станиславова', 'Станишев', 'Станишева', 'Станков', 'Станкова', 'Станкулов', 'Станкулова', 'Станоев', 'Станоева', 'Станойчев', 'Станойчева', 'Станчев', 'Станчева', 'Статев', 'Статева', 'Статков', 'Статкова', 'Стелиянов', 'Стелиянова', 'Стефанов', 'Стефанова', 'Стефков', 'Стефкова', 'Стефов', 'Стефова', 'Стефчев', 'Стефчева', 'Стефчов', 'Стефчова', 'Стилянов', 'Стилянова', 'Стоев', 'Стоева', 'Стоилков', 'Стоилкова', 'Стоилов', 'Стоилова', 'Стоименов', 'Стоименова', 'Стоичков', 'Стоичкова', 'Стойков', 'Стойкова', 'Стойнев', 'Стойнева', 'Стойнов', 'Стойнова', 'Стойчев', 'Стойчева', 'Стоянов', 'Стоянова', 'Стоянчев', 'Стоянчева', 'Странджалиев', 'Странджалиева', 'Стратев', 'Стратева', 'Стратиев', 'Стратиева', 'Страхилов', 'Страхилова', 'Страшилов', 'Страшилова', 'Страшимиров', 'Страшимирова', 'Стрезов', 'Стрезова', 'Стумбов', 'Стумбова', 'Стършелов', 'Стършелова', 'Сугарев', 'Сугарева', 'Събев', 'Събева', 'Събков', 'Събкова', 'Събчев', 'Събчева', 'Съев', 'Съева', 'Сълов', 'Сълова', 'Табаков', 'Табакова', 'Тагарев', 'Тагарева', 'Тадаръков', 'Тадаръкова', 'Такев', 'Такева', 'Такучев', 'Такучева', 'Талев', 'Талева', 'Тамбушев', 'Тамбушева', 'Танев', 'Танева', 'Танков', 'Танкова', 'Танов', 'Танова', 'Танчев', 'Танчева', 'Тарамов', 'Тарамова', 'Таранджиев', 'Таранджиева', 'Тасев', 'Тасева', 'Тасков', 'Таскова', 'Татарков', 'Татаркова', 'Татарчев', 'Татарчева', 'Таушанов', 'Таушанова', 'Тахов', 'Тахова', 'Тачев', 'Тачева', 'Ташев', 'Ташева', 'Ташков', 'Ташкова', 'Темелков', 'Темелкова', 'Тенев', 'Тенева', 'Тенекеджиев', 'Тенекеджиева', 'Тенчев', 'Тенчева', 'Теодоров', 'Теодорова', 'Теодосиев', 'Теодосиева', 'Теофанов', 'Теофанова', 'Тепавичаров', 'Тепавичарова', 'Терзиев', 'Терзиева', 'Тескаров', 'Тескарова', 'Тилев', 'Тилева', 'Тимев', 'Тимева', 'Тимнев', 'Тимнева', 'Тимов', 'Тимова', 'Тимчев', 'Тимчева', 'Тинев', 'Тинева', 'Тинков', 'Тинкова', 'Тинчев', 'Тинчева', 'Тихов', 'Тихова', 'Тихолов', 'Тихолова', 'Тихомиров', 'Тихомирова', 'Тодоранов', 'Тодоранова', 'Тодоров', 'Тодорова', 'Токлуджанов', 'Токлуджанова', 'Толоев', 'Толоева', 'Тонев', 'Тонева', 'Тонков', 'Тонкова', 'Тонов', 'Тонова', 'Тончев', 'Тончева', 'Топалов', 'Топалова', 'Топенчаров', 'Топенчарова', 'Топорков', 'Топоркова', 'Торбов', 'Торбова', 'Торлаков', 'Торлакова', 'Тороманов', 'Тороманова', 'Тосков', 'Тоскова', 'Тотев', 'Тотева', 'Тотков', 'Тоткова', 'Тотоманов', 'Тотоманова', 'Точев', 'Точева', 'Тошев', 'Тошева', 'Тошков', 'Тошкова', 'Трайков', 'Трайкова', 'Трайчев', 'Трайчева', 'Трандев', 'Трандева', 'Трандов', 'Трандова', 'Траянов', 'Траянова', 'Трендафилов', 'Трендафилова', 'Тренев', 'Тренева', 'Тренчев', 'Тренчева', 'Трифонов', 'Трифонова', 'Тричков', 'Тричкова', 'Троев', 'Троева', 'Трончев', 'Трончева', 'Трошанов', 'Трошанова', 'Троянов', 'Троянова', 'Тръпков', 'Тръпкова', 'Туджаров', 'Туджарова', 'Тулев', 'Тулева', 'Тумбалев', 'Тумбалева', 'Тунчев', 'Тунчева', 'Тупаров', 'Тупарова', 'Турлаков', 'Турлакова', 'Турмаков', 'Турмакова', 'Тутев', 'Тутева', 'Търнев', 'Търнева', 'Търпанов', 'Търпанова', 'Търпоманов', 'Търпоманова', 'Тюлеков', 'Тюлекова', 'Угринов', 'Угринова', 'Узунов', 'Узунова', 'Унчев', 'Унчева', 'Урманов', 'Урманова', 'Урумов', 'Урумова', 'Ушатов', 'Ушатова', 'Ушев', 'Ушева', 'Факирев', 'Факирева', 'Факлиев', 'Факлиева', 'Федев', 'Федева', 'Феодоров', 'Феодорова', 'Фердинандов', 'Фердинандова', 'Ферменджиев', 'Ферменджиева', 'Фиданов', 'Фиданова', 'Фидошев', 'Фидошева', 'Фиков', 'Фикова', 'Филаретов', 'Филаретова', 'Филев', 'Филева', 'Филипов', 'Филипова', 'Филков', 'Филкова', 'Филчев', 'Филчева', 'Фименов', 'Фименова', 'Фитков', 'Фиткова', 'Флоров', 'Флорова', 'Фотев', 'Фотева', 'Франгов', 'Франгова', 'Фурнаджиев', 'Фурнаджиева', 'Хадживасилев', 'Хадживасилева', 'Хаджигеоргиев', 'Хаджигеоргиева', 'Хаджидимитров', 'Хаджидимитрова', 'Хаджиев', 'Хаджиева', 'Хаджииванов', 'Хаджииванова', 'Хаджикосев', 'Хаджикосева', 'Хаджимаринов', 'Хаджимаринова', 'Хаджиминев', 'Хаджиминева', 'Хаджиниколов', 'Хаджиниколова', 'Хаджинонев', 'Хаджинонева', 'Хаджипетков', 'Хаджипеткова', 'Хаджипетров', 'Хаджипетрова', 'Хаджихристов', 'Хаджихристова', 'Хаджов', 'Хаджова', 'Хайверов', 'Хайверова', 'Хайдутов', 'Хайдутова', 'Хайтов', 'Хайтова', 'Халаджов', 'Халаджова', 'Халачев', 'Халачева', 'Ханджиев', 'Ханджиева', 'Харалампиев', 'Харалампиева', 'Харизанов', 'Харизанова', 'Хинев', 'Хинева', 'Хинков', 'Хинкова', 'Хинов', 'Хинова', 'Хинчев', 'Хинчева', 'Хитев', 'Хитева', 'Хлебаров', 'Хлебарова', 'Хорозов', 'Хорозова', 'Хранков', 'Хранкова', 'Хризантиев', 'Хризантиева', 'Христакиев', 'Христакиева', 'Христинов', 'Христинова', 'Христозов', 'Христозова', 'Христосков', 'Христоскова', 'Христофоров', 'Христофорова', 'Хрусанов', 'Хрусанова', 'Хубенов', 'Хубенова', 'Цаков', 'Цакова', 'Цанев', 'Цанева', 'Цанков', 'Цанкова', 'Цанов', 'Цанова', 'Цачев', 'Цачева', 'Цветанков', 'Цветанкова', 'Цветанов', 'Цветанова', 'Цветелинов', 'Цветелинова', 'Цветков', 'Цветкова', 'Цвятков', 'Цвяткова', 'Цеков', 'Цекова', 'Ценев', 'Ценева', 'Ценков', 'Ценкова', 'Ценов', 'Ценова', 'Цецков', 'Цецкова', 'Циков', 'Цикова', 'Цоков', 'Цокова', 'Цолов', 'Цолова', 'Цонев', 'Цонева', 'Цонков', 'Цонкова', 'Цончев', 'Цончева', 'Цочев', 'Цочева', 'Чавдаров', 'Чавдарова', 'Чавраков', 'Чавракова', 'Чакалов', 'Чакалова', 'Чакъров', 'Чакърова', 'Чалев', 'Чалева', 'Чалъков', 'Чалъкова', 'Чамурджиев', 'Чамурджиева', 'Чанев', 'Чанева', 'Чанков', 'Чанкова', 'Чапкънов', 'Чапкънова', 'Чаракчиев', 'Чаракчиева', 'Чаталбашев', 'Чаталбашева', 'Чаушев', 'Чаушева', 'Челебиев', 'Челебиева', 'Чепишев', 'Чепишева', 'Червенков', 'Червенкова', 'Червеняков', 'Червенякова', 'Чергаров', 'Чергарова', 'Черешков', 'Черешкова', 'Черкезов', 'Черкезова', 'Чернев', 'Чернева', 'Чешмеджиев', 'Чешмеджиева', 'Чилев', 'Чилева', 'Чиликов', 'Чиликова', 'Чилингиров', 'Чилингирова', 'Чимширов', 'Чимширова', 'Чинчев', 'Чинчева', 'Чипев', 'Чипева', 'Чипков', 'Чипкова', 'Чиприянов', 'Чиприянова', 'Чирпанлиев', 'Чирпанлиева', 'Чобанов', 'Чобанова', 'Чолаков', 'Чолакова', 'Чолев', 'Чолева', 'Чомаков', 'Чомакова', 'Чорбаджиев', 'Чорбаджиева', 'Чорбов', 'Чорбова', 'Чорлев', 'Чорлева', 'Чудомиров', 'Чудомирова', 'Чукаров', 'Чукарова', 'Чуклев', 'Чуклева', 'Чуков', 'Чукова', 'Чупетлов', 'Чупетлова', 'Чутурков', 'Чутуркова', 'Шабанов', 'Шабанова', 'Шаглев', 'Шаглева', 'Шаламанов', 'Шаламанова', 'Шанов', 'Шанова', 'Шаренков', 'Шаренкова', 'Шатев', 'Шатева', 'Шейретов', 'Шейретова', 'Шекерджиев', 'Шекерджиева', 'Шехов', 'Шехова', 'Шиваров', 'Шиварова', 'Шивачев', 'Шивачева', 'Шиндаров', 'Шиндарова', 'Шипков', 'Шипкова', 'Шишков', 'Шишкова', 'Шишманов', 'Шишманова', 'Шкодров', 'Шкодрова', 'Шолев', 'Шолева', 'Шопов', 'Шопова', 'Шпатов', 'Шпатова', 'Шуманов', 'Шуманова', 'Шумелов', 'Шумелова', 'Щеков', 'Щекова', 'Щерев', 'Щерева', 'Щилиянов', 'Щилиянова', 'Щърбанов', 'Щърбанова', 'Щъркалев', 'Щъркалева', 'Юлианов', 'Юлианова', 'Юриев', 'Юриева', 'Юруков', 'Юрукова', 'Ябълков', 'Ябълкова', 'Явашев', 'Явашева', 'Яворов', 'Яворова', 'Якимов', 'Якимова', 'Яков', 'Якова', 'Яламов', 'Яламова', 'Ялнъзов', 'Ялнъзова', 'Янакиев', 'Янакиева', 'Янев', 'Янева', 'Янков', 'Янкова', 'Янкулов', 'Янкулова', 'Янов', 'Янова', 'Янчев', 'Янчева', 'Ясенов', 'Ясенова', 'Ячков', 'Ячкова', 'Ангеловски', 'Ангеловска', 'Арабаджийски', 'Арабаджийска', 'Ахчийски', 'Ахчийска', 'Балджийски', 'Балджийска', 'Балевски', 'Балевска', 'Бамбалски', 'Бамбалска', 'Банковски', 'Банковска', 'Баташки', 'Баташка', 'Беленски', 'Беленска', 'Бетовски', 'Бетовска', 'Билярски', 'Билярска', 'Близнашки', 'Близнашка', 'Богацевски', 'Богацевска', 'Бресковски', 'Бресковска', 'Букарски', 'Букарска', 'Бумбарски', 'Бумбарска', 'Вакарелски', 'Вакарелска', 'Велевски', 'Велевска', 'Велковски', 'Велковска', 'Велчевски', 'Велчевска', 'Влаховски', 'Влаховска', 'Воденичарски', 'Воденичарска', 'Войновски', 'Войновска', 'Вълчановски', 'Вълчановска', 'Габровски', 'Габровска', 'Гайдарски', 'Гайдарска', 'Геновски', 'Геновска', 'Гетовски', 'Гетовска', 'Гечевски', 'Гечевска', 'Гоговски', 'Гоговска', 'Големански', 'Големанска', 'Градинарски', 'Градинарска', 'Гърневски', 'Гърневска', 'Дамяновски', 'Дамяновска', 'Дановски', 'Дановска', 'Даракчийски', 'Даракчийска', 'Делийски', 'Делийска', 'Демиревски', 'Демиревска', 'Джамбазки', 'Джамбазка', 'Димовски', 'Димовска', 'Добревски', 'Добревска', 'Доковски', 'Доковска', 'Донковски', 'Донковска', 'Дончевски', 'Дончевска', 'Дряновски', 'Дряновска', 'Дюлгерски', 'Дюлгерска', 'Загорски', 'Загорска', 'Задгорски', 'Задгорска', 'Здравковски', 'Здравковска', 'Знеполски', 'Знеполска', 'Игнатиевски', 'Игнатиевска', 'Игнатовски', 'Игнатовска', 'Илиевски', 'Илиевска', 'Йоловски', 'Йоловска', 'Йоневски', 'Йоневска', 'Казашки', 'Казашка', 'Калчевски', 'Калчевска', 'Каменарски', 'Каменарска', 'Каменски', 'Каменска', 'Капитански', 'Капитанска', 'Кацарски', 'Кацарска', 'Керемидарски', 'Керемидарска', 'Кирковски', 'Кирковска', 'Кировски', 'Кировска', 'Клисурски', 'Клисурска', 'Кобургготски', 'Кобургготска', 'Коевски', 'Коевска', 'Комарски', 'Комарска', 'Комитски', 'Комитска', 'Конакчийски', 'Конакчийска', 'Коцовски', 'Коцовска', 'Кочовски', 'Кочовска', 'Крушарски', 'Крушарска', 'Кубадински', 'Кубадинска', 'Кулински', 'Кулинска', 'Куновски', 'Куновска', 'Ламбовски', 'Ламбовска', 'Лозански', 'Лозанска', 'Македонски', 'Македонска', 'Маламски', 'Маламска', 'Малевски', 'Малевска', 'Марински', 'Маринска', 'Марковски', 'Марковска', 'Марчевски', 'Марчевска', 'Марчовски', 'Марчовска', 'Масларски', 'Масларска', 'Механджийски', 'Механджийска', 'Минковски', 'Минковска', 'Минчевски', 'Минчевска', 'Митевски', 'Митевска', 'Митовски', 'Митовска', 'Митровски', 'Митровска', 'Михайловски', 'Михайловска', 'Михтарски', 'Михтарска', 'Мичковски', 'Мичковска', 'Моневски', 'Моневска', 'Моралийски', 'Моралийска', 'Недевски', 'Недевска', 'Нейковски', 'Нейковска', 'Николчовски', 'Николчовска', 'Ниновски', 'Ниновска', 'Новански', 'Нованска', 'Огойски', 'Огойска', 'Одрински', 'Одринска', 'Остромски', 'Остромска', 'Палански', 'Паланска', 'Паликарски', 'Паликарска', 'Пейчевски', 'Пейчевска', 'Пейчински', 'Пейчинска', 'Пеловски', 'Пеловска', 'Петровски', 'Петровска', 'Пехливански', 'Пехливанска', 'Пирински', 'Пиринска', 'Писарски', 'Писарска', 'Плочарски', 'Плочарска', 'Поповски', 'Поповска', 'Праматарски', 'Праматарска', 'Преславски', 'Преславска', 'Раденовски', 'Раденовска', 'Радински', 'Радинска', 'Райкински', 'Райкинска', 'Райковски', 'Райковска', 'Ралчовски', 'Ралчовска', 'Ребърковски', 'Ребърковска', 'Резашки', 'Резашка', 'Рилски', 'Рилска', 'Романски', 'Романска', 'Руневски', 'Руневска', 'Русалийски', 'Русалийска', 'Садовски', 'Садовска', 'Сакалийски', 'Сакалийска', 'Самарджийски', 'Самарджийска', 'Сарийски', 'Сарийска', 'Светлински', 'Светлинска', 'Сестримски', 'Сестримска', 'Силяновски', 'Силяновска', 'Смирненски', 'Смирненска', 'Сопотски', 'Сопотска', 'Софийски', 'Софийска', 'Софиянски', 'Софиянска', 'Стаевски', 'Стаевска', 'Стайковски', 'Стайковска', 'Сталийски', 'Сталийска', 'Стамболийски', 'Стамболийска', 'Стойновски', 'Стойновска', 'Стояновски', 'Стояновска', 'Сълковски', 'Сълковска', 'Тановски', 'Тановска', 'Танчовски', 'Танчовска', 'Терзийски', 'Терзийска', 'Топалски', 'Топалска', 'Топчийски', 'Топчийска', 'Тошковски', 'Тошковска', 'Траянски', 'Траянска', 'Узунски', 'Узунска', 'Хаджийски', 'Хаджийска', 'Ханджийски', 'Ханджийска', 'Цанковски', 'Цанковска', 'Цановски', 'Цановска', 'Цветковски', 'Цветковска', 'Цвятковски', 'Цвятковска', 'Церовски', 'Церовска', 'Цоневски', 'Цоневска', 'Чорбаджийски', 'Чорбаджийска', 'Чупетловски', 'Чупетловска', 'Шарабански', 'Шарабанска', 'Шекерджийски', 'Шекерджийска', 'Шиндарски', 'Шиндарска', 'Шолевски', 'Шолевска', 'Янчовски', 'Янчовска', 'Василевич', 'Владимирович', 'Вячеславович', 'Кеворкян', 'Кръстевич', 'Любомирович', 'Николаевич', 'Нурикян', 'Остоич', 'Петрусенко', 'Радославович', 'Рачевич', 'Саркисян', 'Викторовна', 'Георгиевна', 'Михайловна', 'Радославовна', 'Сергеевна', 'Флорин', 'Августин', 'Августина', 'Адриан', 'Адриана', 'Анжел', 'Анжела', 'Бенислав', 'Бенислава', 'Благовест', 'Благовеста', 'Богдан', 'Богдана', 'Божан', 'Божана', 'Божидар', 'Божидара', 'Боримир', 'Боримира', 'Борислав', 'Борислава', 'Борян', 'Боряна', 'Боян', 'Бояна', 'Бранимир', 'Бранимира', 'Бранислав', 'Бранислава', 'Валентин', 'Валентина', 'Велин', 'Велина', 'Велислав', 'Велислава', 'Велян', 'Веляна', 'Венелин', 'Венелина', 'Венцислав', 'Венцислава', 'Веселин', 'Веселина', 'Владимир', 'Владимира', 'Владислав', 'Владислава', 'Габриел', 'Габриела', 'Галимир', 'Галимира', 'Галин', 'Галина', 'Гергин', 'Гергина', 'Гроздан', 'Гроздана', 'Даниел', 'Даниела', 'Дафин', 'Дафина', 'Делян', 'Деляна', 'Десислав', 'Десислава', 'Деян', 'Деяна', 'Диан', 'Диана', 'Димитрин', 'Димитрина', 'Добрин', 'Добрина', 'Добромир', 'Добромира', 'Доброслав', 'Доброслава', 'Драгомир', 'Драгомира', 'Драгослав', 'Драгослава', 'Елизабет', 'Елизабета', 'Елин', 'Елина', 'Живомир', 'Живомира', 'Златимир', 'Златимира', 'Златин', 'Златина', 'Иван', 'Ивана', 'Ивелин', 'Ивелина', 'Илиян', 'Илияна', 'Ирен', 'Ирена', 'Йоан', 'Йоана', 'Калин', 'Калина', 'Константин', 'Константина', 'Красимир', 'Красимира', 'Лазарин', 'Лазарина', 'Лилян', 'Лиляна', 'Лъчезар', 'Лъчезара', 'Любозар', 'Любозара', 'Любомир', 'Любомира', 'Любослав', 'Любослава', 'Малин', 'Малина', 'Маргарит', 'Маргарита', 'Мариан', 'Мариана', 'Марин', 'Марина', 'Мариян', 'Марияна', 'Милен', 'Милена', 'Миролюб', 'Миролюба', 'Мирослав', 'Мирослава', 'Михаел', 'Михаела', 'Михаил', 'Михаила', 'Невен', 'Невена', 'Огнян', 'Огняна', 'Павлин', 'Павлина', 'Паул', 'Паула', 'Пламен', 'Пламена', 'Планимир', 'Планимира', 'Полимир', 'Полимира', 'Преслав', 'Преслава', 'Радин', 'Радина', 'Радомир', 'Радомира', 'Радосвет', 'Радосвета', 'Радослав', 'Радослава', 'Радостин', 'Радостина', 'Ростислав', 'Ростислава', 'Румян', 'Румяна', 'Русалин', 'Русалина', 'Сабин', 'Сабина', 'Сабрин', 'Сабрина', 'Светлозар', 'Светлозара', 'Светломир', 'Светломира', 'Светозар', 'Светозара', 'Светослав', 'Светослава', 'Свилен', 'Свилена', 'Свилян', 'Свиляна', 'Севдалин', 'Севдалина', 'Славомир', 'Славомира', 'Сребрин', 'Сребрина', 'Стамен', 'Стамена', 'Станимир', 'Станимира', 'Станислав', 'Станислава', 'Стефан', 'Стефана', 'Сузан', 'Сузана', 'Теодор', 'Теодора', 'Тихомир', 'Тихомира', 'Томислав', 'Томислава', 'Христин', 'Христина', 'Христомир', 'Христомира', 'Цветан', 'Цветана', 'Цветелин', 'Цветелина', 'Цветолюб', 'Цветолюба', 'Цветомир', 'Цветомира', 'Чавдар', 'Чавдара', 'Чудомир', 'Чудомира', 'Юлиян', 'Юлияна', 'Ярослав', 'Ярослава', 'Аврам', 'Алекс', 'Александър', 'Алексей', 'Алекси', 'Альоша', 'Ананий', 'Анастас', 'Анатолий', 'Ангел', 'Андрей', 'Андриан', 'Антоан', 'Антон', 'Антони', 'Антоний', 'Антонио', 'Асен', 'Аспарух', 'Астраджан', 'Атанас', 'Атанаси', 'Белчо', 'Билян', 'Бисер', 'Благо', 'Благой', 'Богомил', 'Божил', 'Божин', 'Бойко', 'Бойчо', 'Бончо', 'Боню', 'Борил', 'Борис', 'Босилко', 'Ботьо', 'Бранко', 'Вагенщайн', 'Валдемар', 'Валери', 'Вальо', 'Ванко', 'Ванчо', 'Ваньо', 'Васил', 'Василий', 'Васко', 'Велизар', 'Велимир', 'Величко', 'Велко', 'Велчо', 'Вельо', 'Венко', 'Венци', 'Вергил', 'Веско', 'Виктор', 'Вилхелм', 'Витали', 'Витан', 'Вихрен', 'Владко', 'Волен', 'Володя', 'Вълко', 'Вълчан', 'Върбан', 'Вячеслав', 'Гавраил', 'Ганчо', 'Гарабед', 'Генади', 'Генко', 'Гено', 'Генчо', 'Гео', 'Георги', 'Герасим', 'Гинчо', 'Гиньо', 'Гичо', 'Горан', 'Гочо', 'Григор', 'Григорий', 'Гурко', 'Гюро', 'Давид', 'Дамян', 'Данчо', 'Деко', 'Делчо', 'Денис', 'Денислав', 'Денчо', 'Деньо', 'Дечко', 'Дечо', 'Дидо', 'Димитър', 'Димо', 'Димчо', 'Динко', 'Диньо', 'Добри', 'Доко', 'Дони', 'Дончо', 'Доньо', 'Дочо', 'Драган', 'Драгия', 'Духомир', 'Душко', 'Дянко', 'Евгени', 'Евгений', 'Евлоги', 'Евстатий', 'Евтим', 'Едмонд', 'Едуард', 'Еленко', 'Емануил', 'Емил', 'Емилиян', 'Енчо', 'Еньо', 'Жеко', 'Жельо', 'Желязко', 'Жечо', 'Живко', 'Жорж', 'Запрян', 'Зарин', 'Зарко', 'Захари', 'Здравко', 'Златан', 'Злати', 'Златко', 'Златозар', 'Златомир', 'Ибрахим', 'Ивайло', 'Иванчо', 'Иво', 'Игнат', 'Игор', 'Изидор', 'Илия', 'Илко', 'Илчо', 'Искрен', 'Йовко', 'Йовчо', 'Йонко', 'Йордан', 'Йосиф', 'Кадир', 'Калоян', 'Калчо', 'Камен', 'Кеворк', 'Кемал', 'Кирил', 'Киро', 'Кирчо', 'Климент', 'Колчо', 'Кольо', 'Коста', 'Костадин', 'Косьо', 'Красен', 'Кристиян', 'Крум', 'Кръстан', 'Кръстьо', 'Кузман', 'Кунчо', 'Куньо', 'Кънчо', 'Лазар', 'Лилко', 'Лозан', 'Любен', 'Люблян', 'Любчо', 'Людмил', 'Максим', 'Манол', 'Маньо', 'Марио', 'Мариус', 'Марко', 'Мартин', 'Матей', 'Менко', 'Методи', 'Мико', 'Миладин', 'Милан', 'Миланчо', 'Миленко', 'Милети', 'Милко', 'Милуш', 'Милчо', 'Минко', 'Минчо', 'Миньо', 'Мирко', 'Мирон', 'Митко', 'Михо', 'Мичо', 'Младен', 'Момчил', 'Моньо', 'Найден', 'Найчо', 'Нако', 'Нано', 'Натан', 'Натанаил', 'Наум', 'Неделчо', 'Недко', 'Недялко', 'Нейко', 'Ненко', 'Нено', 'Ненчо', 'Никифор', 'Никола', 'Николай', 'Нино', 'Нончо', 'Олег', 'Орлин', 'Орхан', 'Павел', 'Павлик', 'Панайот', 'Пантелей', 'Панчо', 'Паруш', 'Пейо', 'Пейчо', 'Пенко', 'Пенчо', 'Пеньо', 'Персиян', 'Петко', 'Петромир', 'Петър', 'Петьо', 'Пешо', 'Продан', 'Първан', 'Раденко', 'Ради', 'Радион', 'Радко', 'Райко', 'Райчо', 'Рангел', 'Рафаел', 'Рачо', 'Рашко', 'Рашо', 'Рикардо', 'Роджери', 'Розенщайн', 'Роман', 'Ромео', 'Росен', 'Рослан', 'Ружин', 'Румен', 'Русен', 'Руси', 'Руско', 'Руслан', 'Сава', 'Савчо', 'Самуил', 'Сашко', 'Сашо', 'Светлин', 'Серафим', 'Сергей', 'Сидер', 'Симеон', 'Славей', 'Славейко', 'Слави', 'Славко', 'Славо', 'Славчо', 'Сотир', 'Софрони', 'Спас', 'Спиридон', 'Станко', 'Станчо', 'Станьо', 'Стефани', 'Стефко', 'Стефчо', 'Стилян', 'Стоил', 'Стоимен', 'Стойко', 'Стойно', 'Стойо', 'Стойчо', 'Стоян', 'Стоянчо', 'Страхил', 'Страшимир', 'Таньо', 'Тенко', 'Тенчо', 'Теньо', 'Тервел', 'Тинко', 'Тодор', 'Тончо', 'Тоньо', 'Тотьо', 'Тошко', 'Тошо', 'Трайко', 'Трендафил', 'Трифон', 'Троян', 'Узун', 'Филип', 'Филко', 'Харалампи', 'Хари', 'Харизан', 'Християн', 'Христо', 'Христофор', 'Цанко', 'Цаньо', 'Цветанчо', 'Цветко', 'Цвятко', 'Цеко', 'Ценко', 'Цено', 'Цецко', 'Цонко', 'Цончо', 'Цоньо', 'Червенко', 'Щерьо', 'Щилиян', 'Юри', 'Явор', 'Янаки', 'Яне', 'Яни', 'Янко', 'Янчо', 'Ясен', 'Аделина', 'Аксиния', 'Албена', 'Александра', 'Александрина', 'Александрия', 'Алмира', 'Ана', 'Анастасия', 'Ангелина', 'Анелия', 'Анета', 'Ани', 'Анита', 'Анка', 'Анна', 'Антоанета', 'Антонина', 'Антония', 'Анюта', 'Ася', 'Атанаска', 'Берта', 'Бианка', 'Биляна', 'Бисерка', 'Бистра', 'Блага', 'Благородна', 'Богданка', 'Божанка', 'Божидарка', 'Бойка', 'Бонка', 'Бориска', 'Борянка', 'Ваклена', 'Валерия', 'Валя', 'Ванина', 'Ваня', 'Василка', 'Васка', 'Вася', 'Вела', 'Вели', 'Велиана', 'Величка', 'Венера', 'Венета', 'Вениана', 'Венка', 'Вера', 'Вероника', 'Веселинка', 'Веселка', 'Веска', 'Виктория', 'Вили', 'Вилияна', 'Виолета', 'Виолетка', 'Виржиния', 'Владка', 'Вълкана', 'Вяра', 'Галя', 'Ганка', 'Гена', 'Гергана', 'Гинка', 'Гичка', 'Грета', 'Гриша', 'Грозданка', 'Гуна', 'Данка', 'Дарина', 'Даринка', 'Дария', 'Дафинка', 'Деница', 'Денка', 'Деспина', 'Джина', 'Джована', 'Дилянка', 'Дима', 'Димитринка', 'Димитрия', 'Динка', 'Добринка', 'Донка', 'Дора', 'Дориана', 'Дориела', 'Дорина', 'Доротея', 'Дочка', 'Ева', 'Евангелина', 'Евгения', 'Евелина', 'Екатерина', 'Елвира', 'Елена', 'Еленка', 'Елеонора', 'Ели', 'Елиза', 'Елинка', 'Елисавета', 'Елка', 'Елмира', 'Емануела', 'Еми', 'Емилия', 'Етел', 'Ефросима', 'Ефросина', 'Жана', 'Жанет', 'Жанета', 'Жасмина', 'Жени', 'Женя', 'Живка', 'Жулиета', 'Захарина', 'Захаринка', 'Здравка', 'Златка', 'Зорница', 'Зоя', 'Ива', 'Ивайла', 'Иванка', 'Ивета', 'Ивона', 'Иглика', 'Илка', 'Илона', 'Илонка', 'Ина', 'Инна', 'Ирина', 'Йоанна', 'Йовка', 'Йонка', 'Йорданка', 'Калинка', 'Камелия', 'Карамфила', 'Катерина', 'Катина', 'Катрин', 'Катюша', 'Катя', 'Кера', 'Кети', 'Кирилка', 'Клара', 'Климентина', 'Корнелия', 'Костадинка', 'Кремена', 'Кристина', 'Кристияна', 'Куна', 'Кунка', 'Лалка', 'Лидия', 'Лили', 'Лилка', 'Лозанка', 'Лора', 'Лорета', 'Лука', 'Люба', 'Любимка', 'Любка', 'Людмила', 'Магда', 'Магдалена', 'Мадлен', 'Мадлена', 'Мадленка', 'Малинка', 'Мариела', 'Мариелка', 'Мариета', 'Марийка', 'Маринела', 'Маринка', 'Мария', 'Марта', 'Мартина', 'Маруся', 'Марчела', 'Матилда', 'Мая', 'Меглена', 'Мелани', 'Мери', 'Миглена', 'Миланка', 'Милета', 'Милка', 'Милкана', 'Миляна', 'Мими', 'Мина', 'Минка', 'Мира', 'Мирела', 'Мирена', 'Младенка', 'Моника', 'Надежда', 'Надка', 'Надя', 'Нася', 'Наталия', 'Наташа', 'Неда', 'Недка', 'Недялка', 'Нели', 'Нешка', 'Николета', 'Николина', 'Николинка', 'Нина', 'Нона', 'Нонка', 'Нора', 'Норка', 'Огнянка', 'Олга', 'Павлета', 'Паолина', 'Паулина', 'Пенка', 'Пепа', 'Петра', 'Петрана', 'Петранка', 'Петя', 'Пламенка', 'Поли', 'Поликсена', 'Полина', 'Поля', 'Пролетина', 'Първолета', 'Радка', 'Райка', 'Райна', 'Райничка', 'Ралица', 'Рая', 'Ребека', 'Ренета', 'Рени', 'Роза', 'Розалина', 'Розалия', 'Розелина', 'Розмари', 'Росица', 'Ружка', 'Румянка', 'Руска', 'Савина', 'Саша', 'Сашка', 'Светла', 'Светлана', 'Севда', 'Сийка', 'Силва', 'Силвена', 'Силви', 'Силвия', 'Симеонка', 'Симона', 'Сирма', 'Скарлет', 'Слава', 'Славея', 'Славина', 'Славка', 'Снежана', 'Соня', 'Софка', 'Станка', 'Стела', 'Стелияна', 'Стефанка', 'Стефка', 'Стойка', 'Стоянка', 'Тамара', 'Танка', 'Таня', 'Татяна', 'Теменужка', 'Теофана', 'Тереза', 'Тина', 'Тинка', 'Тодорка', 'Тома', 'Тони', 'Тонка', 'Тоня', 'Тотка', 'Трайка', 'Фани', 'Филипка', 'Филка', 'Цанка', 'Цвета', 'Цветанка', 'Ценка', 'Цеца', 'Цецка', 'Цонка', 'Юлия', 'Яблена', 'Яна', 'Янита', 'Яница', 'Янка', 'Второзаконие', 'Второзаконието', 'Интертото', 'Интертотото', 'Конелиано', 'Конелианото', 'Луфтвафе', 'Луфтвафето', 'Подмосковие', 'Подмосковието', 'Приднестровие', 'Приднестровието', 'Скандинавие', 'Скандинавието', 'Черноморие', 'Черноморието', 'Беломорие', 'Беломорието', 'Лудогорие', 'Лудогорието', 'Средиземноморие', 'Средиземноморието', 'Есперанто', 'Есперантото', 'Преображенският', 'Преображенската', 'Родопския', 'Илинденско', 'Преображенско', 'Ройсчето', 'Дотата', 'Ту', 'До', 'Дото', 'Унгарията', 'Родопската', 'Преображенските', 'Родопско', 'Унгария', 'Дота', 'Ройсът', 'Родопското', 'Ройсче', 'Ройсчета', 'Родопска', 'Родопските', 'Преображенска', 'Ролс', 'Преображенски', 'Ройсите', 'Ройсчетата', 'Родопският', 'Рило', 'Ройси', 'МВР', 'ТаеКуон', 'Преображенския', 'Ройса', 'Австро', 'Ройс', 'Преображенското', 'Родопски']\n"
     ]
    }
   ],
   "source": [
    "# Extract all names that start with a capital letter\n",
    "names_df = words_df[words_df['word'].str.match(r'^[А-Я]')]\n",
    "print(f\"Number of names: {len(names_df):,}\")\n",
    "print(names_df.word.unique().tolist())"
   ]
  },
  {
   "cell_type": "code",
   "execution_count": 15,
   "id": "a38d2997",
   "metadata": {},
   "outputs": [
    {
     "name": "stdout",
     "output_type": "stream",
     "text": [
      "Total words count (after removing names): 1,451,064\n"
     ]
    }
   ],
   "source": [
    "# Remove words that start with a capital letter\n",
    "words_df = words_df[~words_df['word'].str.match(r'^[А-Я]')]\n",
    "print(f\"Total words count (after removing names): {len(words_df):,}\")"
   ]
  },
  {
   "cell_type": "markdown",
   "id": "4a4c109f",
   "metadata": {},
   "source": [
    "## 7. Length distribution\n",
    "\n",
    "* **OBSERVATION**: We observe a skewed normal distribution, which is expected."
   ]
  },
  {
   "cell_type": "code",
   "execution_count": 16,
   "id": "31ca8303",
   "metadata": {},
   "outputs": [
    {
     "data": {
      "image/png": "[encoded data removed]",
      "text/plain": [
       "<Figure size 640x480 with 1 Axes>"
      ]
     },
     "metadata": {},
     "output_type": "display_data"
    }
   ],
   "source": [
    "# Plot the distribution of the words by length\n",
    "def plot_word_lengths(words_df):\n",
    "    word_lengths = words_df['word'].str.len()\n",
    "    mean_length = word_lengths.mean()\n",
    "    median_length = word_lengths.median()\n",
    "    word_longest = word_lengths.max()\n",
    "    plt.hist(word_lengths, bins=word_longest)\n",
    "    plt.axvline(median_length, color='black', linestyle='dashed', linewidth=1)\n",
    "    plt.axvline(mean_length, color='red', linestyle='dashed', linewidth=1)\n",
    "    plt.legend(['Median', 'Mean'])\n",
    "    plt.xlabel('Word Length')\n",
    "    plt.ylabel('Frequency')\n",
    "    plt.title(f'Longest word length: {word_longest}, Median: {median_length:.0f}, Mean: {mean_length:.1f}')\n",
    "    plt.xticks([1, 5, 10, 15, 20, 25, 30, 35, 40])\n",
    "    plt.xlim(0, 40)\n",
    "    plt.show()\n",
    "\n",
    "plot_word_lengths(words_df)"
   ]
  },
  {
   "cell_type": "markdown",
   "id": "19faa745",
   "metadata": {},
   "source": [
    "Hmm, there is a spike in the one-letter words. I expected to see no more than 30. :)"
   ]
  },
  {
   "cell_type": "markdown",
   "id": "3c187a49",
   "metadata": {},
   "source": [
    "## 8. Check 1-letter words"
   ]
  },
  {
   "cell_type": "code",
   "execution_count": 17,
   "id": "fe13bae6",
   "metadata": {},
   "outputs": [
    {
     "name": "stdout",
     "output_type": "stream",
     "text": [
      "Number of one letter words: 1,454\n"
     ]
    },
    {
     "data": {
      "text/html": [
       "<div>\n",
       "<style scoped>\n",
       "    .dataframe tbody tr th:only-of-type {\n",
       "        vertical-align: middle;\n",
       "    }\n",
       "\n",
       "    .dataframe tbody tr th {\n",
       "        vertical-align: top;\n",
       "    }\n",
       "\n",
       "    .dataframe thead th {\n",
       "        text-align: right;\n",
       "    }\n",
       "</style>\n",
       "<table border=\"1\" class=\"dataframe\">\n",
       "  <thead>\n",
       "    <tr style=\"text-align: right;\">\n",
       "      <th></th>\n",
       "      <th>word</th>\n",
       "      <th>is_main</th>\n",
       "      <th>search_count</th>\n",
       "      <th>description</th>\n",
       "    </tr>\n",
       "  </thead>\n",
       "  <tbody>\n",
       "    <tr>\n",
       "      <th>4004772</th>\n",
       "      <td>—</td>\n",
       "      <td>False</td>\n",
       "      <td>0.0</td>\n",
       "      <td>мъжка форма</td>\n",
       "    </tr>\n",
       "    <tr>\n",
       "      <th>4004864</th>\n",
       "      <td>—</td>\n",
       "      <td>False</td>\n",
       "      <td>0.0</td>\n",
       "      <td>мъжка форма</td>\n",
       "    </tr>\n",
       "    <tr>\n",
       "      <th>3999495</th>\n",
       "      <td>—</td>\n",
       "      <td>False</td>\n",
       "      <td>0.0</td>\n",
       "      <td>м.р., ед.ч., непълен член</td>\n",
       "    </tr>\n",
       "    <tr>\n",
       "      <th>4004119</th>\n",
       "      <td>—</td>\n",
       "      <td>False</td>\n",
       "      <td>0.0</td>\n",
       "      <td>женска форма</td>\n",
       "    </tr>\n",
       "    <tr>\n",
       "      <th>3999636</th>\n",
       "      <td>—</td>\n",
       "      <td>False</td>\n",
       "      <td>0.0</td>\n",
       "      <td>м.р., ед.ч., пълен член</td>\n",
       "    </tr>\n",
       "  </tbody>\n",
       "</table>\n",
       "</div>"
      ],
      "text/plain": [
       "        word is_main  search_count                description\n",
       "4004772    —   False           0.0                мъжка форма\n",
       "4004864    —   False           0.0                мъжка форма\n",
       "3999495    —   False           0.0  м.р., ед.ч., непълен член\n",
       "4004119    —   False           0.0               женска форма\n",
       "3999636    —   False           0.0    м.р., ед.ч., пълен член"
      ]
     },
     "execution_count": 17,
     "metadata": {},
     "output_type": "execute_result"
    }
   ],
   "source": [
    "# One letter words\n",
    "one_letter_words = words_df[words_df['word'].str.len() == 1]\n",
    "print(f\"Number of one letter words: {len(one_letter_words):,}\")\n",
    "one_letter_words.sample(5)"
   ]
  },
  {
   "cell_type": "markdown",
   "id": "0c3f1a3f",
   "metadata": {},
   "source": [
    "## 9. Remove invalid 1-letter words\n",
    "These are invalid words. We need to remove them."
   ]
  },
  {
   "cell_type": "code",
   "execution_count": 18,
   "id": "5907a551",
   "metadata": {},
   "outputs": [
    {
     "name": "stdout",
     "output_type": "stream",
     "text": [
      "Number of words to be removed: 1,449\n",
      "Total words count (after removing '—'): 1,449,615\n"
     ]
    }
   ],
   "source": [
    "# Remove words that are equal to '—'\n",
    "print(f\"Number of words to be removed: {len(words_df[words_df['word'] == '—']):,}\")\n",
    "words_df = words_df[words_df['word'] != '—']\n",
    "print(f\"Total words count (after removing '—'): {len(words_df):,}\")"
   ]
  },
  {
   "cell_type": "markdown",
   "id": "142c6062",
   "metadata": {},
   "source": [
    "Let's which are the one-letter words left."
   ]
  },
  {
   "cell_type": "code",
   "execution_count": 19,
   "id": "76991b28",
   "metadata": {},
   "outputs": [
    {
     "data": {
      "text/html": [
       "<div>\n",
       "<style scoped>\n",
       "    .dataframe tbody tr th:only-of-type {\n",
       "        vertical-align: middle;\n",
       "    }\n",
       "\n",
       "    .dataframe tbody tr th {\n",
       "        vertical-align: top;\n",
       "    }\n",
       "\n",
       "    .dataframe thead th {\n",
       "        text-align: right;\n",
       "    }\n",
       "</style>\n",
       "<table border=\"1\" class=\"dataframe\">\n",
       "  <thead>\n",
       "    <tr style=\"text-align: right;\">\n",
       "      <th></th>\n",
       "      <th>word</th>\n",
       "      <th>is_main</th>\n",
       "      <th>search_count</th>\n",
       "      <th>description</th>\n",
       "    </tr>\n",
       "  </thead>\n",
       "  <tbody>\n",
       "    <tr>\n",
       "      <th>3998299</th>\n",
       "      <td>я</td>\n",
       "      <td>False</td>\n",
       "      <td>0.0</td>\n",
       "      <td>винителен падеж, кратка форма</td>\n",
       "    </tr>\n",
       "    <tr>\n",
       "      <th>3998302</th>\n",
       "      <td>и</td>\n",
       "      <td>False</td>\n",
       "      <td>0.0</td>\n",
       "      <td>дателен падеж, кратка форма</td>\n",
       "    </tr>\n",
       "    <tr>\n",
       "      <th>3998424</th>\n",
       "      <td>и</td>\n",
       "      <td>False</td>\n",
       "      <td>0.0</td>\n",
       "      <td>кратка форма</td>\n",
       "    </tr>\n",
       "    <tr>\n",
       "      <th>1</th>\n",
       "      <td>е</td>\n",
       "      <td>NaN</td>\n",
       "      <td>NaN</td>\n",
       "      <td>NaN</td>\n",
       "    </tr>\n",
       "    <tr>\n",
       "      <th>135</th>\n",
       "      <td>а</td>\n",
       "      <td>NaN</td>\n",
       "      <td>NaN</td>\n",
       "      <td>NaN</td>\n",
       "    </tr>\n",
       "  </tbody>\n",
       "</table>\n",
       "</div>"
      ],
      "text/plain": [
       "        word is_main  search_count                    description\n",
       "3998299    я   False           0.0  винителен падеж, кратка форма\n",
       "3998302    и   False           0.0    дателен падеж, кратка форма\n",
       "3998424    и   False           0.0                   кратка форма\n",
       "1          е     NaN           NaN                            NaN\n",
       "135        а     NaN           NaN                            NaN"
      ]
     },
     "execution_count": 19,
     "metadata": {},
     "output_type": "execute_result"
    }
   ],
   "source": [
    "# One letter words\n",
    "one_letter_words = words_df[words_df['word'].str.len() == 1]\n",
    "one_letter_words.head()"
   ]
  },
  {
   "cell_type": "markdown",
   "id": "57398c82",
   "metadata": {},
   "source": [
    "* **OBSERVATION**: I can see some 1-letter words missing: `в`, `о`, `с`, `у`. Let's add them.\n",
    "* **OBSERVATION**: I can also see a duplicated word `и` (the description is different, but we have to produce a flat list of words in the end, so no need of duplicates)\n",
    "\n",
    "## 10. Add 1-letter words"
   ]
  },
  {
   "cell_type": "code",
   "execution_count": 20,
   "id": "d9f0714d",
   "metadata": {},
   "outputs": [
    {
     "name": "stdout",
     "output_type": "stream",
     "text": [
      "Total words count (after adding 1-letter words): 1,449,619\n"
     ]
    }
   ],
   "source": [
    "words_df = pd.concat([words_df, pd.DataFrame({'word': ['в', 'о', 'с', 'у']})])\n",
    "print(f\"Total words count (after adding 1-letter words): {len(words_df):,}\")"
   ]
  },
  {
   "cell_type": "markdown",
   "id": "28c1ef4e",
   "metadata": {},
   "source": [
    "## 11. Check 2-letter words"
   ]
  },
  {
   "cell_type": "code",
   "execution_count": 21,
   "id": "cf242694",
   "metadata": {},
   "outputs": [
    {
     "name": "stdout",
     "output_type": "stream",
     "text": [
      "Number of two letter words: 94\n",
      "['ад', 'аз', 'ар', 'ас', 'ат', 'би', 'би', 'би', 'би', 'бо', 'ви', 'ви', 'ви', 'ви', 'ви', 'вя', 'вя', 'вя', 'вя', 'ги', 'го', 'го', 'да', 'ду', 'ду', 'еж', 'ек', 'еш', 'зя', 'зя', 'им', 'им', 'ку', 'ля', 'ля', 'ля', 'ля', 'ме', 'ми', 'ми', 'ми', 'ми', 'му', 'му', 'му', 'ни', 'ни', 'ни', 'ом', 'ос', 'пи', 'пи', 'пя', 'пя', 'пя', 'пя', 'ри', 'ри', 'ря', 'ря', 'са', 'се', 'си', 'су', 'ся', 'ся', 'ся', 'ся', 'те', 'те', 'ти', 'ти', 'ти', 'то', 'тя', 'ум', 'чу', 'чу', 'ши', 'ши', 'ща', 'ще', 'щя', 'щя', 'юг', 'юз', 'яд', 'яж', 'яз', 'як', 'як', 'ял', 'ял', 'ям']\n"
     ]
    }
   ],
   "source": [
    "# Two letter words\n",
    "two_letter_words = words_df[words_df['word'].str.len() == 2]\n",
    "print(f\"Number of two letter words: {len(two_letter_words):,}\")\n",
    "print(sorted(two_letter_words['word'].tolist()))"
   ]
  },
  {
   "cell_type": "markdown",
   "id": "66182c0a",
   "metadata": {},
   "source": [
    "* **OBSERVATION**: `су` and `ку` are not valid Bulgarian words. We'll remove them.\n",
    "\n",
    "## 12. Remove invalid 2-letter words"
   ]
  },
  {
   "cell_type": "code",
   "execution_count": 22,
   "id": "9d2108b2",
   "metadata": {},
   "outputs": [
    {
     "name": "stdout",
     "output_type": "stream",
     "text": [
      "Total words count (after removing invalid 2-letter words): 1,449,617\n"
     ]
    }
   ],
   "source": [
    "# Remove invalid 2-letter words\n",
    "words_df = words_df[~words_df['word'].isin(['су', 'ку'])]\n",
    "print(f\"Total words count (after removing invalid 2-letter words): {len(words_df):,}\")"
   ]
  },
  {
   "cell_type": "markdown",
   "id": "6b5fe896",
   "metadata": {},
   "source": [
    "## 13. Remove latin symbols\n",
    "\n",
    "Let check if we have latin symbols in our database. We shouldn't."
   ]
  },
  {
   "cell_type": "code",
   "execution_count": 23,
   "id": "0b9da65e",
   "metadata": {},
   "outputs": [
    {
     "name": "stdout",
     "output_type": "stream",
     "text": [
      "Number of words containing latin symbols: 65\n"
     ]
    },
    {
     "data": {
      "text/html": [
       "<div>\n",
       "<style scoped>\n",
       "    .dataframe tbody tr th:only-of-type {\n",
       "        vertical-align: middle;\n",
       "    }\n",
       "\n",
       "    .dataframe tbody tr th {\n",
       "        vertical-align: top;\n",
       "    }\n",
       "\n",
       "    .dataframe thead th {\n",
       "        text-align: right;\n",
       "    }\n",
       "</style>\n",
       "<table border=\"1\" class=\"dataframe\">\n",
       "  <thead>\n",
       "    <tr style=\"text-align: right;\">\n",
       "      <th></th>\n",
       "      <th>word</th>\n",
       "      <th>is_main</th>\n",
       "      <th>search_count</th>\n",
       "      <th>description</th>\n",
       "    </tr>\n",
       "  </thead>\n",
       "  <tbody>\n",
       "    <tr>\n",
       "      <th>4013103</th>\n",
       "      <td>oтъпквам</td>\n",
       "      <td>True</td>\n",
       "      <td>0.0</td>\n",
       "      <td>сег.вр., 1л., ед.ч.</td>\n",
       "    </tr>\n",
       "    <tr>\n",
       "      <th>4013104</th>\n",
       "      <td>oтъпкваме</td>\n",
       "      <td>False</td>\n",
       "      <td>0.0</td>\n",
       "      <td>сег.вр., 1л., мн.ч.</td>\n",
       "    </tr>\n",
       "    <tr>\n",
       "      <th>4013105</th>\n",
       "      <td>oтъпкваш</td>\n",
       "      <td>False</td>\n",
       "      <td>0.0</td>\n",
       "      <td>сег.вр., 2л., ед.ч.</td>\n",
       "    </tr>\n",
       "    <tr>\n",
       "      <th>4013106</th>\n",
       "      <td>oтъпквате</td>\n",
       "      <td>False</td>\n",
       "      <td>0.0</td>\n",
       "      <td>сег.вр., 2л., мн.ч.</td>\n",
       "    </tr>\n",
       "    <tr>\n",
       "      <th>4013107</th>\n",
       "      <td>oтъпква</td>\n",
       "      <td>False</td>\n",
       "      <td>0.0</td>\n",
       "      <td>сег.вр., 3л., ед.ч.</td>\n",
       "    </tr>\n",
       "    <tr>\n",
       "      <th>4013108</th>\n",
       "      <td>oтъпкват</td>\n",
       "      <td>False</td>\n",
       "      <td>0.0</td>\n",
       "      <td>сег.вр., 3л., мн.ч.</td>\n",
       "    </tr>\n",
       "    <tr>\n",
       "      <th>4013109</th>\n",
       "      <td>oтъпквах</td>\n",
       "      <td>False</td>\n",
       "      <td>0.0</td>\n",
       "      <td>мин.св.вр., 1л., ед.ч.</td>\n",
       "    </tr>\n",
       "    <tr>\n",
       "      <th>4013110</th>\n",
       "      <td>oтъпквахме</td>\n",
       "      <td>False</td>\n",
       "      <td>0.0</td>\n",
       "      <td>мин.св.вр., 1л., мн.ч.</td>\n",
       "    </tr>\n",
       "    <tr>\n",
       "      <th>4013111</th>\n",
       "      <td>oтъпква</td>\n",
       "      <td>False</td>\n",
       "      <td>0.0</td>\n",
       "      <td>мин.св.вр., 2л., ед.ч.</td>\n",
       "    </tr>\n",
       "    <tr>\n",
       "      <th>4013112</th>\n",
       "      <td>oтъпквахте</td>\n",
       "      <td>False</td>\n",
       "      <td>0.0</td>\n",
       "      <td>мин.св.вр., 2л., мн.ч.</td>\n",
       "    </tr>\n",
       "  </tbody>\n",
       "</table>\n",
       "</div>"
      ],
      "text/plain": [
       "               word is_main  search_count             description\n",
       "4013103    oтъпквам    True           0.0     сег.вр., 1л., ед.ч.\n",
       "4013104   oтъпкваме   False           0.0     сег.вр., 1л., мн.ч.\n",
       "4013105    oтъпкваш   False           0.0     сег.вр., 2л., ед.ч.\n",
       "4013106   oтъпквате   False           0.0     сег.вр., 2л., мн.ч.\n",
       "4013107     oтъпква   False           0.0     сег.вр., 3л., ед.ч.\n",
       "4013108    oтъпкват   False           0.0     сег.вр., 3л., мн.ч.\n",
       "4013109    oтъпквах   False           0.0  мин.св.вр., 1л., ед.ч.\n",
       "4013110  oтъпквахме   False           0.0  мин.св.вр., 1л., мн.ч.\n",
       "4013111     oтъпква   False           0.0  мин.св.вр., 2л., ед.ч.\n",
       "4013112  oтъпквахте   False           0.0  мин.св.вр., 2л., мн.ч."
      ]
     },
     "execution_count": 23,
     "metadata": {},
     "output_type": "execute_result"
    }
   ],
   "source": [
    "# Print words that contain latin symbols\n",
    "latin_words = words_df[words_df['word'].str.contains(r'[a-zA-Z]')]\n",
    "print(f\"Number of words containing latin symbols: {len(latin_words):,}\")\n",
    "latin_words.head(10)"
   ]
  },
  {
   "cell_type": "markdown",
   "id": "a9edaf53",
   "metadata": {},
   "source": [
    "Hmm, interesting. Probably during insertion someone typed `o` instead of `о`. Let's see."
   ]
  },
  {
   "cell_type": "code",
   "execution_count": 24,
   "id": "09226168",
   "metadata": {},
   "outputs": [
    {
     "name": "stdout",
     "output_type": "stream",
     "text": [
      "oтъпквам\n",
      "b'o\\xd1\\x82\\xd1\\x8a\\xd0\\xbf\\xd0\\xba\\xd0\\xb2\\xd0\\xb0\\xd0\\xbc'\n"
     ]
    }
   ],
   "source": [
    "latin_word = words_df[words_df.index == 4013103]['word'].values[0]\n",
    "print(latin_word)\n",
    "print(latin_word.encode('utf-8'))"
   ]
  },
  {
   "cell_type": "markdown",
   "id": "0fd61212",
   "metadata": {},
   "source": [
    "As we thought. Someone mistakenly typed the latin `o` instead of the cyrillic one. Let's fix it."
   ]
  },
  {
   "cell_type": "code",
   "execution_count": 25,
   "id": "658047da",
   "metadata": {},
   "outputs": [
    {
     "name": "stdout",
     "output_type": "stream",
     "text": [
      "Number of words with latin symbols: 0\n"
     ]
    }
   ],
   "source": [
    "# Replace latin `o` with cyrillic `о`\n",
    "words_df[\"word\"] = words_df[\"word\"].str.replace(\"o\", \"о\")\n",
    "# Check again for latin symbols\n",
    "print(f\"Number of words with latin symbols: {len(words_df[words_df['word'].str.contains(r'[a-zA-Z]')]):,}\")"
   ]
  },
  {
   "cell_type": "markdown",
   "id": "e7b10210",
   "metadata": {},
   "source": [
    "Yup, no latin symbols anymore. How about punctuation?\n",
    "\n",
    "## 14. Remove punctuation & digits"
   ]
  },
  {
   "cell_type": "code",
   "execution_count": 26,
   "id": "a2786728",
   "metadata": {},
   "outputs": [
    {
     "data": {
      "text/html": [
       "<div>\n",
       "<style scoped>\n",
       "    .dataframe tbody tr th:only-of-type {\n",
       "        vertical-align: middle;\n",
       "    }\n",
       "\n",
       "    .dataframe tbody tr th {\n",
       "        vertical-align: top;\n",
       "    }\n",
       "\n",
       "    .dataframe thead th {\n",
       "        text-align: right;\n",
       "    }\n",
       "</style>\n",
       "<table border=\"1\" class=\"dataframe\">\n",
       "  <thead>\n",
       "    <tr style=\"text-align: right;\">\n",
       "      <th></th>\n",
       "      <th>word</th>\n",
       "      <th>is_main</th>\n",
       "      <th>search_count</th>\n",
       "      <th>description</th>\n",
       "    </tr>\n",
       "  </thead>\n",
       "  <tbody>\n",
       "    <tr>\n",
       "      <th>134</th>\n",
       "      <td>зам.</td>\n",
       "      <td>NaN</td>\n",
       "      <td>NaN</td>\n",
       "      <td>NaN</td>\n",
       "    </tr>\n",
       "  </tbody>\n",
       "</table>\n",
       "</div>"
      ],
      "text/plain": [
       "     word is_main  search_count description\n",
       "134  зам.     NaN           NaN         NaN"
      ]
     },
     "execution_count": 26,
     "metadata": {},
     "output_type": "execute_result"
    }
   ],
   "source": [
    "# Is there words with anything different than letters?\n",
    "words_df[words_df['word'].str.contains(r'[^\\w]')]"
   ]
  },
  {
   "cell_type": "code",
   "execution_count": 27,
   "id": "8662b72e",
   "metadata": {},
   "outputs": [
    {
     "name": "stdout",
     "output_type": "stream",
     "text": [
      "Total words count (after removing punctuation & digits): 1,449,616\n"
     ]
    }
   ],
   "source": [
    "# Remove that word containing punctuation or digits\n",
    "words_df = words_df[~words_df['word'].str.contains(r'[^\\w]')]\n",
    "print(f\"Total words count (after removing punctuation & digits): {len(words_df):,}\")"
   ]
  },
  {
   "cell_type": "markdown",
   "id": "d0a15ad0",
   "metadata": {},
   "source": [
    "## 15. Length distribution\n",
    "\n",
    "Now let's check the length distribution again."
   ]
  },
  {
   "cell_type": "code",
   "execution_count": 28,
   "id": "c811f1e2",
   "metadata": {},
   "outputs": [
    {
     "data": {
      "image/png": "[encoded data removed]",
      "text/plain": [
       "<Figure size 640x480 with 1 Axes>"
      ]
     },
     "metadata": {},
     "output_type": "display_data"
    }
   ],
   "source": [
    "plot_word_lengths(words_df)"
   ]
  },
  {
   "cell_type": "code",
   "execution_count": 29,
   "id": "1c83ba16",
   "metadata": {},
   "outputs": [
    {
     "name": "stdout",
     "output_type": "stream",
     "text": [
      "Number of 40-letter words: 8\n"
     ]
    },
    {
     "data": {
      "text/html": [
       "<div>\n",
       "<style scoped>\n",
       "    .dataframe tbody tr th:only-of-type {\n",
       "        vertical-align: middle;\n",
       "    }\n",
       "\n",
       "    .dataframe tbody tr th {\n",
       "        vertical-align: top;\n",
       "    }\n",
       "\n",
       "    .dataframe thead th {\n",
       "        text-align: right;\n",
       "    }\n",
       "</style>\n",
       "<table border=\"1\" class=\"dataframe\">\n",
       "  <thead>\n",
       "    <tr style=\"text-align: right;\">\n",
       "      <th></th>\n",
       "      <th>word</th>\n",
       "      <th>is_main</th>\n",
       "      <th>search_count</th>\n",
       "      <th>description</th>\n",
       "    </tr>\n",
       "  </thead>\n",
       "  <tbody>\n",
       "    <tr>\n",
       "      <th>687530</th>\n",
       "      <td>непротивоконституционствувателствувалият</td>\n",
       "      <td>False</td>\n",
       "      <td>3.0</td>\n",
       "      <td>мин.деят.св.прич. м.р. пълен член</td>\n",
       "    </tr>\n",
       "    <tr>\n",
       "      <th>687532</th>\n",
       "      <td>непротивоконституционствувателствувалата</td>\n",
       "      <td>False</td>\n",
       "      <td>3.0</td>\n",
       "      <td>мин.деят.св.прич. ж.р. членувано</td>\n",
       "    </tr>\n",
       "    <tr>\n",
       "      <th>687534</th>\n",
       "      <td>непротивоконституционствувателствувалото</td>\n",
       "      <td>False</td>\n",
       "      <td>3.0</td>\n",
       "      <td>мин.деят.св.прич. ср.р. членувано</td>\n",
       "    </tr>\n",
       "    <tr>\n",
       "      <th>687536</th>\n",
       "      <td>непротивоконституционствувателствувалите</td>\n",
       "      <td>False</td>\n",
       "      <td>3.0</td>\n",
       "      <td>мин.деят.св.прич. мн.ч. членувано</td>\n",
       "    </tr>\n",
       "    <tr>\n",
       "      <th>687543</th>\n",
       "      <td>непротивоконституционствувателствуващият</td>\n",
       "      <td>False</td>\n",
       "      <td>2.0</td>\n",
       "      <td>сег.деят.прич. м.р. пълен член</td>\n",
       "    </tr>\n",
       "  </tbody>\n",
       "</table>\n",
       "</div>"
      ],
      "text/plain": [
       "                                            word is_main  search_count  \\\n",
       "687530  непротивоконституционствувателствувалият   False           3.0   \n",
       "687532  непротивоконституционствувателствувалата   False           3.0   \n",
       "687534  непротивоконституционствувателствувалото   False           3.0   \n",
       "687536  непротивоконституционствувателствувалите   False           3.0   \n",
       "687543  непротивоконституционствувателствуващият   False           2.0   \n",
       "\n",
       "                              description  \n",
       "687530  мин.деят.св.прич. м.р. пълен член  \n",
       "687532   мин.деят.св.прич. ж.р. членувано  \n",
       "687534  мин.деят.св.прич. ср.р. членувано  \n",
       "687536  мин.деят.св.прич. мн.ч. членувано  \n",
       "687543     сег.деят.прич. м.р. пълен член  "
      ]
     },
     "execution_count": 29,
     "metadata": {},
     "output_type": "execute_result"
    }
   ],
   "source": [
    "# Print the longest words\n",
    "fourty_letter_words = words_df[words_df['word'].str.len() == 40]\n",
    "print(f\"Number of 40-letter words: {len(fourty_letter_words):,}\")\n",
    "fourty_letter_words.head()"
   ]
  },
  {
   "cell_type": "code",
   "execution_count": 30,
   "id": "d86af18b",
   "metadata": {},
   "outputs": [
    {
     "name": "stdout",
     "output_type": "stream",
     "text": [
      "Number of 30+ letter words: 51\n"
     ]
    },
    {
     "data": {
      "text/html": [
       "<div>\n",
       "<style scoped>\n",
       "    .dataframe tbody tr th:only-of-type {\n",
       "        vertical-align: middle;\n",
       "    }\n",
       "\n",
       "    .dataframe tbody tr th {\n",
       "        vertical-align: top;\n",
       "    }\n",
       "\n",
       "    .dataframe thead th {\n",
       "        text-align: right;\n",
       "    }\n",
       "</style>\n",
       "<table border=\"1\" class=\"dataframe\">\n",
       "  <thead>\n",
       "    <tr style=\"text-align: right;\">\n",
       "      <th></th>\n",
       "      <th>word</th>\n",
       "      <th>is_main</th>\n",
       "      <th>search_count</th>\n",
       "      <th>description</th>\n",
       "    </tr>\n",
       "  </thead>\n",
       "  <tbody>\n",
       "    <tr>\n",
       "      <th>687356</th>\n",
       "      <td>непротивоконституционствувателствувам</td>\n",
       "      <td>True</td>\n",
       "      <td>0.0</td>\n",
       "      <td>сег.вр., 1л., ед.ч.</td>\n",
       "    </tr>\n",
       "    <tr>\n",
       "      <th>687357</th>\n",
       "      <td>непротивоконституционствувателствуваме</td>\n",
       "      <td>False</td>\n",
       "      <td>2.0</td>\n",
       "      <td>сег.вр., 1л., мн.ч.</td>\n",
       "    </tr>\n",
       "    <tr>\n",
       "      <th>687358</th>\n",
       "      <td>непротивоконституционствувателствуваш</td>\n",
       "      <td>False</td>\n",
       "      <td>2.0</td>\n",
       "      <td>сег.вр., 2л., ед.ч.</td>\n",
       "    </tr>\n",
       "    <tr>\n",
       "      <th>687359</th>\n",
       "      <td>непротивоконституционствувателствувате</td>\n",
       "      <td>False</td>\n",
       "      <td>3.0</td>\n",
       "      <td>сег.вр., 2л., мн.ч.</td>\n",
       "    </tr>\n",
       "    <tr>\n",
       "      <th>687360</th>\n",
       "      <td>непротивоконституционствувателствува</td>\n",
       "      <td>False</td>\n",
       "      <td>5.0</td>\n",
       "      <td>сег.вр., 3л., ед.ч.</td>\n",
       "    </tr>\n",
       "    <tr>\n",
       "      <th>687361</th>\n",
       "      <td>непротивоконституционствувателствуват</td>\n",
       "      <td>False</td>\n",
       "      <td>2.0</td>\n",
       "      <td>сег.вр., 3л., мн.ч.</td>\n",
       "    </tr>\n",
       "    <tr>\n",
       "      <th>687362</th>\n",
       "      <td>непротивоконституционствувателствувах</td>\n",
       "      <td>False</td>\n",
       "      <td>4.0</td>\n",
       "      <td>мин.св.вр., 1л., ед.ч.</td>\n",
       "    </tr>\n",
       "    <tr>\n",
       "      <th>687363</th>\n",
       "      <td>непротивоконституционствувателствувахме</td>\n",
       "      <td>False</td>\n",
       "      <td>3.0</td>\n",
       "      <td>мин.св.вр., 1л., мн.ч.</td>\n",
       "    </tr>\n",
       "    <tr>\n",
       "      <th>687364</th>\n",
       "      <td>непротивоконституционствувателствува</td>\n",
       "      <td>False</td>\n",
       "      <td>0.0</td>\n",
       "      <td>мин.св.вр., 2л., ед.ч.</td>\n",
       "    </tr>\n",
       "    <tr>\n",
       "      <th>687365</th>\n",
       "      <td>непротивоконституционствувателствувахте</td>\n",
       "      <td>False</td>\n",
       "      <td>3.0</td>\n",
       "      <td>мин.св.вр., 2л., мн.ч.</td>\n",
       "    </tr>\n",
       "  </tbody>\n",
       "</table>\n",
       "</div>"
      ],
      "text/plain": [
       "                                           word is_main  search_count  \\\n",
       "687356    непротивоконституционствувателствувам    True           0.0   \n",
       "687357   непротивоконституционствувателствуваме   False           2.0   \n",
       "687358    непротивоконституционствувателствуваш   False           2.0   \n",
       "687359   непротивоконституционствувателствувате   False           3.0   \n",
       "687360     непротивоконституционствувателствува   False           5.0   \n",
       "687361    непротивоконституционствувателствуват   False           2.0   \n",
       "687362    непротивоконституционствувателствувах   False           4.0   \n",
       "687363  непротивоконституционствувателствувахме   False           3.0   \n",
       "687364     непротивоконституционствувателствува   False           0.0   \n",
       "687365  непротивоконституционствувателствувахте   False           3.0   \n",
       "\n",
       "                   description  \n",
       "687356     сег.вр., 1л., ед.ч.  \n",
       "687357     сег.вр., 1л., мн.ч.  \n",
       "687358     сег.вр., 2л., ед.ч.  \n",
       "687359     сег.вр., 2л., мн.ч.  \n",
       "687360     сег.вр., 3л., ед.ч.  \n",
       "687361     сег.вр., 3л., мн.ч.  \n",
       "687362  мин.св.вр., 1л., ед.ч.  \n",
       "687363  мин.св.вр., 1л., мн.ч.  \n",
       "687364  мин.св.вр., 2л., ед.ч.  \n",
       "687365  мин.св.вр., 2л., мн.ч.  "
      ]
     },
     "execution_count": 30,
     "metadata": {},
     "output_type": "execute_result"
    }
   ],
   "source": [
    "# Print the longest words\n",
    "thirty_plus_letter_words = words_df[words_df['word'].str.len() >= 30]\n",
    "print(f\"Number of 30+ letter words: {len(thirty_plus_letter_words):,}\")\n",
    "thirty_plus_letter_words.head(10)"
   ]
  },
  {
   "cell_type": "code",
   "execution_count": 31,
   "id": "b007fff7",
   "metadata": {},
   "outputs": [
    {
     "name": "stdout",
     "output_type": "stream",
     "text": [
      "Number of 25-29 letter words: 594\n"
     ]
    },
    {
     "data": {
      "text/html": [
       "<div>\n",
       "<style scoped>\n",
       "    .dataframe tbody tr th:only-of-type {\n",
       "        vertical-align: middle;\n",
       "    }\n",
       "\n",
       "    .dataframe tbody tr th {\n",
       "        vertical-align: top;\n",
       "    }\n",
       "\n",
       "    .dataframe thead th {\n",
       "        text-align: right;\n",
       "    }\n",
       "</style>\n",
       "<table border=\"1\" class=\"dataframe\">\n",
       "  <thead>\n",
       "    <tr style=\"text-align: right;\">\n",
       "      <th></th>\n",
       "      <th>word</th>\n",
       "      <th>is_main</th>\n",
       "      <th>search_count</th>\n",
       "      <th>description</th>\n",
       "    </tr>\n",
       "  </thead>\n",
       "  <tbody>\n",
       "    <tr>\n",
       "      <th>290788</th>\n",
       "      <td>дванадесетмегапикселовото</td>\n",
       "      <td>False</td>\n",
       "      <td>7.0</td>\n",
       "      <td>ср.р. членувано</td>\n",
       "    </tr>\n",
       "    <tr>\n",
       "      <th>106776</th>\n",
       "      <td>четиристотинмегапикселния</td>\n",
       "      <td>False</td>\n",
       "      <td>5.0</td>\n",
       "      <td>м.р. непълен член</td>\n",
       "    </tr>\n",
       "    <tr>\n",
       "      <th>354625</th>\n",
       "      <td>седемнадесетнанометровото</td>\n",
       "      <td>False</td>\n",
       "      <td>3.0</td>\n",
       "      <td>ср.р. членувано</td>\n",
       "    </tr>\n",
       "    <tr>\n",
       "      <th>372764</th>\n",
       "      <td>четиридесетмегапикселовия</td>\n",
       "      <td>False</td>\n",
       "      <td>2.0</td>\n",
       "      <td>м.р. непълен член</td>\n",
       "    </tr>\n",
       "    <tr>\n",
       "      <th>294750</th>\n",
       "      <td>деветнадесеткилометровите</td>\n",
       "      <td>False</td>\n",
       "      <td>4.0</td>\n",
       "      <td>мн.ч. членувано</td>\n",
       "    </tr>\n",
       "    <tr>\n",
       "      <th>375512</th>\n",
       "      <td>четиристотинмегахерцовата</td>\n",
       "      <td>False</td>\n",
       "      <td>4.0</td>\n",
       "      <td>ж.р. членувано</td>\n",
       "    </tr>\n",
       "    <tr>\n",
       "      <th>374520</th>\n",
       "      <td>четиринайсетгигабайтовият</td>\n",
       "      <td>False</td>\n",
       "      <td>1.0</td>\n",
       "      <td>м.р. пълен член</td>\n",
       "    </tr>\n",
       "    <tr>\n",
       "      <th>280017</th>\n",
       "      <td>шестнайсетинафиналистчета</td>\n",
       "      <td>False</td>\n",
       "      <td>2.0</td>\n",
       "      <td>мн.ч.</td>\n",
       "    </tr>\n",
       "    <tr>\n",
       "      <th>374214</th>\n",
       "      <td>четиринадесетнанометровият</td>\n",
       "      <td>False</td>\n",
       "      <td>1.0</td>\n",
       "      <td>м.р. пълен член</td>\n",
       "    </tr>\n",
       "    <tr>\n",
       "      <th>60237</th>\n",
       "      <td>общественопроизводителния</td>\n",
       "      <td>False</td>\n",
       "      <td>8.0</td>\n",
       "      <td>м.р. непълен член</td>\n",
       "    </tr>\n",
       "  </tbody>\n",
       "</table>\n",
       "</div>"
      ],
      "text/plain": [
       "                              word is_main  search_count        description\n",
       "290788   дванадесетмегапикселовото   False           7.0    ср.р. членувано\n",
       "106776   четиристотинмегапикселния   False           5.0  м.р. непълен член\n",
       "354625   седемнадесетнанометровото   False           3.0    ср.р. членувано\n",
       "372764   четиридесетмегапикселовия   False           2.0  м.р. непълен член\n",
       "294750   деветнадесеткилометровите   False           4.0    мн.ч. членувано\n",
       "375512   четиристотинмегахерцовата   False           4.0     ж.р. членувано\n",
       "374520   четиринайсетгигабайтовият   False           1.0    м.р. пълен член\n",
       "280017   шестнайсетинафиналистчета   False           2.0              мн.ч.\n",
       "374214  четиринадесетнанометровият   False           1.0    м.р. пълен член\n",
       "60237    общественопроизводителния   False           8.0  м.р. непълен член"
      ]
     },
     "execution_count": 31,
     "metadata": {},
     "output_type": "execute_result"
    }
   ],
   "source": [
    "# Print the longest words\n",
    "twenty_five_plus_letter_words = words_df[(words_df['word'].str.len() >= 25) & (words_df['word'].str.len() < 30)]\n",
    "print(f\"Number of 25-29 letter words: {len(twenty_five_plus_letter_words):,}\")\n",
    "twenty_five_plus_letter_words.sample(10)"
   ]
  },
  {
   "cell_type": "code",
   "execution_count": 32,
   "id": "0944682c",
   "metadata": {},
   "outputs": [
    {
     "name": "stdout",
     "output_type": "stream",
     "text": [
      "Number of 21-24 letter words: 9,750\n"
     ]
    },
    {
     "data": {
      "text/html": [
       "<div>\n",
       "<style scoped>\n",
       "    .dataframe tbody tr th:only-of-type {\n",
       "        vertical-align: middle;\n",
       "    }\n",
       "\n",
       "    .dataframe tbody tr th {\n",
       "        vertical-align: top;\n",
       "    }\n",
       "\n",
       "    .dataframe thead th {\n",
       "        text-align: right;\n",
       "    }\n",
       "</style>\n",
       "<table border=\"1\" class=\"dataframe\">\n",
       "  <thead>\n",
       "    <tr style=\"text-align: right;\">\n",
       "      <th></th>\n",
       "      <th>word</th>\n",
       "      <th>is_main</th>\n",
       "      <th>search_count</th>\n",
       "      <th>description</th>\n",
       "    </tr>\n",
       "  </thead>\n",
       "  <tbody>\n",
       "    <tr>\n",
       "      <th>106749</th>\n",
       "      <td>четиристотинкомпонентния</td>\n",
       "      <td>False</td>\n",
       "      <td>5.0</td>\n",
       "      <td>м.р. непълен член</td>\n",
       "    </tr>\n",
       "    <tr>\n",
       "      <th>294570</th>\n",
       "      <td>деветнадесетгалоновите</td>\n",
       "      <td>False</td>\n",
       "      <td>4.0</td>\n",
       "      <td>мн.ч. членувано</td>\n",
       "    </tr>\n",
       "    <tr>\n",
       "      <th>341226</th>\n",
       "      <td>петнайсетмегапикселовите</td>\n",
       "      <td>False</td>\n",
       "      <td>6.0</td>\n",
       "      <td>мн.ч. членувано</td>\n",
       "    </tr>\n",
       "    <tr>\n",
       "      <th>90937</th>\n",
       "      <td>суперразузнавателният</td>\n",
       "      <td>False</td>\n",
       "      <td>4.0</td>\n",
       "      <td>м.р. пълен член</td>\n",
       "    </tr>\n",
       "    <tr>\n",
       "      <th>2018070</th>\n",
       "      <td>самоусъвършенствувана</td>\n",
       "      <td>False</td>\n",
       "      <td>0.0</td>\n",
       "      <td>мин.страд.прич. ж.р.</td>\n",
       "    </tr>\n",
       "    <tr>\n",
       "      <th>373441</th>\n",
       "      <td>четирийсетмилилитрова</td>\n",
       "      <td>False</td>\n",
       "      <td>4.0</td>\n",
       "      <td>ж.р.</td>\n",
       "    </tr>\n",
       "    <tr>\n",
       "      <th>356038</th>\n",
       "      <td>седемстотинфранковото</td>\n",
       "      <td>False</td>\n",
       "      <td>4.0</td>\n",
       "      <td>ср.р. членувано</td>\n",
       "    </tr>\n",
       "    <tr>\n",
       "      <th>27274</th>\n",
       "      <td>деветстотинкомпонентно</td>\n",
       "      <td>False</td>\n",
       "      <td>4.0</td>\n",
       "      <td>ср.р.</td>\n",
       "    </tr>\n",
       "    <tr>\n",
       "      <th>353855</th>\n",
       "      <td>седемдесеттерабитовия</td>\n",
       "      <td>False</td>\n",
       "      <td>2.0</td>\n",
       "      <td>м.р. непълен член</td>\n",
       "    </tr>\n",
       "    <tr>\n",
       "      <th>379193</th>\n",
       "      <td>шестнайсетмегаватовата</td>\n",
       "      <td>False</td>\n",
       "      <td>3.0</td>\n",
       "      <td>ж.р. членувано</td>\n",
       "    </tr>\n",
       "  </tbody>\n",
       "</table>\n",
       "</div>"
      ],
      "text/plain": [
       "                             word is_main  search_count           description\n",
       "106749   четиристотинкомпонентния   False           5.0     м.р. непълен член\n",
       "294570     деветнадесетгалоновите   False           4.0       мн.ч. членувано\n",
       "341226   петнайсетмегапикселовите   False           6.0       мн.ч. членувано\n",
       "90937       суперразузнавателният   False           4.0       м.р. пълен член\n",
       "2018070     самоусъвършенствувана   False           0.0  мин.страд.прич. ж.р.\n",
       "373441      четирийсетмилилитрова   False           4.0                  ж.р.\n",
       "356038      седемстотинфранковото   False           4.0       ср.р. членувано\n",
       "27274      деветстотинкомпонентно   False           4.0                 ср.р.\n",
       "353855      седемдесеттерабитовия   False           2.0     м.р. непълен член\n",
       "379193     шестнайсетмегаватовата   False           3.0        ж.р. членувано"
      ]
     },
     "execution_count": 32,
     "metadata": {},
     "output_type": "execute_result"
    }
   ],
   "source": [
    "# Print the longest words\n",
    "twenty_one_plus_letter_words = words_df[(words_df['word'].str.len() >= 21) & (words_df['word'].str.len() < 25)]\n",
    "print(f\"Number of 21-24 letter words: {len(twenty_one_plus_letter_words):,}\")\n",
    "twenty_one_plus_letter_words.sample(10)"
   ]
  },
  {
   "cell_type": "markdown",
   "id": "5a7f890d",
   "metadata": {},
   "source": [
    "## 16. Remove duplicates\n",
    "Yes, `син` and `син` could mean different things (e.g. noun and adjective). And these would be needed for the POS tagging dataset, but current goal is to extract a flat list of words, so we don't need these duplicates."
   ]
  },
  {
   "cell_type": "code",
   "execution_count": 33,
   "id": "60c18111",
   "metadata": {},
   "outputs": [
    {
     "name": "stdout",
     "output_type": "stream",
     "text": [
      "Total words count (after removing duplicates): 1,112,236\n"
     ]
    }
   ],
   "source": [
    "# Remove duplicated words\n",
    "words_df = words_df.drop_duplicates(subset=['word'])\n",
    "print(f\"Total words count (after removing duplicates): {len(words_df):,}\")"
   ]
  },
  {
   "cell_type": "markdown",
   "id": "db0968ff",
   "metadata": {},
   "source": [
    "## 17. Dump to file\n",
    "\n",
    "We have `1 112 236` unique valid Bulgarian words. Let's dump this vocabulary to file."
   ]
  },
  {
   "cell_type": "code",
   "execution_count": 34,
   "id": "5cfcefce",
   "metadata": {},
   "outputs": [
    {
     "name": "stdout",
     "output_type": "stream",
     "text": [
      "Number of words written to file: 1,112,236\n"
     ]
    }
   ],
   "source": [
    "# Sort and dump the first column of the words_df\n",
    "words = words_df['word'].sort_values().tolist()\n",
    "with open('data/words.txt', 'w', encoding='windows-1251') as f:\n",
    "    for word in words:\n",
    "        f.write(word + '\\n')\n",
    "\n",
    "# Convert to gzip\n",
    "with open('data/words.txt', 'rb') as f_in:\n",
    "    with gzip.open('data/words.txt.gz', 'wb') as f_out:\n",
    "        f_out.writelines(f_in)\n",
    "# Remove the original file\n",
    "os.remove('data/words.txt')\n",
    "\n",
    "print(f\"Number of words written to file: {len(words):,}\")"
   ]
  }
 ],
 "metadata": {
  "kernelspec": {
   "display_name": "Python 3",
   "language": "python",
   "name": "python3"
  },
  "language_info": {
   "codemirror_mode": {
    "name": "ipython",
    "version": 3
   },
   "file_extension": ".py",
   "mimetype": "text/x-python",
   "name": "python",
   "nbconvert_exporter": "python",
   "pygments_lexer": "ipython3",
   "version": "3.12.10"
  }
 },
 "nbformat": 4,
 "nbformat_minor": 5
}
