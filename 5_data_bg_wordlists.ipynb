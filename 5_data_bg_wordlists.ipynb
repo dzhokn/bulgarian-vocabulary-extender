{
 "cells": [
  {
   "cell_type": "code",
   "execution_count": 1,
   "id": "4e977cf4",
   "metadata": {},
   "outputs": [],
   "source": [
    "import os\n",
    "import gzip\n",
    "import pandas as pd\n",
    "import matplotlib.pyplot as plt"
   ]
  },
  {
   "cell_type": "markdown",
   "id": "8d19e351",
   "metadata": {},
   "source": [
    "## 1. Load data\n",
    "\n",
    "* **Source**: [BG WordLists](https://github.com/miglen/bulgarian-wordlists)"
   ]
  },
  {
   "cell_type": "code",
   "execution_count": 2,
   "id": "41e0f658",
   "metadata": {},
   "outputs": [
    {
     "name": "stdout",
     "output_type": "stream",
     "text": [
      "Total words count: 234,114\n"
     ]
    },
    {
     "data": {
      "text/html": [
       "<div>\n",
       "<style scoped>\n",
       "    .dataframe tbody tr th:only-of-type {\n",
       "        vertical-align: middle;\n",
       "    }\n",
       "\n",
       "    .dataframe tbody tr th {\n",
       "        vertical-align: top;\n",
       "    }\n",
       "\n",
       "    .dataframe thead th {\n",
       "        text-align: right;\n",
       "    }\n",
       "</style>\n",
       "<table border=\"1\" class=\"dataframe\">\n",
       "  <thead>\n",
       "    <tr style=\"text-align: right;\">\n",
       "      <th></th>\n",
       "      <th>word</th>\n",
       "    </tr>\n",
       "    <tr>\n",
       "      <th>id</th>\n",
       "      <th></th>\n",
       "    </tr>\n",
       "  </thead>\n",
       "  <tbody>\n",
       "    <tr>\n",
       "      <th>0</th>\n",
       "      <td>ай</td>\n",
       "    </tr>\n",
       "    <tr>\n",
       "      <th>1</th>\n",
       "      <td>аз</td>\n",
       "    </tr>\n",
       "    <tr>\n",
       "      <th>2</th>\n",
       "      <td>ад</td>\n",
       "    </tr>\n",
       "    <tr>\n",
       "      <th>3</th>\n",
       "      <td>ал</td>\n",
       "    </tr>\n",
       "    <tr>\n",
       "      <th>4</th>\n",
       "      <td>ар</td>\n",
       "    </tr>\n",
       "    <tr>\n",
       "      <th>5</th>\n",
       "      <td>ат</td>\n",
       "    </tr>\n",
       "    <tr>\n",
       "      <th>6</th>\n",
       "      <td>ас</td>\n",
       "    </tr>\n",
       "    <tr>\n",
       "      <th>7</th>\n",
       "      <td>ах</td>\n",
       "    </tr>\n",
       "    <tr>\n",
       "      <th>8</th>\n",
       "      <td>ба</td>\n",
       "    </tr>\n",
       "    <tr>\n",
       "      <th>9</th>\n",
       "      <td>би</td>\n",
       "    </tr>\n",
       "  </tbody>\n",
       "</table>\n",
       "</div>"
      ],
      "text/plain": [
       "   word\n",
       "id     \n",
       "0    ай\n",
       "1    аз\n",
       "2    ад\n",
       "3    ал\n",
       "4    ар\n",
       "5    ат\n",
       "6    ас\n",
       "7    ах\n",
       "8    ба\n",
       "9    би"
      ]
     },
     "execution_count": 2,
     "metadata": {},
     "output_type": "execute_result"
    }
   ],
   "source": [
    "# Read the csv file in the gzip archive\n",
    "words_df = pd.read_csv('data/4_bg_wordlists.txt.gz', encoding='windows-1251', sep='\\t', compression='gzip', header=None, names=['word'])\n",
    "words_df.index.name = 'id'\n",
    "print(f\"Total words count: {len(words_df):,}\")\n",
    "words_df.head(10)"
   ]
  },
  {
   "cell_type": "markdown",
   "id": "73659820",
   "metadata": {},
   "source": [
    "## 2. Remove spaced words"
   ]
  },
  {
   "cell_type": "code",
   "execution_count": 3,
   "id": "565c8b93",
   "metadata": {},
   "outputs": [
    {
     "name": "stdout",
     "output_type": "stream",
     "text": [
      "Number of spaced words: 0\n"
     ]
    }
   ],
   "source": [
    "spaced_words = words_df[words_df['word'].str.contains(\" \")]\n",
    "print(f\"Number of spaced words: {len(spaced_words):,}\")"
   ]
  },
  {
   "cell_type": "markdown",
   "id": "f8be460c",
   "metadata": {},
   "source": [
    "## 3. Remove dashed words"
   ]
  },
  {
   "cell_type": "code",
   "execution_count": 4,
   "id": "13597238",
   "metadata": {},
   "outputs": [
    {
     "name": "stdout",
     "output_type": "stream",
     "text": [
      "Number of dashed words: 120\n"
     ]
    }
   ],
   "source": [
    "dashed_words = words_df[words_df['word'].str.contains(\"-\")]\n",
    "print(f\"Number of dashed words: {len(dashed_words):,}\")"
   ]
  },
  {
   "cell_type": "code",
   "execution_count": 5,
   "id": "893c093e",
   "metadata": {},
   "outputs": [
    {
     "name": "stdout",
     "output_type": "stream",
     "text": [
      "Total words count (after dashed words removal): 233,994\n"
     ]
    }
   ],
   "source": [
    "# Remove words with spaces\n",
    "words_df = words_df[~words_df['word'].str.contains(\"-\")]\n",
    "print(f\"Total words count (after dashed words removal): {len(words_df):,}\")"
   ]
  },
  {
   "cell_type": "markdown",
   "id": "5ebccfed",
   "metadata": {},
   "source": [
    "Add dashed-word parts as new words in the dataset."
   ]
  },
  {
   "cell_type": "code",
   "execution_count": 6,
   "id": "bd12b325",
   "metadata": {},
   "outputs": [
    {
     "name": "stdout",
     "output_type": "stream",
     "text": [
      "Number of unique parts: 210\n",
      "['суровинен', 'санитарно', 'политически', 'помощник', 'храм', 'студентка', 'следствен', 'продажба', 'фризьорски', 'касиер', 'брилянт', 'жълто', 'парк', 'розово', 'причинно', 'заместник', 'икономически', 'етичен', 'природо', 'гръцки', 'българско', 'черно', 'психо', 'възпитателен', 'частица', 'година', 'изпълнител', 'що', 'пренос', 'пощенски']\n"
     ]
    }
   ],
   "source": [
    "# Split the words into parts and keep them as a set.\n",
    "dashed_words_parts = dashed_words['word'].str.split(\"-\")\n",
    "# Flatten the list and convert to set (no duplicates)\n",
    "dashed_words_parts = set([part for parts in dashed_words_parts for part in parts])\n",
    "# Print the number of unique parts\n",
    "print(f\"Number of unique parts: {len(dashed_words_parts):,}\")\n",
    "# Print the parts\n",
    "print(list(dashed_words_parts)[:30])"
   ]
  },
  {
   "cell_type": "code",
   "execution_count": 7,
   "id": "997b2d32",
   "metadata": {},
   "outputs": [
    {
     "name": "stdout",
     "output_type": "stream",
     "text": [
      "Number of missing parts: 22\n",
      "['бръснаро', 'българо', 'газо', 'зидаро', 'историко', 'капсул', 'кирило', 'лирико', 'литературан', 'лозаро', 'мениджърски', 'методиевски', 'паричност', 'паров', 'покупко', 'пощенец', 'природо', 'телеграфо', 'товаро', 'физико', 'фолкфест', 'химико']\n"
     ]
    }
   ],
   "source": [
    "# Identify missing words, that could be added to the words_df set\n",
    "words_set = set(words_df['word'].values)\n",
    "dashed_parts_diff = set(dashed_words_parts) - words_set\n",
    "print(f\"Number of missing parts: {len(dashed_parts_diff):,}\")\n",
    "print(sorted(dashed_parts_diff))"
   ]
  },
  {
   "cell_type": "markdown",
   "id": "871314d6",
   "metadata": {},
   "source": [
    "There are few invalid Bulgarian words, that we'll ignore (`кирило`, `методиевски`, `литературан` ...)"
   ]
  },
  {
   "cell_type": "code",
   "execution_count": 8,
   "id": "64df06a8",
   "metadata": {},
   "outputs": [
    {
     "name": "stdout",
     "output_type": "stream",
     "text": [
      "Total words count (after inserting missing parts): 234,013\n"
     ]
    }
   ],
   "source": [
    "# Remove words that are not valid Bulgarian words\n",
    "dashed_parts_diff = set(dashed_parts_diff) - set(['кирило', 'методиевски', 'литературан'])\n",
    "# Insert the missing parts into the words_df\n",
    "words_df = pd.concat([words_df, pd.DataFrame({'word': list(dashed_parts_diff)})])\n",
    "# Print the new size\n",
    "print(f\"Total words count (after inserting missing parts): {len(words_df):,}\")"
   ]
  },
  {
   "cell_type": "markdown",
   "id": "af2b877e",
   "metadata": {},
   "source": [
    "## 4. Remove capitalized words (names)"
   ]
  },
  {
   "cell_type": "code",
   "execution_count": 9,
   "id": "52c56e96",
   "metadata": {},
   "outputs": [
    {
     "name": "stdout",
     "output_type": "stream",
     "text": [
      "Number of names: 0\n"
     ]
    }
   ],
   "source": [
    "# Extract all names that start with a capital letter\n",
    "names_df = words_df[words_df['word'].str.match(r'^[А-Я]')]\n",
    "print(f\"Number of names: {len(names_df):,}\")"
   ]
  },
  {
   "cell_type": "markdown",
   "id": "79fd7a14",
   "metadata": {},
   "source": [
    "* **OBSERVATION**: No names in the set. At least with capitalized first-letter. :)"
   ]
  },
  {
   "cell_type": "markdown",
   "id": "db1cd706",
   "metadata": {},
   "source": [
    "## 5. Check 1-letter words"
   ]
  },
  {
   "cell_type": "code",
   "execution_count": 10,
   "id": "8c45aa96",
   "metadata": {},
   "outputs": [
    {
     "name": "stdout",
     "output_type": "stream",
     "text": [
      "Number of one letter words: 0\n"
     ]
    }
   ],
   "source": [
    "# One letter words\n",
    "one_letter_words = words_df[words_df['word'].str.len() == 1]\n",
    "print(f\"Number of one letter words: {len(one_letter_words):,}\")"
   ]
  },
  {
   "cell_type": "markdown",
   "id": "4b5f654b",
   "metadata": {},
   "source": [
    "## 6. Check 2-letter words"
   ]
  },
  {
   "cell_type": "code",
   "execution_count": 11,
   "id": "662552cd",
   "metadata": {},
   "outputs": [
    {
     "name": "stdout",
     "output_type": "stream",
     "text": [
      "Number of two letter words: 88\n",
      "['ад', 'аз', 'ай', 'ал', 'ар', 'ас', 'ат', 'ах', 'ба', 'бе', 'би', 'ви', 'вя', 'ги', 'го', 'да', 'де', 'де', 'до', 'ду', 'еж', 'ей', 'ек', 'ел', 'ех', 'за', 'зя', 'из', 'им', 'ки', 'ла', 'ле', 'ли', 'ли', 'ля', 'ма', 'ме', 'ми', 'му', 'на', 'не', 'ни', 'но', 'ню', 'ой', 'ок', 'ос', 'от', 'ох', 'па', 'пи', 'по', 'пя', 'ри', 'ря', 'са', 'се', 'си', 'ся', 'та', 'те', 'ти', 'то', 'ту', 'тя', 'уж', 'ум', 'уф', 'ух', 'ха', 'хе', 'хи', 'хм', 'че', 'чу', 'ши', 'ща', 'ще', 'що', 'щя', 'юг', 'юз', 'яд', 'яж', 'яз', 'як', 'ял', 'ям']\n"
     ]
    }
   ],
   "source": [
    "# Two letter words\n",
    "two_letter_words = words_df[words_df['word'].str.len() == 2]\n",
    "print(f\"Number of two letter words: {len(two_letter_words):,}\")\n",
    "# Print all the 2-letter words\n",
    "print(sorted(two_letter_words['word'].tolist()))"
   ]
  },
  {
   "cell_type": "markdown",
   "id": "347f48b5",
   "metadata": {},
   "source": [
    "* **OBSERVATION**: Few words looked suspicious (e.g. `ал`, `ел`, `ле`), but IBS BAS dictionary confirmed they are valid words."
   ]
  },
  {
   "cell_type": "markdown",
   "id": "8f0a2a27",
   "metadata": {},
   "source": [
    "## 7. Remove Latin symbols"
   ]
  },
  {
   "cell_type": "code",
   "execution_count": 12,
   "id": "b1d1d23a",
   "metadata": {},
   "outputs": [
    {
     "name": "stdout",
     "output_type": "stream",
     "text": [
      "Number of words with latin symbols: 0\n"
     ]
    }
   ],
   "source": [
    "# Print words that contain latin symbols\n",
    "latin_words = words_df[words_df['word'].str.contains(r'[a-zA-Z]')]\n",
    "print(f\"Number of words with latin symbols: {len(latin_words):,}\")"
   ]
  },
  {
   "cell_type": "markdown",
   "id": "82bec8d7",
   "metadata": {},
   "source": [
    "* **OBSERVATION**: No latin symbols. That's cool!"
   ]
  },
  {
   "cell_type": "markdown",
   "id": "5c912138",
   "metadata": {},
   "source": [
    "## 8. Remove punctuation & digits"
   ]
  },
  {
   "cell_type": "code",
   "execution_count": 13,
   "id": "304762a0",
   "metadata": {},
   "outputs": [
    {
     "name": "stdout",
     "output_type": "stream",
     "text": [
      "Number of words with anything different than letters: 0\n"
     ]
    }
   ],
   "source": [
    "# Is there words with anything different than letters?\n",
    "print(f\"Number of words with anything different than letters: {words_df[words_df['word'].str.contains(r'[^\\w]')].shape[0]:,}\")"
   ]
  },
  {
   "cell_type": "markdown",
   "id": "a85e131d",
   "metadata": {},
   "source": [
    "* **OBSERVATION**: No punctuation and digits. That's great!"
   ]
  },
  {
   "cell_type": "markdown",
   "id": "f0fc3c5f",
   "metadata": {},
   "source": [
    "## 9. Remove duplicates"
   ]
  },
  {
   "cell_type": "code",
   "execution_count": 14,
   "id": "10d442eb",
   "metadata": {},
   "outputs": [
    {
     "name": "stdout",
     "output_type": "stream",
     "text": [
      "Duplicated words: ['де', 'ли']\n",
      "Total words count (after removing duplicates): 234,011\n"
     ]
    }
   ],
   "source": [
    "# Print duplicated words\n",
    "duplicates_df = words_df[words_df.word.duplicated()]\n",
    "print(f\"Duplicated words: {duplicates_df.word.tolist()}\")\n",
    "# Remove duplicates\n",
    "words_df = words_df.drop_duplicates(subset=['word'])\n",
    "print(f\"Total words count (after removing duplicates): {len(words_df):,}\")"
   ]
  },
  {
   "cell_type": "markdown",
   "id": "0652145d",
   "metadata": {},
   "source": [
    "* **OBSERVATION**: Two duplicates only. Hmm, quite bizarre."
   ]
  },
  {
   "cell_type": "markdown",
   "id": "de60bbe9",
   "metadata": {},
   "source": [
    "## 10. Length distribution"
   ]
  },
  {
   "cell_type": "code",
   "execution_count": 15,
   "id": "98fd9b67",
   "metadata": {},
   "outputs": [
    {
     "data": {
      "image/png": "[encoded data removed]",
      "text/plain": [
       "<Figure size 640x480 with 1 Axes>"
      ]
     },
     "metadata": {},
     "output_type": "display_data"
    }
   ],
   "source": [
    "word_lengths = words_df['word'].str.len()\n",
    "mean_length = word_lengths.mean()\n",
    "median_length = word_lengths.median()\n",
    "word_longest = word_lengths.max()\n",
    "plt.hist(word_lengths, bins=word_longest-1)\n",
    "plt.axvline(median_length, color='black', linestyle='dashed', linewidth=1)\n",
    "plt.axvline(mean_length, color='red', linestyle='dashed', linewidth=1)\n",
    "plt.legend(['Median', 'Mean'])\n",
    "plt.xlabel('Word Length')\n",
    "plt.ylabel('Frequency')\n",
    "plt.title(f'Longest word length: {word_longest}, Median: {median_length:.0f}, Mean: {mean_length:.1f}')\n",
    "plt.xticks([1, 5, 10, 15, 20, 25, 30, 35, 40])\n",
    "plt.xlim(0, 40)\n",
    "plt.show()"
   ]
  },
  {
   "cell_type": "markdown",
   "id": "c977e204",
   "metadata": {},
   "source": [
    "* **OBSERVATION**: Interesting! We have a new distribution here. The longest word (25-letters) is within current range of longest words $[20-40]$. However, the median and the mean are lower than everything so far."
   ]
  },
  {
   "cell_type": "markdown",
   "id": "e517b06d",
   "metadata": {},
   "source": [
    "## 11. Merge with vocabulary\n",
    "\n",
    "So far, we had `1 228 263` unique valid Bulgarian words in our vocabulary. Let's see what will be the merged set size."
   ]
  },
  {
   "cell_type": "code",
   "execution_count": 16,
   "id": "d2cb336f",
   "metadata": {},
   "outputs": [
    {
     "name": "stdout",
     "output_type": "stream",
     "text": [
      "Number of words in vocabulary: 1,228,263\n",
      "['абаджиев', 'абеба', 'абиджан', 'абрашев', 'абу', 'абърдийн', 'августин', 'авджиев', 'авестан', 'авив', 'аврам', 'аврамов', 'австралия', 'австрия', 'агов', 'адам', 'аделаида', 'аделина', 'аден', 'аджемов', 'адис', 'адриан', 'адрианов', 'азербайджан', 'азия', 'азманов', 'айвазов', 'айков', 'айланд', 'айнщайн', 'айрес', 'айтос', 'аквитания', 'аконкагуа', 'аксиния', 'ал', 'аладжов', 'аладин', 'албания', 'албена', 'алгол', 'алдинов', 'алеков', 'алекс', 'александра', 'александрина', 'александрия', 'александров', 'александър', 'алексеев', 'алексей', 'алекси', 'алексиев', 'алексов', 'алжир', 'алипиев', 'алма', 'алмира', 'алпи', 'алпите', 'алтай', 'алтънов', 'алфред', 'алчев', 'альоша', 'аляска', 'амадеус', 'амалиев', 'амалия', 'аман', 'амбарев', 'америка', 'аминстия', 'амстердам', 'амундсеново', 'ана', 'анадир', 'анадола', 'ананиев', 'ананий', 'анастас', 'анастасия', 'анастасов', 'анатолий', 'анатолов', 'аначков', 'ангара', 'ангелиев', 'ангелина', 'ангелов', 'ангеловски', 'ангила', 'англия', 'ангола', 'ангьозов', 'андалусия', 'андерсен', 'анджелис', 'анди', 'андонов', 'андора', 'андрей', 'андрейчев', 'андрейчин', 'андреков', 'андриан', 'андров', 'андромеда', 'анелия', 'анета', 'анжел', 'ани', 'анита', 'анка', 'анкара', 'анков', 'анкоридж', 'анна', 'анталия', 'антананариво', 'антарктида', 'антверпен', 'антигуа', 'антоан', 'антоанета', 'антов', 'антон', 'антони', 'антониев', 'антоний', 'антонина', 'антонио', 'антония', 'антонов', 'анчев', 'анюта', 'апалачи', 'апенини', 'апия', 'апостолов', 'арабаджиев', 'арагуайна', 'арарат', 'арбанаси', 'арда', 'ардени', 'аржентина', 'ариадна', 'аризона', 'аристотел', 'аркадия', 'арктика', 'армани', 'армения', 'армстронг', 'арнаудов', 'арно', 'арсов', 'артемида', 'артур', 'артуров', 'аруба', 'архимед', 'аршинов', 'асен', 'асенов', 'асеновград', 'асеновец', 'асмара', 'аспарух', 'астана', 'астраджан', 'астурия', 'асунсион', 'ася', 'атакама', 'атанас', 'атанаси', 'атанаска', 'атанасов', 'атенатите', 'атене', 'атила', 'атилски', 'атина', 'атия', 'атон', 'афганистан', 'африка', 'африкаанс', 'афродита', 'ахелой', 'ахил', 'ахрянов', 'ахтопол', 'ахтубинск', 'ахчийски', 'ашхабад', 'аюн', 'аякс', 'бавария', 'багдад', 'баден', 'баджов', 'баев', 'базел', 'байкал', 'байлов', 'байраков', 'байрики', 'байчев', 'бакалов', 'баку', 'бакхус', 'бакърджиев', 'балабанов', 'балатон', 'балдев', 'балджиев', 'балджийски', 'балев', 'балевски', 'баликов', 'балинов', 'балканджиев', 'балтаджиев', 'балтимор', 'балтов', 'балчев', 'балчик', 'бамако', 'бамбалски', 'банат', 'банги', 'бангладеш', 'бандар', 'банджул', 'бандов', 'банев', 'банковски', 'банкок', 'банкя', 'банов', 'банчев', 'барбейдос', 'барбуда', 'барбуков', 'баренцово', 'барселона', 'басра', 'бастер', 'батаклиев', 'баталов', 'батинков', 'батинов', 'батоев', 'батор', 'бахами', 'бахамите', 'бахрейн', 'бахчеванов', 'бахчеджиев', 'бачев', 'бачково', 'башев', 'бебов', 'бегаван', 'бедриев', 'бейков', 'бейрут', 'бекиров', 'беков', 'бекяров', 'беларус', 'белгия', 'белград', 'белев', 'белелиев', 'белем', 'белийз', 'белков', 'белмекен', 'белмопан', 'белоградчик', 'белозем', 'беломорие', 'белошинов', 'белфаст', 'белчев', 'белчо', 'бенатов', 'бенгази', 'бенгалия', 'бенин', 'бенислав', 'бенков', 'бенчев', 'бенчов', 'бергамо', 'берковица', 'берлин', 'берн', 'бернар', 'беров', 'берта', 'бесарабия', 'бетовен', 'бетовски', 'бешков', 'бианка', 'бижев', 'биков', 'билян', 'биляна', 'билярски', 'бинев', 'биохим', 'бирма', 'бирмингам', 'бисау', 'бисерка', 'бислама', 'бисмарк', 'бистричанов', 'битоля', 'бихари', 'бишкек', 'благов', 'благовестов', 'благоев', 'благоевград', 'благой', 'блажев', 'блантир', 'близнаков', 'бобев', 'бобовдол', 'богатинов', 'богацевски', 'богдан', 'богданка', 'богданов', 'богоев', 'богомилов', 'богота', 'боджаков', 'бодуров', 'боев', 'божан', 'божанка', 'божанков', 'божанов', 'божидар', 'божидарка', 'божидаров', 'божиков', 'божил', 'божилов', 'божин', 'божинов', 'божков', 'божурище', 'бозаджиев', 'бозев', 'бозов', 'бойков', 'бойнов', 'бойсе', 'бойчев', 'бойчо', 'боков', 'боливия', 'бомбай', 'бонапарт', 'бонев', 'бонин', 'бонка', 'бонков', 'бончев', 'бончо', 'боню', 'боржуков', 'бориков', 'боримир', 'борис', 'бориска', 'борислав', 'бориславов', 'борнео', 'боровец', 'борян', 'борянка', 'борянов', 'босилко', 'босна', 'бостанджиев', 'бостън', 'босфор', 'босфора', 'ботев', 'ботевград', 'ботсуана', 'ботьо', 'бохрий', 'боцев', 'бочев', 'бошнаков', 'бояджиев', 'боян', 'боянов', 'бразавил', 'бразилия', 'брайков', 'брайнов', 'бранимир', 'бранимиров', 'бранислав', 'браниславов', 'бранко', 'бранков', 'братанов', 'братислава', 'братоев', 'браун', 'брахмапутра', 'брацигово', 'брашлянов', 'бресковски', 'брест', 'бретан', 'бриджтаун', 'бризбейн', 'британия', 'бродуей', 'бруней', 'бръснаро', 'бръчков', 'брюксел', 'буда', 'будапеща', 'буджумбура', 'будинов', 'будьонов', 'буенос', 'бужумбура', 'бузлуджа', 'бузуков', 'букарски', 'буковица', 'букурещ', 'бумбаров', 'бумбарски', 'буная', 'бургас', 'бургунджиев', 'бургундия', 'буркина', 'буров', 'бурунди', 'бухчев', 'бучков', 'българия', 'бънев', 'бързаков', 'бърнев', 'бъчваров', 'вавилон', 'вавилония', 'вагенщайн', 'вагнер', 'вадуц', 'вазов', 'вакарел', 'ваклена', 'вакрилов', 'валдемар', 'валентин', 'валентинов', 'валери', 'валериев', 'валерия', 'вальо', 'вангелов', 'вангов', 'вандов', 'ванев', 'ванина', 'ванко', 'ванков', 'ванкувър', 'вануату', 'ванчев', 'ванчо', 'ваньо', 'ваня', 'варадинов', 'варамезов', 'вардар', 'вардев', 'варна', 'вартоломей', 'варчев', 'варшава', 'васев', 'васил', 'василев', 'василевич', 'василий', 'василка', 'василов', 'василчев', 'васка', 'васко', 'васков', 'вася', 'ватикан', 'ватикана', 'вацев', 'вачев', 'вачков', 'вашингтон', 'вегас', 'везувий', 'векилов', 'веков', 'вела', 'велев', 'велевски', 'велес', 'велиана', 'велибашев', 'велизар', 'велизаров', 'великден', 'великобритания', 'великов', 'велимир', 'велин', 'велинов', 'велислав', 'велиславов', 'величка', 'величко', 'величков', 'велко', 'велков', 'велковски', 'велчев', 'велчевски', 'велчо', 'вельо', 'велян', 'велянов', 'венев', 'венелин', 'венелинов', 'венера', 'венесуела', 'венета', 'венециев', 'венеция', 'вениана', 'венка', 'венко', 'венков', 'венцислав', 'венциславов', 'венчев', 'вера', 'вергил', 'вергилов', 'верде', 'вердян', 'верила', 'верона', 'вероника', 'веселин', 'веселинка', 'веселинов', 'веселка', 'веселов', 'веска', 'веско', 'весков', 'веслец', 'весов', 'вивей', 'видев', 'виденов', 'видин', 'видолов', 'виена', 'виентян', 'виетнам', 'византия', 'виктор', 'виктория', 'викторов', 'викторовна', 'викьов', 'вилияна', 'вилнюс', 'вилхелм', 'винсент', 'виолета', 'виржиния', 'висбаден', 'висла', 'витанов', 'витков', 'витоша', 'вичев', 'вишеград', 'владая', 'владев', 'владивосток', 'владимир', 'владимиров', 'владимирович', 'владислав', 'владиславов', 'владка', 'владко', 'владков', 'владов', 'влаев', 'влахов', 'влаховски', 'вогези', 'воденичаров', 'войводина', 'войводов', 'войников', 'войнов', 'войновски', 'володиев', 'володя', 'волтер', 'волфганг', 'восток', 'враня', 'враца', 'вретенаров', 'вутев', 'вутов', 'вуцов', 'вучков', 'въжаров', 'вълдобрев', 'вълев', 'вълкана', 'вълканов', 'вълко', 'вълков', 'вълов', 'вълтава', 'вълчан', 'вълчанов', 'вълчановски', 'вълчев', 'вълчинов', 'върбан', 'върбанов', 'вътев', 'вътков', 'вътов', 'въцов', 'въча', 'въчев', 'вячеслав', 'вячеславович', 'габон', 'габороне', 'габриел', 'гавраил', 'гавраилов', 'гагарин', 'гаджев', 'газо', 'гайдаров', 'гайтанджиев', 'галапагос', 'галилей', 'галимир', 'галин', 'галинов', 'галиполи', 'галисия', 'галчев', 'гамбие', 'гамбия', 'гана', 'ганг', 'ганди', 'ганев', 'ганка', 'ганков', 'ганчев', 'ганчо', 'ганчов', 'гарабед', 'гаргантюа', 'гардиън', 'гарев', 'гарелов', 'гарибалди', 'гарона', 'гатев', 'гатов', 'гацев', 'гачев', 'гашаров', 'гаяна', 'гваделупа', 'гватемала', 'гвиана', 'гелев', 'генади', 'генадиев', 'генко', 'генков', 'гено', 'генов', 'геновски', 'генуа', 'генчев', 'генчо', 'генчов', 'гео', 'георги', 'георгиевна', 'герасим', 'герасимов', 'герасков', 'гергана', 'герганов', 'гергин', 'гергинов', 'гергинчев', 'гергов', 'гергьовден', 'герджиков', 'герлово', 'германов', 'геров', 'герхард', 'герчев', 'гетов', 'гецов', 'гечев', 'гечевски', 'гешев', 'гибралтар', 'гибсън', 'гигов', 'гиздев', 'гиздов', 'гилбърт', 'гилев', 'гило', 'гинев', 'гинес', 'гинин', 'гинка', 'гинчев', 'гинчо', 'гиньо', 'гичев', 'гичка', 'гичо', 'главчев', 'гладстон', 'глазгоу', 'глата', 'гледачев', 'гло', 'глобул', 'глухаров', 'гоби', 'гобле', 'гогов', 'гоговски', 'гогол', 'гогошев', 'годо', 'гоев', 'гойчев', 'голама', 'голаса', 'голача', 'голе', 'голеа', 'големанов', 'големански', 'големинов', 'голиат', 'голий', 'голио', 'голке', 'голки', 'голкя', 'голмите', 'голмо', 'голое', 'голосо', 'голош', 'голоя', 'голти', 'голфо', 'гольми', 'гольфо', 'голяата', 'гоогле', 'гооооол', 'гоооооооооооооооол', 'горан', 'горанов', 'гордев', 'горов', 'горчев', 'господинов', 'гоулби', 'гоцев', 'гоци', 'гоцци', 'гочев', 'гочо', 'гошев', 'граматиков', 'гранада', 'гранде', 'гренада', 'гренландия', 'гренобъл', 'грета', 'григор', 'григориев', 'григорий', 'григоров', 'гринуич', 'гриша', 'гришев', 'грло', 'гроздан', 'грозданов', 'гроздев', 'грозев', 'грохане', 'грошев', 'грудев', 'груев', 'грузия', 'грънчаров', 'гуадалахара', 'гуадалканал', 'гуадалупа', 'гуам', 'гугов', 'гугутков', 'гуджарати', 'гулев', 'гулу', 'гулю', 'гуна', 'гунев', 'гунчев', 'гурко', 'гурков', 'гусев', 'гуякуил', 'гъдев', 'гъливер', 'гълфстрийм', 'гърбатов', 'гърдев', 'гърков', 'гърневски', 'гърция', 'гьоки', 'гьолете', 'гьолу', 'гьолшцата', 'гьолю', 'гьорев', 'гьоро', 'гьоте', 'гьотинген', 'гьошков', 'гюзелев', 'гюлев', 'гюлиа', 'гюро', 'гюров', 'даби', 'давид', 'давидков', 'давидов', 'дака', 'дакар', 'даков', 'дакота', 'далай', 'далас', 'далматия', 'дамаск', 'дамян', 'дамянов', 'дамяновски', 'данаилов', 'дангов', 'данев', 'даниел', 'дания', 'данка', 'данков', 'данов', 'дановски', 'данте', 'данчев', 'данчо', 'данчов', 'даракчиев', 'дарвин', 'дарданели', 'дарина', 'даринка', 'даринов', 'дария', 'дарчев', 'даскалов', 'датекс', 'даунинг', 'дафин', 'дафинка', 'дафов', 'дахтеров', 'дачев', 'дачков', 'двина', 'дебиан', 'девин', 'девня', 'дедьов', 'дейвис', 'дейли', 'дейтона', 'декарт', 'деко', 'деков', 'делев', 'делибалтов', 'делибашев', 'делибозов', 'делов', 'делфи', 'делхи', 'делчев', 'делчо', 'делян', 'делянов', 'деметра', 'демирев', 'демиревски', 'демиров', 'денвър', 'денев', 'денис', 'денислав', 'денков', 'денмаркшавн', 'денчев', 'денчо', 'деньо', 'дерменджиев', 'дертлиев', 'десислав', 'деспина', 'детройт', 'дечев', 'дечков', 'дечо', 'деян', 'деянов', 'джабалов', 'джакарта', 'джамбазки', 'джамбазов', 'джамбов', 'джамов', 'джаферов', 'джендов', 'дженев', 'джерман', 'джерманов', 'джеров', 'джибути', 'джиков', 'джилянов', 'джингов', 'джована', 'джон', 'джонга', 'джонстън', 'джордан', 'джордж', 'джорджия', 'джорджтаун', 'джоров', 'джоунс', 'джуно', 'джуров', 'джърси', 'диамандиев', 'диан', 'дианов', 'диарбекир', 'дивоар', 'дидо', 'диев', 'дикенс', 'диклиев', 'диков', 'дили', 'дилов', 'дилянка', 'диманов', 'димитрачков', 'димитрин', 'димитринка', 'димитрия', 'димитровград', 'димитровден', 'димитър', 'димков', 'димо', 'димов', 'димовски', 'димчев', 'димчо', 'димчов', 'динка', 'динко', 'динков', 'динчев', 'диньо', 'дичев', 'дишлиев', 'днепър', 'днестър', 'добрев', 'добревски', 'добрилов', 'добрин', 'добринка', 'добринов', 'добрич', 'добромир', 'добромиров', 'доброслав', 'добруджа', 'доганов', 'додев', 'додов', 'дойков', 'дойнов', 'дойчев', 'дойчинов', 'доко', 'доковски', 'долапчиев', 'долчинков', 'доминго', 'доминика', 'домусчиев', 'донев', 'донка', 'донков', 'донковски', 'донов', 'дончевски', 'дончо', 'доньо', 'дора', 'дориана', 'дориела', 'дорина', 'доротея', 'дортмунд', 'досев', 'доспат', 'достоевски', 'дотев', 'доусън', 'доха', 'доцов', 'дочев', 'дочка', 'дочков', 'дочо', 'драва', 'драган', 'драганов', 'драгиев', 'драгнев', 'драгоев', 'драгойчев', 'драгомир', 'драгомиров', 'драгослав', 'драгостинов', 'дражев', 'драйчев', 'дрезден', 'дренчев', 'дрина', 'друмев', 'дуала', 'дуков', 'дулово', 'дулсинея', 'думанов', 'дунав', 'дундов', 'дунев', 'дунов', 'дупница', 'духомир', 'душанбе', 'душанов', 'душко', 'душков', 'дъблин', 'дъбний', 'дюлгеров', 'дюма', 'дюселдорф', 'дяков', 'дянко', 'дянков', 'евангелина', 'евбея', 'евгени', 'евгениев', 'евгений', 'евгения', 'евелина', 'еверест', 'евклид', 'евлоги', 'евлогиев', 'евразия', 'европа', 'евстатиев', 'евстатий', 'евтим', 'евтимов', 'егей', 'египет', 'едип', 'едисън', 'едмонд', 'едмънтън', 'едрев', 'едуард', 'ейпъл', 'ейре', 'екатерина', 'екатеринбург', 'еквадор', 'екзюпери', 'ел', 'елада', 'елба', 'елбрус', 'елвира', 'елдорадо', 'еледжик', 'еленка', 'еленко', 'еленков', 'елеонора', 'елзас', 'елиза', 'елизабет', 'елисавета', 'елмира', 'елмиров', 'еманоилов', 'емануела', 'емануил', 'емануилов', 'еми', 'емил', 'емилев', 'емилия', 'емилиян', 'емилов', 'емине', 'еминем', 'енгелс', 'ендербъри', 'енев', 'енисей', 'енчев', 'енчо', 'еньо', 'еолия', 'епикур', 'епир', 'ереван', 'ерик', 'еритрея', 'ерма', 'ермосильо', 'ерусалим', 'ерфурт', 'есперанто', 'естония', 'етел', 'етиопия', 'етна', 'етрополе', 'ефрат', 'ефремов', 'ефросима', 'ефросина', 'ефтимов', 'жан', 'жана', 'жанейро', 'жанет', 'жанета', 'жеко', 'жеков', 'желев', 'железов', 'железчев', 'жельо', 'желязко', 'желязков', 'желязов', 'женева', 'жеравница', 'жечев', 'жечков', 'жечо', 'живка', 'живко', 'живомир', 'жиков', 'жилет', 'жилков', 'жоли', 'жорж', 'жоров', 'жуанг', 'жулиета', 'жюлия', 'заврачица', 'загора', 'загоров', 'загреб', 'задгорски', 'заимов', 'заир', 'закавказие', 'замбези', 'замбия', 'замфиров', 'занев', 'занзибар', 'занков', 'запорожие', 'запрянов', 'заралиев', 'зарев', 'зарин', 'зарко', 'зарков', 'заров', 'зафиров', 'захариев', 'захаринка', 'захаров', 'захов', 'зашев', 'звездец', 'здравка', 'здравко', 'здравков', 'здравковски', 'здравчев', 'зевс', 'зеландия', 'зигфрид', 'зидаров', 'зимбабве', 'зиновиев', 'златан', 'златанов', 'златарев', 'златев', 'златимир', 'златин', 'златинов', 'златко', 'златков', 'златоград', 'златозар', 'златомир', 'зоя', 'зулу', 'зулчев', 'зюмбюлев', 'иберия', 'ибрахим', 'ибрахимов', 'ива', 'ивайла', 'ивайло', 'ивайлов', 'ивайловград', 'иван', 'иванка', 'иванчев', 'иванчо', 'иванчов', 'ивелин', 'ивета', 'ивков', 'иво', 'ивоар', 'ивов', 'ивона', 'иврит', 'ивчев', 'игнат', 'игнатиевски', 'игнатов', 'игнатовски', 'игор', 'идиш', 'изидор', 'измир', 'израел', 'икалуит', 'икар', 'икономов', 'илиада', 'илиев', 'илиевски', 'илинден', 'илич', 'илия', 'илиян', 'илиянов', 'илка', 'илко', 'илков', 'илона', 'илонка', 'илчев', 'илчо', 'имне', 'империал', 'ина', 'инджов', 'индиана', 'индианаполис', 'индокитай', 'индонезия', 'индостан', 'инна', 'инсбрук', 'интел', 'интерпол', 'инувик', 'инупия', 'ирак', 'иран', 'ирен', 'ирина', 'иринчев', 'иркуткс', 'иркутск', 'ирландия', 'исаев', 'исак', 'исаков', 'искрев', 'искренов', 'искров', 'искър', 'исламабад', 'исландия', 'испания', 'исперих', 'истанбул', 'исус', 'итака', 'италия', 'ихтиман', 'ицов', 'йелоунайф', 'йелоустоун', 'йемен', 'йерусалим', 'йехова', 'йоан', 'йоанна', 'йовка', 'йовко', 'йовков', 'йовов', 'йовчев', 'йовчо', 'йозов', 'йоло', 'йолов', 'йоловски', 'йонев', 'йоневски', 'йонка', 'йонко', 'йонков', 'йончев', 'йордан', 'йордания', 'йорданка', 'йориба', 'йорк', 'йоркшир', 'йосиф', 'йосифов', 'йотков', 'йотов', 'йоханесбург', 'йоцов', 'кабаджов', 'кабаиванов', 'кабакчиев', 'кабо', 'кабул', 'кавалджиев', 'каварна', 'кавасаки', 'кавказ', 'кавръков', 'кадир', 'кадиров', 'кадънков', 'казабланка', 'казаков', 'казанджиев', 'казанлък', 'казахстан', 'казбек', 'казичене', 'каймански', 'кайнаров', 'кайро', 'калайджиев', 'калахари', 'калев', 'каледония', 'калиакра', 'калимантан', 'калин', 'калининград', 'калисути', 'калкута', 'калотина', 'калофер', 'калоферов', 'калоян', 'калоянов', 'калоянчев', 'калфин', 'калчев', 'калчевски', 'калъчев', 'камбоджа', 'камбуров', 'камен', 'каменаров', 'каменица', 'каменов', 'каменски', 'камерун', 'камов', 'кампала', 'кампучия', 'камчатка', 'камчия', 'канада', 'канбера', 'канзас', 'каннада', 'кантарджиев', 'капитанов', 'карабаджаков', 'карабатаков', 'карабашев', 'карабуров', 'каравасилев', 'карагечев', 'карагьозов', 'караджов', 'карадиамандиев', 'карадимов', 'караиби', 'караиванов', 'карайотов', 'каракао', 'каракас', 'каракачанов', 'каракашев', 'караколев', 'каракум', 'караманов', 'караманолев', 'карамишев', 'караниколов', 'караславов', 'карастойков', 'карастоянов', 'кардам', 'кардашев', 'карл', 'карло', 'карлово', 'карнобат', 'каролев', 'карпати', 'карпатите', 'касабов', 'касимов', 'касиопея', 'каспичан', 'кастилия', 'кастрийс', 'каталония', 'каталуня', 'катамарка', 'катар', 'катерина', 'катеринов', 'катина', 'катманду', 'катрев', 'катрин', 'катя', 'кафа', 'кацаров', 'качов', 'кашгар', 'кашъмов', 'кеворк', 'кеворкян', 'кеймбридж', 'кейптаун', 'кемал', 'кеманджиев', 'кендеров', 'кенеди', 'кения', 'кентъки', 'кера', 'керанов', 'керезов', 'керемидарски', 'керчев', 'кети', 'кигали', 'киев', 'килиманджаро', 'кинарванда', 'кингстаун', 'кингстън', 'киншаса', 'кипров', 'кипър', 'киргизия', 'киргизстан', 'кирев', 'кирибати', 'кирил', 'кирилка', 'кирилов', 'киритимати', 'кирков', 'киро', 'киров', 'кировски', 'кирчев', 'кирчо', 'киряков', 'кисимов', 'кисьов', 'китай', 'китанов', 'кито', 'кихот', 'кичуков', 'кишинеу', 'кишишев', 'кламат', 'клара', 'клеопатра', 'клептуза', 'климент', 'климентина', 'клисаров', 'клондайк', 'клявчев', 'кобдо', 'кобол', 'кобургготски', 'ковачев', 'ковънтри', 'коджабашев', 'коев', 'коевски', 'кожухаров', 'козарев', 'козаров', 'козлодуй', 'козница', 'койнов', 'койчев', 'коларов', 'колев', 'коледа', 'коломбо', 'колорадо', 'колумбия', 'колцата', 'колчаков', 'колчев', 'колчо', 'кольо', 'ком', 'комарски', 'комитов', 'комори', 'коморски', 'конакри', 'конакчиев', 'конакчийски', 'конг', 'конго', 'кондев', 'кондов', 'конов', 'константин', 'константинов', 'контролноизмервателен', 'копанаров', 'копенхаген', 'копривщица', 'копринков', 'корделиери', 'корея', 'коринт', 'корнажев', 'корнелия', 'корниш', 'корсика', 'корфу', 'косев', 'коста', 'костадин', 'костадинка', 'костадинов', 'костакев', 'костакиев', 'костенаров', 'костенец', 'костов', 'косьо', 'кот', 'котону', 'коцев', 'коцов', 'коцовски', 'кочев', 'кочков', 'кочовски', 'краев', 'крайчев', 'краков', 'кралев', 'кралчев', 'крапчев', 'красимир', 'красимиров', 'красноярск', 'крачунов', 'кремена', 'кременлиев', 'кремъл', 'кривошиев', 'крим', 'кристина', 'кристиян', 'кристияна', 'кристофър', 'кромуел', 'круз', 'крулев', 'крум', 'крумов', 'крумовград', 'крумово', 'крушарски', 'кръжаров', 'крънчев', 'кръстан', 'кръстанов', 'кръстев', 'кръстевич', 'кръстьо', 'кръчмаров', 'куаджалейн', 'куала', 'кубадински', 'кубрат', 'кувейт', 'кузев', 'кузман', 'кузманов', 'кузмов', 'кулеков', 'кулински', 'куманов', 'куна', 'кунев', 'куновски', 'кунчев', 'кунчо', 'куньо', 'купенов', 'курилски', 'курск', 'куртев', 'куруджиев', 'кусайе', 'кутев', 'куцаров', 'куцльото', 'кучев', 'кучинг', 'куюмджиев', 'кхоза', 'къзълкум', 'къндев', 'кънев', 'кънов', 'кънчев', 'кънчо', 'кърджали', 'кърпачев', 'кътев', 'кьолн', 'кьосев', 'кюмюрджиев', 'кюранов', 'кюри', 'кюрчиев', 'кюстендил', 'кючуков', 'ла', 'лагос', 'лазар', 'лазарин', 'лазаров', 'лазов', 'лайпциг', 'лалев', 'лалка', 'лалов', 'ламанш', 'ламбовски', 'ламбрев', 'ланка', 'лаос', 'лапландия', 'лас', 'ласкин', 'ласков', 'латвия', 'латунов', 'лачев', 'лвов', 'лебервил', 'левиев', 'левски', 'левтеров', 'ленин', 'ленинград', 'ленчев', 'леонардо', 'леоне', 'леонид', 'леонидов', 'леонтиев', 'лесото', 'лефтеров', 'лечев', 'либерия', 'либия', 'либървил', 'ливан', 'ливърпул', 'лидице', 'лидия', 'лиеж', 'лили', 'лилка', 'лилко', 'лилков', 'лилов', 'лилонгуе', 'лилян', 'лилянов', 'лима', 'лимпопо', 'линдман', 'линукс', 'линус', 'лион', 'лионе', 'липчев', 'лисабон', 'лихтенщайн', 'личев', 'лоара', 'ловеч', 'лозан', 'лозанка', 'лозанов', 'лозанчев', 'лозев', 'лозенец', 'локов', 'лолия', 'лоллия', 'лоло', 'лолов', 'ломбардия', 'ломе', 'лонг', 'лондон', 'лора', 'лорета', 'лотарингия', 'луанда', 'лубумбаши', 'луджев', 'лудогорие', 'луизвил', 'луизиана', 'луис', 'лулчев', 'лумпур', 'лусака', 'лусия', 'луцифер', 'лучев', 'лучников', 'лъчезар', 'лъчезаров', 'люба', 'любаш', 'любенов', 'любка', 'люблян', 'любляна', 'любозар', 'любомир', 'любомиров', 'любомирович', 'любослав', 'любчев', 'любчо', 'любчов', 'людвиг', 'людмил', 'людмила', 'людмилов', 'люксембург', 'люлин', 'люцерн', 'люцканов', 'ляков', 'лялев', 'маад', 'маап', 'маастрихт', 'мааф', 'мабел', 'мавп', 'мавритания', 'мавриций', 'мавров', 'мавродиев', 'магадан', 'магда', 'магдалена', 'магдалинчев', 'магела', 'магелан', 'магели', 'магеров', 'магурата', 'магх', 'мадагаскар', 'мадан', 'маданков', 'маде', 'мадем', 'маджаров', 'маджуро', 'мадлен', 'мадлена', 'мадленка', 'мадрид', 'мадха', 'маеди', 'маен', 'маесо', 'мазалат', 'мазатлан', 'мазгалов', 'мазев', 'мазнев', 'мазников', 'майал', 'майзе', 'майкрософт', 'майла', 'майли', 'майло', 'майн', 'майне', 'майорка', 'майоров', 'майсен', 'майсторов', 'майце', 'майът', 'маказа', 'макао', 'маке', 'македония', 'макензи', 'макете', 'макиавели', 'макинтош', 'маккинли', 'маклия', 'макм', 'максим', 'максимов', 'максуел', 'малабо', 'малави', 'малагаси', 'малайзия', 'маламов', 'маламски', 'малаялам', 'малдиви', 'малдите', 'малдият', 'мале', 'малев', 'малевски', 'малеев', 'мали', 'малин', 'малинчев', 'малла', 'маллья', 'малмьо', 'малта', 'малха', 'малчев', 'маль', 'мальовица', 'мамалев', 'маме', 'мамедов', 'манагуа', 'манама', 'манасиев', 'манев', 'манила', 'манлия', 'манов', 'манол', 'манолов', 'мански', 'манушкин', 'манхатан', 'манчев', 'манчестър', 'маньо', 'мапуту', 'маратхи', 'марел', 'маренго', 'мариан', 'марианов', 'мариела', 'мариелка', 'мариета', 'марийка', 'марин', 'маринела', 'маринка', 'маринков', 'марино', 'марински', 'маринчев', 'марио', 'мариус', 'марица', 'маричков', 'мария', 'мариян', 'мариянски', 'марко', 'марковски', 'маркс', 'марл', 'марла', 'маров', 'мароко', 'марс', 'марсев', 'марсилеза', 'марсилия', 'марта', 'марте', 'мартин', 'мартиника', 'мартинов', 'маруся', 'марха', 'мархолев', 'марчев', 'марчевски', 'марчела', 'марчов', 'марчовски', 'масе', 'масейо', 'масели', 'масеру', 'маскат', 'масларов', 'маслинков', 'матев', 'матеев', 'матей', 'мател', 'матете', 'матещи', 'матилда', 'матл', 'матрозов', 'матх', 'матха', 'мать', 'матя', 'маул', 'махатма', 'махди', 'махе', 'махеш', 'махлата', 'махлелиев', 'махли', 'махт', 'махю', 'махя', 'мацев', 'мацела', 'мацеха', 'мачев', 'маше', 'машев', 'маяги', 'маяй', 'маями', 'маяри', 'маярите', 'мбабане', 'мвае', 'мваи', 'мвт', 'мге', 'меглена', 'медарев', 'медаров', 'медникаров', 'меенкьели', 'мездра', 'мезов', 'мейот', 'мексико', 'меланезия', 'мелани', 'мелбърн', 'мелник', 'мем', 'мемфис', 'менахем', 'менахим', 'менгеш', 'мендбил', 'менделевий', 'мендов', 'мендоза', 'менев', 'менел', 'менем', 'менко', 'менков', 'менов', 'менсах', 'ментатите', 'менхели', 'менцел', 'менчев', 'мерида', 'меркурий', 'месопотамия', 'метев', 'метерий', 'методиев', 'мефистофел', 'механджиев', 'мехме', 'мехмедов', 'мечев', 'мечкаров', 'мечков', 'меш', 'мешинков', 'мешков', 'мещи', 'миане', 'мианмар', 'миглена', 'миднайт', 'мидуей', 'миен', 'миенс', 'мизия', 'микелон', 'микеш', 'миккели', 'мико', 'миков', 'микронезия', 'миладин', 'миладинов', 'милан', 'миланка', 'милано', 'миланов', 'миланчо', 'милачков', 'милев', 'миленко', 'миленков', 'миленов', 'милета', 'милети', 'милко', 'милков', 'милов', 'милоев', 'милотинов', 'милошев', 'милуш', 'милушев', 'милчев', 'милчо', 'милчов', 'мильов', 'мими', 'миналоото', 'миналто', 'минами', 'минамото', 'минан', 'минарди', 'минаро', 'минасие', 'минасу', 'миначи', 'минват', 'мингела', 'мингрелия', 'миндел', 'миндил', 'миндилев', 'минев', 'минеи', 'минеите', 'миней', 'минери', 'минес', 'минея', 'миним', 'миних', 'минка', 'минко', 'минков', 'минковски', 'минло', 'миннан', 'минов', 'минск', 'минсхъл', 'минта', 'минтай', 'минти', 'мину', 'минут', 'минче', 'минчев', 'минчевски', 'минчо', 'минъл', 'миньо', 'миньох', 'миняни', 'мирев', 'мирела', 'миринчев', 'мирко', 'мирков', 'миролюб', 'мирон', 'миронов', 'мирослав', 'мирославов', 'мирчев', 'мирчов', 'мирянов', 'мисисипи', 'мисури', 'митев', 'митевски', 'митеш', 'митко', 'митков', 'митов', 'митовски', 'митрев', 'митров', 'митровски', 'митьов', 'михаел', 'михаелов', 'михаил', 'михайлов', 'михайловград', 'михайловна', 'михайловски', 'михалев', 'михалков', 'михо', 'михов', 'михтарски', 'мицаков', 'мицев', 'мицов', 'мичев', 'мичиган', 'мичковски', 'мичо', 'мишев', 'мишков', 'мишне', 'миъбах', 'младен', 'младенка', 'младенов', 'мне', 'мобилтел', 'могадишу', 'модев', 'моев', 'мозамбик', 'мозила', 'моисей', 'мокев', 'мокрев', 'молдавия', 'молдова', 'молеров', 'моллов', 'момчев', 'момчил', 'момчилград', 'момчилов', 'монако', 'монблан', 'монголия', 'монев', 'моневски', 'монелия', 'моника', 'монов', 'монреал', 'монровия', 'монсерат', 'монтана', 'монте', 'монтевидео', 'монтерей', 'монтичело', 'монтрьо', 'моньо', 'моралийски', 'мориц', 'морсби', 'москва', 'москов', 'мостар', 'мохаве', 'моцарт', 'мръчков', 'мсе', 'муине', 'мулетаров', 'мунев', 'мунцел', 'мургаш', 'мурджев', 'мусерлиев', 'мусорлиев', 'мустафов', 'мутафов', 'мутафчиев', 'мухтанов', 'мцхете', 'мъгленик', 'мънков', 'мърфи', 'мюнхен', 'мяу', 'наважо', 'навущаров', 'нагасаки', 'наглев', 'надка', 'надлежащия', 'назарет', 'найден', 'найденов', 'найроби', 'найчо', 'найчов', 'накев', 'нако', 'наков', 'налбантов', 'намибия', 'нанев', 'нанков', 'нано', 'нанов', 'нансен', 'насау', 'насков', 'наталия', 'натан', 'натанаил', 'натанаилов', 'наташа', 'натев', 'натов', 'наумов', 'науру', 'начев', 'начков', 'начов', 'нгонда', 'нджамена', 'неамей', 'неапол', 'нева', 'невада', 'невис', 'негенцов', 'неда', 'недев', 'недевски', 'неделчев', 'неделчо', 'недка', 'недко', 'недков', 'недялка', 'недялко', 'недялков', 'нейвис', 'нейко', 'нейков', 'нейковски', 'нейчев', 'неков', 'нели', 'немцов', 'ненко', 'ненков', 'нено', 'ненов', 'ненчев', 'ненчо', 'неофитов', 'непал', 'нептун', 'несторов', 'нетев', 'нетскейп', 'нехризов', 'нецов', 'нешев', 'нешка', 'нешков', 'ниагара', 'ниамей', 'нигер', 'нигерия', 'нийл', 'никарагуа', 'никифор', 'никифоров', 'ников', 'никодимов', 'никозия', 'никола', 'николаев', 'николаевич', 'николай', 'николета', 'николина', 'николинка', 'николов', 'николчев', 'николчов', 'николчовски', 'никопол', 'нил', 'нина', 'нинах', 'нине', 'нинел', 'нино', 'нинов', 'ниновски', 'нинчев', 'нипигон', 'ниуе', 'ница', 'ницше', 'ничев', 'ниш', 'нобел', 'новаков', 'новански', 'новиков', 'новков', 'новосибирск', 'ной', 'ном', 'нона', 'нонка', 'нончев', 'нончо', 'нора', 'норвегия', 'нормандия', 'норона', 'норфолк', 'нотев', 'нотингам', 'нуакшот', 'нукуалофа', 'нумея', 'нуриев', 'нурикян', 'нучев', 'нушков', 'ньой', 'ню', 'нюкасъл', 'нюрнберг', 'няголов', 'обретенов', 'обрешков', 'овидео', 'огнян', 'огнянка', 'огнянов', 'огойски', 'огоста', 'огражденец', 'одер', 'одеса', 'одисей', 'одрин', 'океания', 'окинава', 'околчица', 'оксфорд', 'олга', 'олег', 'олегов', 'олимп', 'олчев', 'оман', 'оминато', 'омир', 'омск', 'омуртаг', 'онков', 'онтарио', 'оракъл', 'орелек', 'орешаров', 'ориент', 'ориента', 'ориноки', 'орион', 'ория', 'орлеан', 'орлианс', 'орлин', 'орлинов', 'орловец', 'оромо', 'орсов', 'орфей', 'орхан', 'осака', 'освиенцим', 'осло', 'османов', 'осмий', 'осогово', 'остоич', 'остромски', 'осъм', 'оукланд', 'охрид', 'оцитан', 'павел', 'павлета', 'павлик', 'павлин', 'павлинов', 'павлитов', 'павлов', 'паго', 'падуа', 'пазарджиев', 'пазарджик', 'паздеров', 'пакеров', 'пакистан', 'палазов', 'палански', 'палашев', 'палестина', 'паликарски', 'пальов', 'памир', 'пампорово', 'панагюрище', 'панайот', 'панайотов', 'пангелов', 'панджаби', 'пандов', 'панев', 'паничище', 'панков', 'панов', 'панталеев', 'пантев', 'пантелеев', 'пантелей', 'пантов', 'панчев', 'панчо', 'панчов', 'паолина', 'папазов', 'папаличев', 'папаризов', 'папуа', 'парагвай', 'парамарибо', 'параскев', 'параскевов', 'париж', 'паричност', 'парма', 'пармаков', 'паруков', 'паруш', 'парушев', 'пасадена', 'паскалев', 'паскалиев', 'пасков', 'патагония', 'патев', 'патриков', 'паул', 'паулина', 'пауло', 'паулу', 'пачев', 'пашамов', 'пашев', 'пеев', 'пейков', 'пейо', 'пейчев', 'пейчевски', 'пейчински', 'пейчо', 'пекин', 'пеков', 'пекунов', 'пелев', 'пелермо', 'пелов', 'пеловски', 'пелопонес', 'пелтеков', 'пен', 'пенгниртън', 'пенджаб', 'пенев', 'пенелопа', 'пенка', 'пенко', 'пенов', 'пенсилвания', 'пенушлиев', 'пенчев', 'пенчо', 'пеньо', 'пепа', 'пепев', 'перелик', 'перикъл', 'периньон', 'перник', 'персия', 'персиян', 'перу', 'перуджа', 'перусанов', 'перчев', 'петев', 'петербург', 'петканов', 'петко', 'петков', 'петра', 'петраков', 'петрана', 'петранка', 'петранов', 'петрич', 'петричев', 'петров', 'петромир', 'петрунов', 'петрусенко', 'петрушев', 'петрушинов', 'петър', 'петьо', 'петя', 'пехливанов', 'печ', 'печора', 'пешев', 'пиаченца', 'пиемонт', 'пиза', 'пикадили', 'пилев', 'пилзен', 'пиличев', 'пиляков', 'пинд', 'пиндиков', 'пинтев', 'пинтиев', 'пинчев', 'пиперков', 'пирдоп', 'пиренеи', 'пирин', 'пиронков', 'писев', 'питкерн', 'пищалов', 'пламенка', 'пламенов', 'планимир', 'платон', 'плачков', 'плимът', 'пловдив', 'плочарски', 'плутон', 'пном', 'подгорица', 'подръбям', 'подрънкане', 'подуяне', 'пойчев', 'поликсена', 'полина', 'полинезия', 'политов', 'полтава', 'полша', 'понев', 'попгеоргиев', 'попиванов', 'попкалинов', 'попмиланов', 'попсавов', 'поптодоров', 'попхристов', 'попчев', 'порто', 'португалия', 'посейдон', 'посмлетите', 'посмлятата', 'посмлятият', 'посмлятото', 'потомак', 'потсдам', 'пощаков', 'правец', 'празводим', 'праматаров', 'праматарски', 'прангов', 'прая', 'пребидейки', 'премлетите', 'премлятата', 'премлятият', 'премлятото', 'премянов', 'пренс', 'преслав', 'претория', 'примов', 'принсипи', 'принстън', 'провадия', 'проданов', 'продев', 'пройнов', 'пройчев', 'прокопов', 'пролетина', 'прометей', 'профиров', 'прусия', 'пръмов', 'психофизиологическите', 'психофизиологическото', 'псков', 'пуерто', 'пулев', 'пунчев', 'путин', 'пушкаров', 'пхенян', 'пшемисъл', 'пъков', 'пълев', 'пълов', 'пънделов', 'първан', 'първанов', 'първолета', 'първомай', 'пърл', 'пърмаков', 'пърт', 'пъшев', 'рабчев', 'равда', 'равена', 'раданов', 'радев', 'раденко', 'раденков', 'раденовски', 'ради', 'радилов', 'радин', 'радински', 'радион', 'радионов', 'радичев', 'радка', 'радко', 'радков', 'раднев', 'раднево', 'радованов', 'радоев', 'радойнов', 'радомир', 'радосвет', 'радослав', 'радославов', 'радославович', 'радославовна', 'радостин', 'радулов', 'радушев', 'раев', 'разлог', 'разпопов', 'райка', 'райкински', 'райко', 'райков', 'райковски', 'райна', 'райнев', 'райничка', 'райнов', 'райчев', 'райчин', 'райчинов', 'райчо', 'райчов', 'ралев', 'ралчев', 'ралчовски', 'рангел', 'рангелов', 'рангун', 'ранчев', 'рафаел', 'рафаелов', 'рафаилов', 'рачев', 'рачевич', 'рачков', 'рачов', 'рашев', 'рашидов', 'рашко', 'рашков', 'рашо', 'рашов', 'ребека', 'ребърковски', 'регенсбург', 'реджина', 'редфорд', 'резашки', 'рейкявик', 'реймънд', 'рейн', 'рейни', 'рембранд', 'ремо', 'ренгий', 'ренета', 'рени', 'ресифи', 'ривиера', 'ривър', 'рига', 'риджаков', 'ризов', 'рика', 'рикардо', 'рико', 'рим', 'рио', 'ричард', 'рияд', 'роберт', 'робинсън', 'роглев', 'роджери', 'родопи', 'родопите', 'родос', 'рожен', 'розалина', 'розалия', 'розелина', 'розенщайн', 'розмари', 'розо', 'ройдев', 'романов', 'ромео', 'ромеов', 'рона', 'ропотамо', 'росарио', 'росев', 'росица', 'рослан', 'ростислав', 'ростов', 'росток', 'ротердам', 'руанда', 'рубенс', 'рубик', 'руенов', 'ружев', 'ружин', 'ружка', 'рузвелт', 'румелия', 'руменов', 'румъния', 'румян', 'румянка', 'руневски', 'рур', 'русалийски', 'русалин', 'русалинов', 'русалов', 'русанов', 'русе', 'русев', 'русен', 'русинов', 'русков', 'руслан', 'рутерфордий', 'ръдърфорд', 'рядков', 'сабин', 'сабриев', 'сабрин', 'сава', 'савев', 'савина', 'савов', 'савоя', 'савчев', 'савчо', 'сад', 'садовски', 'сайгон', 'сайменов', 'сайпан', 'сайшели', 'сакалийски', 'сакар', 'сакеларов', 'саксония', 'сакъров', 'саламанка', 'саламин', 'салвадор', 'салиев', 'салчев', 'самарджиев', 'самарканд', 'самоа', 'самуил', 'санго', 'сандев', 'сандулов', 'сандърс', 'санкт', 'санта', 'санто', 'санторин', 'сантяго', 'сао', 'сапарев', 'сапора', 'сапунджиев', 'сарагоса', 'сараево', 'саракчиев', 'саралиев', 'сарафов', 'сардиния', 'сарийски', 'саркисян', 'саръиванов', 'сатурн', 'саутхамптън', 'сахалин', 'сахара', 'саша', 'сашев', 'сашка', 'сашко', 'сашков', 'сашо', 'сашов', 'сблъскане', 'сборичкане', 'свазиленд', 'свалбард', 'светлана', 'светлев', 'светлин', 'светлинов', 'светлински', 'светлозар', 'светлозаров', 'светломир', 'светозар', 'светозаров', 'светослав', 'светославов', 'свиленград', 'свиленов', 'свилян', 'свинаров', 'свищов', 'своге', 'сдунье', 'севастопол', 'севдалин', 'севдалинов', 'северинов', 'севиля', 'севлиево', 'севов', 'седевчев', 'седефов', 'седефчов', 'сеизов', 'сейнт', 'секулов', 'селтик', 'семерджиев', 'семов', 'сен', 'сенан', 'сендов', 'сенегал', 'сент', 'серафимов', 'сербезов', 'сергеев', 'сергеевна', 'сергей', 'сердика', 'сестримски', 'сеул', 'сечков', 'сиатъл', 'сибир', 'сивков', 'сивов', 'сидер', 'сидеров', 'сидней', 'сидни', 'сийка', 'силвена', 'силви', 'силвия', 'силезия', 'силистра', 'силянов', 'силяновски', 'симеон', 'симеонка', 'симеонов', 'симеоновград', 'симеоново', 'симитли', 'симов', 'симона', 'симонов', 'симферопол', 'сингапур', 'синдел', 'синдхи', 'синеморец', 'сираков', 'сиракуза', 'сириус', 'сирия', 'сирма', 'сицилия', 'скандинавия', 'скарлет', 'скопие', 'скотланд', 'слабаков', 'славев', 'славейко', 'славейков', 'славенов', 'славина', 'славка', 'славко', 'славков', 'славо', 'славов', 'славомир', 'славчев', 'славчо', 'славчов', 'славянов', 'слентото', 'сливен', 'сливков', 'словакия', 'смилев', 'смиленов', 'смилянов', 'смирненски', 'смоленов', 'смолян', 'снежана', 'снежанка', 'содом', 'созопол', 'сойчев', 'сокачев', 'соколев', 'сократ', 'солаков', 'соларис', 'солун', 'сомалия', 'сонев', 'соня', 'сопот', 'сотир', 'сотиров', 'софия', 'софиянски', 'софка', 'софокъл', 'софрони', 'софрониев', 'спарта', 'спартак', 'спас', 'спасов', 'спейн', 'спилбърг', 'спиридон', 'спиридонов', 'спиров', 'сребрин', 'средиземноморие', 'средиземноморието', 'средков', 'средногорие', 'сретениев', 'ставрев', 'стаев', 'стаевски', 'стайков', 'стайковски', 'сталев', 'сталийски', 'сталин', 'стаматов', 'стамболиев', 'стамболийски', 'стамболов', 'стамен', 'стаменов', 'стамов', 'станев', 'станилов', 'станимир', 'станимиров', 'станислав', 'станиславов', 'станишев', 'станка', 'станко', 'станков', 'станкулов', 'станоев', 'станойчев', 'станчев', 'станчо', 'станьо', 'статев', 'статков', 'стеван', 'стевнило', 'стегано', 'стеде', 'стедман', 'стедмън', 'стее', 'стеен', 'стейбъл', 'стейбъли', 'стейнли', 'стейнсон', 'стейнуей', 'стейфел', 'стеке', 'стела', 'стелияна', 'стелиянов', 'стеман', 'стемнело', 'стемпел', 'стенвайк', 'стенвил', 'стенгел', 'стенгъл', 'стендардо', 'стендил', 'стендъпи', 'стендър', 'стендърд', 'стенет', 'стенета', 'стенето', 'стензел', 'стенимах', 'стенина', 'стениън', 'стенкил', 'стенлей', 'стенли', 'стеноп', 'стенсбю', 'стенсил', 'стенскон', 'стенсон', 'стентон', 'стенуей', 'стенцел', 'стеньга', 'стернатия', 'стефан', 'стефани', 'стефанка', 'стефанов', 'стефка', 'стефко', 'стефков', 'стефов', 'стефчев', 'стефчо', 'стефчов', 'стиансан', 'стийнс', 'стилян', 'стилянов', 'стимсън', 'стинет', 'стинол', 'стинър', 'стиняни', 'стиняно', 'стйнер', 'стнал', 'стнали', 'стнало', 'стоев', 'стоил', 'стоилков', 'стоилов', 'стоимен', 'стоименов', 'стойко', 'стойков', 'стойнев', 'стойно', 'стойнов', 'стойновски', 'стойо', 'стойчев', 'стойчо', 'стокхолм', 'столман', 'стоунъли', 'стоян', 'стояновски', 'стоянчев', 'стоянчо', 'страдивариус', 'странджа', 'странджалиев', 'страсбург', 'стратев', 'стратиев', 'стратфорд', 'страхил', 'страхилов', 'страшилов', 'страшимир', 'страшимиров', 'стрезов', 'струма', 'студенец', 'стумбов', 'стхений', 'суахили', 'сува', 'сугарев', 'судан', 'судети', 'суенсън', 'сузан', 'сукре', 'суматра', 'сунгурларе', 'суринам', 'сухиндол', 'сфенел', 'сфенела', 'сцене', 'събев', 'събков', 'събчев', 'съев', 'сълковски', 'сълов', 'сърбия', 'съчуан', 'табаков', 'тагарев', 'тадаръков', 'таджикистан', 'таити', 'тайван', 'тайланд', 'таймс', 'тайпей', 'такев', 'такучев', 'талев', 'талин', 'тамански', 'тамара', 'тамбушев', 'танганика', 'танев', 'танзания', 'танов', 'тановски', 'танчев', 'танчовски', 'таньо', 'таня', 'тао', 'тар', 'тарава', 'тарамов', 'таранджиев', 'тарауа', 'тасев', 'тасков', 'тасмания', 'тасос', 'татарков', 'татарчев', 'татри', 'татяна', 'таушанов', 'тахов', 'тачев', 'ташев', 'ташкент', 'ташков', 'тбилиси', 'тегусигалпа', 'тезей', 'телугу', 'темелков', 'темза', 'темида', 'тенан', 'тенев', 'тенекеджиев', 'тенерифе', 'тенко', 'тенчев', 'тенчо', 'теньо', 'теодор', 'теодоров', 'теодосиев', 'теофана', 'теофанов', 'тепавичаров', 'тервел', 'тереза', 'терзиев', 'тескаров', 'тетевен', 'техеран', 'тибет', 'тибър', 'тилев', 'тимбукту', 'тимев', 'тимнев', 'тимор', 'тимпу', 'тимчев', 'тина', 'тинев', 'тинка', 'тинко', 'тинков', 'тинчев', 'тирол', 'тиса', 'титаник', 'титикака', 'тихов', 'тихолов', 'тихомир', 'тихомиров', 'тихуана', 'тобаго', 'тодор', 'тодоранов', 'тодорка', 'тодоров', 'токай', 'токело', 'токио', 'токлуджанов', 'толедо', 'толи', 'толо', 'толоев', 'томе', 'томислав', 'томов', 'тонга', 'тонгатапу', 'тонев', 'тони', 'тонка', 'тонков', 'тончев', 'тончо', 'тоньо', 'тоня', 'топалов', 'топалски', 'топенчаров', 'тополовград', 'топорков', 'топчийски', 'торбов', 'торвалдс', 'торино', 'торлаков', 'тороманов', 'торонто', 'тортола', 'тоскана', 'тосков', 'тотев', 'тотка', 'тотков', 'тотоманов', 'тотьо', 'точев', 'тошев', 'тошко', 'тошков', 'тошковски', 'тошо', 'трайко', 'трайков', 'трайчев', 'тракия', 'трандев', 'трандов', 'трансилвания', 'трапезица', 'трафалгар', 'траянов', 'траянски', 'тренев', 'тренчев', 'триадица', 'триест', 'тримонциум', 'тринидад', 'триполи', 'трифон', 'трифонов', 'тричков', 'троев', 'трончев', 'троцки', 'трошанов', 'троя', 'троян', 'троянов', 'тръпков', 'тсвана', 'тсонга', 'тувалу', 'туджаров', 'тула', 'тулев', 'тулий', 'тумбалев', 'тунджа', 'тунис', 'тунчев', 'тупаров', 'туркменистан', 'туркмения', 'турлаков', 'турмаков', 'турция', 'тутанкамон', 'тутев', 'тхимпху', 'търнев', 'търпанов', 'търпоманов', 'тюдор', 'тюлеков', 'тюринг', 'тюрингия', 'тюсо', 'тяншан', 'уагадугу', 'уайтхорс', 'уганда', 'угринов', 'уейлс', 'уелингтън', 'уелс', 'уестминстър', 'ужгород', 'узбекистан', 'узун', 'узунов', 'узунски', 'уиндзор', 'уиндоус', 'уиндхоек', 'уинипек', 'украйна', 'улан', 'унгария', 'унчев', 'уолстрийт', 'упсала', 'урал', 'урду', 'урманов', 'уругвай', 'урумов', 'урумчи', 'ушатов', 'ушев', 'факаофо', 'факирев', 'факлиев', 'фани', 'фаренхайт', 'фаро', 'фасо', 'федев', 'феодоров', 'ферара', 'фердинандов', 'ференц', 'ферменджиев', 'фиданов', 'фидел', 'фиджи', 'фидошев', 'фиков', 'филаретов', 'филев', 'филип', 'филипини', 'филипка', 'филипов', 'филка', 'филко', 'филков', 'филчев', 'фименов', 'финикс', 'финландия', 'фитков', 'флоренция', 'флорида', 'флорин', 'флоров', 'фойли', 'фокландски', 'фокс', 'фоли', 'фолия', 'фолкфест', 'фоло', 'фонтенбло', 'форталеза', 'фотев', 'фоули', 'франгов', 'франклин', 'франкфурт', 'франциско', 'фредерик', 'фридрих', 'фрийтаун', 'фритьоф', 'фройд', 'фуджи', 'фуджияма', 'фунафути', 'фурнаджиев', 'хаваи', 'хага', 'хадживасилев', 'хаджигеоргиев', 'хаджидимитров', 'хаджиев', 'хаджииванов', 'хаджикосев', 'хаджимаринов', 'хаджиминев', 'хаджиниколов', 'хаджинонев', 'хаджипетков', 'хаджипетров', 'хаджихристов', 'хаджов', 'хаити', 'хайверов', 'хайделберг', 'хайдутов', 'хайтов', 'хайфа', 'халаджов', 'халачев', 'халифакс', 'хамбург', 'хамлет', 'ханджиев', 'хановер', 'ханой', 'харалампи', 'харалампиев', 'хараре', 'харбин', 'харбър', 'хари', 'харизанов', 'харманли', 'хартум', 'хасково', 'хауса', 'хектор', 'хелзинки', 'хеликон', 'хелиос', 'хенри', 'хеопс', 'хереро', 'херкулес', 'хермес', 'херцеговина', 'хийтроу', 'хималаи', 'хиндукуш', 'хинев', 'хинков', 'хинов', 'хинчев', 'хипокрит', 'хирошима', 'хисаря', 'хитев', 'хитлер', 'хлебаров', 'хокайдо', 'холандия', 'холивуд', 'холмс', 'хонг', 'хондурас', 'хониара', 'хонконг', 'хонолулу', 'хоншу', 'хорозов', 'хосе', 'хранков', 'хризантиев', 'христакиев', 'христин', 'христинов', 'християн', 'христо', 'христов', 'христозов', 'христомир', 'христос', 'христосков', 'христофор', 'христофоров', 'хронос', 'хрусанов', 'хуанхай', 'хуанхъ', 'хубенов', 'хунхъ', 'хъдсън', 'хюстън', 'цаков', 'цанев', 'цанка', 'цанко', 'цанков', 'цанковски', 'цанов', 'цановски', 'цаньо', 'царевец', 'цариград', 'цачев', 'цветан', 'цветанка', 'цветанков', 'цветанов', 'цветанчо', 'цветелин', 'цветелинов', 'цветко', 'цветков', 'цветковски', 'цветолюб', 'цветомир', 'цвятко', 'цвятков', 'цвятковски', 'цейлон', 'цеко', 'цеков', 'целзий', 'ценев', 'ценка', 'ценко', 'ценков', 'цено', 'церовски', 'цеца', 'цецка', 'цецко', 'цецков', 'циков', 'цицерон', 'цоков', 'цонев', 'цоневски', 'цонка', 'цонко', 'цонков', 'цончев', 'цончо', 'цоньо', 'цочев', 'цюрих', 'чавдаров', 'чавраков', 'чагос', 'чад', 'чае', 'чакалов', 'чакъров', 'чалев', 'чалъков', 'чаморо', 'чамурджиев', 'чанев', 'чанков', 'чапала', 'чапкънов', 'чаракчиев', 'чаталбашев', 'чатам', 'чатъм', 'чаушев', 'челебиев', 'чепино', 'чепишев', 'червенко', 'червенков', 'червеняков', 'чергаров', 'черешков', 'черкезов', 'чернев', 'чехия', 'чехословакия', 'чешмеджиев', 'чикаго', 'чилев', 'чиликов', 'чилингиров', 'чинчев', 'чипев', 'чипков', 'чиприянов', 'чирпан', 'чирпанлиев', 'чичева', 'чобанов', 'чойбалсан', 'чолаков', 'чолев', 'чоло', 'чомаков', 'чорбаджиев', 'чорбов', 'чорлев', 'чудомир', 'чудомиров', 'чукаров', 'чуклев', 'чуков', 'чукотка', 'чупетлов', 'чупетловски', 'чутурков', 'чхонджин', 'шабанов', 'шабла', 'шаглев', 'шаламанов', 'шампан', 'шанел', 'шанов', 'шанхай', 'шар', 'шарабански', 'шаренков', 'шатев', 'шварцвалд', 'швейцария', 'швеция', 'шеврон', 'шейново', 'шейретов', 'шекерджиев', 'шекерджийски', 'шефилд', 'шехов', 'шиваров', 'шивачев', 'шивачево', 'шиндаров', 'шиндарски', 'шиндлер', 'шипрок', 'шишков', 'шишманов', 'шкодров', 'шолев', 'шолевски', 'шольо', 'шопов', 'шотландия', 'шпатов', 'шри', 'шуманов', 'шумелов', 'шчечин', 'щеков', 'щерев', 'щерьо', 'щилиян', 'щилиянов', 'щутгарт', 'щърбанов', 'щъркалев', 'ървин', 'юбер', 'югославия', 'югхур', 'юкон', 'юлианов', 'юлий', 'юлия', 'юлиян', 'юнгфрау', 'юндола', 'юпитер', 'юри', 'юриев', 'юрий', 'юруков', 'юстениян', 'ютланд', 'яблена', 'ява', 'явашев', 'якимов', 'яков', 'якутск', 'яламов', 'ялнъзов', 'ялта', 'ямайка', 'ямбол', 'ямускуро', 'яна', 'янаки', 'янакиев', 'янгун', 'яндзъ', 'яне', 'янев', 'яни', 'янита', 'яница', 'янка', 'янко', 'янков', 'янкулов', 'янов', 'янтра', 'янчев', 'янчо', 'янчовски', 'япония', 'ярослав', 'яунде', 'ячков', 'ячуа', 'ящен']\n"
     ]
    }
   ],
   "source": [
    "# Read our vocabulary\n",
    "vocab_df = pd.read_csv('data/words.txt.gz', encoding='windows-1251', header=None, compression='gzip')\n",
    "vocab_set = set(vocab_df[0].tolist())\n",
    "print(f\"Number of words in vocabulary: {len(vocab_set):,}\")\n",
    "\n",
    "# Current set\n",
    "bg_dict_words_set = set(words_df['word'].tolist())\n",
    "\n",
    "# Let's merge the two sets\n",
    "merged_vocab_set = vocab_set.union(bg_dict_words_set)\n",
    "\n",
    "# Print the new words\n",
    "print(sorted(merged_vocab_set - vocab_set))"
   ]
  },
  {
   "cell_type": "markdown",
   "id": "1b45d350",
   "metadata": {},
   "source": [
    "* **OBSERVATION**: Hmm, the new words look like **names**. Then, we are not adding them to our vocabulary. We don't need any pollution.\n",
    "\n",
    "Only a **single valuable word** was found."
   ]
  },
  {
   "cell_type": "code",
   "execution_count": 17,
   "id": "2fd3c709",
   "metadata": {},
   "outputs": [
    {
     "name": "stdout",
     "output_type": "stream",
     "text": [
      "Number of words written to file: 1,228,264\n"
     ]
    }
   ],
   "source": [
    "# Add the new word\n",
    "vocab_set.add('ящен')\n",
    "\n",
    "# Sort and dump the new vocabulary\n",
    "words = sorted(list(vocab_set))\n",
    "with open('data/words.txt', 'w', encoding='windows-1251') as f:\n",
    "    for word in words:\n",
    "        f.write(word + '\\n')\n",
    "\n",
    "# Convert to gzip\n",
    "with open('data/words.txt', 'rb') as f_in:\n",
    "    with gzip.open('data/words.txt.gz', 'wb') as f_out:\n",
    "        f_out.writelines(f_in)\n",
    "\n",
    "# Remove the original file\n",
    "os.remove('data/words.txt')\n",
    "\n",
    "print(f\"Number of words written to file: {len(words):,}\")"
   ]
  }
 ],
 "metadata": {
  "kernelspec": {
   "display_name": "Python 3",
   "language": "python",
   "name": "python3"
  },
  "language_info": {
   "codemirror_mode": {
    "name": "ipython",
    "version": 3
   },
   "file_extension": ".py",
   "mimetype": "text/x-python",
   "name": "python",
   "nbconvert_exporter": "python",
   "pygments_lexer": "ipython3",
   "version": "3.12.10"
  }
 },
 "nbformat": 4,
 "nbformat_minor": 5
}
